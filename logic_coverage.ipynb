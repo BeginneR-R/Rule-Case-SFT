{
 "cells": [
  {
   "cell_type": "markdown",
   "id": "cfc1b91a",
   "metadata": {},
   "source": [
    "## 通过覆盖率的准则设计实例"
   ]
  },
  {
   "cell_type": "code",
   "execution_count": 1,
   "id": "58c05d1c-bec7-4972-843b-00fc9fadb0f2",
   "metadata": {
    "execution": {
     "iopub.execute_input": "2024-12-03T12:21:02.972328Z",
     "iopub.status.busy": "2024-12-03T12:21:02.971335Z",
     "iopub.status.idle": "2024-12-03T12:21:03.590862Z",
     "shell.execute_reply": "2024-12-03T12:21:03.590009Z",
     "shell.execute_reply.started": "2024-12-03T12:21:02.972259Z"
    }
   },
   "outputs": [],
   "source": [
    "from typing import List\n",
    "from typing import Optional\n",
    "from typing import Dict\n",
    "\n",
    "import os\n",
    "import json\n",
    "from pathlib import Path\n",
    "\n",
    "import httpx\n",
    "from openai import OpenAI\n",
    "\n",
    "import requests\n",
    "\n",
    "import time"
   ]
  },
  {
   "cell_type": "markdown",
   "id": "0f9d972e-4996-4487-8234-1f1a4461dd10",
   "metadata": {},
   "source": [
    "##　进行谓词实例化"
   ]
  },
  {
   "cell_type": "code",
   "execution_count": 2,
   "id": "fb0d9375-d2a0-49ac-a40a-fd619ad403ec",
   "metadata": {
    "execution": {
     "iopub.execute_input": "2024-12-03T12:23:47.812766Z",
     "iopub.status.busy": "2024-12-03T12:23:47.812176Z",
     "iopub.status.idle": "2024-12-03T12:23:48.479743Z",
     "shell.execute_reply": "2024-12-03T12:23:48.478723Z",
     "shell.execute_reply.started": "2024-12-03T12:23:47.812725Z"
    }
   },
   "outputs": [
    {
     "name": "stdout",
     "output_type": "stream",
     "text": [
      "200\n",
      "{\"id\":\"ct7fgl35cfusk9k3k91g\",\"object\":\"file\",\"bytes\":6815,\"created_at\":1733228628,\"filename\":\"predicates.txt\",\"purpose\":\"file-extract\",\"status\":\"ok\",\"status_details\":\"\"}\n"
     ]
    }
   ],
   "source": [
    "# 文件路径\n",
    "file_path = \"prompts/DataFountain/predicates.txt\"\n",
    "\n",
    "# 请求的 URL\n",
    "url = \"https://api.moonshot.cn/v1/files\"\n",
    "\n",
    "headers = {\n",
    "    'Authorization': 'sk-gNToXJPO4Ih8NDZnDloSXR780dQDEZ2Epu49wcVA1sWb4Ecw'\n",
    "}\n",
    "\n",
    "# 准备文件数据\n",
    "files = {'file': open(file_path, 'rb')}\n",
    "\n",
    "# 发起 POST 请求\n",
    "response = requests.post(url, headers=headers, files=files)\n",
    "\n",
    "# 打印响应内容\n",
    "print(response.status_code)\n",
    "print(response.text)"
   ]
  },
  {
   "cell_type": "code",
   "execution_count": 3,
   "id": "a08adbf1-f55c-4d72-99da-e939889edf13",
   "metadata": {
    "execution": {
     "iopub.execute_input": "2024-12-03T12:23:52.813276Z",
     "iopub.status.busy": "2024-12-03T12:23:52.812726Z",
     "iopub.status.idle": "2024-12-03T12:23:53.572019Z",
     "shell.execute_reply": "2024-12-03T12:23:53.570644Z",
     "shell.execute_reply.started": "2024-12-03T12:23:52.813238Z"
    }
   },
   "outputs": [],
   "source": [
    "client = OpenAI(\n",
    "    api_key=\"sk-gNToXJPO4Ih8NDZnDloSXR780dQDEZ2Epu49wcVA1sWb4Ecw\",\n",
    "    base_url=\"https://api.moonshot.cn/v1\",\n",
    ")\n",
    "\n",
    "file_object = client.files.create(file=Path(\"prompts/DataFountain/predicates.txt\"), purpose=\"file-extract\")\n",
    "file_content = client.files.content(file_id=file_object.id).text"
   ]
  },
  {
   "cell_type": "code",
   "execution_count": 21,
   "id": "f8c4f3ea-14d8-4d28-a9be-5da457b16492",
   "metadata": {
    "execution": {
     "iopub.execute_input": "2024-11-22T08:12:09.063886Z",
     "iopub.status.busy": "2024-11-22T08:12:09.063116Z",
     "iopub.status.idle": "2024-11-22T08:12:09.070862Z",
     "shell.execute_reply": "2024-11-22T08:12:09.069661Z",
     "shell.execute_reply.started": "2024-11-22T08:12:09.063830Z"
    },
    "scrolled": true
   },
   "outputs": [
    {
     "name": "stdout",
     "output_type": "stream",
     "text": [
      "{\"content\":\"任务描述：你将被给予一条 JSON 格式的数据，包含一条规则（rule）的描述，这条规则中包含的谓词（predicates），以及根据规则转换而来的逻辑表达式（logicexpression）。你的任务是针对谓词取不同的具体的值，代入逻辑表达式中，其中取值要满足多样性与复杂性，并将实例化的参数值输出为可解析的 JSON 格式。\\n------\\n下面是一个例子：\\n```json\\n{\\n    \\\"rule\\\": \\\"安全生产协调司的职责：根据安全监管总局领导指示和有关规定，组织协调安全监察专员赶赴事故现场参与事故应急救援和事故调查处理工作。\\\",\\n    \\\"predicates\\\":\\n    [\\n        \\\"指示：Instruction(Leader, Regulation) ::: 表示领导发出的指示和相关规定。\\\",\\n        \\\"参与：Participate(Inspector, Scene, Task) ::: 表示安全监察专员在事故现场参与某项任务。\\\",\\n        \\\"赶赴：GoTo(Inspector, Scene) ::: 表示安全监察专员赶赴事故现场。\\\",\\n        \\\"事故：Accident(Scene) ::: 表示发生在某个场景的事故。\\\"\\n    ],\\n    \\\"logicexpression\\\":\\n    [\\n        \\\"∀s ∀i ∀r (Accident(s) ∧ Instruction(Leader, r) → (GoTo(i, s) ∧ Participate(i, s, EmergencyRescue) ∧ Participate(i, s, Investigation)))\\\"\\n    ]\\n}\\n```\\n###\\n这条例子的谓词实例化的参数值，和将实例化参数代入逻辑表达式的输出如下：\\n[\\n    {\\n        \\\"instance_predicates\\\": [\\n            \\\"s=“化工厂” — 表示事故场景在化工厂\\\",\\n            \\\"i=“张三” — 表示安全监察专员为张三\\\",\\n            \\\"r=“化工事故应急处理规定” — 表示领导发出的指示和相关规定\\\"\\n        ],\\n        \\\"instance_logicexpression\\\": [\\n            \\\"∀s∀i∀r (Accident(“化工厂”)∧Instruction(Leader, “化工事故应急处理规定”)→(GoTo(“张三”, “化工厂”)∧Participate(“张三”, “化工厂”, “应急救援”)∧Participate(“张三”, “化工厂”, “调查”)))\\\"\\n        ]\\n    },\\n    {\\n        \\\"instance_predicates\\\": [\\n            \\\"s=“矿井” — 表示事故场景在矿井\\\",\\n            \\\"i=“李四” — 表示安全监察专员为李四\\\",\\n            \\\"r=“矿山安全生产规章” — 表示领导发出的指示和相关规定\\\"\\n        ],\\n        \\\"instance_logicexpression\\\": [\\n            \\\"∀s∀i∀r (Accident(“矿井”)∧Instruction(Leader, “矿山安全生产规章”)→(GoTo(“李四”, “矿井”)∧Participate(“李四”, “矿井”, “应急救援”)∧Participate(“李四”, “矿井”, “调查”)))\\\"\\n        ]\\n    },\\n    {\\n        \\\"instance_predicates\\\": [\\n            \\\"s=“港口” — 表示事故场景在港口\\\",\\n            \\\"i=“王五” — 表示安全监察专员为王五\\\",\\n            \\\"r=“港口作业安全管理条例” — 表示领导发出的指示和相关规定\\\"\\n        ],\\n        \\\"instance_logicexpression\\\": [\\n            \\\"∀s∀i∀r (Accident(“港口”)∧Instruction(Leader, “港口作业安全管理条例”)→(GoTo(“王五”, “港口”)∧Participate(“王五”, “港口”, “应急救援”)∧Participate(“王五”, “港口”, “调查”)))\\\"\\n        ]\\n    },\\n    {\\n        \\\"instance_predicates\\\": [\\n            \\\"s=“建筑工地” — 表示事故场景在建筑工地\\\",\\n            \\\"i=“赵六” — 表示安全监察专员为赵六\\\",\\n            \\\"r=“建筑施工安全规章” — 表示领导发出的指示和相关规定\\\"\\n        ],\\n        \\\"instance_logicexpression\\\": [\\n            \\\"∀s∀i∀r (Accident(“建筑工地”)∧Instruction(Leader, “建筑施工安全规章”)→(GoTo(“赵六”, “建筑工地”)∧Participate(“赵六”, “建筑工地”, “应急救援”)∧Participate(“赵六”, “建筑工地”, “调查”)))\\\"\\n        ]\\n    },\\n]\\n------\\n下面是一个例子：\\n```json\\n{\\n    \\\"rule\\\": \\\"善后处置的获救人员的处置：当地政府民政部门或获救人员所在单位负责获救人员的安置；港澳台或外籍人员，由当地政府港澳台办或外事办负责安置；外籍人员由公安部门或外交部门负责遣返。\\\",\\n    \\\"predicates\\\":\\n    [\\n        \\\"负责安置：ResponsibleForSettlement(Department, Person) 表示某个部门负责某个获救人员的安置。\\\",\\n        \\\"港澳台或外籍人员：PersonType(Person, Type) 表示某个人员是港澳台或外籍人员。\\\",\\n        \\\"遣返：Deport(Person, Department) 表示某个部门负责遣返某个外籍人员。\\\"\\n    ],\\n    \\\"logicexpression\\\":\\n    [\\n        \\\"∀p (获救人员(p) → (¬港澳台或外籍人员(p) → ResponsibleForSettlement(民政部门, p) ∨ ResponsibleForSettlement(所在单位, p)))\\\",\\n        \\\"∀p (港澳台或外籍人员(p, 港澳台) → ResponsibleForSettlement(港澳台办, p) ∨ ResponsibleForSettlement(外事办, p))\\\",\\n        \\\"∀p (港澳台或外籍人员(p, 外籍) → Deport(p, 公安部门) ∨ Deport(p, 外交部门))\\\"\\n    ]\\n}\\n```\\n###\\n这条例子的谓词实例化的参数值，和将实例化参数代入逻辑表达式的输出如下：\\n[\\n    {\\n        \\\"instance_predicates\\\": [\\n            \\\"p=“张三” — 张三为本地获救人员\\\",\\n            \\\"部门：民政部门\\\"\\n        ],\\n        \\\"instance_logicexpression\\\": [\\n            \\\"获救人员(张三)→(¬港澳台或外籍人员(张三)→ResponsibleForSettlement(民政部门, 张三))\\\"\\n        ]\\n    },\\n    {\\n        \\\"instance_predicates\\\": [\\n            \\\"p=“李四” — 李四为港澳台人员\\\",\\n            \\\"部门：港澳台办\\\"\\n        ],\\n        \\\"instance_logicexpression\\\": [\\n            \\\"港澳台或外籍人员(李四, 港澳台)→ResponsibleForSettlement(港澳台办, 李四)\\\"\\n        ]\\n    },\\n    {\\n        \\\"instance_predicates\\\": [\\n            \\\"p=“John Smith” — John Smith为外籍获救人员\\\",\\n            \\\"部门：外交部门\\\"\\n        ],\\n        \\\"instance_logicexpression\\\": [\\n            \\\"港澳台或外籍人员(John Smith, 外籍)→Deport(John Smith, 外交部门)\\\"\\n        ]\\n    },\\n    {\\n        \\\"instance_predicates\\\": [\\n            \\\"p=“小王” — 小王为本地获救人员，工作单位负责安置\\\",\\n            \\\"部门：所在单位\\\"\\n        ],\\n        \\\"instance_logicexpression\\\": [\\n            \\\"获救人员(小王)→(¬港澳台或外籍人员(小王)→ResponsibleForSettlement(所在单位, 小王))\\\"\\n        ]\\n    },\\n    {\\n        \\\"instance_predicates\\\": [\\n            \\\"p=“Maria” — Maria为外籍获救人员\\\",\\n            \\\"部门：公安部门\\\"\\n        ],\\n        \\\"instance_logicexpression\\\": [\\n            \\\"港澳台或外籍人员(Maria, 外籍)→Deport(Maria, 公安部门)\\\"\\n        ]\\n    },\\n]\\n------\\n下面就是你需要进行谓词实例化和代入逻辑表达式的：\\n规则数据：\\n[[RULES]]\\n###\",\"file_type\":\"text/plain\",\"filename\":\"predicates.txt\",\"title\":\"\",\"type\":\"file\"}\n"
     ]
    }
   ],
   "source": [
    "print(file_content)"
   ]
  },
  {
   "cell_type": "markdown",
   "id": "46edf60c-540f-47a7-8d27-1d7fdd7a2285",
   "metadata": {},
   "source": [
    "## 读取数据与格式转换"
   ]
  },
  {
   "cell_type": "code",
   "execution_count": 4,
   "id": "d8432b1f-08be-4482-a74e-da69d2ebdda9",
   "metadata": {
    "execution": {
     "iopub.execute_input": "2024-12-03T12:24:08.813864Z",
     "iopub.status.busy": "2024-12-03T12:24:08.812961Z",
     "iopub.status.idle": "2024-12-03T12:24:08.831095Z",
     "shell.execute_reply": "2024-12-03T12:24:08.830238Z",
     "shell.execute_reply.started": "2024-12-03T12:24:08.813798Z"
    }
   },
   "outputs": [],
   "source": [
    "import re\n",
    "\n",
    "with open('data/DF/answers_782_v5.json', 'r', encoding='utf-8') as file:\n",
    "    data = json.load(file)"
   ]
  },
  {
   "cell_type": "code",
   "execution_count": 5,
   "id": "b66f0e25-ae69-4eae-99ab-8d418186d90b",
   "metadata": {
    "execution": {
     "iopub.execute_input": "2024-12-03T12:24:10.818845Z",
     "iopub.status.busy": "2024-12-03T12:24:10.818013Z",
     "iopub.status.idle": "2024-12-03T12:24:10.826292Z",
     "shell.execute_reply": "2024-12-03T12:24:10.824895Z",
     "shell.execute_reply.started": "2024-12-03T12:24:10.818780Z"
    },
    "scrolled": true
   },
   "outputs": [
    {
     "name": "stdout",
     "output_type": "stream",
     "text": [
      "```json\n",
      "{\n",
      "    \"rule\": \"危险化学品事故是指危险化学品生产、经营、储存、运输、使用和废弃危险化学品处置等过程中由危险化学品造成人员伤害、财产损失和环境污染的事故（矿山开采过程中发生的有毒、有害气体中毒、爆炸事故、放炮事故除外）。\",\n",
      "    \"predicates\": [\n",
      "        \"危险化学品事故：ChemicalAccident(Incident) ::: 表示某个事件是危险化学品事故。\",\n",
      "        \"造成人员伤害：CauseInjury(Incident) ::: 表示事故造成人员伤害。\",\n",
      "        \"造成财产损失：CausePropertyDamage(Incident) ::: 表示事故造成财产损失。\",\n",
      "        \"造成环境污染：CauseEnvironmentalPollution(Incident) ::: 表示事故造成环境污染。\",\n",
      "        \"生产：Production(Chemical) ::: 表示危险化学品的生产过程。\",\n",
      "        \"经营：Operation(Chemical) ::: 表示危险化学品的经营过程。\",\n",
      "        \"储存：Storage(Chemical) ::: 表示危险化学品的储存过程。\",\n",
      "        \"运输：Transportation(Chemical) ::: 表示危险化学品的运输过程。\",\n",
      "        \"使用：Usage(Chemical) ::: 表示危险化学品的使用过程。\",\n",
      "        \"废弃处置：Disposal(Chemical) ::: 表示危险化学品的废弃处置过程。\",\n",
      "        \"矿山开采事故：MiningAccident(Incident) ::: 表示矿山开采过程中发生的事故。\",\n",
      "        \"有毒有害气体中毒：ToxicGasPoisoning(Incident) ::: 表示有毒、有害气体中毒事故。\",\n",
      "        \"爆炸事故：ExplosionAccident(Incident) ::: 表示爆炸事故。\",\n",
      "        \"放炮事故：BlastingAccident(Incident) ::: 表示放炮事故。\"\n",
      "    ],\n",
      "    \"logicexpression\": [\n",
      "        \"∀i (ChemicalAccident(i) ↔ (CauseInjury(i) ∧ CausePropertyDamage(i) ∧ CauseEnvironmentalPollution(i)) ∧ (Production(Chemical) ∨ Operation(Chemical) ∨ Storage(Chemical) ∨ Transportation(Chemical) ∨ Usage(Chemical) ∨ Disposal(Chemical)) ∧ ¬(MiningAccident(i) ∨ ToxicGasPoisoning(i) ∨ ExplosionAccident(i) ∨ BlastingAccident(i))))\"\n",
      "    ]\n",
      "}\n",
      "```\n"
     ]
    }
   ],
   "source": [
    "print(data[0])"
   ]
  },
  {
   "cell_type": "markdown",
   "id": "79ed8389-dacd-422f-aec0-ac644336cd83",
   "metadata": {
    "jp-MarkdownHeadingCollapsed": true
   },
   "source": [
    "## JSON格式匹配"
   ]
  },
  {
   "cell_type": "code",
   "execution_count": 22,
   "id": "2e7704cd-8065-4391-9582-627e62fc941d",
   "metadata": {
    "execution": {
     "iopub.execute_input": "2024-11-22T08:14:33.091280Z",
     "iopub.status.busy": "2024-11-22T08:14:33.090438Z",
     "iopub.status.idle": "2024-11-22T08:14:33.098318Z",
     "shell.execute_reply": "2024-11-22T08:14:33.097264Z",
     "shell.execute_reply.started": "2024-11-22T08:14:33.091224Z"
    }
   },
   "outputs": [],
   "source": [
    "def extract_json(text):\n",
    "    # 使用正则表达式匹配并提取 JSON 数据（假设 JSON 数据用 `{` 开头和 `}` 结尾）\n",
    "    json_data = re.search(r'\\{.*\\}', text, re.DOTALL)\n",
    "\n",
    "    # 检查是否找到匹配的 JSON 数据\n",
    "    if json_data:\n",
    "        json_string = json_data.group(0)\n",
    "\n",
    "        # # 将 JSON 数据解析为字典\n",
    "        # data = json.loads(json_string)\n",
    "        return json_string\n",
    "    else:\n",
    "        print(\"未找到 JSON 数据。\")"
   ]
  },
  {
   "cell_type": "code",
   "execution_count": 15,
   "id": "8dfdc208-17f7-4763-aeae-99346d3412b8",
   "metadata": {
    "execution": {
     "iopub.execute_input": "2024-11-22T08:07:10.013167Z",
     "iopub.status.busy": "2024-11-22T08:07:10.012342Z",
     "iopub.status.idle": "2024-11-22T08:07:10.022894Z",
     "shell.execute_reply": "2024-11-22T08:07:10.021379Z",
     "shell.execute_reply.started": "2024-11-22T08:07:10.013106Z"
    }
   },
   "outputs": [
    {
     "data": {
      "text/plain": [
       "{'rule': '危险化学品事故是指危险化学品生产、经营、储存、运输、使用和废弃危险化学品处置等过程中由危险化学品造成人员伤害、财产损失和环境污染的事故（矿山开采过程中发生的有毒、有害气体中毒、爆炸事故、放炮事故除外）。',\n",
       " 'predicates': ['危险化学品事故：ChemicalAccident(Cause, Injury, PropertyDamage, EnvironmentalPollution) ::: 表示由危险化学品造成的事故，包括人员伤害、财产损失和环境污染。',\n",
       "  '造成：Cause(Accident, Effect) ::: 表示事故造成了某种效果。',\n",
       "  '人员伤害：Injury(Person) ::: 表示事故中人员受到伤害。',\n",
       "  '财产损失：PropertyDamage(Asset) ::: 表示事故中财产受到损失。',\n",
       "  '环境污染：EnvironmentalPollution(Environment) ::: 表示事故中环境受到污染。',\n",
       "  '生产：Produce(Chemical) ::: 表示危险化学品的生产过程。',\n",
       "  '经营：Operate(Chemical) ::: 表示危险化学品的经营过程。',\n",
       "  '储存：Store(Chemical) ::: 表示危险化学品的储存过程。',\n",
       "  '运输：Transport(Chemical) ::: 表示危险化学品的运输过程。',\n",
       "  '使用：Use(Chemical) ::: 表示危险化学品的使用过程。',\n",
       "  '废弃处置：Dispose(Chemical) ::: 表示危险化学品的废弃处置过程。',\n",
       "  '矿山开采事故：MiningAccident(GasPoisoning, Explosion, Blasting) ::: 表示矿山开采过程中发生的事故，包括有毒、有害气体中毒、爆炸事故、放炮事故。'],\n",
       " 'logicexpression': ['∀c (ChemicalAccident(c, i, p, e) ↔ (Produce(c) ∨ Operate(c) ∨ Store(c) ∨ Transport(c) ∨ Use(c) ∨ Dispose(c)) ∧ (Cause(c, i) ∧ Cause(c, p) ∧ Cause(c, e)) ∧ ¬(MiningAccident(c, GasPoisoning) ∨ MiningAccident(c, Explosion) ∨ MiningAccident(c, Blasting))))']}"
      ]
     },
     "execution_count": 15,
     "metadata": {},
     "output_type": "execute_result"
    }
   ],
   "source": [
    "extract_json(data[0])"
   ]
  },
  {
   "cell_type": "markdown",
   "id": "dc11cbdc-12f4-44af-a3ad-282e0b38feeb",
   "metadata": {},
   "source": [
    "## 使用api进行谓词实例化"
   ]
  },
  {
   "cell_type": "code",
   "execution_count": 6,
   "id": "856f5724-e7ec-4d10-9dd3-a63dd102a830",
   "metadata": {
    "execution": {
     "iopub.execute_input": "2024-12-03T12:25:01.815057Z",
     "iopub.status.busy": "2024-12-03T12:25:01.814184Z",
     "iopub.status.idle": "2024-12-03T12:25:01.825935Z",
     "shell.execute_reply": "2024-12-03T12:25:01.824424Z",
     "shell.execute_reply.started": "2024-12-03T12:25:01.814992Z"
    }
   },
   "outputs": [],
   "source": [
    "def call_api_with_rate_limit_handling(client, messages, model=\"moonshot-v1-32k\", max_retries=5):\n",
    "    retries = 0\n",
    "    while retries < max_retries:\n",
    "        try:\n",
    "            completion = client.chat.completions.create(\n",
    "                model=model,\n",
    "                messages=messages,\n",
    "                temperature=0,\n",
    "            )\n",
    "            return completion\n",
    "        except Exception as e:\n",
    "            if '429' in str(e):  # 检查异常消息中是否包含429\n",
    "                print(\"Rate limit reached. Retrying in 1 second...\")\n",
    "                time.sleep(1)  # 等待1秒钟\n",
    "                retries += 1\n",
    "            else:\n",
    "                raise  # Re-raise the exception if it's not a 429 error\n",
    "    raise Exception(\"Max retries reached. API call failed.\")"
   ]
  },
  {
   "cell_type": "code",
   "execution_count": 11,
   "id": "a1dfb1ae-dd92-476f-a65a-32d6fa78667d",
   "metadata": {
    "execution": {
     "iopub.execute_input": "2024-12-03T12:30:03.812190Z",
     "iopub.status.busy": "2024-12-03T12:30:03.811346Z",
     "iopub.status.idle": "2024-12-03T12:30:03.817258Z",
     "shell.execute_reply": "2024-12-03T12:30:03.816281Z",
     "shell.execute_reply.started": "2024-12-03T12:30:03.812145Z"
    }
   },
   "outputs": [],
   "source": [
    "instance_predicates = []"
   ]
  },
  {
   "cell_type": "code",
   "execution_count": null,
   "id": "7ec267c8-df18-49ae-965c-ca5dfc888b12",
   "metadata": {
    "execution": {
     "iopub.execute_input": "2024-12-03T12:30:32.189381Z",
     "iopub.status.busy": "2024-12-03T12:30:32.187664Z"
    },
    "scrolled": true
   },
   "outputs": [
    {
     "name": "stdout",
     "output_type": "stream",
     "text": [
      "0\n",
      "1\n",
      "2\n",
      "3\n",
      "4\n",
      "5\n",
      "6\n",
      "7\n",
      "8\n",
      "9\n",
      "10\n",
      "11\n",
      "12\n",
      "13\n",
      "14\n",
      "15\n",
      "16\n",
      "17\n",
      "18\n",
      "19\n",
      "20\n",
      "21\n",
      "22\n",
      "23\n",
      "24\n",
      "25\n",
      "26\n",
      "27\n",
      "28\n",
      "29\n",
      "30\n",
      "31\n",
      "32\n",
      "33\n",
      "34\n",
      "35\n",
      "36\n",
      "37\n",
      "38\n",
      "39\n",
      "40\n",
      "41\n",
      "42\n",
      "43\n",
      "44\n",
      "45\n",
      "46\n",
      "47\n",
      "48\n",
      "49\n",
      "50\n",
      "51\n",
      "52\n",
      "53\n",
      "54\n",
      "55\n",
      "56\n",
      "57\n",
      "58\n",
      "59\n",
      "60\n",
      "61\n",
      "62\n",
      "63\n",
      "64\n",
      "65\n",
      "66\n",
      "67\n",
      "68\n",
      "69\n",
      "70\n",
      "71\n",
      "72\n",
      "73\n",
      "74\n",
      "75\n",
      "76\n",
      "77\n",
      "78\n",
      "79\n",
      "80\n",
      "81\n",
      "82\n",
      "83\n",
      "84\n",
      "85\n",
      "86\n",
      "87\n",
      "88\n"
     ]
    }
   ],
   "source": [
    "for index, text in enumerate(data, start=0):\n",
    "    # 替换内容\n",
    "    replacement = text\n",
    "\n",
    "    # # 使用正则表达式替换 [[RULES]]\n",
    "    # content = re.sub(r'\\[\\[RULES\\]\\]', replacement, file_content)\n",
    "\n",
    "    # 使用replace\n",
    "    content = file_content.replace(\"[[RULES]]\", replacement)\n",
    "\n",
    "    messages = [\n",
    "        {\n",
    "            \"role\": \"system\",\n",
    "            \"content\": \"你是 Kimi，由 Moonshot AI 提供的人工智能助手，你更擅长中文和英文的对话。你会为用户提供安全，有帮助，准确的回答。同时，你会拒绝一切涉及恐怖主义，种族歧视，黄色暴力等问题的回答。Moonshot AI 为专有名词，不可翻译成其他语言。请将内容输出为可解析的json格式。\"\n",
    "        },\n",
    "        {\n",
    "            \"role\": \"system\",\n",
    "            \"content\": content,\n",
    "        },\n",
    "        {\n",
    "            \"role\": \"user\",\n",
    "            \"content\": \"你好，请根据txt内容生成回答。\"\n",
    "        }\n",
    "    ]\n",
    "\n",
    "    completion = call_api_with_rate_limit_handling(client, messages, \"moonshot-v1-32k\", 5)\n",
    "\n",
    "    print(f\"{index}\")\n",
    "    instance_predicates.append(completion.choices[0].message.content)"
   ]
  },
  {
   "cell_type": "code",
   "execution_count": 13,
   "id": "530e5701-20e5-40f3-a8ce-198ca290e19b",
   "metadata": {
    "execution": {
     "iopub.execute_input": "2024-12-04T01:50:34.915762Z",
     "iopub.status.busy": "2024-12-04T01:50:34.914918Z",
     "iopub.status.idle": "2024-12-04T01:50:34.941058Z",
     "shell.execute_reply": "2024-12-04T01:50:34.940166Z",
     "shell.execute_reply.started": "2024-12-04T01:50:34.915703Z"
    }
   },
   "outputs": [],
   "source": [
    "with open('data/DF/instance_predicates_v2.json', 'w', encoding='utf-8') as f:\n",
    "    json.dump(instance_predicates, f, ensure_ascii=False, indent=4)"
   ]
  },
  {
   "cell_type": "code",
   "execution_count": 1,
   "id": "127acbf3-5c35-4195-a060-7be5db59db97",
   "metadata": {
    "collapsed": true,
    "execution": {
     "iopub.execute_input": "2024-11-28T13:07:52.557624Z",
     "iopub.status.busy": "2024-11-28T13:07:52.556782Z",
     "iopub.status.idle": "2024-11-28T13:07:52.714465Z",
     "shell.execute_reply": "2024-11-28T13:07:52.713518Z",
     "shell.execute_reply.started": "2024-11-28T13:07:52.557563Z"
    },
    "jupyter": {
     "outputs_hidden": true,
     "source_hidden": true
    }
   },
   "outputs": [
    {
     "ename": "NameError",
     "evalue": "name 'instance_predicates' is not defined",
     "output_type": "error",
     "traceback": [
      "\u001b[0;31m---------------------------------------------------------------------------\u001b[0m",
      "\u001b[0;31mNameError\u001b[0m                                 Traceback (most recent call last)",
      "Cell \u001b[0;32mIn[1], line 1\u001b[0m\n\u001b[0;32m----> 1\u001b[0m \u001b[38;5;28mprint\u001b[39m(\u001b[43minstance_predicates\u001b[49m[\u001b[38;5;241m1\u001b[39m])\n",
      "\u001b[0;31mNameError\u001b[0m: name 'instance_predicates' is not defined"
     ]
    }
   ],
   "source": [
    "print(instance_predicates[1])"
   ]
  }
 ],
 "metadata": {
  "kernelspec": {
   "display_name": "Python 3 (ipykernel)",
   "language": "python",
   "name": "python3"
  },
  "language_info": {
   "codemirror_mode": {
    "name": "ipython",
    "version": 3
   },
   "file_extension": ".py",
   "mimetype": "text/x-python",
   "name": "python",
   "nbconvert_exporter": "python",
   "pygments_lexer": "ipython3",
   "version": "3.10.12"
  }
 },
 "nbformat": 4,
 "nbformat_minor": 5
}
