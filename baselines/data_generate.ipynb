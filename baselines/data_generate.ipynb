{
 "cells": [
  {
   "cell_type": "markdown",
   "id": "2c450191",
   "metadata": {},
   "source": [
    "# 调用API实现baselines"
   ]
  },
  {
   "cell_type": "code",
   "execution_count": 27,
   "id": "9054704f",
   "metadata": {},
   "outputs": [],
   "source": [
    "from typing import List\n",
    "from typing import Optional\n",
    "from typing import Dict\n",
    "\n",
    "import os\n",
    "import json\n",
    "import jsonlines\n",
    "from pathlib import Path\n",
    "\n",
    "import httpx\n",
    "from openai import OpenAI\n",
    "\n",
    "import requests\n",
    "\n",
    "import time\n",
    "import re\n",
    "from tqdm import tqdm"
   ]
  },
  {
   "cell_type": "markdown",
   "id": "46f9b969",
   "metadata": {},
   "source": [
    "## 主流程"
   ]
  },
  {
   "cell_type": "code",
   "execution_count": 22,
   "id": "43425e51",
   "metadata": {},
   "outputs": [
    {
     "name": "stdout",
     "output_type": "stream",
     "text": [
      "404\n",
      "{\"error\":{\"message\":\"context cache not found: cache-ezjtmpuoc6di11gdsdm1\",\"type\":\"resource_not_found_error\"}}\n"
     ]
    }
   ],
   "source": [
    "# 你的API密钥\n",
    "api_key = \"sk-gNToXJPO4Ih8NDZnDloSXR780dQDEZ2Epu49wcVA1sWb4Ecw\"\n",
    "\n",
    "# 缓存ID，假设从创建缓存的响应中获取\n",
    "cache_id = \"cache-ezjtmpuoc6di11gdsdm1\"\n",
    "\n",
    "# 发送DELETE请求删除缓存\n",
    "response = requests.delete(\n",
    "    url=f\"https://api.moonshot.cn/v1/caching/{cache_id}\",\n",
    "    headers={\n",
    "        \"Authorization\": f\"Bearer {api_key}\"\n",
    "    }\n",
    ")\n",
    "\n",
    "# 打印响应状态码\n",
    "print(response.status_code)\n",
    "\n",
    "# 如果需要，也可以打印响应内容\n",
    "print(response.text)"
   ]
  },
  {
   "cell_type": "code",
   "execution_count": 28,
   "id": "f8bd2e28",
   "metadata": {},
   "outputs": [],
   "source": [
    "# 你的API密钥\n",
    "api_key = \"sk-gNToXJPO4Ih8NDZnDloSXR780dQDEZ2Epu49wcVA1sWb4Ecw\"\n",
    "\n",
    "\n",
    "# 读取文本文件内容\n",
    "def load_file_content(file_path):\n",
    "    with open(file_path, 'r', encoding='utf-8') as file:\n",
    "        return file.read()\n",
    "\n",
    "\n",
    "# 创建缓存\n",
    "def create_cache(file_content):\n",
    "    data = {\n",
    "        \"model\": \"moonshot-v1\",\n",
    "        \"messages\": [\n",
    "            {\n",
    "                \"role\": \"system\",\n",
    "                \"content\": file_content\n",
    "            }\n",
    "        ],\n",
    "        \"name\": \"example_cache\",\n",
    "        \"ttl\": 3600  # 缓存有效期，单位为秒\n",
    "    }\n",
    "    response = requests.post(\n",
    "        url=\"https://api.moonshot.cn/v1/caching\",\n",
    "        headers={\n",
    "            \"Authorization\": f\"Bearer {api_key}\",\n",
    "            \"Content-Type\": \"application/json\"\n",
    "        },\n",
    "        json=data\n",
    "    )\n",
    "    cache_response = json.loads(response.text)\n",
    "    return cache_response['id']\n",
    "\n",
    "\n",
    "# 检查缓存是否存在且未过期\n",
    "def check_cache(cache_id):\n",
    "    response = requests.get(\n",
    "        url=f\"https://api.moonshot.cn/v1/caching/{cache_id}\",\n",
    "        headers={\n",
    "            \"Authorization\": f\"Bearer {api_key}\"\n",
    "        }\n",
    "    )\n",
    "    if response.status_code == 200:\n",
    "        return True\n",
    "    return False\n",
    "\n",
    "\n",
    "# 重新加载数据并更新缓存\n",
    "def reload_and_update_cache(file_path, cache_id):\n",
    "    new_file_content = load_file_content(file_path)\n",
    "    data = {\n",
    "        \"model\": \"moonshot-v1\",\n",
    "        \"messages\": [\n",
    "            {\n",
    "                \"role\": \"system\",\n",
    "                \"content\": new_file_content\n",
    "            }\n",
    "        ],\n",
    "        \"name\": \"example_cache\",\n",
    "        \"ttl\": 3600  # 缓存有效期，单位为秒\n",
    "    }\n",
    "    response = requests.put(\n",
    "        url=f\"https://api.moonshot.cn/v1/caching/{cache_id}\",\n",
    "        headers={\n",
    "            \"Authorization\": f\"Bearer {api_key}\",\n",
    "            \"Content-Type\": \"application/json\"\n",
    "        },\n",
    "        json=data\n",
    "    )\n",
    "    return response.status_code == 200\n",
    "\n",
    "\n",
    "# 使用缓存内容并添加问题\n",
    "def use_cache_with_question(cache_id, question):\n",
    "    data = {\n",
    "        \"model\": \"moonshot-v1-32k\",\n",
    "        \"messages\": [\n",
    "            {\n",
    "                \"role\": \"cache\",\n",
    "                \"content\": f\"cache_id={cache_id};reset_ttl=3600\",\n",
    "            },\n",
    "            {\n",
    "                \"role\": \"user\",\n",
    "                \"content\": question\n",
    "            }\n",
    "        ],\n",
    "        \"max_tokens\": 8192,\n",
    "    }\n",
    "    response = requests.post(\n",
    "        url=\"https://api.moonshot.cn/v1/chat/completions\",\n",
    "        headers={\n",
    "            \"Authorization\": f\"Bearer {api_key}\",\n",
    "            \"Content-Type\": \"application/json\"\n",
    "        },\n",
    "        json=data\n",
    "    )\n",
    "    return response.json()['choices'][0]['message']['content']"
   ]
  },
  {
   "cell_type": "markdown",
   "id": "32ff1163",
   "metadata": {},
   "source": [
    "## 处理数据去除相同的规则"
   ]
  },
  {
   "cell_type": "code",
   "execution_count": 29,
   "id": "6855beab",
   "metadata": {},
   "outputs": [
    {
     "name": "stdout",
     "output_type": "stream",
     "text": [
      "70\n",
      "肾错构瘤临床表现：1.绝大多数错构瘤患者没有明显的症状。2.一些比较大的错构瘤，因为压迫十二指肠、胃等器官而出现消化道的不适症状。3.当较大体积的错构瘤突然破裂时，患者会出现腰腹疼痛和血尿等症状，严重的大出血患者可以在腹部触及到包块，甚至有休克症状。4.肾外表现：面部蝶形分布的皮脂腺瘤、癫痫、智力减退等。\n"
     ]
    }
   ],
   "source": [
    "with open('../ft_data/RJUA/RJUA_train_v1.json', 'r', encoding='utf-8') as file:\n",
    "    answer = json.load(file)\n",
    "\n",
    "rules = []\n",
    "for i in answer:\n",
    "    rules.append(i['input'])\n",
    "\n",
    "unique_rules = list(set(rules))\n",
    "print(len(unique_rules))\n",
    "print(unique_rules[0])"
   ]
  },
  {
   "cell_type": "markdown",
   "id": "75b3ddba",
   "metadata": {},
   "source": [
    "## Main"
   ]
  },
  {
   "cell_type": "code",
   "execution_count": 30,
   "id": "c9dd3459",
   "metadata": {},
   "outputs": [
    {
     "name": "stdout",
     "output_type": "stream",
     "text": [
      "Filestanford_alpaca/prompts.txt success read\n",
      "cache id:cache-f16xkiuoc6di11gkmxq1\n",
      "cache cuccess\n",
      "缓存已存在\n"
     ]
    },
    {
     "name": "stderr",
     "output_type": "stream",
     "text": [
      "Processing: 100%|██████████| 70/70 [23:47<00:00, 20.40s/it]\n"
     ]
    }
   ],
   "source": [
    "# 主流程\n",
    "file_path = 'stanford_alpaca/prompts.txt'\n",
    "file_content = load_file_content(file_path)\n",
    "print(f\"File{file_path} success read\")\n",
    "cache_id = create_cache(file_content)\n",
    "print(f\"cache id:{cache_id}\")\n",
    "print(\"cache cuccess\")\n",
    "\n",
    "# # 模拟缓存过期\n",
    "# time.sleep(3600)\n",
    "\n",
    "# 检查缓存是否存在且未过期\n",
    "if not check_cache(cache_id):\n",
    "    print(\"检查不到缓存\")\n",
    "    # 重新加载数据并更新缓存\n",
    "    if reload_and_update_cache(file_path, cache_id):\n",
    "        print(\"缓存更新成功\")\n",
    "    else:\n",
    "        print(\"缓存更新失败\")\n",
    "\n",
    "print(\"缓存已存在\")\n",
    "\n",
    "answer = unique_rules\n",
    "\n",
    "for idx, value in tqdm(enumerate(answer), total=len(answer), desc=\"Processing\"):\n",
    "    # for num, context in enumerate(answer[idx][\"reference\"]):\n",
    "    # 使用缓存内容并添加问题\n",
    "    context = value\n",
    "    question = f\"请回答关于文件内容的问题，其中[[CONTEXT]]代表的数据为{context}\"\n",
    "    response = use_cache_with_question(cache_id, question)\n",
    "    judgement = {\n",
    "        \"id\": idx,\n",
    "        \"rule\": value,\n",
    "        \"generatrion\": response,\n",
    "    }\n",
    "    # 打开文件以进行写入，如果文件不存在，会创建文件\n",
    "    with jsonlines.open('stanford_alpaca/RJUA_all_v1.jsonl', mode='a') as writer:\n",
    "        writer.write(judgement)\n"
   ]
  },
  {
   "cell_type": "markdown",
   "id": "2f6fa436",
   "metadata": {},
   "source": [
    "## 对生成结果进行格式调整"
   ]
  },
  {
   "cell_type": "code",
   "execution_count": 31,
   "id": "e5ad1a26",
   "metadata": {},
   "outputs": [],
   "source": [
    "import random\n",
    "\n",
    "\n",
    "def extract_json_objects(text):\n",
    "    \"\"\"提取所有合法JSON对象\"\"\"\n",
    "    # 使用正则表达式匹配最外层大括号结构（处理换行和空格）\n",
    "    pattern = r'\\{[^{}]*\\}'\n",
    "    matches = re.findall(pattern, text, re.DOTALL)\n",
    "    \n",
    "    results = []\n",
    "    for match in matches:\n",
    "        try:\n",
    "            # 清理可能的尾随逗号（处理类似 }, { 的情况）\n",
    "            cleaned = match.strip().rstrip(',')\n",
    "            # 转换为Python字典验证格式\n",
    "            data = json.loads(cleaned)\n",
    "            results.append(data)\n",
    "        except json.JSONDecodeError as e:\n",
    "            print(f\"发现无效JSON片段：{match[:50]}... （错误信息：{e}）\")\n",
    "    return results\n",
    "\n",
    "\n",
    "instructions = []\n",
    "with open('stanford_alpaca/RJUA_all_v1.jsonl', 'r', encoding='utf-8') as file:\n",
    "    data = jsonlines.Reader(file)\n",
    "    for idx, item in enumerate(data):\n",
    "        rule = item['rule']\n",
    "        generation = item['generatrion']\n",
    "        g = f'[{generation}]'\n",
    "        try:\n",
    "            g = extract_json_objects(g)\n",
    "        except json.JSONDecodeError:\n",
    "            print(idx)\n",
    "            continue\n",
    "        for i in g:\n",
    "            instructions.append({\n",
    "                \"instruction\": i['instruction'],\n",
    "                \"input\": rule,\n",
    "                \"output\": i['output']\n",
    "            })\n",
    "\n",
    "# 设置随机种子（可选，用于保证结果可复现）\n",
    "random.seed(42)\n",
    "\n",
    "# 随机打乱列表\n",
    "random.shuffle(instructions)\n",
    "\n",
    "# 划分比例（例如 80% 作为训练集，20% 作为测试集）\n",
    "train_ratio = 0.8\n",
    "train_size = int(len(instructions) * train_ratio)\n",
    "\n",
    "# 划分训练集和测试集\n",
    "train_set = instructions[:train_size]\n",
    "test_set = instructions[train_size:]\n",
    "\n",
    "with open('stanford_alpaca/RJUA_stanford_alpaca_train_v1.json', 'w', encoding='utf-8') as file:\n",
    "    json.dump(train_set, file, ensure_ascii=False, indent=4)\n",
    "\n",
    "with open('stanford_alpaca/RJUA_stanford_alpaca_test_v1.json', 'w', encoding='utf-8') as file:\n",
    "    json.dump(test_set, file, ensure_ascii=False, indent=4)"
   ]
  },
  {
   "cell_type": "code",
   "execution_count": null,
   "id": "518c28a1",
   "metadata": {},
   "outputs": [
    {
     "name": "stdout",
     "output_type": "stream",
     "text": [
      "共找到5个有效对象：\n",
      "对象1: {\"instruction\": \"解释海啸橙色警报意味着什么？\", \"output\": \"海啸橙色警报表示预计海啸波幅将在1至3米之间，需要采取紧急防范措施。\"}\n",
      "对象2: {\"instruction\": \"如果海啸橙色警报发布，我们应该怎么做？\", \"output\": \"应迅速撤离至高地或安全区域，避免前往沿海地带。\"}\n",
      "对象3: {\"instruction\": \"海啸橙色警报是由什么引起的？\", \"output\": \"海啸橙色警报通常由地震或其他因素引起。\"}\n",
      "对象4: {\"instruction\": \"海啸橙色警报的波幅范围是多少？\", \"output\": \"海啸橙色警报的波幅范围是1米到3米。\"}\n",
      "对象5: {\"instruction\": \"海啸橙色警报发布后，哪些区域会受到影响？\", \"output\": \"海啸橙色警报发布后，我国沿岸区域会受到影响。\"}\n"
     ]
    },
    {
     "ename": "JSONDecodeError",
     "evalue": "Extra data: line 4 column 2 (char 91)",
     "output_type": "error",
     "traceback": [
      "\u001b[1;31m---------------------------------------------------------------------------\u001b[0m",
      "\u001b[1;31mJSONDecodeError\u001b[0m                           Traceback (most recent call last)",
      "Cell \u001b[1;32mIn[18], line 35\u001b[0m\n\u001b[0;32m     33\u001b[0m \u001b[38;5;28;01mfor\u001b[39;00m i, item \u001b[38;5;129;01min\u001b[39;00m \u001b[38;5;28menumerate\u001b[39m(extracted, \u001b[38;5;241m1\u001b[39m):\n\u001b[0;32m     34\u001b[0m     \u001b[38;5;28mprint\u001b[39m(\u001b[38;5;124mf\u001b[39m\u001b[38;5;124m\"\u001b[39m\u001b[38;5;124m对象\u001b[39m\u001b[38;5;132;01m{\u001b[39;00mi\u001b[38;5;132;01m}\u001b[39;00m\u001b[38;5;124m: \u001b[39m\u001b[38;5;132;01m{\u001b[39;00mjson\u001b[38;5;241m.\u001b[39mdumps(item,\u001b[38;5;250m \u001b[39mensure_ascii\u001b[38;5;241m=\u001b[39m\u001b[38;5;28;01mFalse\u001b[39;00m)\u001b[38;5;132;01m}\u001b[39;00m\u001b[38;5;124m\"\u001b[39m)\n\u001b[1;32m---> 35\u001b[0m data \u001b[38;5;241m=\u001b[39m \u001b[43mjson\u001b[49m\u001b[38;5;241;43m.\u001b[39;49m\u001b[43mloads\u001b[49m\u001b[43m(\u001b[49m\u001b[43ms\u001b[49m\u001b[43m)\u001b[49m\n\u001b[0;32m     36\u001b[0m \u001b[38;5;28mprint\u001b[39m(\u001b[38;5;28mlen\u001b[39m(data))\n",
      "File \u001b[1;32mc:\\Users\\24648\\AppData\\Local\\Programs\\Python\\Python310\\lib\\json\\__init__.py:346\u001b[0m, in \u001b[0;36mloads\u001b[1;34m(s, cls, object_hook, parse_float, parse_int, parse_constant, object_pairs_hook, **kw)\u001b[0m\n\u001b[0;32m    341\u001b[0m     s \u001b[38;5;241m=\u001b[39m s\u001b[38;5;241m.\u001b[39mdecode(detect_encoding(s), \u001b[38;5;124m'\u001b[39m\u001b[38;5;124msurrogatepass\u001b[39m\u001b[38;5;124m'\u001b[39m)\n\u001b[0;32m    343\u001b[0m \u001b[38;5;28;01mif\u001b[39;00m (\u001b[38;5;28mcls\u001b[39m \u001b[38;5;129;01mis\u001b[39;00m \u001b[38;5;28;01mNone\u001b[39;00m \u001b[38;5;129;01mand\u001b[39;00m object_hook \u001b[38;5;129;01mis\u001b[39;00m \u001b[38;5;28;01mNone\u001b[39;00m \u001b[38;5;129;01mand\u001b[39;00m\n\u001b[0;32m    344\u001b[0m         parse_int \u001b[38;5;129;01mis\u001b[39;00m \u001b[38;5;28;01mNone\u001b[39;00m \u001b[38;5;129;01mand\u001b[39;00m parse_float \u001b[38;5;129;01mis\u001b[39;00m \u001b[38;5;28;01mNone\u001b[39;00m \u001b[38;5;129;01mand\u001b[39;00m\n\u001b[0;32m    345\u001b[0m         parse_constant \u001b[38;5;129;01mis\u001b[39;00m \u001b[38;5;28;01mNone\u001b[39;00m \u001b[38;5;129;01mand\u001b[39;00m object_pairs_hook \u001b[38;5;129;01mis\u001b[39;00m \u001b[38;5;28;01mNone\u001b[39;00m \u001b[38;5;129;01mand\u001b[39;00m \u001b[38;5;129;01mnot\u001b[39;00m kw):\n\u001b[1;32m--> 346\u001b[0m     \u001b[38;5;28;01mreturn\u001b[39;00m \u001b[43m_default_decoder\u001b[49m\u001b[38;5;241;43m.\u001b[39;49m\u001b[43mdecode\u001b[49m\u001b[43m(\u001b[49m\u001b[43ms\u001b[49m\u001b[43m)\u001b[49m\n\u001b[0;32m    347\u001b[0m \u001b[38;5;28;01mif\u001b[39;00m \u001b[38;5;28mcls\u001b[39m \u001b[38;5;129;01mis\u001b[39;00m \u001b[38;5;28;01mNone\u001b[39;00m:\n\u001b[0;32m    348\u001b[0m     \u001b[38;5;28mcls\u001b[39m \u001b[38;5;241m=\u001b[39m JSONDecoder\n",
      "File \u001b[1;32mc:\\Users\\24648\\AppData\\Local\\Programs\\Python\\Python310\\lib\\json\\decoder.py:340\u001b[0m, in \u001b[0;36mJSONDecoder.decode\u001b[1;34m(self, s, _w)\u001b[0m\n\u001b[0;32m    338\u001b[0m end \u001b[38;5;241m=\u001b[39m _w(s, end)\u001b[38;5;241m.\u001b[39mend()\n\u001b[0;32m    339\u001b[0m \u001b[38;5;28;01mif\u001b[39;00m end \u001b[38;5;241m!=\u001b[39m \u001b[38;5;28mlen\u001b[39m(s):\n\u001b[1;32m--> 340\u001b[0m     \u001b[38;5;28;01mraise\u001b[39;00m JSONDecodeError(\u001b[38;5;124m\"\u001b[39m\u001b[38;5;124mExtra data\u001b[39m\u001b[38;5;124m\"\u001b[39m, s, end)\n\u001b[0;32m    341\u001b[0m \u001b[38;5;28;01mreturn\u001b[39;00m obj\n",
      "\u001b[1;31mJSONDecodeError\u001b[0m: Extra data: line 4 column 2 (char 91)"
     ]
    }
   ],
   "source": [
    "s = \"{\\n    \\\"instruction\\\": \\\"解释海啸橙色警报意味着什么？\\\",\\n    \\\"output\\\": \\\"海啸橙色警报表示预计海啸波幅将在1至3米之间，需要采取紧急防范措施。\\\"\\n}, {\\n    \\\"instruction\\\": \\\"如果海啸橙色警报发布，我们应该怎么做？\\\",\\n    \\\"output\\\": \\\"应迅速撤离至高地或安全区域，避免前往沿海地带。\\\"\\n}, {\\n    \\\"instruction\\\": \\\"海啸橙色警报是由什么引起的？\\\",\\n    \\\"output\\\": \\\"海啸橙色警报通常由地震或其他因素引起。\\\"\\n}, {\\n    \\\"instruction\\\": \\\"海啸橙色警报的波幅范围是多少？\\\",\\n    \\\"output\\\": \\\"海啸橙色警报的波幅范围是1米到3米。\\\"\\n}, {\\n    \\\"instruction\\\": \\\"海啸橙色警报发布后，哪些区域会受到影响？\\\",\\n    \\\"output\\\": \\\"海啸橙色警报发布后，我国沿岸区域会受到影响。\\\"\\n}, {\\n\"\n",
    "\n",
    "\n",
    "import re\n",
    "import json\n",
    "\n",
    "def extract_json_objects(text):\n",
    "    \"\"\"提取所有合法JSON对象\"\"\"\n",
    "    # 使用正则表达式匹配最外层大括号结构（处理换行和空格）\n",
    "    pattern = r'\\{[^{}]*\\}'\n",
    "    matches = re.findall(pattern, text, re.DOTALL)\n",
    "    \n",
    "    results = []\n",
    "    for match in matches:\n",
    "        try:\n",
    "            # 清理可能的尾随逗号（处理类似 }, { 的情况）\n",
    "            cleaned = match.strip().rstrip(',')\n",
    "            # 转换为Python字典验证格式\n",
    "            data = json.loads(cleaned)\n",
    "            results.append(data)\n",
    "        except json.JSONDecodeError as e:\n",
    "            print(f\"发现无效JSON片段：{match[:50]}... （错误信息：{e}）\")\n",
    "    return results\n",
    "\n",
    "# 示例数据（模拟包含多个JSON对象的字符串）\n",
    "input_str = s\n",
    "\n",
    "# 执行提取\n",
    "extracted = extract_json_objects(input_str)\n",
    "\n",
    "# 打印结果\n",
    "print(f\"共找到{len(extracted)}个有效对象：\")\n",
    "for i, item in enumerate(extracted, 1):\n",
    "    print(f\"对象{i}: {json.dumps(item, ensure_ascii=False)}\")"
   ]
  }
 ],
 "metadata": {
  "kernelspec": {
   "display_name": "Python 3",
   "language": "python",
   "name": "python3"
  },
  "language_info": {
   "codemirror_mode": {
    "name": "ipython",
    "version": 3
   },
   "file_extension": ".py",
   "mimetype": "text/x-python",
   "name": "python",
   "nbconvert_exporter": "python",
   "pygments_lexer": "ipython3",
   "version": "3.10.11"
  }
 },
 "nbformat": 4,
 "nbformat_minor": 5
}
