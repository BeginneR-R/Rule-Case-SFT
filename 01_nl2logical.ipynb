{
 "cells": [
  {
   "cell_type": "markdown",
   "id": "01e943ec",
   "metadata": {},
   "source": [
    "# 将原始数据集自然语言的形式转化为逻辑表达式"
   ]
  },
  {
   "cell_type": "code",
   "execution_count": null,
   "id": "ef0ee450-10b8-47a6-9b2c-5e98b8435e03",
   "metadata": {
    "execution": {
     "iopub.execute_input": "2025-02-14T02:59:11.492964Z",
     "iopub.status.busy": "2025-02-14T02:59:11.492141Z",
     "iopub.status.idle": "2025-02-14T02:59:11.500471Z",
     "shell.execute_reply": "2025-02-14T02:59:11.499357Z",
     "shell.execute_reply.started": "2025-02-14T02:59:11.492913Z"
    }
   },
   "outputs": [],
   "source": [
    "from typing import List\n",
    "from typing import Optional\n",
    "from typing import Dict\n",
    "\n",
    "import os\n",
    "import json\n",
    "from pathlib import Path\n",
    "\n",
    "import httpx\n",
    "from openai import OpenAI\n",
    "\n",
    "import requests\n",
    "from tqdm import tqdm\n",
    "import re"
   ]
  },
  {
   "cell_type": "markdown",
   "id": "13defd65-b8ea-4464-abc7-59d5fd9f28e7",
   "metadata": {},
   "source": [
    "## 单条prompt测试"
   ]
  },
  {
   "cell_type": "code",
   "execution_count": null,
   "id": "0ddf9411-022a-40c0-b9d6-70ac36aff436",
   "metadata": {
    "execution": {
     "iopub.execute_input": "2025-02-14T02:59:15.494152Z",
     "iopub.status.busy": "2025-02-14T02:59:15.493308Z",
     "iopub.status.idle": "2025-02-14T02:59:16.050991Z",
     "shell.execute_reply": "2025-02-14T02:59:16.049714Z",
     "shell.execute_reply.started": "2025-02-14T02:59:15.494091Z"
    }
   },
   "outputs": [],
   "source": [
    "# 文件路径\n",
    "file_path = \"prompts/DataFountain/translation.txt\"\n",
    "\n",
    "# 请求的 URL\n",
    "url = \"https://api.moonshot.cn/v1/files\"\n",
    "\n",
    "headers = {\n",
    "    'Authorization': 'sk-gNToXJPO4Ih8NDZnDloSXR780dQDEZ2Epu49wcVA1sWb4Ecw'\n",
    "}\n",
    "\n",
    "# 准备文件数据\n",
    "files = {'file': open(file_path, 'rb')}\n",
    "\n",
    "# 发起 POST 请求\n",
    "response = requests.post(url, headers=headers, files=files)\n",
    "\n",
    "# 打印响应内容\n",
    "print(response.status_code)\n",
    "print(response.text)"
   ]
  },
  {
   "cell_type": "code",
   "execution_count": null,
   "id": "7565d2b2-c1b9-4c98-b007-98a443f07ff3",
   "metadata": {
    "execution": {
     "iopub.execute_input": "2025-02-14T02:59:21.874208Z",
     "iopub.status.busy": "2025-02-14T02:59:21.873336Z",
     "iopub.status.idle": "2025-02-14T02:59:22.454071Z",
     "shell.execute_reply": "2025-02-14T02:59:22.452595Z",
     "shell.execute_reply.started": "2025-02-14T02:59:21.874144Z"
    },
    "scrolled": true
   },
   "outputs": [],
   "source": [
    "client = OpenAI(\n",
    "    api_key=\"sk-gNToXJPO4Ih8NDZnDloSXR780dQDEZ2Epu49wcVA1sWb4Ecw\",\n",
    "    base_url=\"https://api.moonshot.cn/v1\",\n",
    ")\n",
    "\n",
    "file_object = client.files.create(file=Path(\"prompts/DataFountain/translation.txt\"), purpose=\"file-extract\")\n",
    "file_content = client.files.content(file_id=file_object.id).text"
   ]
  },
  {
   "cell_type": "code",
   "execution_count": null,
   "id": "00645b83-4b85-4afb-996e-a4a4d3bc84c2",
   "metadata": {
    "execution": {
     "iopub.execute_input": "2024-11-22T08:12:42.213150Z",
     "iopub.status.busy": "2024-11-22T08:12:42.212329Z",
     "iopub.status.idle": "2024-11-22T08:12:42.220138Z",
     "shell.execute_reply": "2024-11-22T08:12:42.219015Z",
     "shell.execute_reply.started": "2024-11-22T08:12:42.213091Z"
    },
    "scrolled": true
   },
   "outputs": [],
   "source": [
    "print(file_content)"
   ]
  },
  {
   "cell_type": "code",
   "execution_count": 16,
   "id": "c4683d8d-e5c8-4d2c-9f78-1f4d4f4ff4f0",
   "metadata": {
    "execution": {
     "iopub.execute_input": "2024-12-04T09:55:28.058688Z",
     "iopub.status.busy": "2024-12-04T09:55:28.058275Z",
     "iopub.status.idle": "2024-12-04T09:55:28.065500Z",
     "shell.execute_reply": "2024-12-04T09:55:28.064642Z",
     "shell.execute_reply.started": "2024-12-04T09:55:28.058665Z"
    },
    "scrolled": true
   },
   "outputs": [],
   "source": [
    "datas = []\n",
    "with open('data/法律/DISC-Law-SFT-Triplet-released.jsonl', 'r', encoding='utf-8') as file:\n",
    "    for line in file:\n",
    "        data = json.loads(line.strip())\n",
    "        datas.append(data)\n",
    "\n",
    "with open('data/法律/DISC-json.json', 'w', encoding='utf-8') as f:\n",
    "    json.dump(datas, f, indent=4, ensure_ascii=False)"
   ]
  },
  {
   "cell_type": "code",
   "execution_count": null,
   "id": "db3436e9-efab-4bfd-8060-7d10cf44aefd",
   "metadata": {
    "execution": {
     "iopub.execute_input": "2024-12-02T11:43:27.996150Z",
     "iopub.status.busy": "2024-12-02T11:43:27.995304Z",
     "iopub.status.idle": "2024-12-02T11:43:28.002991Z",
     "shell.execute_reply": "2024-12-02T11:43:28.001799Z",
     "shell.execute_reply.started": "2024-12-02T11:43:27.996086Z"
    },
    "scrolled": true
   },
   "outputs": [],
   "source": [
    "print(datas[0][\"reference\"])"
   ]
  },
  {
   "cell_type": "code",
   "execution_count": null,
   "id": "60380bbd-992c-4599-916b-f62237b399f9",
   "metadata": {
    "execution": {
     "iopub.execute_input": "2025-02-14T02:59:29.537313Z",
     "iopub.status.busy": "2025-02-14T02:59:29.536470Z",
     "iopub.status.idle": "2025-02-14T02:59:29.543544Z",
     "shell.execute_reply": "2025-02-14T02:59:29.542336Z",
     "shell.execute_reply.started": "2025-02-14T02:59:29.537251Z"
    }
   },
   "outputs": [],
   "source": [
    "answers = []"
   ]
  },
  {
   "cell_type": "code",
   "execution_count": null,
   "id": "cc38ab0d-86b4-4b1d-9b9e-34aca79846ba",
   "metadata": {
    "execution": {
     "iopub.execute_input": "2025-02-14T02:59:30.828602Z",
     "iopub.status.busy": "2025-02-14T02:59:30.827771Z",
     "iopub.status.idle": "2025-02-14T02:59:30.841291Z",
     "shell.execute_reply": "2025-02-14T02:59:30.840423Z",
     "shell.execute_reply.started": "2025-02-14T02:59:30.828541Z"
    }
   },
   "outputs": [],
   "source": [
    "import time\n",
    "\n",
    "\n",
    "# def call_api_with_rate_limit_handling(client, messages, model=\"moonshot-v1-32k\", max_retries=5):\n",
    "#     retries = 0\n",
    "#     while retries < max_retries:\n",
    "#         try:\n",
    "#             completion = client.chat.completions.create(\n",
    "#                 model=model,\n",
    "#                 messages=messages,\n",
    "#                 temperature=0,\n",
    "#             )\n",
    "#             return completion\n",
    "#         except requests.exceptions.HTTPError as e:\n",
    "#             print(e.response.status_code)\n",
    "#             if e.response.status_code == 429:\n",
    "#                 print('429')\n",
    "#                 error_data = e.response.json()\n",
    "#                 if error_data.get('error', {}).get('type') == 'rate_limit_reached_error':\n",
    "#                     print(f\"Rate limit reached. Retrying in {error_data.get('error', {}).get('message', '1')} seconds...\")\n",
    "#                     time.sleep(int(error_data.get('error', {}).get('message').split(' ')[-2]) + 1)\n",
    "#                     retries += 1\n",
    "#                 else:\n",
    "#                     raise  # Re-raise the exception if it's not a rate limit error\n",
    "#             else:\n",
    "#                 raise  # Re-raise the exception if it's not a 429 error\n",
    "#     raise Exception(\"Max retries reached. API call failed.\")\n",
    "\n",
    "def call_api_with_rate_limit_handling(client, messages, model=\"moonshot-v1-32k\", max_retries=5):\n",
    "    retries = 0\n",
    "    while retries < max_retries:\n",
    "        try:\n",
    "            completion = client.chat.completions.create(\n",
    "                model=model,\n",
    "                messages=messages,\n",
    "                temperature=0,\n",
    "            )\n",
    "            return completion\n",
    "        except Exception as e:\n",
    "            if '429' in str(e):  # 检查异常消息中是否包含429\n",
    "                print(\"Rate limit reached. Retrying in 1 second...\")\n",
    "                time.sleep(1)  # 等待1秒钟\n",
    "                retries += 1\n",
    "            else:\n",
    "                raise  # Re-raise the exception if it's not a 429 error\n",
    "    raise Exception(\"Max retries reached. API call failed.\")"
   ]
  },
  {
   "cell_type": "code",
   "execution_count": null,
   "id": "b50adec2-27e2-4476-9402-69003c4d86c8",
   "metadata": {
    "execution": {
     "iopub.execute_input": "2025-02-14T03:00:13.461548Z",
     "iopub.status.busy": "2025-02-14T03:00:13.460710Z",
     "iopub.status.idle": "2025-02-14T03:00:25.235131Z",
     "shell.execute_reply": "2025-02-14T03:00:25.234087Z",
     "shell.execute_reply.started": "2025-02-14T03:00:13.461486Z"
    }
   },
   "outputs": [],
   "source": [
    "# 替换内容\n",
    "replacement = \"根据《刑法》第一百一十四条的规定，被告人白某某以危险方法危害公共安全，尚未造成严重后果。根据案件事实，被告人白某某在公交车上与司机发生争执，并用手拉拽档杆和司机的胳膊，导致公交车失控撞向停放的轿车和路灯杆，最终造成公交车、轿车、路灯杆以及福锅记饭店牌匾的损坏。根据鉴定结果，本案损失共计人民币19,342.6元。\\n综上所述，根据《刑法》第一百一十四条的规定，被告人白某某的行为构成以危险方法危害公共安全罪。根据该罪的刑罚幅度，可判处三年以上十年以下有期徒刑。\\n需要注意的是，以上仅为根据提供的案件事实和相关法律条文进行的推理，最终的判决结果还需根据法庭审理的具体情况和法官的判断做出。\"\n",
    "\n",
    "# 使用正则表达式替换 [[RULES]]\n",
    "content = re.sub(r'\\[\\[RULES\\]\\]', replacement, file_content)\n",
    "\n",
    "messages = [\n",
    "    {\n",
    "        \"role\": \"system\",\n",
    "        \"content\": \"你是 Kimi，由 Moonshot AI 提供的人工智能助手，你更擅长中文和英文的对话。你会为用户提供安全，有帮助，准确的回答。同时，你会拒绝一切涉及恐怖主义，种族歧视，黄色暴力等问题的回答。Moonshot AI 为专有名词，不可翻译成其他语言。\"\n",
    "    },\n",
    "    {\n",
    "        \"role\": \"system\",\n",
    "        \"content\": content,\n",
    "    },\n",
    "    {\n",
    "        \"role\": \"user\",\n",
    "        \"content\": \"你好，请根据txt内容生成回答。\"\n",
    "    }\n",
    "]\n",
    "\n",
    "completion = call_api_with_rate_limit_handling(client, messages, \"moonshot-v1-32k\", 5)\n",
    "\n",
    "print(completion.choices[0].message.content)"
   ]
  },
  {
   "cell_type": "code",
   "execution_count": null,
   "id": "5466cb3d-6473-47be-b3ac-8057f8a0ba4d",
   "metadata": {
    "execution": {
     "iopub.execute_input": "2024-12-03T05:11:28.954972Z",
     "iopub.status.busy": "2024-12-03T05:11:28.954159Z",
     "iopub.status.idle": "2024-12-03T10:32:45.091943Z",
     "shell.execute_reply": "2024-12-03T10:32:45.090597Z",
     "shell.execute_reply.started": "2024-12-03T05:11:28.954919Z"
    },
    "scrolled": true
   },
   "outputs": [],
   "source": [
    "for dicts in tqdm(data[84], desc='rule转化逻辑表达式进度'):\n",
    "    # 替换内容\n",
    "    replacement = dicts['rule_text']\n",
    "\n",
    "    # 使用正则表达式替换 [[RULES]]\n",
    "    content = re.sub(r'\\[\\[RULES\\]\\]', replacement, file_content)\n",
    "\n",
    "    messages = [\n",
    "        {\n",
    "            \"role\": \"system\",\n",
    "            \"content\": \"你是 Kimi，由 Moonshot AI 提供的人工智能助手，你更擅长中文和英文的对话。你会为用户提供安全，有帮助，准确的回答。同时，你会拒绝一切涉及恐怖主义，种族歧视，黄色暴力等问题的回答。Moonshot AI 为专有名词，不可翻译成其他语言。请将内容输出为可解析的json格式。\"\n",
    "        },\n",
    "        {\n",
    "            \"role\": \"system\",\n",
    "            \"content\": content,\n",
    "        },\n",
    "        {\n",
    "            \"role\": \"user\",\n",
    "            \"content\": \"你好，请根据txt内容生成回答。\"\n",
    "        }\n",
    "    ]\n",
    "\n",
    "    completion = call_api_with_rate_limit_handling(client, messages, \"moonshot-v1-32k\", 5)\n",
    "\n",
    "    print(dicts['rule_id'])\n",
    "    answers.append(completion.choices[0].message.content)"
   ]
  },
  {
   "cell_type": "code",
   "execution_count": null,
   "id": "0b3b7b45-6adc-45ee-900d-3d6abf0c0314",
   "metadata": {
    "execution": {
     "iopub.execute_input": "2024-12-03T11:27:53.267028Z",
     "iopub.status.busy": "2024-12-03T11:27:53.266092Z",
     "iopub.status.idle": "2024-12-03T11:27:53.292723Z",
     "shell.execute_reply": "2024-12-03T11:27:53.291481Z",
     "shell.execute_reply.started": "2024-12-03T11:27:53.266963Z"
    }
   },
   "outputs": [],
   "source": [
    "with open('data/DF/answers_v3.json', 'w', encoding='utf-8') as f:\n",
    "    json.dump(answers, f, ensure_ascii=False, indent=4)"
   ]
  },
  {
   "cell_type": "code",
   "execution_count": null,
   "id": "c49222b4-d0df-4746-8417-86fa12d6002d",
   "metadata": {
    "execution": {
     "iopub.execute_input": "2024-11-21T13:19:32.119059Z",
     "iopub.status.busy": "2024-11-21T13:19:32.117986Z",
     "iopub.status.idle": "2024-11-21T13:19:32.125663Z",
     "shell.execute_reply": "2024-11-21T13:19:32.124459Z",
     "shell.execute_reply.started": "2024-11-21T13:19:32.119011Z"
    }
   },
   "outputs": [],
   "source": [
    "print(answers[0])"
   ]
  },
  {
   "cell_type": "markdown",
   "id": "b62fc8b7-8299-4641-9bed-b7c861bec8ea",
   "metadata": {
    "jp-MarkdownHeadingCollapsed": true
   },
   "source": [
    "## cache方法传输测试"
   ]
  },
  {
   "cell_type": "code",
   "execution_count": null,
   "id": "89918fdd-18ba-4fea-8e5d-e6546e505782",
   "metadata": {
    "execution": {
     "iopub.execute_input": "2024-11-08T06:40:50.670073Z",
     "iopub.status.busy": "2024-11-08T06:40:50.669187Z",
     "iopub.status.idle": "2024-11-08T06:40:50.749649Z",
     "shell.execute_reply": "2024-11-08T06:40:50.748823Z",
     "shell.execute_reply.started": "2024-11-08T06:40:50.670006Z"
    }
   },
   "outputs": [],
   "source": [
    "client = OpenAI(\n",
    "    api_key=\"sk-gNToXJPO4Ih8NDZnDloSXR780dQDEZ2Epu49wcVA1sWb4Ecw\",\n",
    "    base_url=\"https://api.moonshot.cn/v1\",\n",
    ")"
   ]
  },
  {
   "cell_type": "code",
   "execution_count": null,
   "id": "ce73fa68-5991-47f7-9698-6cd6ff28ecae",
   "metadata": {},
   "outputs": [],
   "source": [
    "def upload_files(files: List[str], cache_tag: Optional[str] = None) -> List[Dict[str, Any]]:\n",
    "    \"\"\"\n",
    "    upload_files 会将传入的文件（路径）全部通过文件上传接口 '/v1/files' 上传，并获取上传后的\n",
    "    文件内容生成文件 messages。每个文件会是一个独立的 message，这些 message 的 role 均为\n",
    "    system，Kimi 大模型会正确识别这些 system messages 中的文件内容。\n",
    "\n",
    "    如果你设置了 cache_tag 参数，那么 upload_files 还会将你上传的文件内容存入 Context Cache\n",
    "    上下文缓存中，后续你就可以使用这个 Cache 来对文件内容进行提问。当你指定了 cache_tag 的值时，\n",
    "    upload_files 会生成一个 role 为 cache 的 message，通过这个 message，你可以引用已被缓存\n",
    "    的文件内容，这样就不必每次调用 `/v1/chat/completions` 接口时都要把文件内容再传输一遍。\n",
    "\n",
    "    注意，如果你设置了 cache_tag 的值，你需要把 upload_files 返回的 messages 放置在请求\n",
    "    `/v1/chat/completions` 接口时 messages 参数列表的第一位（实际上，我们推荐不管是否启用\n",
    "    cache_tag，都将 upload_files 返回的 messages 放置在 messages 列表的头部）。\n",
    "\n",
    "    关于 Context Caching 的具体信息，可以访问这里：\n",
    "\n",
    "    https://platform.moonshot.cn/docs/api/caching\n",
    "\n",
    "    :param files: 一个包含要上传文件的路径的列表，路径可以是绝对路径也可以是相对路径，请使用字符串\n",
    "        的形式传递文件路径。\n",
    "    :param cache_tag: 设置 Context Caching 的 tag 值，你可以将 tag 理解为自定义的 Cache 名称，\n",
    "        当你设置了 cache_tag 的值，就意味着启用 Context Caching 功能，默认缓存时间是 300 秒，每次\n",
    "        携带缓存进行 `/v1/chat/completions` 请求都将刷新缓存存活时间（300 秒）。\n",
    "    :return: 一个包含了文件内容或文件缓存的 messages 列表，请将这些 messages 加入到 Context 中，\n",
    "        即请求 `/v1/chat/completions` 接口时的 messages 参数中。\n",
    "    \"\"\"\n",
    "    messages = []\n",
    "\n",
    "    # 对每个文件路径，我们都会上传文件并抽取文件内容，最后生成一个 role 为 system 的 message，并加入\n",
    "    # 到最终返回的 messages 列表中。\n",
    "    for file in files:\n",
    "        file_object = client.files.create(file=Path(file), purpose=\"file-extract\")\n",
    "        file_content = client.files.content(file_id=file_object.id).text\n",
    "        messages.append({\n",
    "            \"role\": \"system\",\n",
    "            \"content\": file_content,\n",
    "        })\n",
    "\n",
    "    if cache_tag:\n",
    "        # 当启用缓存（即 cache_tag 有值时），我们通过 HTTP 接口创建缓存，缓存的内容则是前文中通过文件上传\n",
    "        # 和抽取接口生成的 messages 内容，我们为这些缓存设置一个默认的有效期 300 秒（通过 ttl 字段），并\n",
    "        # 为这个缓存打上标记，标记值为 cache_tag（通过 tags 字段）。\n",
    "        r = httpx.post(f\"{client.base_url}caching\",\n",
    "                       headers={\n",
    "                           \"Authorization\": f\"Bearer {client.api_key}\",\n",
    "                       },\n",
    "                       json={\n",
    "                           \"model\": \"moonshot-v1\",\n",
    "                           \"messages\": messages,\n",
    "                           \"ttl\": 300,\n",
    "                           \"tags\": [cache_tag],\n",
    "                       })\n",
    "\n",
    "        if r.status_code != 200:\n",
    "            raise Exception(r.text)\n",
    "\n",
    "        # 创建缓存成功后，我们不再需要将文件抽取后的内容原封不动地加入 messages 中，取而代之的是，我们可以设置一个\n",
    "        # role 为 cache 的消息来引用我们已缓存的文件内容，只需要在 content 中指定我们给 Cache 设定的 tag 即可，\n",
    "        # 这样可以有效减少网络传输的开销，即使是多个文件内容，也只需要添加一条 message，保持 messages 列表的清爽感。\n",
    "        return [{\n",
    "            \"role\": \"cache\",\n",
    "            \"content\": f\"tag={cache_tag};reset_ttl=300\",\n",
    "        }]\n",
    "    else:\n",
    "        return messages"
   ]
  },
  {
   "cell_type": "markdown",
   "id": "1f7bd7ed",
   "metadata": {},
   "source": [
    "# 带缓存的转换"
   ]
  },
  {
   "cell_type": "code",
   "execution_count": 12,
   "id": "288a5040",
   "metadata": {},
   "outputs": [],
   "source": [
    "from typing import List\n",
    "from typing import Optional\n",
    "from typing import Dict\n",
    "\n",
    "import os\n",
    "import json\n",
    "from pathlib import Path\n",
    "\n",
    "import httpx\n",
    "from openai import OpenAI\n",
    "\n",
    "import requests\n",
    "\n",
    "import time\n",
    "import re\n",
    "from tqdm import tqdm"
   ]
  },
  {
   "cell_type": "markdown",
   "id": "25b09d9d",
   "metadata": {},
   "source": [
    "### 建立缓存"
   ]
  },
  {
   "cell_type": "code",
   "execution_count": 13,
   "id": "d0d439f0",
   "metadata": {},
   "outputs": [
    {
     "name": "stdout",
     "output_type": "stream",
     "text": [
      "{'id': 'cache-eysgt1nyospi11ania31', 'object': 'cache_object', 'model': 'moonshot-v1', 'messages': [{'role': 'system', 'content': '任务描述：你将被给予一个规则的描述。你的任务是将规则解析为一阶逻辑公式，并输出为可解析的 JSON 格式。\\n一阶逻辑公式的语法定义如下：\\n1） 确定规则中涉及的所有谓词。\\n2） 定义每个谓词的含义和参数。\\n3） 根据规则的逻辑结构，使用一阶逻辑的连接词（如∧、∨、⊕、¬、→、↔等）和量词（如∀、∃等）构建逻辑表达式。\\n------\\n下面是一个例子：\\n规则：\\n安全生产协调司的职责：根据安全监管总局领导指示和有关规定，组织协调安全监察专员赶赴事故现场参与事故应急救援和事故调查处理工作。\\n###\\n{\\n    \"rule\": \"安全生产协调司的职责：根据安全监管总局领导指示和有关规定，组织协调安全监察专员赶赴事故现场参与事故应急救援和事故调查处理工作。\",\\n    \"predicates\":\\n    [\\n        \"指示：Instruction(Leader, Regulation) ::: 表示领导发出的指示和相关规定。\",\\n        \"参与：Participate(Inspector, Scene, Task) ::: 表示安全监察专员在事故现场参与某项任务。\",\\n        \"赶赴：GoTo(Inspector, Scene) ::: 表示安全监察专员赶赴事故现场。\",\\n        \"事故：Accident(Scene) ::: 表示发生在某个场景的事故。\"\\n    ],\\n    \"logicexpression\":\\n    [\\n        \"∀s ∀i ∀r (Accident(s) ∧ Instruction(Leader, r) → (GoTo(i, s) ∧ Participate(i, s, EmergencyRescue) ∧ Participate(i, s, Investigation)))\"\\n    ]\\n}\\n------\\n下面是一个例子：\\n规则：\\n交通运输应急保障：安全监管总局建立全国主要危险化学品从业单位的交通地理信息系统。在应急响应时，利用现有的交通资源，协调铁道、民航、军队等系统提供交通支持，协调沿途有关地方人民政府提供交通警戒支持，以保证及时调运危险化学品事故灾难应急救援有关人员、装备、物资。事故发生地省级人民政府组织对事故现场进行交通管制，开设应急救援特别通道，最大限度地赢得救援时间。地方人民政府组织和调集足够的交通运输工具，保证现场应急救援工作需要。\\n###\\n{\\n    \"rule\": \"善后处置的获救人员的处置：当地政府民政部门或获救人员所在单位负责获救人员的安置；港澳台或外籍人员，由当地政府港澳台办或外事办负责安置；外籍人员由公安部门或外交部门负责遣返。\",\\n    \"predicates\":\\n    [\\n        \"负责安置：ResponsibleForSettlement(Department, Person) 表示某个部门负责某个获救人员的安置。\",\\n        \"港澳台或外籍人员：PersonType(Person, Type) 表示某个人员是港澳台或外籍人员。\",\\n        \"遣返：Deport(Person, Department) 表示某个部门负责遣返某个外籍人员。\"\\n    ],\\n    \"logicexpression\":\\n    [\\n        \"∀p (获救人员(p) → (¬港澳台或外籍人员(p) → ResponsibleForSettlement(民政部门, p) ∨ ResponsibleForSettlement(所在单位, p)))\",\\n        \"∀p (港澳台或外籍人员(p, 港澳台) → ResponsibleForSettlement(港澳台办, p) ∨ ResponsibleForSettlement(外事办, p))\",\\n        \"∀p (港澳台或外籍人员(p, 外籍) → Deport(p, 公安部门) ∨ Deport(p, 外交部门))\"\\n    ]\\n}\\n------\\n下面就是你需要翻译的：\\n规则：\\n[[RULES]]\\n###'}], 'name': 'example_cache', 'description': '', 'metadata': None, 'expired_at': 1739782930, 'status': 'pending', 'tokens': 791, 'created_at': 1739779330, 'updated_at': 1739779330}\n"
     ]
    }
   ],
   "source": [
    "# 你的API密钥\n",
    "api_key = \"sk-gNToXJPO4Ih8NDZnDloSXR780dQDEZ2Epu49wcVA1sWb4Ecw\"\n",
    "\n",
    "# 读取文本文件内容\n",
    "with open('prompts/DataFountain/translation.txt', 'r', encoding='utf-8') as file:\n",
    "    file_content = file.read()\n",
    "\n",
    "# 创建缓存的请求数据\n",
    "data = {\n",
    "    \"model\": \"moonshot-v1\",\n",
    "    \"messages\": [\n",
    "        {\n",
    "            \"role\": \"system\",\n",
    "            \"content\": file_content\n",
    "        }\n",
    "    ],\n",
    "    \"name\": \"example_cache\",\n",
    "    \"ttl\": 3600  # 缓存有效期，单位为秒\n",
    "}\n",
    "\n",
    "# 发送POST请求创建缓存\n",
    "response = requests.post(\n",
    "    url=\"https://api.moonshot.cn/v1/caching\",\n",
    "    headers={\n",
    "        \"Authorization\": f\"Bearer {api_key}\",\n",
    "        \"Content-Type\": \"application/json\"\n",
    "    },\n",
    "    json=data\n",
    ")\n",
    "\n",
    "# 打印响应内容\n",
    "print(json.loads(response.text))"
   ]
  },
  {
   "cell_type": "code",
   "execution_count": 11,
   "id": "daad1bad",
   "metadata": {},
   "outputs": [
    {
     "name": "stdout",
     "output_type": "stream",
     "text": [
      "404\n",
      "{\"error\":{\"message\":\"context cache not found: cache-ey5p3ifxfuei11gkxpii\",\"type\":\"resource_not_found_error\"}}\n"
     ]
    }
   ],
   "source": [
    "# 你的API密钥\n",
    "api_key = \"sk-gNToXJPO4Ih8NDZnDloSXR780dQDEZ2Epu49wcVA1sWb4Ecw\"\n",
    "\n",
    "# 缓存ID，假设从创建缓存的响应中获取\n",
    "cache_id = \"cache-ey5p3ifxfuei11gkxpii\"\n",
    "\n",
    "# 发送DELETE请求删除缓存\n",
    "response = requests.delete(\n",
    "    url=f\"https://api.moonshot.cn/v1/caching/{cache_id}\",\n",
    "    headers={\n",
    "        \"Authorization\": f\"Bearer {api_key}\"\n",
    "    }\n",
    ")\n",
    "\n",
    "# 打印响应状态码\n",
    "print(response.status_code)\n",
    "\n",
    "# 如果需要，也可以打印响应内容\n",
    "print(response.text)"
   ]
  },
  {
   "cell_type": "code",
   "execution_count": 14,
   "id": "3ea6d854",
   "metadata": {},
   "outputs": [],
   "source": [
    "# 你的API密钥\n",
    "api_key = \"sk-gNToXJPO4Ih8NDZnDloSXR780dQDEZ2Epu49wcVA1sWb4Ecw\"\n",
    "\n",
    "\n",
    "# 读取文本文件内容\n",
    "def load_file_content(file_path):\n",
    "    with open(file_path, 'r', encoding='utf-8') as file:\n",
    "        return file.read()\n",
    "\n",
    "\n",
    "# 创建缓存\n",
    "def create_cache(file_content):\n",
    "    data = {\n",
    "        \"model\": \"moonshot-v1\",\n",
    "        \"messages\": [\n",
    "            {\n",
    "                \"role\": \"system\",\n",
    "                \"content\": file_content\n",
    "            }\n",
    "        ],\n",
    "        \"name\": \"example_cache\",\n",
    "        \"ttl\": 3600  # 缓存有效期，单位为秒\n",
    "    }\n",
    "    response = requests.post(\n",
    "        url=\"https://api.moonshot.cn/v1/caching\",\n",
    "        headers={\n",
    "            \"Authorization\": f\"Bearer {api_key}\",\n",
    "            \"Content-Type\": \"application/json\"\n",
    "        },\n",
    "        json=data\n",
    "    )\n",
    "    cache_response = json.loads(response.text)\n",
    "    return cache_response['id']"
   ]
  },
  {
   "cell_type": "code",
   "execution_count": 15,
   "id": "4a606859",
   "metadata": {},
   "outputs": [],
   "source": [
    "# 检查缓存是否存在且未过期\n",
    "def check_cache(cache_id):\n",
    "    response = requests.get(\n",
    "        url=f\"https://api.moonshot.cn/v1/caching/{cache_id}\",\n",
    "        headers={\n",
    "            \"Authorization\": f\"Bearer {api_key}\"\n",
    "        }\n",
    "    )\n",
    "    if response.status_code == 200:\n",
    "        return True\n",
    "    return False\n",
    "\n",
    "\n",
    "# 重新加载数据并更新缓存\n",
    "def reload_and_update_cache(file_path, cache_id):\n",
    "    new_file_content = load_file_content(file_path)\n",
    "    data = {\n",
    "        \"model\": \"moonshot-v1\",\n",
    "        \"messages\": [\n",
    "            {\n",
    "                \"role\": \"system\",\n",
    "                \"content\": new_file_content\n",
    "            }\n",
    "        ],\n",
    "        \"name\": \"example_cache\",\n",
    "        \"ttl\": 3600  # 缓存有效期，单位为秒\n",
    "    }\n",
    "    response = requests.put(\n",
    "        url=f\"https://api.moonshot.cn/v1/caching/{cache_id}\",\n",
    "        headers={\n",
    "            \"Authorization\": f\"Bearer {api_key}\",\n",
    "            \"Content-Type\": \"application/json\"\n",
    "        },\n",
    "        json=data\n",
    "    )\n",
    "    return response.status_code == 200\n",
    "\n",
    "\n",
    "# 使用缓存内容并添加问题\n",
    "def use_cache_with_question(cache_id, question):\n",
    "    data = {\n",
    "        \"model\": \"moonshot-v1-32k\",\n",
    "        \"messages\": [\n",
    "            {\n",
    "                \"role\": \"cache\",\n",
    "                \"content\": f\"cache_id={cache_id};reset_ttl=3600\",\n",
    "            },\n",
    "            {\n",
    "                \"role\": \"user\",\n",
    "                \"content\": question\n",
    "            }\n",
    "        ]\n",
    "    }\n",
    "    response = requests.post(\n",
    "        url=\"https://api.moonshot.cn/v1/chat/completions\",\n",
    "        headers={\n",
    "            \"Authorization\": f\"Bearer {api_key}\",\n",
    "            \"Content-Type\": \"application/json\"\n",
    "        },\n",
    "        json=data\n",
    "    )\n",
    "    return response.json()['choices'][0]['message']['content']"
   ]
  },
  {
   "cell_type": "markdown",
   "id": "b939f781",
   "metadata": {},
   "source": [
    "### 主流程"
   ]
  },
  {
   "cell_type": "code",
   "execution_count": 18,
   "id": "f644d1fb",
   "metadata": {},
   "outputs": [
    {
     "name": "stdout",
     "output_type": "stream",
     "text": [
      "Fileprompts/DataFountain/translation.txt success read\n",
      "cache id:cache-eyt4ni3r71ui11caaezi\n",
      "cache cuccess\n",
      "缓存已存在\n"
     ]
    },
    {
     "name": "stderr",
     "output_type": "stream",
     "text": [
      "Processing:   1%|          | 178/16000 [40:39<60:14:41, 13.71s/it]\n"
     ]
    },
    {
     "ename": "ProxyError",
     "evalue": "HTTPSConnectionPool(host='api.moonshot.cn', port=443): Max retries exceeded with url: /v1/chat/completions (Caused by ProxyError('Unable to connect to proxy', RemoteDisconnected('Remote end closed connection without response')))",
     "output_type": "error",
     "traceback": [
      "\u001b[1;31m---------------------------------------------------------------------------\u001b[0m",
      "\u001b[1;31mRemoteDisconnected\u001b[0m                        Traceback (most recent call last)",
      "File \u001b[1;32mc:\\Users\\24648\\AppData\\Local\\Programs\\Python\\Python310\\lib\\site-packages\\urllib3\\connectionpool.py:787\u001b[0m, in \u001b[0;36mHTTPConnectionPool.urlopen\u001b[1;34m(self, method, url, body, headers, retries, redirect, assert_same_host, timeout, pool_timeout, release_conn, chunked, body_pos, preload_content, decode_content, **response_kw)\u001b[0m\n\u001b[0;32m    786\u001b[0m \u001b[38;5;66;03m# Make the request on the HTTPConnection object\u001b[39;00m\n\u001b[1;32m--> 787\u001b[0m response \u001b[38;5;241m=\u001b[39m \u001b[38;5;28mself\u001b[39m\u001b[38;5;241m.\u001b[39m_make_request(\n\u001b[0;32m    788\u001b[0m     conn,\n\u001b[0;32m    789\u001b[0m     method,\n\u001b[0;32m    790\u001b[0m     url,\n\u001b[0;32m    791\u001b[0m     timeout\u001b[38;5;241m=\u001b[39mtimeout_obj,\n\u001b[0;32m    792\u001b[0m     body\u001b[38;5;241m=\u001b[39mbody,\n\u001b[0;32m    793\u001b[0m     headers\u001b[38;5;241m=\u001b[39mheaders,\n\u001b[0;32m    794\u001b[0m     chunked\u001b[38;5;241m=\u001b[39mchunked,\n\u001b[0;32m    795\u001b[0m     retries\u001b[38;5;241m=\u001b[39mretries,\n\u001b[0;32m    796\u001b[0m     response_conn\u001b[38;5;241m=\u001b[39mresponse_conn,\n\u001b[0;32m    797\u001b[0m     preload_content\u001b[38;5;241m=\u001b[39mpreload_content,\n\u001b[0;32m    798\u001b[0m     decode_content\u001b[38;5;241m=\u001b[39mdecode_content,\n\u001b[0;32m    799\u001b[0m     \u001b[38;5;241m*\u001b[39m\u001b[38;5;241m*\u001b[39mresponse_kw,\n\u001b[0;32m    800\u001b[0m )\n\u001b[0;32m    802\u001b[0m \u001b[38;5;66;03m# Everything went great!\u001b[39;00m\n",
      "File \u001b[1;32mc:\\Users\\24648\\AppData\\Local\\Programs\\Python\\Python310\\lib\\site-packages\\urllib3\\connectionpool.py:534\u001b[0m, in \u001b[0;36mHTTPConnectionPool._make_request\u001b[1;34m(self, conn, method, url, body, headers, retries, timeout, chunked, response_conn, preload_content, decode_content, enforce_content_length)\u001b[0m\n\u001b[0;32m    533\u001b[0m \u001b[38;5;28;01mtry\u001b[39;00m:\n\u001b[1;32m--> 534\u001b[0m     response \u001b[38;5;241m=\u001b[39m \u001b[43mconn\u001b[49m\u001b[38;5;241;43m.\u001b[39;49m\u001b[43mgetresponse\u001b[49m\u001b[43m(\u001b[49m\u001b[43m)\u001b[49m\n\u001b[0;32m    535\u001b[0m \u001b[38;5;28;01mexcept\u001b[39;00m (BaseSSLError, \u001b[38;5;167;01mOSError\u001b[39;00m) \u001b[38;5;28;01mas\u001b[39;00m e:\n",
      "File \u001b[1;32mc:\\Users\\24648\\AppData\\Local\\Programs\\Python\\Python310\\lib\\site-packages\\urllib3\\connection.py:516\u001b[0m, in \u001b[0;36mHTTPConnection.getresponse\u001b[1;34m(self)\u001b[0m\n\u001b[0;32m    515\u001b[0m \u001b[38;5;66;03m# Get the response from http.client.HTTPConnection\u001b[39;00m\n\u001b[1;32m--> 516\u001b[0m httplib_response \u001b[38;5;241m=\u001b[39m \u001b[38;5;28;43msuper\u001b[39;49m\u001b[43m(\u001b[49m\u001b[43m)\u001b[49m\u001b[38;5;241;43m.\u001b[39;49m\u001b[43mgetresponse\u001b[49m\u001b[43m(\u001b[49m\u001b[43m)\u001b[49m\n\u001b[0;32m    518\u001b[0m \u001b[38;5;28;01mtry\u001b[39;00m:\n",
      "File \u001b[1;32mc:\\Users\\24648\\AppData\\Local\\Programs\\Python\\Python310\\lib\\http\\client.py:1375\u001b[0m, in \u001b[0;36mHTTPConnection.getresponse\u001b[1;34m(self)\u001b[0m\n\u001b[0;32m   1374\u001b[0m \u001b[38;5;28;01mtry\u001b[39;00m:\n\u001b[1;32m-> 1375\u001b[0m     \u001b[43mresponse\u001b[49m\u001b[38;5;241;43m.\u001b[39;49m\u001b[43mbegin\u001b[49m\u001b[43m(\u001b[49m\u001b[43m)\u001b[49m\n\u001b[0;32m   1376\u001b[0m \u001b[38;5;28;01mexcept\u001b[39;00m \u001b[38;5;167;01mConnectionError\u001b[39;00m:\n",
      "File \u001b[1;32mc:\\Users\\24648\\AppData\\Local\\Programs\\Python\\Python310\\lib\\http\\client.py:318\u001b[0m, in \u001b[0;36mHTTPResponse.begin\u001b[1;34m(self)\u001b[0m\n\u001b[0;32m    317\u001b[0m \u001b[38;5;28;01mwhile\u001b[39;00m \u001b[38;5;28;01mTrue\u001b[39;00m:\n\u001b[1;32m--> 318\u001b[0m     version, status, reason \u001b[38;5;241m=\u001b[39m \u001b[38;5;28;43mself\u001b[39;49m\u001b[38;5;241;43m.\u001b[39;49m\u001b[43m_read_status\u001b[49m\u001b[43m(\u001b[49m\u001b[43m)\u001b[49m\n\u001b[0;32m    319\u001b[0m     \u001b[38;5;28;01mif\u001b[39;00m status \u001b[38;5;241m!=\u001b[39m CONTINUE:\n",
      "File \u001b[1;32mc:\\Users\\24648\\AppData\\Local\\Programs\\Python\\Python310\\lib\\http\\client.py:287\u001b[0m, in \u001b[0;36mHTTPResponse._read_status\u001b[1;34m(self)\u001b[0m\n\u001b[0;32m    284\u001b[0m \u001b[38;5;28;01mif\u001b[39;00m \u001b[38;5;129;01mnot\u001b[39;00m line:\n\u001b[0;32m    285\u001b[0m     \u001b[38;5;66;03m# Presumably, the server closed the connection before\u001b[39;00m\n\u001b[0;32m    286\u001b[0m     \u001b[38;5;66;03m# sending a valid response.\u001b[39;00m\n\u001b[1;32m--> 287\u001b[0m     \u001b[38;5;28;01mraise\u001b[39;00m RemoteDisconnected(\u001b[38;5;124m\"\u001b[39m\u001b[38;5;124mRemote end closed connection without\u001b[39m\u001b[38;5;124m\"\u001b[39m\n\u001b[0;32m    288\u001b[0m                              \u001b[38;5;124m\"\u001b[39m\u001b[38;5;124m response\u001b[39m\u001b[38;5;124m\"\u001b[39m)\n\u001b[0;32m    289\u001b[0m \u001b[38;5;28;01mtry\u001b[39;00m:\n",
      "\u001b[1;31mRemoteDisconnected\u001b[0m: Remote end closed connection without response",
      "\nThe above exception was the direct cause of the following exception:\n",
      "\u001b[1;31mProxyError\u001b[0m                                Traceback (most recent call last)",
      "\u001b[1;31mProxyError\u001b[0m: ('Unable to connect to proxy', RemoteDisconnected('Remote end closed connection without response'))",
      "\nThe above exception was the direct cause of the following exception:\n",
      "\u001b[1;31mMaxRetryError\u001b[0m                             Traceback (most recent call last)",
      "File \u001b[1;32mc:\\Users\\24648\\AppData\\Local\\Programs\\Python\\Python310\\lib\\site-packages\\requests\\adapters.py:667\u001b[0m, in \u001b[0;36mHTTPAdapter.send\u001b[1;34m(self, request, stream, timeout, verify, cert, proxies)\u001b[0m\n\u001b[0;32m    666\u001b[0m \u001b[38;5;28;01mtry\u001b[39;00m:\n\u001b[1;32m--> 667\u001b[0m     resp \u001b[38;5;241m=\u001b[39m \u001b[43mconn\u001b[49m\u001b[38;5;241;43m.\u001b[39;49m\u001b[43murlopen\u001b[49m\u001b[43m(\u001b[49m\n\u001b[0;32m    668\u001b[0m \u001b[43m        \u001b[49m\u001b[43mmethod\u001b[49m\u001b[38;5;241;43m=\u001b[39;49m\u001b[43mrequest\u001b[49m\u001b[38;5;241;43m.\u001b[39;49m\u001b[43mmethod\u001b[49m\u001b[43m,\u001b[49m\n\u001b[0;32m    669\u001b[0m \u001b[43m        \u001b[49m\u001b[43murl\u001b[49m\u001b[38;5;241;43m=\u001b[39;49m\u001b[43murl\u001b[49m\u001b[43m,\u001b[49m\n\u001b[0;32m    670\u001b[0m \u001b[43m        \u001b[49m\u001b[43mbody\u001b[49m\u001b[38;5;241;43m=\u001b[39;49m\u001b[43mrequest\u001b[49m\u001b[38;5;241;43m.\u001b[39;49m\u001b[43mbody\u001b[49m\u001b[43m,\u001b[49m\n\u001b[0;32m    671\u001b[0m \u001b[43m        \u001b[49m\u001b[43mheaders\u001b[49m\u001b[38;5;241;43m=\u001b[39;49m\u001b[43mrequest\u001b[49m\u001b[38;5;241;43m.\u001b[39;49m\u001b[43mheaders\u001b[49m\u001b[43m,\u001b[49m\n\u001b[0;32m    672\u001b[0m \u001b[43m        \u001b[49m\u001b[43mredirect\u001b[49m\u001b[38;5;241;43m=\u001b[39;49m\u001b[38;5;28;43;01mFalse\u001b[39;49;00m\u001b[43m,\u001b[49m\n\u001b[0;32m    673\u001b[0m \u001b[43m        \u001b[49m\u001b[43massert_same_host\u001b[49m\u001b[38;5;241;43m=\u001b[39;49m\u001b[38;5;28;43;01mFalse\u001b[39;49;00m\u001b[43m,\u001b[49m\n\u001b[0;32m    674\u001b[0m \u001b[43m        \u001b[49m\u001b[43mpreload_content\u001b[49m\u001b[38;5;241;43m=\u001b[39;49m\u001b[38;5;28;43;01mFalse\u001b[39;49;00m\u001b[43m,\u001b[49m\n\u001b[0;32m    675\u001b[0m \u001b[43m        \u001b[49m\u001b[43mdecode_content\u001b[49m\u001b[38;5;241;43m=\u001b[39;49m\u001b[38;5;28;43;01mFalse\u001b[39;49;00m\u001b[43m,\u001b[49m\n\u001b[0;32m    676\u001b[0m \u001b[43m        \u001b[49m\u001b[43mretries\u001b[49m\u001b[38;5;241;43m=\u001b[39;49m\u001b[38;5;28;43mself\u001b[39;49m\u001b[38;5;241;43m.\u001b[39;49m\u001b[43mmax_retries\u001b[49m\u001b[43m,\u001b[49m\n\u001b[0;32m    677\u001b[0m \u001b[43m        \u001b[49m\u001b[43mtimeout\u001b[49m\u001b[38;5;241;43m=\u001b[39;49m\u001b[43mtimeout\u001b[49m\u001b[43m,\u001b[49m\n\u001b[0;32m    678\u001b[0m \u001b[43m        \u001b[49m\u001b[43mchunked\u001b[49m\u001b[38;5;241;43m=\u001b[39;49m\u001b[43mchunked\u001b[49m\u001b[43m,\u001b[49m\n\u001b[0;32m    679\u001b[0m \u001b[43m    \u001b[49m\u001b[43m)\u001b[49m\n\u001b[0;32m    681\u001b[0m \u001b[38;5;28;01mexcept\u001b[39;00m (ProtocolError, \u001b[38;5;167;01mOSError\u001b[39;00m) \u001b[38;5;28;01mas\u001b[39;00m err:\n",
      "File \u001b[1;32mc:\\Users\\24648\\AppData\\Local\\Programs\\Python\\Python310\\lib\\site-packages\\urllib3\\connectionpool.py:841\u001b[0m, in \u001b[0;36mHTTPConnectionPool.urlopen\u001b[1;34m(self, method, url, body, headers, retries, redirect, assert_same_host, timeout, pool_timeout, release_conn, chunked, body_pos, preload_content, decode_content, **response_kw)\u001b[0m\n\u001b[0;32m    839\u001b[0m     new_e \u001b[38;5;241m=\u001b[39m ProtocolError(\u001b[38;5;124m\"\u001b[39m\u001b[38;5;124mConnection aborted.\u001b[39m\u001b[38;5;124m\"\u001b[39m, new_e)\n\u001b[1;32m--> 841\u001b[0m retries \u001b[38;5;241m=\u001b[39m \u001b[43mretries\u001b[49m\u001b[38;5;241;43m.\u001b[39;49m\u001b[43mincrement\u001b[49m\u001b[43m(\u001b[49m\n\u001b[0;32m    842\u001b[0m \u001b[43m    \u001b[49m\u001b[43mmethod\u001b[49m\u001b[43m,\u001b[49m\u001b[43m \u001b[49m\u001b[43murl\u001b[49m\u001b[43m,\u001b[49m\u001b[43m \u001b[49m\u001b[43merror\u001b[49m\u001b[38;5;241;43m=\u001b[39;49m\u001b[43mnew_e\u001b[49m\u001b[43m,\u001b[49m\u001b[43m \u001b[49m\u001b[43m_pool\u001b[49m\u001b[38;5;241;43m=\u001b[39;49m\u001b[38;5;28;43mself\u001b[39;49m\u001b[43m,\u001b[49m\u001b[43m \u001b[49m\u001b[43m_stacktrace\u001b[49m\u001b[38;5;241;43m=\u001b[39;49m\u001b[43msys\u001b[49m\u001b[38;5;241;43m.\u001b[39;49m\u001b[43mexc_info\u001b[49m\u001b[43m(\u001b[49m\u001b[43m)\u001b[49m\u001b[43m[\u001b[49m\u001b[38;5;241;43m2\u001b[39;49m\u001b[43m]\u001b[49m\n\u001b[0;32m    843\u001b[0m \u001b[43m\u001b[49m\u001b[43m)\u001b[49m\n\u001b[0;32m    844\u001b[0m retries\u001b[38;5;241m.\u001b[39msleep()\n",
      "File \u001b[1;32mc:\\Users\\24648\\AppData\\Local\\Programs\\Python\\Python310\\lib\\site-packages\\urllib3\\util\\retry.py:519\u001b[0m, in \u001b[0;36mRetry.increment\u001b[1;34m(self, method, url, response, error, _pool, _stacktrace)\u001b[0m\n\u001b[0;32m    518\u001b[0m     reason \u001b[38;5;241m=\u001b[39m error \u001b[38;5;129;01mor\u001b[39;00m ResponseError(cause)\n\u001b[1;32m--> 519\u001b[0m     \u001b[38;5;28;01mraise\u001b[39;00m MaxRetryError(_pool, url, reason) \u001b[38;5;28;01mfrom\u001b[39;00m\u001b[38;5;250m \u001b[39m\u001b[38;5;21;01mreason\u001b[39;00m  \u001b[38;5;66;03m# type: ignore[arg-type]\u001b[39;00m\n\u001b[0;32m    521\u001b[0m log\u001b[38;5;241m.\u001b[39mdebug(\u001b[38;5;124m\"\u001b[39m\u001b[38;5;124mIncremented Retry for (url=\u001b[39m\u001b[38;5;124m'\u001b[39m\u001b[38;5;132;01m%s\u001b[39;00m\u001b[38;5;124m'\u001b[39m\u001b[38;5;124m): \u001b[39m\u001b[38;5;132;01m%r\u001b[39;00m\u001b[38;5;124m\"\u001b[39m, url, new_retry)\n",
      "\u001b[1;31mMaxRetryError\u001b[0m: HTTPSConnectionPool(host='api.moonshot.cn', port=443): Max retries exceeded with url: /v1/chat/completions (Caused by ProxyError('Unable to connect to proxy', RemoteDisconnected('Remote end closed connection without response')))",
      "\nDuring handling of the above exception, another exception occurred:\n",
      "\u001b[1;31mProxyError\u001b[0m                                Traceback (most recent call last)",
      "Cell \u001b[1;32mIn[18], line 32\u001b[0m\n\u001b[0;32m     30\u001b[0m     \u001b[38;5;66;03m# 使用缓存内容并添加问题\u001b[39;00m\n\u001b[0;32m     31\u001b[0m     question \u001b[38;5;241m=\u001b[39m \u001b[38;5;124mf\u001b[39m\u001b[38;5;124m\"\u001b[39m\u001b[38;5;124m请回答关于文件内容的问题，其中[[CONTEXT]]代表的数据为\u001b[39m\u001b[38;5;132;01m{\u001b[39;00mcontext\u001b[38;5;132;01m}\u001b[39;00m\u001b[38;5;124m\"\u001b[39m\n\u001b[1;32m---> 32\u001b[0m     response \u001b[38;5;241m=\u001b[39m \u001b[43muse_cache_with_question\u001b[49m\u001b[43m(\u001b[49m\u001b[43mcache_id\u001b[49m\u001b[43m,\u001b[49m\u001b[43m \u001b[49m\u001b[43mquestion\u001b[49m\u001b[43m)\u001b[49m\n\u001b[0;32m     33\u001b[0m     judgement\u001b[38;5;241m.\u001b[39mappend({\n\u001b[0;32m     34\u001b[0m         \u001b[38;5;124m\"\u001b[39m\u001b[38;5;124mid\u001b[39m\u001b[38;5;124m\"\u001b[39m: idx,\n\u001b[0;32m     35\u001b[0m         \u001b[38;5;124m\"\u001b[39m\u001b[38;5;124mjudgement\u001b[39m\u001b[38;5;124m\"\u001b[39m: response\n\u001b[0;32m     36\u001b[0m     })\n\u001b[0;32m     38\u001b[0m \u001b[38;5;28;01mwith\u001b[39;00m \u001b[38;5;28mopen\u001b[39m(\u001b[38;5;124m'\u001b[39m\u001b[38;5;124mdata/法律/law_nl2logic_v2.json\u001b[39m\u001b[38;5;124m'\u001b[39m, \u001b[38;5;124m'\u001b[39m\u001b[38;5;124mw\u001b[39m\u001b[38;5;124m'\u001b[39m, encoding\u001b[38;5;241m=\u001b[39m\u001b[38;5;124m'\u001b[39m\u001b[38;5;124mutf-8\u001b[39m\u001b[38;5;124m'\u001b[39m) \u001b[38;5;28;01mas\u001b[39;00m f:\n",
      "Cell \u001b[1;32mIn[15], line 54\u001b[0m, in \u001b[0;36muse_cache_with_question\u001b[1;34m(cache_id, question)\u001b[0m\n\u001b[0;32m     40\u001b[0m \u001b[38;5;28;01mdef\u001b[39;00m\u001b[38;5;250m \u001b[39m\u001b[38;5;21muse_cache_with_question\u001b[39m(cache_id, question):\n\u001b[0;32m     41\u001b[0m     data \u001b[38;5;241m=\u001b[39m {\n\u001b[0;32m     42\u001b[0m         \u001b[38;5;124m\"\u001b[39m\u001b[38;5;124mmodel\u001b[39m\u001b[38;5;124m\"\u001b[39m: \u001b[38;5;124m\"\u001b[39m\u001b[38;5;124mmoonshot-v1-32k\u001b[39m\u001b[38;5;124m\"\u001b[39m,\n\u001b[0;32m     43\u001b[0m         \u001b[38;5;124m\"\u001b[39m\u001b[38;5;124mmessages\u001b[39m\u001b[38;5;124m\"\u001b[39m: [\n\u001b[1;32m   (...)\u001b[0m\n\u001b[0;32m     52\u001b[0m         ]\n\u001b[0;32m     53\u001b[0m     }\n\u001b[1;32m---> 54\u001b[0m     response \u001b[38;5;241m=\u001b[39m \u001b[43mrequests\u001b[49m\u001b[38;5;241;43m.\u001b[39;49m\u001b[43mpost\u001b[49m\u001b[43m(\u001b[49m\n\u001b[0;32m     55\u001b[0m \u001b[43m        \u001b[49m\u001b[43murl\u001b[49m\u001b[38;5;241;43m=\u001b[39;49m\u001b[38;5;124;43m\"\u001b[39;49m\u001b[38;5;124;43mhttps://api.moonshot.cn/v1/chat/completions\u001b[39;49m\u001b[38;5;124;43m\"\u001b[39;49m\u001b[43m,\u001b[49m\n\u001b[0;32m     56\u001b[0m \u001b[43m        \u001b[49m\u001b[43mheaders\u001b[49m\u001b[38;5;241;43m=\u001b[39;49m\u001b[43m{\u001b[49m\n\u001b[0;32m     57\u001b[0m \u001b[43m            \u001b[49m\u001b[38;5;124;43m\"\u001b[39;49m\u001b[38;5;124;43mAuthorization\u001b[39;49m\u001b[38;5;124;43m\"\u001b[39;49m\u001b[43m:\u001b[49m\u001b[43m \u001b[49m\u001b[38;5;124;43mf\u001b[39;49m\u001b[38;5;124;43m\"\u001b[39;49m\u001b[38;5;124;43mBearer \u001b[39;49m\u001b[38;5;132;43;01m{\u001b[39;49;00m\u001b[43mapi_key\u001b[49m\u001b[38;5;132;43;01m}\u001b[39;49;00m\u001b[38;5;124;43m\"\u001b[39;49m\u001b[43m,\u001b[49m\n\u001b[0;32m     58\u001b[0m \u001b[43m            \u001b[49m\u001b[38;5;124;43m\"\u001b[39;49m\u001b[38;5;124;43mContent-Type\u001b[39;49m\u001b[38;5;124;43m\"\u001b[39;49m\u001b[43m:\u001b[49m\u001b[43m \u001b[49m\u001b[38;5;124;43m\"\u001b[39;49m\u001b[38;5;124;43mapplication/json\u001b[39;49m\u001b[38;5;124;43m\"\u001b[39;49m\n\u001b[0;32m     59\u001b[0m \u001b[43m        \u001b[49m\u001b[43m}\u001b[49m\u001b[43m,\u001b[49m\n\u001b[0;32m     60\u001b[0m \u001b[43m        \u001b[49m\u001b[43mjson\u001b[49m\u001b[38;5;241;43m=\u001b[39;49m\u001b[43mdata\u001b[49m\n\u001b[0;32m     61\u001b[0m \u001b[43m    \u001b[49m\u001b[43m)\u001b[49m\n\u001b[0;32m     62\u001b[0m     \u001b[38;5;28;01mreturn\u001b[39;00m response\u001b[38;5;241m.\u001b[39mjson()[\u001b[38;5;124m'\u001b[39m\u001b[38;5;124mchoices\u001b[39m\u001b[38;5;124m'\u001b[39m][\u001b[38;5;241m0\u001b[39m][\u001b[38;5;124m'\u001b[39m\u001b[38;5;124mmessage\u001b[39m\u001b[38;5;124m'\u001b[39m][\u001b[38;5;124m'\u001b[39m\u001b[38;5;124mcontent\u001b[39m\u001b[38;5;124m'\u001b[39m]\n",
      "File \u001b[1;32mc:\\Users\\24648\\AppData\\Local\\Programs\\Python\\Python310\\lib\\site-packages\\requests\\api.py:115\u001b[0m, in \u001b[0;36mpost\u001b[1;34m(url, data, json, **kwargs)\u001b[0m\n\u001b[0;32m    103\u001b[0m \u001b[38;5;28;01mdef\u001b[39;00m\u001b[38;5;250m \u001b[39m\u001b[38;5;21mpost\u001b[39m(url, data\u001b[38;5;241m=\u001b[39m\u001b[38;5;28;01mNone\u001b[39;00m, json\u001b[38;5;241m=\u001b[39m\u001b[38;5;28;01mNone\u001b[39;00m, \u001b[38;5;241m*\u001b[39m\u001b[38;5;241m*\u001b[39mkwargs):\n\u001b[0;32m    104\u001b[0m \u001b[38;5;250m    \u001b[39m\u001b[38;5;124mr\u001b[39m\u001b[38;5;124;03m\"\"\"Sends a POST request.\u001b[39;00m\n\u001b[0;32m    105\u001b[0m \n\u001b[0;32m    106\u001b[0m \u001b[38;5;124;03m    :param url: URL for the new :class:`Request` object.\u001b[39;00m\n\u001b[1;32m   (...)\u001b[0m\n\u001b[0;32m    112\u001b[0m \u001b[38;5;124;03m    :rtype: requests.Response\u001b[39;00m\n\u001b[0;32m    113\u001b[0m \u001b[38;5;124;03m    \"\"\"\u001b[39;00m\n\u001b[1;32m--> 115\u001b[0m     \u001b[38;5;28;01mreturn\u001b[39;00m request(\u001b[38;5;124m\"\u001b[39m\u001b[38;5;124mpost\u001b[39m\u001b[38;5;124m\"\u001b[39m, url, data\u001b[38;5;241m=\u001b[39mdata, json\u001b[38;5;241m=\u001b[39mjson, \u001b[38;5;241m*\u001b[39m\u001b[38;5;241m*\u001b[39mkwargs)\n",
      "File \u001b[1;32mc:\\Users\\24648\\AppData\\Local\\Programs\\Python\\Python310\\lib\\site-packages\\requests\\api.py:59\u001b[0m, in \u001b[0;36mrequest\u001b[1;34m(method, url, **kwargs)\u001b[0m\n\u001b[0;32m     55\u001b[0m \u001b[38;5;66;03m# By using the 'with' statement we are sure the session is closed, thus we\u001b[39;00m\n\u001b[0;32m     56\u001b[0m \u001b[38;5;66;03m# avoid leaving sockets open which can trigger a ResourceWarning in some\u001b[39;00m\n\u001b[0;32m     57\u001b[0m \u001b[38;5;66;03m# cases, and look like a memory leak in others.\u001b[39;00m\n\u001b[0;32m     58\u001b[0m \u001b[38;5;28;01mwith\u001b[39;00m sessions\u001b[38;5;241m.\u001b[39mSession() \u001b[38;5;28;01mas\u001b[39;00m session:\n\u001b[1;32m---> 59\u001b[0m     \u001b[38;5;28;01mreturn\u001b[39;00m session\u001b[38;5;241m.\u001b[39mrequest(method\u001b[38;5;241m=\u001b[39mmethod, url\u001b[38;5;241m=\u001b[39murl, \u001b[38;5;241m*\u001b[39m\u001b[38;5;241m*\u001b[39mkwargs)\n",
      "File \u001b[1;32mc:\\Users\\24648\\AppData\\Local\\Programs\\Python\\Python310\\lib\\site-packages\\requests\\sessions.py:589\u001b[0m, in \u001b[0;36mSession.request\u001b[1;34m(self, method, url, params, data, headers, cookies, files, auth, timeout, allow_redirects, proxies, hooks, stream, verify, cert, json)\u001b[0m\n\u001b[0;32m    584\u001b[0m send_kwargs \u001b[38;5;241m=\u001b[39m {\n\u001b[0;32m    585\u001b[0m     \u001b[38;5;124m\"\u001b[39m\u001b[38;5;124mtimeout\u001b[39m\u001b[38;5;124m\"\u001b[39m: timeout,\n\u001b[0;32m    586\u001b[0m     \u001b[38;5;124m\"\u001b[39m\u001b[38;5;124mallow_redirects\u001b[39m\u001b[38;5;124m\"\u001b[39m: allow_redirects,\n\u001b[0;32m    587\u001b[0m }\n\u001b[0;32m    588\u001b[0m send_kwargs\u001b[38;5;241m.\u001b[39mupdate(settings)\n\u001b[1;32m--> 589\u001b[0m resp \u001b[38;5;241m=\u001b[39m \u001b[38;5;28mself\u001b[39m\u001b[38;5;241m.\u001b[39msend(prep, \u001b[38;5;241m*\u001b[39m\u001b[38;5;241m*\u001b[39msend_kwargs)\n\u001b[0;32m    591\u001b[0m \u001b[38;5;28;01mreturn\u001b[39;00m resp\n",
      "File \u001b[1;32mc:\\Users\\24648\\AppData\\Local\\Programs\\Python\\Python310\\lib\\site-packages\\requests\\sessions.py:703\u001b[0m, in \u001b[0;36mSession.send\u001b[1;34m(self, request, **kwargs)\u001b[0m\n\u001b[0;32m    700\u001b[0m start \u001b[38;5;241m=\u001b[39m preferred_clock()\n\u001b[0;32m    702\u001b[0m \u001b[38;5;66;03m# Send the request\u001b[39;00m\n\u001b[1;32m--> 703\u001b[0m r \u001b[38;5;241m=\u001b[39m adapter\u001b[38;5;241m.\u001b[39msend(request, \u001b[38;5;241m*\u001b[39m\u001b[38;5;241m*\u001b[39mkwargs)\n\u001b[0;32m    705\u001b[0m \u001b[38;5;66;03m# Total elapsed time of the request (approximately)\u001b[39;00m\n\u001b[0;32m    706\u001b[0m elapsed \u001b[38;5;241m=\u001b[39m preferred_clock() \u001b[38;5;241m-\u001b[39m start\n",
      "File \u001b[1;32mc:\\Users\\24648\\AppData\\Local\\Programs\\Python\\Python310\\lib\\site-packages\\requests\\adapters.py:694\u001b[0m, in \u001b[0;36mHTTPAdapter.send\u001b[1;34m(self, request, stream, timeout, verify, cert, proxies)\u001b[0m\n\u001b[0;32m    691\u001b[0m     \u001b[38;5;28;01mraise\u001b[39;00m RetryError(e, request\u001b[38;5;241m=\u001b[39mrequest)\n\u001b[0;32m    693\u001b[0m \u001b[38;5;28;01mif\u001b[39;00m \u001b[38;5;28misinstance\u001b[39m(e\u001b[38;5;241m.\u001b[39mreason, _ProxyError):\n\u001b[1;32m--> 694\u001b[0m     \u001b[38;5;28;01mraise\u001b[39;00m ProxyError(e, request\u001b[38;5;241m=\u001b[39mrequest)\n\u001b[0;32m    696\u001b[0m \u001b[38;5;28;01mif\u001b[39;00m \u001b[38;5;28misinstance\u001b[39m(e\u001b[38;5;241m.\u001b[39mreason, _SSLError):\n\u001b[0;32m    697\u001b[0m     \u001b[38;5;66;03m# This branch is for urllib3 v1.22 and later.\u001b[39;00m\n\u001b[0;32m    698\u001b[0m     \u001b[38;5;28;01mraise\u001b[39;00m SSLError(e, request\u001b[38;5;241m=\u001b[39mrequest)\n",
      "\u001b[1;31mProxyError\u001b[0m: HTTPSConnectionPool(host='api.moonshot.cn', port=443): Max retries exceeded with url: /v1/chat/completions (Caused by ProxyError('Unable to connect to proxy', RemoteDisconnected('Remote end closed connection without response')))"
     ]
    }
   ],
   "source": [
    "# 主流程\n",
    "file_path = 'prompts/DataFountain/translation.txt'\n",
    "file_content = load_file_content(file_path)\n",
    "print(f\"File{file_path} success read\")\n",
    "cache_id = create_cache(file_content)\n",
    "print(f\"cache id:{cache_id}\")\n",
    "print(\"cache cuccess\")\n",
    "\n",
    "# # 模拟缓存过期\n",
    "# time.sleep(3600)\n",
    "\n",
    "# 检查缓存是否存在且未过期\n",
    "if not check_cache(cache_id):\n",
    "    print(\"检查不到缓存\")\n",
    "    # 重新加载数据并更新缓存\n",
    "    if reload_and_update_cache(file_path, cache_id):\n",
    "        print(\"缓存更新成功\")\n",
    "    else:\n",
    "        print(\"缓存更新失败\")\n",
    "\n",
    "print(\"缓存已存在\")\n",
    "\n",
    "with open('data/法律/DISC-json.json', 'r', encoding='utf-8') as file:\n",
    "    answer = json.load(file)\n",
    "\n",
    "judgement = []\n",
    "for idx, value in tqdm(enumerate(answer[:1000]), total=len(answer), desc=\"Processing\"):\n",
    "    context = answer[idx][\"reference\"]\n",
    "\n",
    "    # 使用缓存内容并添加问题\n",
    "    question = f\"请回答关于文件内容的问题，其中[[CONTEXT]]代表的数据为{context}\"\n",
    "    response = use_cache_with_question(cache_id, question)\n",
    "    judgement.append({\n",
    "        \"id\": idx,\n",
    "        \"judgement\": response\n",
    "    })\n",
    "\n",
    "with open('data/法律/law_nl2logic_v2.json', 'w', encoding='utf-8') as f:\n",
    "    json.dump(judgement, f, indent=4, ensure_ascii=False)"
   ]
  },
  {
   "cell_type": "code",
   "execution_count": null,
   "id": "296fc8ef",
   "metadata": {},
   "outputs": [],
   "source": []
  }
 ],
 "metadata": {
  "kernelspec": {
   "display_name": "Python 3",
   "language": "python",
   "name": "python3"
  },
  "language_info": {
   "codemirror_mode": {
    "name": "ipython",
    "version": 3
   },
   "file_extension": ".py",
   "mimetype": "text/x-python",
   "name": "python",
   "nbconvert_exporter": "python",
   "pygments_lexer": "ipython3",
   "version": "3.10.11"
  }
 },
 "nbformat": 4,
 "nbformat_minor": 5
}
