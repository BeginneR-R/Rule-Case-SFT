{
 "cells": [
  {
   "cell_type": "markdown",
   "id": "01e943ec",
   "metadata": {},
   "source": [
    "## 将原始数据集自然语言的形式转化为逻辑表达式"
   ]
  },
  {
   "cell_type": "code",
   "execution_count": 6,
   "id": "ef0ee450-10b8-47a6-9b2c-5e98b8435e03",
   "metadata": {
    "execution": {
     "iopub.execute_input": "2024-12-13T06:57:18.167856Z",
     "iopub.status.busy": "2024-12-13T06:57:18.167196Z",
     "iopub.status.idle": "2024-12-13T06:57:18.175754Z",
     "shell.execute_reply": "2024-12-13T06:57:18.174574Z",
     "shell.execute_reply.started": "2024-12-13T06:57:18.167804Z"
    }
   },
   "outputs": [],
   "source": [
    "from typing import List\n",
    "from typing import Optional\n",
    "from typing import Dict\n",
    "\n",
    "import os\n",
    "import json\n",
    "from pathlib import Path\n",
    "\n",
    "import httpx\n",
    "from openai import OpenAI\n",
    "\n",
    "import requests\n",
    "from tqdm import tqdm\n",
    "import re"
   ]
  },
  {
   "cell_type": "markdown",
   "id": "13defd65-b8ea-4464-abc7-59d5fd9f28e7",
   "metadata": {},
   "source": [
    "## 单条prompt测试"
   ]
  },
  {
   "cell_type": "code",
   "execution_count": 2,
   "id": "0ddf9411-022a-40c0-b9d6-70ac36aff436",
   "metadata": {
    "execution": {
     "iopub.execute_input": "2024-12-13T06:56:48.244691Z",
     "iopub.status.busy": "2024-12-13T06:56:48.243855Z",
     "iopub.status.idle": "2024-12-13T06:56:49.235837Z",
     "shell.execute_reply": "2024-12-13T06:56:49.234422Z",
     "shell.execute_reply.started": "2024-12-13T06:56:48.244627Z"
    }
   },
   "outputs": [
    {
     "name": "stdout",
     "output_type": "stream",
     "text": [
      "200\n",
      "{\"id\":\"ctdtlc3ul9lnv03m42dg\",\"object\":\"file\",\"bytes\":3351,\"created_at\":1734073008,\"filename\":\"translation.txt\",\"purpose\":\"file-extract\",\"status\":\"ok\",\"status_details\":\"\"}\n"
     ]
    }
   ],
   "source": [
    "# 文件路径\n",
    "file_path = \"prompts/DataFountain/translation.txt\"\n",
    "\n",
    "# 请求的 URL\n",
    "url = \"https://api.moonshot.cn/v1/files\"\n",
    "\n",
    "headers = {\n",
    "    'Authorization': 'sk-gNToXJPO4Ih8NDZnDloSXR780dQDEZ2Epu49wcVA1sWb4Ecw'\n",
    "}\n",
    "\n",
    "# 准备文件数据\n",
    "files = {'file': open(file_path, 'rb')}\n",
    "\n",
    "# 发起 POST 请求\n",
    "response = requests.post(url, headers=headers, files=files)\n",
    "\n",
    "# 打印响应内容\n",
    "print(response.status_code)\n",
    "print(response.text)"
   ]
  },
  {
   "cell_type": "code",
   "execution_count": 3,
   "id": "7565d2b2-c1b9-4c98-b007-98a443f07ff3",
   "metadata": {
    "execution": {
     "iopub.execute_input": "2024-12-13T06:56:50.969942Z",
     "iopub.status.busy": "2024-12-13T06:56:50.969109Z",
     "iopub.status.idle": "2024-12-13T06:56:51.612448Z",
     "shell.execute_reply": "2024-12-13T06:56:51.611307Z",
     "shell.execute_reply.started": "2024-12-13T06:56:50.969877Z"
    },
    "scrolled": true
   },
   "outputs": [],
   "source": [
    "client = OpenAI(\n",
    "    api_key=\"sk-gNToXJPO4Ih8NDZnDloSXR780dQDEZ2Epu49wcVA1sWb4Ecw\",\n",
    "    base_url=\"https://api.moonshot.cn/v1\",\n",
    ")\n",
    "\n",
    "file_object = client.files.create(file=Path(\"prompts/DataFountain/translation.txt\"), purpose=\"file-extract\")\n",
    "file_content = client.files.content(file_id=file_object.id).text"
   ]
  },
  {
   "cell_type": "code",
   "execution_count": 4,
   "id": "00645b83-4b85-4afb-996e-a4a4d3bc84c2",
   "metadata": {
    "execution": {
     "iopub.execute_input": "2024-11-22T08:12:42.213150Z",
     "iopub.status.busy": "2024-11-22T08:12:42.212329Z",
     "iopub.status.idle": "2024-11-22T08:12:42.220138Z",
     "shell.execute_reply": "2024-11-22T08:12:42.219015Z",
     "shell.execute_reply.started": "2024-11-22T08:12:42.213091Z"
    }
   },
   "outputs": [
    {
     "name": "stdout",
     "output_type": "stream",
     "text": [
      "{\"content\":\"任务描述：你将被给予一个规则的描述。你的任务是将规则解析为一阶逻辑公式，并输出为可解析的 JSON 格式。\\n一阶逻辑公式的语法定义如下：\\n1） 确定规则中涉及的所有谓词。\\n2） 定义每个谓词的含义和参数。\\n3） 根据规则的逻辑结构，使用一阶逻辑的连接词（如∧、∨、⊕、¬、→、↔等）和量词（如∀、∃等）构建逻辑表达式。\\n------\\n下面是一个例子：\\n规则：\\n安全生产协调司的职责：根据安全监管总局领导指示和有关规定，组织协调安全监察专员赶赴事故现场参与事故应急救援和事故调查处理工作。\\n###\\n{\\n    \\\"rule\\\": \\\"安全生产协调司的职责：根据安全监管总局领导指示和有关规定，组织协调安全监察专员赶赴事故现场参与事故应急救援和事故调查处理工作。\\\",\\n    \\\"predicates\\\":\\n    [\\n        \\\"指示：Instruction(Leader, Regulation) ::: 表示领导发出的指示和相关规定。\\\",\\n        \\\"参与：Participate(Inspector, Scene, Task) ::: 表示安全监察专员在事故现场参与某项任务。\\\",\\n        \\\"赶赴：GoTo(Inspector, Scene) ::: 表示安全监察专员赶赴事故现场。\\\",\\n        \\\"事故：Accident(Scene) ::: 表示发生在某个场景的事故。\\\"\\n    ],\\n    \\\"logicexpression\\\":\\n    [\\n        \\\"∀s ∀i ∀r (Accident(s) ∧ Instruction(Leader, r) → (GoTo(i, s) ∧ Participate(i, s, EmergencyRescue) ∧ Participate(i, s, Investigation)))\\\"\\n    ]\\n}\\n------\\n下面是一个例子：\\n规则：\\n交通运输应急保障：安全监管总局建立全国主要危险化学品从业单位的交通地理信息系统。在应急响应时，利用现有的交通资源，协调铁道、民航、军队等系统提供交通支持，协调沿途有关地方人民政府提供交通警戒支持，以保证及时调运危险化学品事故灾难应急救援有关人员、装备、物资。事故发生地省级人民政府组织对事故现场进行交通管制，开设应急救援特别通道，最大限度地赢得救援时间。地方人民政府组织和调集足够的交通运输工具，保证现场应急救援工作需要。\\n###\\n{\\n    \\\"rule\\\": \\\"善后处置的获救人员的处置：当地政府民政部门或获救人员所在单位负责获救人员的安置；港澳台或外籍人员，由当地政府港澳台办或外事办负责安置；外籍人员由公安部门或外交部门负责遣返。\\\",\\n    \\\"predicates\\\":\\n    [\\n        \\\"负责安置：ResponsibleForSettlement(Department, Person) 表示某个部门负责某个获救人员的安置。\\\",\\n        \\\"港澳台或外籍人员：PersonType(Person, Type) 表示某个人员是港澳台或外籍人员。\\\",\\n        \\\"遣返：Deport(Person, Department) 表示某个部门负责遣返某个外籍人员。\\\"\\n    ],\\n    \\\"logicexpression\\\":\\n    [\\n        \\\"∀p (获救人员(p) → (¬港澳台或外籍人员(p) → ResponsibleForSettlement(民政部门, p) ∨ ResponsibleForSettlement(所在单位, p)))\\\",\\n        \\\"∀p (港澳台或外籍人员(p, 港澳台) → ResponsibleForSettlement(港澳台办, p) ∨ ResponsibleForSettlement(外事办, p))\\\",\\n        \\\"∀p (港澳台或外籍人员(p, 外籍) → Deport(p, 公安部门) ∨ Deport(p, 外交部门))\\\"\\n    ]\\n}\\n------\\n下面就是你需要翻译的：\\n规则：\\n[[RULES]]\\n###\",\"file_type\":\"text/plain\",\"filename\":\"translation.txt\",\"title\":\"\",\"type\":\"file\"}\n"
     ]
    }
   ],
   "source": [
    "print(file_content)"
   ]
  },
  {
   "cell_type": "code",
   "execution_count": 7,
   "id": "c4683d8d-e5c8-4d2c-9f78-1f4d4f4ff4f0",
   "metadata": {
    "execution": {
     "iopub.execute_input": "2024-12-04T09:55:28.058688Z",
     "iopub.status.busy": "2024-12-04T09:55:28.058275Z",
     "iopub.status.idle": "2024-12-04T09:55:28.065500Z",
     "shell.execute_reply": "2024-12-04T09:55:28.064642Z",
     "shell.execute_reply.started": "2024-12-04T09:55:28.058665Z"
    },
    "scrolled": true
   },
   "outputs": [],
   "source": [
    "import re\n",
    "\n",
    "with open('data/DF/rules1.json', 'r', encoding='utf-8') as file:\n",
    "    data = json.load(file)"
   ]
  },
  {
   "cell_type": "code",
   "execution_count": 5,
   "id": "db3436e9-efab-4bfd-8060-7d10cf44aefd",
   "metadata": {
    "execution": {
     "iopub.execute_input": "2024-12-02T11:43:27.996150Z",
     "iopub.status.busy": "2024-12-02T11:43:27.995304Z",
     "iopub.status.idle": "2024-12-02T11:43:28.002991Z",
     "shell.execute_reply": "2024-12-02T11:43:28.001799Z",
     "shell.execute_reply.started": "2024-12-02T11:43:27.996086Z"
    },
    "scrolled": true
   },
   "outputs": [
    {
     "name": "stdout",
     "output_type": "stream",
     "text": [
      "{'rule_id': '1', 'rule_text': '危险化学品事故是指危险化学品生产、经营、储存、运输、使用和废弃危险化学品处置等过程中由危险化学品造成人员伤害、财产损失和环境污染的事故（矿山开采过程中发生的有毒、有害气体中毒、爆炸事故、放炮事故除外）。'}\n"
     ]
    }
   ],
   "source": [
    "print(data[0])"
   ]
  },
  {
   "cell_type": "code",
   "execution_count": 6,
   "id": "60380bbd-992c-4599-916b-f62237b399f9",
   "metadata": {
    "execution": {
     "iopub.execute_input": "2024-12-02T11:43:31.009475Z",
     "iopub.status.busy": "2024-12-02T11:43:31.008711Z",
     "iopub.status.idle": "2024-12-02T11:43:31.014902Z",
     "shell.execute_reply": "2024-12-02T11:43:31.013993Z",
     "shell.execute_reply.started": "2024-12-02T11:43:31.009421Z"
    }
   },
   "outputs": [],
   "source": [
    "answers = []"
   ]
  },
  {
   "cell_type": "code",
   "execution_count": 4,
   "id": "cc38ab0d-86b4-4b1d-9b9e-34aca79846ba",
   "metadata": {
    "execution": {
     "iopub.execute_input": "2024-12-13T06:56:56.957156Z",
     "iopub.status.busy": "2024-12-13T06:56:56.955886Z",
     "iopub.status.idle": "2024-12-13T06:56:56.965671Z",
     "shell.execute_reply": "2024-12-13T06:56:56.964658Z",
     "shell.execute_reply.started": "2024-12-13T06:56:56.957093Z"
    }
   },
   "outputs": [],
   "source": [
    "import time\n",
    "\n",
    "\n",
    "# def call_api_with_rate_limit_handling(client, messages, model=\"moonshot-v1-32k\", max_retries=5):\n",
    "#     retries = 0\n",
    "#     while retries < max_retries:\n",
    "#         try:\n",
    "#             completion = client.chat.completions.create(\n",
    "#                 model=model,\n",
    "#                 messages=messages,\n",
    "#                 temperature=0,\n",
    "#             )\n",
    "#             return completion\n",
    "#         except requests.exceptions.HTTPError as e:\n",
    "#             print(e.response.status_code)\n",
    "#             if e.response.status_code == 429:\n",
    "#                 print('429')\n",
    "#                 error_data = e.response.json()\n",
    "#                 if error_data.get('error', {}).get('type') == 'rate_limit_reached_error':\n",
    "#                     print(f\"Rate limit reached. Retrying in {error_data.get('error', {}).get('message', '1')} seconds...\")\n",
    "#                     time.sleep(int(error_data.get('error', {}).get('message').split(' ')[-2]) + 1)\n",
    "#                     retries += 1\n",
    "#                 else:\n",
    "#                     raise  # Re-raise the exception if it's not a rate limit error\n",
    "#             else:\n",
    "#                 raise  # Re-raise the exception if it's not a 429 error\n",
    "#     raise Exception(\"Max retries reached. API call failed.\")\n",
    "\n",
    "def call_api_with_rate_limit_handling(client, messages, model=\"moonshot-v1-32k\", max_retries=5):\n",
    "    retries = 0\n",
    "    while retries < max_retries:\n",
    "        try:\n",
    "            completion = client.chat.completions.create(\n",
    "                model=model,\n",
    "                messages=messages,\n",
    "                temperature=0,\n",
    "            )\n",
    "            return completion\n",
    "        except Exception as e:\n",
    "            if '429' in str(e):  # 检查异常消息中是否包含429\n",
    "                print(\"Rate limit reached. Retrying in 1 second...\")\n",
    "                time.sleep(1)  # 等待1秒钟\n",
    "                retries += 1\n",
    "            else:\n",
    "                raise  # Re-raise the exception if it's not a 429 error\n",
    "    raise Exception(\"Max retries reached. API call failed.\")"
   ]
  },
  {
   "cell_type": "code",
   "execution_count": 7,
   "id": "b50adec2-27e2-4476-9402-69003c4d86c8",
   "metadata": {
    "execution": {
     "iopub.execute_input": "2024-12-13T06:57:22.831953Z",
     "iopub.status.busy": "2024-12-13T06:57:22.831179Z",
     "iopub.status.idle": "2024-12-13T06:58:33.808012Z",
     "shell.execute_reply": "2024-12-13T06:58:33.807091Z",
     "shell.execute_reply.started": "2024-12-13T06:57:22.831897Z"
    }
   },
   "outputs": [
    {
     "name": "stdout",
     "output_type": "stream",
     "text": [
      "根据您提供的规则描述，我们可以将其解析为一阶逻辑公式，并输出为可解析的 JSON 格式。以下是解析结果：\n",
      "\n",
      "```json\n",
      "{\n",
      "    \"rule\": \"上尿路结石包括肾结石和输尿管结石。肾结石分为肾集合管结石、肾盏(肾盏憩室)结石、肾盂结石、鹿角形结石。输尿管结石可分为输尿管上段结石、中段结石及下段结石。\",\n",
      "    \"predicates\": [\n",
      "        \"上尿路结石：UreteralStone(X) ::: 表示X是上尿路结石。\",\n",
      "        \"肾结石：KidneyStone(X) ::: 表示X是肾结石。\",\n",
      "        \"输尿管结石：UreteralStone(X) ::: 表示X是输尿管结石。\",\n",
      "        \"肾集合管结石：PelvicCalicesStone(X) ::: 表示X是肾集合管结石。\",\n",
      "        \"肾盏结石：CalicealStone(X) ::: 表示X是肾盏结石。\",\n",
      "        \"肾盂结石：RenalPelvisStone(X) ::: 表示X是肾盂结石。\",\n",
      "        \"鹿角形结石：StaghornStone(X) ::: 表示X是鹿角形结石。\",\n",
      "        \"输尿管上段结石：UpperUreteralStone(X) ::: 表示X是输尿管上段结石。\",\n",
      "        \"输尿管中段结石：MiddleUreteralStone(X) ::: 表示X是输尿管中段结石。\",\n",
      "        \"输尿管下段结石：LowerUreteralStone(X) ::: 表示X是输尿管下段结石。\"\n",
      "    ],\n",
      "    \"logicexpression\": [\n",
      "        \"∀X (UreteralStone(X) → (KidneyStone(X) ∨ UreteralStone(X)))\",\n",
      "        \"∀X (KidneyStone(X) → (PelvicCalicesStone(X) ∨ CalicealStone(X) ∨ RenalPelvisStone(X) ∨ StaghornStone(X)))\",\n",
      "        \"∀X (UreteralStone(X) → (UpperUreteralStone(X) ∨ MiddleUreteralStone(X) ∨ LowerUreteralStone(X)))\"\n",
      "    ]\n",
      "}\n",
      "```\n",
      "\n",
      "在这个 JSON 结构中，我们定义了以下谓词：\n",
      "\n",
      "1. `UreteralStone(X)`：表示X是上尿路结石。\n",
      "2. `KidneyStone(X)`：表示X是肾结石。\n",
      "3. `UreteralStone(X)`：表示X是输尿管结石。\n",
      "4. `PelvicCalicesStone(X)`：表示X是肾集合管结石。\n",
      "5. `CalicealStone(X)`：表示X是肾盏结石。\n",
      "6. `RenalPelvisStone(X)`：表示X是肾盂结石。\n",
      "7. `StaghornStone(X)`：表示X是鹿角形结石。\n",
      "8. `UpperUreteralStone(X)`：表示X是输尿管上段结石。\n",
      "9. `MiddleUreteralStone(X)`：表示X是输尿管中段结石。\n",
      "10. `LowerUreteralStone(X)`：表示X是输尿管下段结石。\n",
      "\n",
      "逻辑表达式描述了上尿路结石、肾结石和输尿管结石之间的关系，以及肾结石和输尿管结石的分类。\n"
     ]
    }
   ],
   "source": [
    "# 替换内容\n",
    "replacement = \"上尿路结石包括肾结石和输尿管结石。肾结石分为肾集合管结石、肾盏(肾盏憩室)结石、肾盂结石、鹿角形结石。输尿管结石可分为输尿管上段结石、中段结石及下段结石。\"\n",
    "\n",
    "# 使用正则表达式替换 [[RULES]]\n",
    "content = re.sub(r'\\[\\[RULES\\]\\]', replacement, file_content)\n",
    "\n",
    "messages = [\n",
    "    {\n",
    "        \"role\": \"system\",\n",
    "        \"content\": \"你是 Kimi，由 Moonshot AI 提供的人工智能助手，你更擅长中文和英文的对话。你会为用户提供安全，有帮助，准确的回答。同时，你会拒绝一切涉及恐怖主义，种族歧视，黄色暴力等问题的回答。Moonshot AI 为专有名词，不可翻译成其他语言。\"\n",
    "    },\n",
    "    {\n",
    "        \"role\": \"system\",\n",
    "        \"content\": content,\n",
    "    },\n",
    "    {\n",
    "        \"role\": \"user\",\n",
    "        \"content\": \"你好，请根据txt内容生成回答。\"\n",
    "    }\n",
    "]\n",
    "\n",
    "completion = call_api_with_rate_limit_handling(client, messages, \"moonshot-v1-32k\", 5)\n",
    "\n",
    "print(completion.choices[0].message.content)"
   ]
  },
  {
   "cell_type": "code",
   "execution_count": 13,
   "id": "5466cb3d-6473-47be-b3ac-8057f8a0ba4d",
   "metadata": {
    "execution": {
     "iopub.execute_input": "2024-12-03T05:11:28.954972Z",
     "iopub.status.busy": "2024-12-03T05:11:28.954159Z",
     "iopub.status.idle": "2024-12-03T10:32:45.091943Z",
     "shell.execute_reply": "2024-12-03T10:32:45.090597Z",
     "shell.execute_reply.started": "2024-12-03T05:11:28.954919Z"
    },
    "scrolled": true
   },
   "outputs": [
    {
     "name": "stderr",
     "output_type": "stream",
     "text": [
      "rule转化逻辑表达式进度:   0%|          | 1/618 [00:23<4:01:50, 23.52s/it]"
     ]
    },
    {
     "name": "stdout",
     "output_type": "stream",
     "text": [
      "183\n"
     ]
    },
    {
     "name": "stderr",
     "output_type": "stream",
     "text": [
      "rule转化逻辑表达式进度:   0%|          | 2/618 [00:46<3:59:04, 23.29s/it]"
     ]
    },
    {
     "name": "stdout",
     "output_type": "stream",
     "text": [
      "184\n"
     ]
    },
    {
     "name": "stderr",
     "output_type": "stream",
     "text": [
      "rule转化逻辑表达式进度:   0%|          | 3/618 [01:15<4:26:09, 25.97s/it]"
     ]
    },
    {
     "name": "stdout",
     "output_type": "stream",
     "text": [
      "185\n"
     ]
    },
    {
     "name": "stderr",
     "output_type": "stream",
     "text": [
      "rule转化逻辑表达式进度:   1%|          | 4/618 [01:59<5:37:51, 33.02s/it]"
     ]
    },
    {
     "name": "stdout",
     "output_type": "stream",
     "text": [
      "186\n"
     ]
    },
    {
     "name": "stderr",
     "output_type": "stream",
     "text": [
      "rule转化逻辑表达式进度:   1%|          | 5/618 [02:39<6:01:10, 35.35s/it]"
     ]
    },
    {
     "name": "stdout",
     "output_type": "stream",
     "text": [
      "187\n"
     ]
    },
    {
     "name": "stderr",
     "output_type": "stream",
     "text": [
      "rule转化逻辑表达式进度:   1%|          | 6/618 [03:18<6:12:56, 36.56s/it]"
     ]
    },
    {
     "name": "stdout",
     "output_type": "stream",
     "text": [
      "188\n"
     ]
    },
    {
     "name": "stderr",
     "output_type": "stream",
     "text": [
      "rule转化逻辑表达式进度:   1%|          | 7/618 [03:33<5:01:45, 29.63s/it]"
     ]
    },
    {
     "name": "stdout",
     "output_type": "stream",
     "text": [
      "189\n"
     ]
    },
    {
     "name": "stderr",
     "output_type": "stream",
     "text": [
      "rule转化逻辑表达式进度:   1%|▏         | 8/618 [03:54<4:33:51, 26.94s/it]"
     ]
    },
    {
     "name": "stdout",
     "output_type": "stream",
     "text": [
      "190\n"
     ]
    },
    {
     "name": "stderr",
     "output_type": "stream",
     "text": [
      "rule转化逻辑表达式进度:   1%|▏         | 9/618 [04:16<4:17:38, 25.38s/it]"
     ]
    },
    {
     "name": "stdout",
     "output_type": "stream",
     "text": [
      "191\n"
     ]
    },
    {
     "name": "stderr",
     "output_type": "stream",
     "text": [
      "rule转化逻辑表达式进度:   2%|▏         | 10/618 [04:37<4:01:56, 23.88s/it]"
     ]
    },
    {
     "name": "stdout",
     "output_type": "stream",
     "text": [
      "192\n"
     ]
    },
    {
     "name": "stderr",
     "output_type": "stream",
     "text": [
      "rule转化逻辑表达式进度:   2%|▏         | 11/618 [05:15<4:47:27, 28.42s/it]"
     ]
    },
    {
     "name": "stdout",
     "output_type": "stream",
     "text": [
      "193\n"
     ]
    },
    {
     "name": "stderr",
     "output_type": "stream",
     "text": [
      "rule转化逻辑表达式进度:   2%|▏         | 12/618 [05:38<4:29:40, 26.70s/it]"
     ]
    },
    {
     "name": "stdout",
     "output_type": "stream",
     "text": [
      "194\n"
     ]
    },
    {
     "name": "stderr",
     "output_type": "stream",
     "text": [
      "rule转化逻辑表达式进度:   2%|▏         | 13/618 [06:07<4:37:28, 27.52s/it]"
     ]
    },
    {
     "name": "stdout",
     "output_type": "stream",
     "text": [
      "195\n"
     ]
    },
    {
     "name": "stderr",
     "output_type": "stream",
     "text": [
      "rule转化逻辑表达式进度:   2%|▏         | 14/618 [06:28<4:17:01, 25.53s/it]"
     ]
    },
    {
     "name": "stdout",
     "output_type": "stream",
     "text": [
      "196\n"
     ]
    },
    {
     "name": "stderr",
     "output_type": "stream",
     "text": [
      "rule转化逻辑表达式进度:   2%|▏         | 15/618 [06:49<4:00:25, 23.92s/it]"
     ]
    },
    {
     "name": "stdout",
     "output_type": "stream",
     "text": [
      "197\n"
     ]
    },
    {
     "name": "stderr",
     "output_type": "stream",
     "text": [
      "rule转化逻辑表达式进度:   3%|▎         | 16/618 [07:11<3:55:38, 23.49s/it]"
     ]
    },
    {
     "name": "stdout",
     "output_type": "stream",
     "text": [
      "198\n"
     ]
    },
    {
     "name": "stderr",
     "output_type": "stream",
     "text": [
      "rule转化逻辑表达式进度:   3%|▎         | 17/618 [07:46<4:29:20, 26.89s/it]"
     ]
    },
    {
     "name": "stdout",
     "output_type": "stream",
     "text": [
      "199\n"
     ]
    },
    {
     "name": "stderr",
     "output_type": "stream",
     "text": [
      "rule转化逻辑表达式进度:   3%|▎         | 18/618 [08:19<4:47:38, 28.76s/it]"
     ]
    },
    {
     "name": "stdout",
     "output_type": "stream",
     "text": [
      "200\n"
     ]
    },
    {
     "name": "stderr",
     "output_type": "stream",
     "text": [
      "rule转化逻辑表达式进度:   3%|▎         | 19/618 [08:45<4:39:09, 27.96s/it]"
     ]
    },
    {
     "name": "stdout",
     "output_type": "stream",
     "text": [
      "201\n"
     ]
    },
    {
     "name": "stderr",
     "output_type": "stream",
     "text": [
      "rule转化逻辑表达式进度:   3%|▎         | 20/618 [09:22<5:05:15, 30.63s/it]"
     ]
    },
    {
     "name": "stdout",
     "output_type": "stream",
     "text": [
      "202\n"
     ]
    },
    {
     "name": "stderr",
     "output_type": "stream",
     "text": [
      "rule转化逻辑表达式进度:   3%|▎         | 21/618 [09:51<5:00:19, 30.18s/it]"
     ]
    },
    {
     "name": "stdout",
     "output_type": "stream",
     "text": [
      "203\n"
     ]
    },
    {
     "name": "stderr",
     "output_type": "stream",
     "text": [
      "rule转化逻辑表达式进度:   4%|▎         | 22/618 [10:26<5:12:59, 31.51s/it]"
     ]
    },
    {
     "name": "stdout",
     "output_type": "stream",
     "text": [
      "204\n"
     ]
    },
    {
     "name": "stderr",
     "output_type": "stream",
     "text": [
      "rule转化逻辑表达式进度:   4%|▎         | 23/618 [11:12<5:55:39, 35.86s/it]"
     ]
    },
    {
     "name": "stdout",
     "output_type": "stream",
     "text": [
      "205\n"
     ]
    },
    {
     "name": "stderr",
     "output_type": "stream",
     "text": [
      "rule转化逻辑表达式进度:   4%|▍         | 24/618 [11:43<5:40:20, 34.38s/it]"
     ]
    },
    {
     "name": "stdout",
     "output_type": "stream",
     "text": [
      "206\n"
     ]
    },
    {
     "name": "stderr",
     "output_type": "stream",
     "text": [
      "rule转化逻辑表达式进度:   4%|▍         | 25/618 [12:11<5:22:05, 32.59s/it]"
     ]
    },
    {
     "name": "stdout",
     "output_type": "stream",
     "text": [
      "207\n"
     ]
    },
    {
     "name": "stderr",
     "output_type": "stream",
     "text": [
      "rule转化逻辑表达式进度:   4%|▍         | 26/618 [12:43<5:20:40, 32.50s/it]"
     ]
    },
    {
     "name": "stdout",
     "output_type": "stream",
     "text": [
      "208\n"
     ]
    },
    {
     "name": "stderr",
     "output_type": "stream",
     "text": [
      "rule转化逻辑表达式进度:   4%|▍         | 27/618 [13:05<4:48:54, 29.33s/it]"
     ]
    },
    {
     "name": "stdout",
     "output_type": "stream",
     "text": [
      "209\n"
     ]
    },
    {
     "name": "stderr",
     "output_type": "stream",
     "text": [
      "rule转化逻辑表达式进度:   5%|▍         | 28/618 [13:48<5:28:00, 33.36s/it]"
     ]
    },
    {
     "name": "stdout",
     "output_type": "stream",
     "text": [
      "210\n"
     ]
    },
    {
     "name": "stderr",
     "output_type": "stream",
     "text": [
      "rule转化逻辑表达式进度:   5%|▍         | 29/618 [14:18<5:18:23, 32.43s/it]"
     ]
    },
    {
     "name": "stdout",
     "output_type": "stream",
     "text": [
      "211\n"
     ]
    },
    {
     "name": "stderr",
     "output_type": "stream",
     "text": [
      "rule转化逻辑表达式进度:   5%|▍         | 30/618 [14:53<5:24:54, 33.15s/it]"
     ]
    },
    {
     "name": "stdout",
     "output_type": "stream",
     "text": [
      "212\n"
     ]
    },
    {
     "name": "stderr",
     "output_type": "stream",
     "text": [
      "rule转化逻辑表达式进度:   5%|▌         | 31/618 [15:16<4:53:18, 29.98s/it]"
     ]
    },
    {
     "name": "stdout",
     "output_type": "stream",
     "text": [
      "213\n"
     ]
    },
    {
     "name": "stderr",
     "output_type": "stream",
     "text": [
      "rule转化逻辑表达式进度:   5%|▌         | 32/618 [15:37<4:28:51, 27.53s/it]"
     ]
    },
    {
     "name": "stdout",
     "output_type": "stream",
     "text": [
      "214\n"
     ]
    },
    {
     "name": "stderr",
     "output_type": "stream",
     "text": [
      "rule转化逻辑表达式进度:   5%|▌         | 33/618 [16:24<5:23:52, 33.22s/it]"
     ]
    },
    {
     "name": "stdout",
     "output_type": "stream",
     "text": [
      "215\n"
     ]
    },
    {
     "name": "stderr",
     "output_type": "stream",
     "text": [
      "rule转化逻辑表达式进度:   6%|▌         | 34/618 [16:53<5:10:11, 31.87s/it]"
     ]
    },
    {
     "name": "stdout",
     "output_type": "stream",
     "text": [
      "216\n"
     ]
    },
    {
     "name": "stderr",
     "output_type": "stream",
     "text": [
      "rule转化逻辑表达式进度:   6%|▌         | 35/618 [17:27<5:18:03, 32.73s/it]"
     ]
    },
    {
     "name": "stdout",
     "output_type": "stream",
     "text": [
      "217\n"
     ]
    },
    {
     "name": "stderr",
     "output_type": "stream",
     "text": [
      "rule转化逻辑表达式进度:   6%|▌         | 36/618 [17:59<5:15:00, 32.48s/it]"
     ]
    },
    {
     "name": "stdout",
     "output_type": "stream",
     "text": [
      "218\n"
     ]
    },
    {
     "name": "stderr",
     "output_type": "stream",
     "text": [
      "rule转化逻辑表达式进度:   6%|▌         | 37/618 [18:15<4:26:41, 27.54s/it]"
     ]
    },
    {
     "name": "stdout",
     "output_type": "stream",
     "text": [
      "219\n"
     ]
    },
    {
     "name": "stderr",
     "output_type": "stream",
     "text": [
      "rule转化逻辑表达式进度:   6%|▌         | 38/618 [18:38<4:13:15, 26.20s/it]"
     ]
    },
    {
     "name": "stdout",
     "output_type": "stream",
     "text": [
      "220\n"
     ]
    },
    {
     "name": "stderr",
     "output_type": "stream",
     "text": [
      "rule转化逻辑表达式进度:   6%|▋         | 39/618 [19:35<5:41:19, 35.37s/it]"
     ]
    },
    {
     "name": "stdout",
     "output_type": "stream",
     "text": [
      "221\n"
     ]
    },
    {
     "name": "stderr",
     "output_type": "stream",
     "text": [
      "rule转化逻辑表达式进度:   6%|▋         | 40/618 [20:04<5:21:55, 33.42s/it]"
     ]
    },
    {
     "name": "stdout",
     "output_type": "stream",
     "text": [
      "222\n"
     ]
    },
    {
     "name": "stderr",
     "output_type": "stream",
     "text": [
      "rule转化逻辑表达式进度:   7%|▋         | 41/618 [20:54<6:09:11, 38.39s/it]"
     ]
    },
    {
     "name": "stdout",
     "output_type": "stream",
     "text": [
      "223\n"
     ]
    },
    {
     "name": "stderr",
     "output_type": "stream",
     "text": [
      "rule转化逻辑表达式进度:   7%|▋         | 42/618 [21:33<6:10:00, 38.54s/it]"
     ]
    },
    {
     "name": "stdout",
     "output_type": "stream",
     "text": [
      "224\n"
     ]
    },
    {
     "name": "stderr",
     "output_type": "stream",
     "text": [
      "rule转化逻辑表达式进度:   7%|▋         | 43/618 [22:00<5:35:55, 35.05s/it]"
     ]
    },
    {
     "name": "stdout",
     "output_type": "stream",
     "text": [
      "225\n"
     ]
    },
    {
     "name": "stderr",
     "output_type": "stream",
     "text": [
      "rule转化逻辑表达式进度:   7%|▋         | 44/618 [22:21<4:55:10, 30.85s/it]"
     ]
    },
    {
     "name": "stdout",
     "output_type": "stream",
     "text": [
      "226\n"
     ]
    },
    {
     "name": "stderr",
     "output_type": "stream",
     "text": [
      "rule转化逻辑表达式进度:   7%|▋         | 45/618 [22:54<5:01:22, 31.56s/it]"
     ]
    },
    {
     "name": "stdout",
     "output_type": "stream",
     "text": [
      "227\n"
     ]
    },
    {
     "name": "stderr",
     "output_type": "stream",
     "text": [
      "rule转化逻辑表达式进度:   7%|▋         | 46/618 [23:33<5:22:53, 33.87s/it]"
     ]
    },
    {
     "name": "stdout",
     "output_type": "stream",
     "text": [
      "228\n"
     ]
    },
    {
     "name": "stderr",
     "output_type": "stream",
     "text": [
      "rule转化逻辑表达式进度:   8%|▊         | 47/618 [24:14<5:41:26, 35.88s/it]"
     ]
    },
    {
     "name": "stdout",
     "output_type": "stream",
     "text": [
      "229\n"
     ]
    },
    {
     "name": "stderr",
     "output_type": "stream",
     "text": [
      "rule转化逻辑表达式进度:   8%|▊         | 48/618 [25:26<7:24:53, 46.83s/it]"
     ]
    },
    {
     "name": "stdout",
     "output_type": "stream",
     "text": [
      "230\n"
     ]
    },
    {
     "name": "stderr",
     "output_type": "stream",
     "text": [
      "rule转化逻辑表达式进度:   8%|▊         | 49/618 [25:54<6:28:48, 41.00s/it]"
     ]
    },
    {
     "name": "stdout",
     "output_type": "stream",
     "text": [
      "231\n"
     ]
    },
    {
     "name": "stderr",
     "output_type": "stream",
     "text": [
      "rule转化逻辑表达式进度:   8%|▊         | 50/618 [26:20<5:47:03, 36.66s/it]"
     ]
    },
    {
     "name": "stdout",
     "output_type": "stream",
     "text": [
      "232\n"
     ]
    },
    {
     "name": "stderr",
     "output_type": "stream",
     "text": [
      "rule转化逻辑表达式进度:   8%|▊         | 51/618 [26:54<5:39:37, 35.94s/it]"
     ]
    },
    {
     "name": "stdout",
     "output_type": "stream",
     "text": [
      "233\n"
     ]
    },
    {
     "name": "stderr",
     "output_type": "stream",
     "text": [
      "rule转化逻辑表达式进度:   8%|▊         | 52/618 [27:12<4:47:24, 30.47s/it]"
     ]
    },
    {
     "name": "stdout",
     "output_type": "stream",
     "text": [
      "234\n"
     ]
    },
    {
     "name": "stderr",
     "output_type": "stream",
     "text": [
      "rule转化逻辑表达式进度:   9%|▊         | 53/618 [27:42<4:43:40, 30.13s/it]"
     ]
    },
    {
     "name": "stdout",
     "output_type": "stream",
     "text": [
      "235\n"
     ]
    },
    {
     "name": "stderr",
     "output_type": "stream",
     "text": [
      "rule转化逻辑表达式进度:   9%|▊         | 54/618 [28:09<4:36:00, 29.36s/it]"
     ]
    },
    {
     "name": "stdout",
     "output_type": "stream",
     "text": [
      "236\n"
     ]
    },
    {
     "name": "stderr",
     "output_type": "stream",
     "text": [
      "rule转化逻辑表达式进度:   9%|▉         | 55/618 [28:28<4:06:30, 26.27s/it]"
     ]
    },
    {
     "name": "stdout",
     "output_type": "stream",
     "text": [
      "237\n"
     ]
    },
    {
     "name": "stderr",
     "output_type": "stream",
     "text": [
      "rule转化逻辑表达式进度:   9%|▉         | 56/618 [28:57<4:14:03, 27.12s/it]"
     ]
    },
    {
     "name": "stdout",
     "output_type": "stream",
     "text": [
      "238\n"
     ]
    },
    {
     "name": "stderr",
     "output_type": "stream",
     "text": [
      "rule转化逻辑表达式进度:   9%|▉         | 57/618 [29:32<4:34:23, 29.35s/it]"
     ]
    },
    {
     "name": "stdout",
     "output_type": "stream",
     "text": [
      "239\n"
     ]
    },
    {
     "name": "stderr",
     "output_type": "stream",
     "text": [
      "rule转化逻辑表达式进度:   9%|▉         | 58/618 [30:14<5:08:35, 33.06s/it]"
     ]
    },
    {
     "name": "stdout",
     "output_type": "stream",
     "text": [
      "240\n"
     ]
    },
    {
     "name": "stderr",
     "output_type": "stream",
     "text": [
      "rule转化逻辑表达式进度:  10%|▉         | 59/618 [30:37<4:41:00, 30.16s/it]"
     ]
    },
    {
     "name": "stdout",
     "output_type": "stream",
     "text": [
      "241\n"
     ]
    },
    {
     "name": "stderr",
     "output_type": "stream",
     "text": [
      "rule转化逻辑表达式进度:  10%|▉         | 60/618 [30:56<4:08:22, 26.71s/it]"
     ]
    },
    {
     "name": "stdout",
     "output_type": "stream",
     "text": [
      "242\n"
     ]
    },
    {
     "name": "stderr",
     "output_type": "stream",
     "text": [
      "rule转化逻辑表达式进度:  10%|▉         | 61/618 [31:26<4:17:45, 27.77s/it]"
     ]
    },
    {
     "name": "stdout",
     "output_type": "stream",
     "text": [
      "243\n"
     ]
    },
    {
     "name": "stderr",
     "output_type": "stream",
     "text": [
      "rule转化逻辑表达式进度:  10%|█         | 62/618 [32:14<5:13:02, 33.78s/it]"
     ]
    },
    {
     "name": "stdout",
     "output_type": "stream",
     "text": [
      "244\n"
     ]
    },
    {
     "name": "stderr",
     "output_type": "stream",
     "text": [
      "rule转化逻辑表达式进度:  10%|█         | 63/618 [32:41<4:56:01, 32.00s/it]"
     ]
    },
    {
     "name": "stdout",
     "output_type": "stream",
     "text": [
      "245\n"
     ]
    },
    {
     "name": "stderr",
     "output_type": "stream",
     "text": [
      "rule转化逻辑表达式进度:  10%|█         | 64/618 [33:26<5:29:39, 35.70s/it]"
     ]
    },
    {
     "name": "stdout",
     "output_type": "stream",
     "text": [
      "246\n"
     ]
    },
    {
     "name": "stderr",
     "output_type": "stream",
     "text": [
      "rule转化逻辑表达式进度:  11%|█         | 65/618 [34:04<5:35:45, 36.43s/it]"
     ]
    },
    {
     "name": "stdout",
     "output_type": "stream",
     "text": [
      "247\n"
     ]
    },
    {
     "name": "stderr",
     "output_type": "stream",
     "text": [
      "rule转化逻辑表达式进度:  11%|█         | 66/618 [34:23<4:47:51, 31.29s/it]"
     ]
    },
    {
     "name": "stdout",
     "output_type": "stream",
     "text": [
      "248\n"
     ]
    },
    {
     "name": "stderr",
     "output_type": "stream",
     "text": [
      "rule转化逻辑表达式进度:  11%|█         | 67/618 [34:52<4:39:44, 30.46s/it]"
     ]
    },
    {
     "name": "stdout",
     "output_type": "stream",
     "text": [
      "249\n"
     ]
    },
    {
     "name": "stderr",
     "output_type": "stream",
     "text": [
      "rule转化逻辑表达式进度:  11%|█         | 68/618 [35:23<4:41:06, 30.67s/it]"
     ]
    },
    {
     "name": "stdout",
     "output_type": "stream",
     "text": [
      "250\n"
     ]
    },
    {
     "name": "stderr",
     "output_type": "stream",
     "text": [
      "rule转化逻辑表达式进度:  11%|█         | 69/618 [35:42<4:08:49, 27.19s/it]"
     ]
    },
    {
     "name": "stdout",
     "output_type": "stream",
     "text": [
      "251\n"
     ]
    },
    {
     "name": "stderr",
     "output_type": "stream",
     "text": [
      "rule转化逻辑表达式进度:  11%|█▏        | 70/618 [36:07<4:01:55, 26.49s/it]"
     ]
    },
    {
     "name": "stdout",
     "output_type": "stream",
     "text": [
      "252\n"
     ]
    },
    {
     "name": "stderr",
     "output_type": "stream",
     "text": [
      "rule转化逻辑表达式进度:  11%|█▏        | 71/618 [36:31<3:54:46, 25.75s/it]"
     ]
    },
    {
     "name": "stdout",
     "output_type": "stream",
     "text": [
      "253\n"
     ]
    },
    {
     "name": "stderr",
     "output_type": "stream",
     "text": [
      "rule转化逻辑表达式进度:  12%|█▏        | 72/618 [36:56<3:51:57, 25.49s/it]"
     ]
    },
    {
     "name": "stdout",
     "output_type": "stream",
     "text": [
      "254\n"
     ]
    },
    {
     "name": "stderr",
     "output_type": "stream",
     "text": [
      "rule转化逻辑表达式进度:  12%|█▏        | 73/618 [37:35<4:30:17, 29.76s/it]"
     ]
    },
    {
     "name": "stdout",
     "output_type": "stream",
     "text": [
      "255\n"
     ]
    },
    {
     "name": "stderr",
     "output_type": "stream",
     "text": [
      "rule转化逻辑表达式进度:  12%|█▏        | 74/618 [38:03<4:23:02, 29.01s/it]"
     ]
    },
    {
     "name": "stdout",
     "output_type": "stream",
     "text": [
      "256\n"
     ]
    },
    {
     "name": "stderr",
     "output_type": "stream",
     "text": [
      "rule转化逻辑表达式进度:  12%|█▏        | 75/618 [38:27<4:08:34, 27.47s/it]"
     ]
    },
    {
     "name": "stdout",
     "output_type": "stream",
     "text": [
      "257\n"
     ]
    },
    {
     "name": "stderr",
     "output_type": "stream",
     "text": [
      "rule转化逻辑表达式进度:  12%|█▏        | 76/618 [38:43<3:38:33, 24.20s/it]"
     ]
    },
    {
     "name": "stdout",
     "output_type": "stream",
     "text": [
      "258\n"
     ]
    },
    {
     "name": "stderr",
     "output_type": "stream",
     "text": [
      "rule转化逻辑表达式进度:  12%|█▏        | 77/618 [39:15<3:58:03, 26.40s/it]"
     ]
    },
    {
     "name": "stdout",
     "output_type": "stream",
     "text": [
      "259\n"
     ]
    },
    {
     "name": "stderr",
     "output_type": "stream",
     "text": [
      "rule转化逻辑表达式进度:  13%|█▎        | 78/618 [39:49<4:17:57, 28.66s/it]"
     ]
    },
    {
     "name": "stdout",
     "output_type": "stream",
     "text": [
      "260\n"
     ]
    },
    {
     "name": "stderr",
     "output_type": "stream",
     "text": [
      "rule转化逻辑表达式进度:  13%|█▎        | 79/618 [40:20<4:23:41, 29.35s/it]"
     ]
    },
    {
     "name": "stdout",
     "output_type": "stream",
     "text": [
      "261\n"
     ]
    },
    {
     "name": "stderr",
     "output_type": "stream",
     "text": [
      "rule转化逻辑表达式进度:  13%|█▎        | 80/618 [40:39<3:56:29, 26.37s/it]"
     ]
    },
    {
     "name": "stdout",
     "output_type": "stream",
     "text": [
      "262\n"
     ]
    },
    {
     "name": "stderr",
     "output_type": "stream",
     "text": [
      "rule转化逻辑表达式进度:  13%|█▎        | 81/618 [41:10<4:07:14, 27.62s/it]"
     ]
    },
    {
     "name": "stdout",
     "output_type": "stream",
     "text": [
      "263\n"
     ]
    },
    {
     "name": "stderr",
     "output_type": "stream",
     "text": [
      "rule转化逻辑表达式进度:  13%|█▎        | 82/618 [41:50<4:40:13, 31.37s/it]"
     ]
    },
    {
     "name": "stdout",
     "output_type": "stream",
     "text": [
      "264\n"
     ]
    },
    {
     "name": "stderr",
     "output_type": "stream",
     "text": [
      "rule转化逻辑表达式进度:  13%|█▎        | 83/618 [42:18<4:30:25, 30.33s/it]"
     ]
    },
    {
     "name": "stdout",
     "output_type": "stream",
     "text": [
      "265\n"
     ]
    },
    {
     "name": "stderr",
     "output_type": "stream",
     "text": [
      "rule转化逻辑表达式进度:  14%|█▎        | 84/618 [43:14<5:39:27, 38.14s/it]"
     ]
    },
    {
     "name": "stdout",
     "output_type": "stream",
     "text": [
      "266\n"
     ]
    },
    {
     "name": "stderr",
     "output_type": "stream",
     "text": [
      "rule转化逻辑表达式进度:  14%|█▍        | 85/618 [43:47<5:26:05, 36.71s/it]"
     ]
    },
    {
     "name": "stdout",
     "output_type": "stream",
     "text": [
      "267\n"
     ]
    },
    {
     "name": "stderr",
     "output_type": "stream",
     "text": [
      "rule转化逻辑表达式进度:  14%|█▍        | 86/618 [44:25<5:27:11, 36.90s/it]"
     ]
    },
    {
     "name": "stdout",
     "output_type": "stream",
     "text": [
      "268\n"
     ]
    },
    {
     "name": "stderr",
     "output_type": "stream",
     "text": [
      "rule转化逻辑表达式进度:  14%|█▍        | 87/618 [45:26<6:32:33, 44.36s/it]"
     ]
    },
    {
     "name": "stdout",
     "output_type": "stream",
     "text": [
      "269\n"
     ]
    },
    {
     "name": "stderr",
     "output_type": "stream",
     "text": [
      "rule转化逻辑表达式进度:  14%|█▍        | 88/618 [46:12<6:36:00, 44.83s/it]"
     ]
    },
    {
     "name": "stdout",
     "output_type": "stream",
     "text": [
      "270\n"
     ]
    },
    {
     "name": "stderr",
     "output_type": "stream",
     "text": [
      "rule转化逻辑表达式进度:  14%|█▍        | 89/618 [46:54<6:27:15, 43.92s/it]"
     ]
    },
    {
     "name": "stdout",
     "output_type": "stream",
     "text": [
      "271\n"
     ]
    },
    {
     "name": "stderr",
     "output_type": "stream",
     "text": [
      "rule转化逻辑表达式进度:  15%|█▍        | 90/618 [47:52<7:04:00, 48.18s/it]"
     ]
    },
    {
     "name": "stdout",
     "output_type": "stream",
     "text": [
      "272\n"
     ]
    },
    {
     "name": "stderr",
     "output_type": "stream",
     "text": [
      "rule转化逻辑表达式进度:  15%|█▍        | 91/618 [48:28<6:31:13, 44.54s/it]"
     ]
    },
    {
     "name": "stdout",
     "output_type": "stream",
     "text": [
      "273\n"
     ]
    },
    {
     "name": "stderr",
     "output_type": "stream",
     "text": [
      "rule转化逻辑表达式进度:  15%|█▍        | 92/618 [48:56<5:44:55, 39.35s/it]"
     ]
    },
    {
     "name": "stdout",
     "output_type": "stream",
     "text": [
      "274\n"
     ]
    },
    {
     "name": "stderr",
     "output_type": "stream",
     "text": [
      "rule转化逻辑表达式进度:  15%|█▌        | 93/618 [49:51<6:26:37, 44.19s/it]"
     ]
    },
    {
     "name": "stdout",
     "output_type": "stream",
     "text": [
      "275\n"
     ]
    },
    {
     "name": "stderr",
     "output_type": "stream",
     "text": [
      "rule转化逻辑表达式进度:  15%|█▌        | 94/618 [50:32<6:17:38, 43.24s/it]"
     ]
    },
    {
     "name": "stdout",
     "output_type": "stream",
     "text": [
      "276\n"
     ]
    },
    {
     "name": "stderr",
     "output_type": "stream",
     "text": [
      "rule转化逻辑表达式进度:  15%|█▌        | 95/618 [50:51<5:12:04, 35.80s/it]"
     ]
    },
    {
     "name": "stdout",
     "output_type": "stream",
     "text": [
      "277\n"
     ]
    },
    {
     "name": "stderr",
     "output_type": "stream",
     "text": [
      "rule转化逻辑表达式进度:  16%|█▌        | 96/618 [51:16<4:44:16, 32.67s/it]"
     ]
    },
    {
     "name": "stdout",
     "output_type": "stream",
     "text": [
      "278\n"
     ]
    },
    {
     "name": "stderr",
     "output_type": "stream",
     "text": [
      "rule转化逻辑表达式进度:  16%|█▌        | 97/618 [52:27<6:24:24, 44.27s/it]"
     ]
    },
    {
     "name": "stdout",
     "output_type": "stream",
     "text": [
      "279\n"
     ]
    },
    {
     "name": "stderr",
     "output_type": "stream",
     "text": [
      "rule转化逻辑表达式进度:  16%|█▌        | 98/618 [52:46<5:16:47, 36.55s/it]"
     ]
    },
    {
     "name": "stdout",
     "output_type": "stream",
     "text": [
      "280\n"
     ]
    },
    {
     "name": "stderr",
     "output_type": "stream",
     "text": [
      "rule转化逻辑表达式进度:  16%|█▌        | 99/618 [53:21<5:12:53, 36.17s/it]"
     ]
    },
    {
     "name": "stdout",
     "output_type": "stream",
     "text": [
      "281\n"
     ]
    },
    {
     "name": "stderr",
     "output_type": "stream",
     "text": [
      "rule转化逻辑表达式进度:  16%|█▌        | 100/618 [53:48<4:49:38, 33.55s/it]"
     ]
    },
    {
     "name": "stdout",
     "output_type": "stream",
     "text": [
      "282\n"
     ]
    },
    {
     "name": "stderr",
     "output_type": "stream",
     "text": [
      "rule转化逻辑表达式进度:  16%|█▋        | 101/618 [54:18<4:39:25, 32.43s/it]"
     ]
    },
    {
     "name": "stdout",
     "output_type": "stream",
     "text": [
      "283\n"
     ]
    },
    {
     "name": "stderr",
     "output_type": "stream",
     "text": [
      "rule转化逻辑表达式进度:  17%|█▋        | 102/618 [54:39<4:08:12, 28.86s/it]"
     ]
    },
    {
     "name": "stdout",
     "output_type": "stream",
     "text": [
      "284\n"
     ]
    },
    {
     "name": "stderr",
     "output_type": "stream",
     "text": [
      "rule转化逻辑表达式进度:  17%|█▋        | 103/618 [55:07<4:04:54, 28.53s/it]"
     ]
    },
    {
     "name": "stdout",
     "output_type": "stream",
     "text": [
      "285\n"
     ]
    },
    {
     "name": "stderr",
     "output_type": "stream",
     "text": [
      "rule转化逻辑表达式进度:  17%|█▋        | 104/618 [55:35<4:02:52, 28.35s/it]"
     ]
    },
    {
     "name": "stdout",
     "output_type": "stream",
     "text": [
      "286\n"
     ]
    },
    {
     "name": "stderr",
     "output_type": "stream",
     "text": [
      "rule转化逻辑表达式进度:  17%|█▋        | 105/618 [56:11<4:24:03, 30.88s/it]"
     ]
    },
    {
     "name": "stdout",
     "output_type": "stream",
     "text": [
      "287\n"
     ]
    },
    {
     "name": "stderr",
     "output_type": "stream",
     "text": [
      "rule转化逻辑表达式进度:  17%|█▋        | 106/618 [56:33<4:00:25, 28.18s/it]"
     ]
    },
    {
     "name": "stdout",
     "output_type": "stream",
     "text": [
      "288\n"
     ]
    },
    {
     "name": "stderr",
     "output_type": "stream",
     "text": [
      "rule转化逻辑表达式进度:  17%|█▋        | 107/618 [57:29<5:09:44, 36.37s/it]"
     ]
    },
    {
     "name": "stdout",
     "output_type": "stream",
     "text": [
      "289\n"
     ]
    },
    {
     "name": "stderr",
     "output_type": "stream",
     "text": [
      "rule转化逻辑表达式进度:  17%|█▋        | 108/618 [58:09<5:18:02, 37.42s/it]"
     ]
    },
    {
     "name": "stdout",
     "output_type": "stream",
     "text": [
      "290\n"
     ]
    },
    {
     "name": "stderr",
     "output_type": "stream",
     "text": [
      "rule转化逻辑表达式进度:  18%|█▊        | 109/618 [58:37<4:53:32, 34.60s/it]"
     ]
    },
    {
     "name": "stdout",
     "output_type": "stream",
     "text": [
      "291\n"
     ]
    },
    {
     "name": "stderr",
     "output_type": "stream",
     "text": [
      "rule转化逻辑表达式进度:  18%|█▊        | 110/618 [59:05<4:37:42, 32.80s/it]"
     ]
    },
    {
     "name": "stdout",
     "output_type": "stream",
     "text": [
      "292\n"
     ]
    },
    {
     "name": "stderr",
     "output_type": "stream",
     "text": [
      "rule转化逻辑表达式进度:  18%|█▊        | 111/618 [59:24<4:01:54, 28.63s/it]"
     ]
    },
    {
     "name": "stdout",
     "output_type": "stream",
     "text": [
      "293\n"
     ]
    },
    {
     "name": "stderr",
     "output_type": "stream",
     "text": [
      "rule转化逻辑表达式进度:  18%|█▊        | 112/618 [59:54<4:03:35, 28.88s/it]"
     ]
    },
    {
     "name": "stdout",
     "output_type": "stream",
     "text": [
      "294\n"
     ]
    },
    {
     "name": "stderr",
     "output_type": "stream",
     "text": [
      "rule转化逻辑表达式进度:  18%|█▊        | 113/618 [1:00:17<3:50:41, 27.41s/it]"
     ]
    },
    {
     "name": "stdout",
     "output_type": "stream",
     "text": [
      "295\n"
     ]
    },
    {
     "name": "stderr",
     "output_type": "stream",
     "text": [
      "rule转化逻辑表达式进度:  18%|█▊        | 114/618 [1:00:53<4:11:14, 29.91s/it]"
     ]
    },
    {
     "name": "stdout",
     "output_type": "stream",
     "text": [
      "296\n"
     ]
    },
    {
     "name": "stderr",
     "output_type": "stream",
     "text": [
      "rule转化逻辑表达式进度:  19%|█▊        | 115/618 [1:01:12<3:43:01, 26.60s/it]"
     ]
    },
    {
     "name": "stdout",
     "output_type": "stream",
     "text": [
      "297\n"
     ]
    },
    {
     "name": "stderr",
     "output_type": "stream",
     "text": [
      "rule转化逻辑表达式进度:  19%|█▉        | 116/618 [1:01:31<3:22:28, 24.20s/it]"
     ]
    },
    {
     "name": "stdout",
     "output_type": "stream",
     "text": [
      "298\n"
     ]
    },
    {
     "name": "stderr",
     "output_type": "stream",
     "text": [
      "rule转化逻辑表达式进度:  19%|█▉        | 117/618 [1:02:04<3:44:29, 26.89s/it]"
     ]
    },
    {
     "name": "stdout",
     "output_type": "stream",
     "text": [
      "299\n"
     ]
    },
    {
     "name": "stderr",
     "output_type": "stream",
     "text": [
      "rule转化逻辑表达式进度:  19%|█▉        | 118/618 [1:02:54<4:41:47, 33.81s/it]"
     ]
    },
    {
     "name": "stdout",
     "output_type": "stream",
     "text": [
      "300\n"
     ]
    },
    {
     "name": "stderr",
     "output_type": "stream",
     "text": [
      "rule转化逻辑表达式进度:  19%|█▉        | 119/618 [1:03:25<4:34:43, 33.03s/it]"
     ]
    },
    {
     "name": "stdout",
     "output_type": "stream",
     "text": [
      "301\n"
     ]
    },
    {
     "name": "stderr",
     "output_type": "stream",
     "text": [
      "rule转化逻辑表达式进度:  19%|█▉        | 120/618 [1:03:54<4:23:21, 31.73s/it]"
     ]
    },
    {
     "name": "stdout",
     "output_type": "stream",
     "text": [
      "302\n"
     ]
    },
    {
     "name": "stderr",
     "output_type": "stream",
     "text": [
      "rule转化逻辑表达式进度:  20%|█▉        | 121/618 [1:04:25<4:20:51, 31.49s/it]"
     ]
    },
    {
     "name": "stdout",
     "output_type": "stream",
     "text": [
      "303\n"
     ]
    },
    {
     "name": "stderr",
     "output_type": "stream",
     "text": [
      "rule转化逻辑表达式进度:  20%|█▉        | 122/618 [1:04:51<4:08:01, 30.00s/it]"
     ]
    },
    {
     "name": "stdout",
     "output_type": "stream",
     "text": [
      "304\n"
     ]
    },
    {
     "name": "stderr",
     "output_type": "stream",
     "text": [
      "rule转化逻辑表达式进度:  20%|█▉        | 123/618 [1:05:18<3:59:03, 28.98s/it]"
     ]
    },
    {
     "name": "stdout",
     "output_type": "stream",
     "text": [
      "305\n"
     ]
    },
    {
     "name": "stderr",
     "output_type": "stream",
     "text": [
      "rule转化逻辑表达式进度:  20%|██        | 124/618 [1:06:00<4:30:25, 32.85s/it]"
     ]
    },
    {
     "name": "stdout",
     "output_type": "stream",
     "text": [
      "306\n"
     ]
    },
    {
     "name": "stderr",
     "output_type": "stream",
     "text": [
      "rule转化逻辑表达式进度:  20%|██        | 125/618 [1:06:39<4:46:45, 34.90s/it]"
     ]
    },
    {
     "name": "stdout",
     "output_type": "stream",
     "text": [
      "307\n"
     ]
    },
    {
     "name": "stderr",
     "output_type": "stream",
     "text": [
      "rule转化逻辑表达式进度:  20%|██        | 126/618 [1:06:59<4:09:36, 30.44s/it]"
     ]
    },
    {
     "name": "stdout",
     "output_type": "stream",
     "text": [
      "308\n"
     ]
    },
    {
     "name": "stderr",
     "output_type": "stream",
     "text": [
      "rule转化逻辑表达式进度:  21%|██        | 127/618 [1:07:22<3:51:03, 28.24s/it]"
     ]
    },
    {
     "name": "stdout",
     "output_type": "stream",
     "text": [
      "309\n"
     ]
    },
    {
     "name": "stderr",
     "output_type": "stream",
     "text": [
      "rule转化逻辑表达式进度:  21%|██        | 128/618 [1:07:45<3:35:19, 26.37s/it]"
     ]
    },
    {
     "name": "stdout",
     "output_type": "stream",
     "text": [
      "310\n"
     ]
    },
    {
     "name": "stderr",
     "output_type": "stream",
     "text": [
      "rule转化逻辑表达式进度:  21%|██        | 129/618 [1:08:07<3:25:22, 25.20s/it]"
     ]
    },
    {
     "name": "stdout",
     "output_type": "stream",
     "text": [
      "311\n"
     ]
    },
    {
     "name": "stderr",
     "output_type": "stream",
     "text": [
      "rule转化逻辑表达式进度:  21%|██        | 130/618 [1:08:46<3:57:38, 29.22s/it]"
     ]
    },
    {
     "name": "stdout",
     "output_type": "stream",
     "text": [
      "312\n"
     ]
    },
    {
     "name": "stderr",
     "output_type": "stream",
     "text": [
      "rule转化逻辑表达式进度:  21%|██        | 131/618 [1:09:25<4:21:26, 32.21s/it]"
     ]
    },
    {
     "name": "stdout",
     "output_type": "stream",
     "text": [
      "313\n"
     ]
    },
    {
     "name": "stderr",
     "output_type": "stream",
     "text": [
      "rule转化逻辑表达式进度:  21%|██▏       | 132/618 [1:10:09<4:51:14, 35.96s/it]"
     ]
    },
    {
     "name": "stdout",
     "output_type": "stream",
     "text": [
      "314\n"
     ]
    },
    {
     "name": "stderr",
     "output_type": "stream",
     "text": [
      "rule转化逻辑表达式进度:  22%|██▏       | 133/618 [1:10:31<4:15:37, 31.62s/it]"
     ]
    },
    {
     "name": "stdout",
     "output_type": "stream",
     "text": [
      "315\n"
     ]
    },
    {
     "name": "stderr",
     "output_type": "stream",
     "text": [
      "rule转化逻辑表达式进度:  22%|██▏       | 134/618 [1:11:19<4:55:55, 36.68s/it]"
     ]
    },
    {
     "name": "stdout",
     "output_type": "stream",
     "text": [
      "316\n"
     ]
    },
    {
     "name": "stderr",
     "output_type": "stream",
     "text": [
      "rule转化逻辑表达式进度:  22%|██▏       | 135/618 [1:11:41<4:18:38, 32.13s/it]"
     ]
    },
    {
     "name": "stdout",
     "output_type": "stream",
     "text": [
      "317\n"
     ]
    },
    {
     "name": "stderr",
     "output_type": "stream",
     "text": [
      "rule转化逻辑表达式进度:  22%|██▏       | 136/618 [1:12:12<4:14:43, 31.71s/it]"
     ]
    },
    {
     "name": "stdout",
     "output_type": "stream",
     "text": [
      "318\n"
     ]
    },
    {
     "name": "stderr",
     "output_type": "stream",
     "text": [
      "rule转化逻辑表达式进度:  22%|██▏       | 137/618 [1:12:45<4:18:55, 32.30s/it]"
     ]
    },
    {
     "name": "stdout",
     "output_type": "stream",
     "text": [
      "319\n"
     ]
    },
    {
     "name": "stderr",
     "output_type": "stream",
     "text": [
      "rule转化逻辑表达式进度:  22%|██▏       | 138/618 [1:13:31<4:51:21, 36.42s/it]"
     ]
    },
    {
     "name": "stdout",
     "output_type": "stream",
     "text": [
      "320\n"
     ]
    },
    {
     "name": "stderr",
     "output_type": "stream",
     "text": [
      "rule转化逻辑表达式进度:  22%|██▏       | 139/618 [1:14:15<5:08:53, 38.69s/it]"
     ]
    },
    {
     "name": "stdout",
     "output_type": "stream",
     "text": [
      "321\n"
     ]
    },
    {
     "name": "stderr",
     "output_type": "stream",
     "text": [
      "rule转化逻辑表达式进度:  23%|██▎       | 140/618 [1:15:01<5:24:38, 40.75s/it]"
     ]
    },
    {
     "name": "stdout",
     "output_type": "stream",
     "text": [
      "322\n"
     ]
    },
    {
     "name": "stderr",
     "output_type": "stream",
     "text": [
      "rule转化逻辑表达式进度:  23%|██▎       | 141/618 [1:15:30<4:54:55, 37.10s/it]"
     ]
    },
    {
     "name": "stdout",
     "output_type": "stream",
     "text": [
      "323\n"
     ]
    },
    {
     "name": "stderr",
     "output_type": "stream",
     "text": [
      "rule转化逻辑表达式进度:  23%|██▎       | 142/618 [1:15:53<4:20:47, 32.87s/it]"
     ]
    },
    {
     "name": "stdout",
     "output_type": "stream",
     "text": [
      "324\n"
     ]
    },
    {
     "name": "stderr",
     "output_type": "stream",
     "text": [
      "rule转化逻辑表达式进度:  23%|██▎       | 143/618 [1:16:26<4:21:24, 33.02s/it]"
     ]
    },
    {
     "name": "stdout",
     "output_type": "stream",
     "text": [
      "325\n"
     ]
    },
    {
     "name": "stderr",
     "output_type": "stream",
     "text": [
      "rule转化逻辑表达式进度:  23%|██▎       | 144/618 [1:16:50<3:59:18, 30.29s/it]"
     ]
    },
    {
     "name": "stdout",
     "output_type": "stream",
     "text": [
      "326\n"
     ]
    },
    {
     "name": "stderr",
     "output_type": "stream",
     "text": [
      "rule转化逻辑表达式进度:  23%|██▎       | 145/618 [1:17:11<3:38:17, 27.69s/it]"
     ]
    },
    {
     "name": "stdout",
     "output_type": "stream",
     "text": [
      "327\n"
     ]
    },
    {
     "name": "stderr",
     "output_type": "stream",
     "text": [
      "rule转化逻辑表达式进度:  24%|██▎       | 146/618 [1:17:42<3:43:57, 28.47s/it]"
     ]
    },
    {
     "name": "stdout",
     "output_type": "stream",
     "text": [
      "328\n"
     ]
    },
    {
     "name": "stderr",
     "output_type": "stream",
     "text": [
      "rule转化逻辑表达式进度:  24%|██▍       | 147/618 [1:18:03<3:27:15, 26.40s/it]"
     ]
    },
    {
     "name": "stdout",
     "output_type": "stream",
     "text": [
      "329\n"
     ]
    },
    {
     "name": "stderr",
     "output_type": "stream",
     "text": [
      "rule转化逻辑表达式进度:  24%|██▍       | 148/618 [1:18:36<3:42:06, 28.35s/it]"
     ]
    },
    {
     "name": "stdout",
     "output_type": "stream",
     "text": [
      "330\n"
     ]
    },
    {
     "name": "stderr",
     "output_type": "stream",
     "text": [
      "rule转化逻辑表达式进度:  24%|██▍       | 149/618 [1:18:59<3:29:02, 26.74s/it]"
     ]
    },
    {
     "name": "stdout",
     "output_type": "stream",
     "text": [
      "331\n"
     ]
    },
    {
     "name": "stderr",
     "output_type": "stream",
     "text": [
      "rule转化逻辑表达式进度:  24%|██▍       | 150/618 [1:20:01<4:50:09, 37.20s/it]"
     ]
    },
    {
     "name": "stdout",
     "output_type": "stream",
     "text": [
      "332\n"
     ]
    },
    {
     "name": "stderr",
     "output_type": "stream",
     "text": [
      "rule转化逻辑表达式进度:  24%|██▍       | 151/618 [1:20:32<4:36:28, 35.52s/it]"
     ]
    },
    {
     "name": "stdout",
     "output_type": "stream",
     "text": [
      "333\n"
     ]
    },
    {
     "name": "stderr",
     "output_type": "stream",
     "text": [
      "rule转化逻辑表达式进度:  25%|██▍       | 152/618 [1:21:09<4:37:57, 35.79s/it]"
     ]
    },
    {
     "name": "stdout",
     "output_type": "stream",
     "text": [
      "334\n"
     ]
    },
    {
     "name": "stderr",
     "output_type": "stream",
     "text": [
      "rule转化逻辑表达式进度:  25%|██▍       | 153/618 [1:21:47<4:43:28, 36.58s/it]"
     ]
    },
    {
     "name": "stdout",
     "output_type": "stream",
     "text": [
      "335\n"
     ]
    },
    {
     "name": "stderr",
     "output_type": "stream",
     "text": [
      "rule转化逻辑表达式进度:  25%|██▍       | 154/618 [1:22:19<4:31:16, 35.08s/it]"
     ]
    },
    {
     "name": "stdout",
     "output_type": "stream",
     "text": [
      "336\n"
     ]
    },
    {
     "name": "stderr",
     "output_type": "stream",
     "text": [
      "rule转化逻辑表达式进度:  25%|██▌       | 155/618 [1:22:47<4:14:31, 32.98s/it]"
     ]
    },
    {
     "name": "stdout",
     "output_type": "stream",
     "text": [
      "337\n"
     ]
    },
    {
     "name": "stderr",
     "output_type": "stream",
     "text": [
      "rule转化逻辑表达式进度:  25%|██▌       | 156/618 [1:23:26<4:27:20, 34.72s/it]"
     ]
    },
    {
     "name": "stdout",
     "output_type": "stream",
     "text": [
      "338\n"
     ]
    },
    {
     "name": "stderr",
     "output_type": "stream",
     "text": [
      "rule转化逻辑表达式进度:  25%|██▌       | 157/618 [1:23:57<4:17:54, 33.57s/it]"
     ]
    },
    {
     "name": "stdout",
     "output_type": "stream",
     "text": [
      "339\n"
     ]
    },
    {
     "name": "stderr",
     "output_type": "stream",
     "text": [
      "rule转化逻辑表达式进度:  26%|██▌       | 158/618 [1:24:52<5:08:16, 40.21s/it]"
     ]
    },
    {
     "name": "stdout",
     "output_type": "stream",
     "text": [
      "340\n"
     ]
    },
    {
     "name": "stderr",
     "output_type": "stream",
     "text": [
      "rule转化逻辑表达式进度:  26%|██▌       | 159/618 [1:25:17<4:31:16, 35.46s/it]"
     ]
    },
    {
     "name": "stdout",
     "output_type": "stream",
     "text": [
      "341\n"
     ]
    },
    {
     "name": "stderr",
     "output_type": "stream",
     "text": [
      "rule转化逻辑表达式进度:  26%|██▌       | 160/618 [1:26:16<5:25:46, 42.68s/it]"
     ]
    },
    {
     "name": "stdout",
     "output_type": "stream",
     "text": [
      "342\n"
     ]
    },
    {
     "name": "stderr",
     "output_type": "stream",
     "text": [
      "rule转化逻辑表达式进度:  26%|██▌       | 161/618 [1:27:01<5:29:31, 43.26s/it]"
     ]
    },
    {
     "name": "stdout",
     "output_type": "stream",
     "text": [
      "343\n"
     ]
    },
    {
     "name": "stderr",
     "output_type": "stream",
     "text": [
      "rule转化逻辑表达式进度:  26%|██▌       | 162/618 [1:27:23<4:40:15, 36.88s/it]"
     ]
    },
    {
     "name": "stdout",
     "output_type": "stream",
     "text": [
      "344\n"
     ]
    },
    {
     "name": "stderr",
     "output_type": "stream",
     "text": [
      "rule转化逻辑表达式进度:  26%|██▋       | 163/618 [1:27:51<4:19:57, 34.28s/it]"
     ]
    },
    {
     "name": "stdout",
     "output_type": "stream",
     "text": [
      "345\n"
     ]
    },
    {
     "name": "stderr",
     "output_type": "stream",
     "text": [
      "rule转化逻辑表达式进度:  27%|██▋       | 164/618 [1:28:17<4:01:25, 31.91s/it]"
     ]
    },
    {
     "name": "stdout",
     "output_type": "stream",
     "text": [
      "346\n"
     ]
    },
    {
     "name": "stderr",
     "output_type": "stream",
     "text": [
      "rule转化逻辑表达式进度:  27%|██▋       | 165/618 [1:28:43<3:47:21, 30.11s/it]"
     ]
    },
    {
     "name": "stdout",
     "output_type": "stream",
     "text": [
      "347\n"
     ]
    },
    {
     "name": "stderr",
     "output_type": "stream",
     "text": [
      "rule转化逻辑表达式进度:  27%|██▋       | 166/618 [1:29:13<3:46:56, 30.12s/it]"
     ]
    },
    {
     "name": "stdout",
     "output_type": "stream",
     "text": [
      "348\n"
     ]
    },
    {
     "name": "stderr",
     "output_type": "stream",
     "text": [
      "rule转化逻辑表达式进度:  27%|██▋       | 167/618 [1:29:40<3:38:58, 29.13s/it]"
     ]
    },
    {
     "name": "stdout",
     "output_type": "stream",
     "text": [
      "349\n"
     ]
    },
    {
     "name": "stderr",
     "output_type": "stream",
     "text": [
      "rule转化逻辑表达式进度:  27%|██▋       | 168/618 [1:30:10<3:39:55, 29.32s/it]"
     ]
    },
    {
     "name": "stdout",
     "output_type": "stream",
     "text": [
      "350\n"
     ]
    },
    {
     "name": "stderr",
     "output_type": "stream",
     "text": [
      "rule转化逻辑表达式进度:  27%|██▋       | 169/618 [1:30:32<3:23:20, 27.17s/it]"
     ]
    },
    {
     "name": "stdout",
     "output_type": "stream",
     "text": [
      "351\n"
     ]
    },
    {
     "name": "stderr",
     "output_type": "stream",
     "text": [
      "rule转化逻辑表达式进度:  28%|██▊       | 170/618 [1:31:02<3:28:40, 27.95s/it]"
     ]
    },
    {
     "name": "stdout",
     "output_type": "stream",
     "text": [
      "352\n"
     ]
    },
    {
     "name": "stderr",
     "output_type": "stream",
     "text": [
      "rule转化逻辑表达式进度:  28%|██▊       | 171/618 [1:31:23<3:13:22, 25.96s/it]"
     ]
    },
    {
     "name": "stdout",
     "output_type": "stream",
     "text": [
      "353\n"
     ]
    },
    {
     "name": "stderr",
     "output_type": "stream",
     "text": [
      "rule转化逻辑表达式进度:  28%|██▊       | 172/618 [1:31:55<3:24:56, 27.57s/it]"
     ]
    },
    {
     "name": "stdout",
     "output_type": "stream",
     "text": [
      "354\n"
     ]
    },
    {
     "name": "stderr",
     "output_type": "stream",
     "text": [
      "rule转化逻辑表达式进度:  28%|██▊       | 173/618 [1:32:18<3:14:37, 26.24s/it]"
     ]
    },
    {
     "name": "stdout",
     "output_type": "stream",
     "text": [
      "355\n"
     ]
    },
    {
     "name": "stderr",
     "output_type": "stream",
     "text": [
      "rule转化逻辑表达式进度:  28%|██▊       | 174/618 [1:32:44<3:14:51, 26.33s/it]"
     ]
    },
    {
     "name": "stdout",
     "output_type": "stream",
     "text": [
      "356\n"
     ]
    },
    {
     "name": "stderr",
     "output_type": "stream",
     "text": [
      "rule转化逻辑表达式进度:  28%|██▊       | 175/618 [1:33:15<3:23:31, 27.57s/it]"
     ]
    },
    {
     "name": "stdout",
     "output_type": "stream",
     "text": [
      "357\n"
     ]
    },
    {
     "name": "stderr",
     "output_type": "stream",
     "text": [
      "rule转化逻辑表达式进度:  28%|██▊       | 176/618 [1:33:40<3:18:25, 26.94s/it]"
     ]
    },
    {
     "name": "stdout",
     "output_type": "stream",
     "text": [
      "358\n"
     ]
    },
    {
     "name": "stderr",
     "output_type": "stream",
     "text": [
      "rule转化逻辑表达式进度:  29%|██▊       | 177/618 [1:34:12<3:28:25, 28.36s/it]"
     ]
    },
    {
     "name": "stdout",
     "output_type": "stream",
     "text": [
      "359\n"
     ]
    },
    {
     "name": "stderr",
     "output_type": "stream",
     "text": [
      "rule转化逻辑表达式进度:  29%|██▉       | 178/618 [1:35:00<4:10:38, 34.18s/it]"
     ]
    },
    {
     "name": "stdout",
     "output_type": "stream",
     "text": [
      "360\n"
     ]
    },
    {
     "name": "stderr",
     "output_type": "stream",
     "text": [
      "rule转化逻辑表达式进度:  29%|██▉       | 179/618 [1:35:51<4:46:52, 39.21s/it]"
     ]
    },
    {
     "name": "stdout",
     "output_type": "stream",
     "text": [
      "361\n"
     ]
    },
    {
     "name": "stderr",
     "output_type": "stream",
     "text": [
      "rule转化逻辑表达式进度:  29%|██▉       | 180/618 [1:36:45<5:20:16, 43.87s/it]"
     ]
    },
    {
     "name": "stdout",
     "output_type": "stream",
     "text": [
      "362\n"
     ]
    },
    {
     "name": "stderr",
     "output_type": "stream",
     "text": [
      "rule转化逻辑表达式进度:  29%|██▉       | 181/618 [1:37:29<5:18:39, 43.75s/it]"
     ]
    },
    {
     "name": "stdout",
     "output_type": "stream",
     "text": [
      "363\n"
     ]
    },
    {
     "name": "stderr",
     "output_type": "stream",
     "text": [
      "rule转化逻辑表达式进度:  29%|██▉       | 182/618 [1:37:51<4:29:59, 37.15s/it]"
     ]
    },
    {
     "name": "stdout",
     "output_type": "stream",
     "text": [
      "364\n"
     ]
    },
    {
     "name": "stderr",
     "output_type": "stream",
     "text": [
      "rule转化逻辑表达式进度:  30%|██▉       | 183/618 [1:38:47<5:11:49, 43.01s/it]"
     ]
    },
    {
     "name": "stdout",
     "output_type": "stream",
     "text": [
      "365\n"
     ]
    },
    {
     "name": "stderr",
     "output_type": "stream",
     "text": [
      "rule转化逻辑表达式进度:  30%|██▉       | 184/618 [1:39:17<4:42:32, 39.06s/it]"
     ]
    },
    {
     "name": "stdout",
     "output_type": "stream",
     "text": [
      "366\n"
     ]
    },
    {
     "name": "stderr",
     "output_type": "stream",
     "text": [
      "rule转化逻辑表达式进度:  30%|██▉       | 185/618 [1:39:59<4:47:20, 39.82s/it]"
     ]
    },
    {
     "name": "stdout",
     "output_type": "stream",
     "text": [
      "367\n"
     ]
    },
    {
     "name": "stderr",
     "output_type": "stream",
     "text": [
      "rule转化逻辑表达式进度:  30%|███       | 186/618 [1:40:53<5:17:33, 44.11s/it]"
     ]
    },
    {
     "name": "stdout",
     "output_type": "stream",
     "text": [
      "368\n"
     ]
    },
    {
     "name": "stderr",
     "output_type": "stream",
     "text": [
      "rule转化逻辑表达式进度:  30%|███       | 187/618 [1:41:46<5:35:37, 46.72s/it]"
     ]
    },
    {
     "name": "stdout",
     "output_type": "stream",
     "text": [
      "369\n"
     ]
    },
    {
     "name": "stderr",
     "output_type": "stream",
     "text": [
      "rule转化逻辑表达式进度:  30%|███       | 188/618 [1:42:19<5:06:51, 42.82s/it]"
     ]
    },
    {
     "name": "stdout",
     "output_type": "stream",
     "text": [
      "370\n"
     ]
    },
    {
     "name": "stderr",
     "output_type": "stream",
     "text": [
      "rule转化逻辑表达式进度:  31%|███       | 189/618 [1:42:40<4:19:24, 36.28s/it]"
     ]
    },
    {
     "name": "stdout",
     "output_type": "stream",
     "text": [
      "371\n"
     ]
    },
    {
     "name": "stderr",
     "output_type": "stream",
     "text": [
      "rule转化逻辑表达式进度:  31%|███       | 190/618 [1:43:43<5:15:59, 44.30s/it]"
     ]
    },
    {
     "name": "stdout",
     "output_type": "stream",
     "text": [
      "372\n"
     ]
    },
    {
     "name": "stderr",
     "output_type": "stream",
     "text": [
      "rule转化逻辑表达式进度:  31%|███       | 191/618 [1:44:05<4:27:16, 37.56s/it]"
     ]
    },
    {
     "name": "stdout",
     "output_type": "stream",
     "text": [
      "373\n"
     ]
    },
    {
     "name": "stderr",
     "output_type": "stream",
     "text": [
      "rule转化逻辑表达式进度:  31%|███       | 192/618 [1:44:42<4:24:35, 37.27s/it]"
     ]
    },
    {
     "name": "stdout",
     "output_type": "stream",
     "text": [
      "374\n"
     ]
    },
    {
     "name": "stderr",
     "output_type": "stream",
     "text": [
      "rule转化逻辑表达式进度:  31%|███       | 193/618 [1:45:30<4:47:21, 40.57s/it]"
     ]
    },
    {
     "name": "stdout",
     "output_type": "stream",
     "text": [
      "375\n"
     ]
    },
    {
     "name": "stderr",
     "output_type": "stream",
     "text": [
      "rule转化逻辑表达式进度:  31%|███▏      | 194/618 [1:46:06<4:37:07, 39.22s/it]"
     ]
    },
    {
     "name": "stdout",
     "output_type": "stream",
     "text": [
      "376\n"
     ]
    },
    {
     "name": "stderr",
     "output_type": "stream",
     "text": [
      "rule转化逻辑表达式进度:  32%|███▏      | 195/618 [1:46:44<4:34:22, 38.92s/it]"
     ]
    },
    {
     "name": "stdout",
     "output_type": "stream",
     "text": [
      "377\n"
     ]
    },
    {
     "name": "stderr",
     "output_type": "stream",
     "text": [
      "rule转化逻辑表达式进度:  32%|███▏      | 196/618 [1:47:46<5:22:04, 45.79s/it]"
     ]
    },
    {
     "name": "stdout",
     "output_type": "stream",
     "text": [
      "378\n"
     ]
    },
    {
     "name": "stderr",
     "output_type": "stream",
     "text": [
      "rule转化逻辑表达式进度:  32%|███▏      | 197/618 [1:48:28<5:12:36, 44.55s/it]"
     ]
    },
    {
     "name": "stdout",
     "output_type": "stream",
     "text": [
      "379\n"
     ]
    },
    {
     "name": "stderr",
     "output_type": "stream",
     "text": [
      "rule转化逻辑表达式进度:  32%|███▏      | 198/618 [1:48:56<4:36:33, 39.51s/it]"
     ]
    },
    {
     "name": "stdout",
     "output_type": "stream",
     "text": [
      "380\n"
     ]
    },
    {
     "name": "stderr",
     "output_type": "stream",
     "text": [
      "rule转化逻辑表达式进度:  32%|███▏      | 199/618 [1:49:21<4:06:01, 35.23s/it]"
     ]
    },
    {
     "name": "stdout",
     "output_type": "stream",
     "text": [
      "381\n"
     ]
    },
    {
     "name": "stderr",
     "output_type": "stream",
     "text": [
      "rule转化逻辑表达式进度:  32%|███▏      | 200/618 [1:49:55<4:02:58, 34.88s/it]"
     ]
    },
    {
     "name": "stdout",
     "output_type": "stream",
     "text": [
      "382\n"
     ]
    },
    {
     "name": "stderr",
     "output_type": "stream",
     "text": [
      "rule转化逻辑表达式进度:  33%|███▎      | 201/618 [1:50:20<3:42:28, 32.01s/it]"
     ]
    },
    {
     "name": "stdout",
     "output_type": "stream",
     "text": [
      "383\n"
     ]
    },
    {
     "name": "stderr",
     "output_type": "stream",
     "text": [
      "rule转化逻辑表达式进度:  33%|███▎      | 202/618 [1:51:08<4:14:40, 36.73s/it]"
     ]
    },
    {
     "name": "stdout",
     "output_type": "stream",
     "text": [
      "384\n"
     ]
    },
    {
     "name": "stderr",
     "output_type": "stream",
     "text": [
      "rule转化逻辑表达式进度:  33%|███▎      | 203/618 [1:51:30<3:43:40, 32.34s/it]"
     ]
    },
    {
     "name": "stdout",
     "output_type": "stream",
     "text": [
      "385\n"
     ]
    },
    {
     "name": "stderr",
     "output_type": "stream",
     "text": [
      "rule转化逻辑表达式进度:  33%|███▎      | 204/618 [1:52:08<3:54:24, 33.97s/it]"
     ]
    },
    {
     "name": "stdout",
     "output_type": "stream",
     "text": [
      "386\n"
     ]
    },
    {
     "name": "stderr",
     "output_type": "stream",
     "text": [
      "rule转化逻辑表达式进度:  33%|███▎      | 205/618 [1:52:40<3:50:19, 33.46s/it]"
     ]
    },
    {
     "name": "stdout",
     "output_type": "stream",
     "text": [
      "387\n"
     ]
    },
    {
     "name": "stderr",
     "output_type": "stream",
     "text": [
      "rule转化逻辑表达式进度:  33%|███▎      | 206/618 [1:53:20<4:03:35, 35.48s/it]"
     ]
    },
    {
     "name": "stdout",
     "output_type": "stream",
     "text": [
      "388\n"
     ]
    },
    {
     "name": "stderr",
     "output_type": "stream",
     "text": [
      "rule转化逻辑表达式进度:  33%|███▎      | 207/618 [1:53:55<4:01:00, 35.18s/it]"
     ]
    },
    {
     "name": "stdout",
     "output_type": "stream",
     "text": [
      "389\n"
     ]
    },
    {
     "name": "stderr",
     "output_type": "stream",
     "text": [
      "rule转化逻辑表达式进度:  34%|███▎      | 208/618 [1:54:46<4:33:33, 40.03s/it]"
     ]
    },
    {
     "name": "stdout",
     "output_type": "stream",
     "text": [
      "390\n"
     ]
    },
    {
     "name": "stderr",
     "output_type": "stream",
     "text": [
      "rule转化逻辑表达式进度:  34%|███▍      | 209/618 [1:55:25<4:30:06, 39.62s/it]"
     ]
    },
    {
     "name": "stdout",
     "output_type": "stream",
     "text": [
      "391\n"
     ]
    },
    {
     "name": "stderr",
     "output_type": "stream",
     "text": [
      "rule转化逻辑表达式进度:  34%|███▍      | 210/618 [1:56:07<4:34:41, 40.40s/it]"
     ]
    },
    {
     "name": "stdout",
     "output_type": "stream",
     "text": [
      "392\n"
     ]
    },
    {
     "name": "stderr",
     "output_type": "stream",
     "text": [
      "rule转化逻辑表达式进度:  34%|███▍      | 211/618 [1:56:45<4:29:41, 39.76s/it]"
     ]
    },
    {
     "name": "stdout",
     "output_type": "stream",
     "text": [
      "393\n"
     ]
    },
    {
     "name": "stderr",
     "output_type": "stream",
     "text": [
      "rule转化逻辑表达式进度:  34%|███▍      | 212/618 [1:57:14<4:06:03, 36.36s/it]"
     ]
    },
    {
     "name": "stdout",
     "output_type": "stream",
     "text": [
      "394\n"
     ]
    },
    {
     "name": "stderr",
     "output_type": "stream",
     "text": [
      "rule转化逻辑表达式进度:  34%|███▍      | 213/618 [1:57:37<3:38:32, 32.38s/it]"
     ]
    },
    {
     "name": "stdout",
     "output_type": "stream",
     "text": [
      "395\n"
     ]
    },
    {
     "name": "stderr",
     "output_type": "stream",
     "text": [
      "rule转化逻辑表达式进度:  35%|███▍      | 214/618 [1:58:05<3:29:49, 31.16s/it]"
     ]
    },
    {
     "name": "stdout",
     "output_type": "stream",
     "text": [
      "396\n"
     ]
    },
    {
     "name": "stderr",
     "output_type": "stream",
     "text": [
      "rule转化逻辑表达式进度:  35%|███▍      | 215/618 [1:58:38<3:32:47, 31.68s/it]"
     ]
    },
    {
     "name": "stdout",
     "output_type": "stream",
     "text": [
      "397\n"
     ]
    },
    {
     "name": "stderr",
     "output_type": "stream",
     "text": [
      "rule转化逻辑表达式进度:  35%|███▍      | 216/618 [1:59:18<3:49:29, 34.25s/it]"
     ]
    },
    {
     "name": "stdout",
     "output_type": "stream",
     "text": [
      "398\n"
     ]
    },
    {
     "name": "stderr",
     "output_type": "stream",
     "text": [
      "rule转化逻辑表达式进度:  35%|███▌      | 217/618 [1:59:47<3:37:15, 32.51s/it]"
     ]
    },
    {
     "name": "stdout",
     "output_type": "stream",
     "text": [
      "399\n"
     ]
    },
    {
     "name": "stderr",
     "output_type": "stream",
     "text": [
      "rule转化逻辑表达式进度:  35%|███▌      | 218/618 [2:00:10<3:18:56, 29.84s/it]"
     ]
    },
    {
     "name": "stdout",
     "output_type": "stream",
     "text": [
      "400\n"
     ]
    },
    {
     "name": "stderr",
     "output_type": "stream",
     "text": [
      "rule转化逻辑表达式进度:  35%|███▌      | 219/618 [2:00:39<3:15:27, 29.39s/it]"
     ]
    },
    {
     "name": "stdout",
     "output_type": "stream",
     "text": [
      "401\n"
     ]
    },
    {
     "name": "stderr",
     "output_type": "stream",
     "text": [
      "rule转化逻辑表达式进度:  36%|███▌      | 220/618 [2:01:24<3:47:40, 34.32s/it]"
     ]
    },
    {
     "name": "stdout",
     "output_type": "stream",
     "text": [
      "402\n"
     ]
    },
    {
     "name": "stderr",
     "output_type": "stream",
     "text": [
      "rule转化逻辑表达式进度:  36%|███▌      | 221/618 [2:02:17<4:23:40, 39.85s/it]"
     ]
    },
    {
     "name": "stdout",
     "output_type": "stream",
     "text": [
      "403\n"
     ]
    },
    {
     "name": "stderr",
     "output_type": "stream",
     "text": [
      "rule转化逻辑表达式进度:  36%|███▌      | 222/618 [2:02:56<4:20:38, 39.49s/it]"
     ]
    },
    {
     "name": "stdout",
     "output_type": "stream",
     "text": [
      "404\n"
     ]
    },
    {
     "name": "stderr",
     "output_type": "stream",
     "text": [
      "rule转化逻辑表达式进度:  36%|███▌      | 223/618 [2:03:26<4:00:41, 36.56s/it]"
     ]
    },
    {
     "name": "stdout",
     "output_type": "stream",
     "text": [
      "405\n"
     ]
    },
    {
     "name": "stderr",
     "output_type": "stream",
     "text": [
      "rule转化逻辑表达式进度:  36%|███▌      | 224/618 [2:03:57<3:49:12, 34.90s/it]"
     ]
    },
    {
     "name": "stdout",
     "output_type": "stream",
     "text": [
      "406\n"
     ]
    },
    {
     "name": "stderr",
     "output_type": "stream",
     "text": [
      "rule转化逻辑表达式进度:  36%|███▋      | 225/618 [2:04:14<3:13:31, 29.55s/it]"
     ]
    },
    {
     "name": "stdout",
     "output_type": "stream",
     "text": [
      "407\n"
     ]
    },
    {
     "name": "stderr",
     "output_type": "stream",
     "text": [
      "rule转化逻辑表达式进度:  37%|███▋      | 226/618 [2:04:39<3:05:39, 28.42s/it]"
     ]
    },
    {
     "name": "stdout",
     "output_type": "stream",
     "text": [
      "408\n"
     ]
    },
    {
     "name": "stderr",
     "output_type": "stream",
     "text": [
      "rule转化逻辑表达式进度:  37%|███▋      | 227/618 [2:05:03<2:56:27, 27.08s/it]"
     ]
    },
    {
     "name": "stdout",
     "output_type": "stream",
     "text": [
      "409\n"
     ]
    },
    {
     "name": "stderr",
     "output_type": "stream",
     "text": [
      "rule转化逻辑表达式进度:  37%|███▋      | 228/618 [2:05:46<3:26:25, 31.76s/it]"
     ]
    },
    {
     "name": "stdout",
     "output_type": "stream",
     "text": [
      "410\n"
     ]
    },
    {
     "name": "stderr",
     "output_type": "stream",
     "text": [
      "rule转化逻辑表达式进度:  37%|███▋      | 229/618 [2:06:33<3:56:07, 36.42s/it]"
     ]
    },
    {
     "name": "stdout",
     "output_type": "stream",
     "text": [
      "411\n"
     ]
    },
    {
     "name": "stderr",
     "output_type": "stream",
     "text": [
      "rule转化逻辑表达式进度:  37%|███▋      | 230/618 [2:07:07<3:50:04, 35.58s/it]"
     ]
    },
    {
     "name": "stdout",
     "output_type": "stream",
     "text": [
      "412\n"
     ]
    },
    {
     "name": "stderr",
     "output_type": "stream",
     "text": [
      "rule转化逻辑表达式进度:  37%|███▋      | 231/618 [2:07:39<3:42:00, 34.42s/it]"
     ]
    },
    {
     "name": "stdout",
     "output_type": "stream",
     "text": [
      "413\n"
     ]
    },
    {
     "name": "stderr",
     "output_type": "stream",
     "text": [
      "rule转化逻辑表达式进度:  38%|███▊      | 232/618 [2:08:09<3:32:52, 33.09s/it]"
     ]
    },
    {
     "name": "stdout",
     "output_type": "stream",
     "text": [
      "414\n"
     ]
    },
    {
     "name": "stderr",
     "output_type": "stream",
     "text": [
      "rule转化逻辑表达式进度:  38%|███▊      | 233/618 [2:09:04<4:14:58, 39.74s/it]"
     ]
    },
    {
     "name": "stdout",
     "output_type": "stream",
     "text": [
      "415\n"
     ]
    },
    {
     "name": "stderr",
     "output_type": "stream",
     "text": [
      "rule转化逻辑表达式进度:  38%|███▊      | 234/618 [2:09:36<3:59:51, 37.48s/it]"
     ]
    },
    {
     "name": "stdout",
     "output_type": "stream",
     "text": [
      "416\n"
     ]
    },
    {
     "name": "stderr",
     "output_type": "stream",
     "text": [
      "rule转化逻辑表达式进度:  38%|███▊      | 235/618 [2:10:01<3:36:03, 33.85s/it]"
     ]
    },
    {
     "name": "stdout",
     "output_type": "stream",
     "text": [
      "417\n"
     ]
    },
    {
     "name": "stderr",
     "output_type": "stream",
     "text": [
      "rule转化逻辑表达式进度:  38%|███▊      | 236/618 [2:10:36<3:36:47, 34.05s/it]"
     ]
    },
    {
     "name": "stdout",
     "output_type": "stream",
     "text": [
      "418\n"
     ]
    },
    {
     "name": "stderr",
     "output_type": "stream",
     "text": [
      "rule转化逻辑表达式进度:  38%|███▊      | 237/618 [2:11:01<3:18:20, 31.23s/it]"
     ]
    },
    {
     "name": "stdout",
     "output_type": "stream",
     "text": [
      "419\n"
     ]
    },
    {
     "name": "stderr",
     "output_type": "stream",
     "text": [
      "rule转化逻辑表达式进度:  39%|███▊      | 238/618 [2:11:30<3:13:36, 30.57s/it]"
     ]
    },
    {
     "name": "stdout",
     "output_type": "stream",
     "text": [
      "420\n"
     ]
    },
    {
     "name": "stderr",
     "output_type": "stream",
     "text": [
      "rule转化逻辑表达式进度:  39%|███▊      | 239/618 [2:12:16<3:42:38, 35.25s/it]"
     ]
    },
    {
     "name": "stdout",
     "output_type": "stream",
     "text": [
      "421\n"
     ]
    },
    {
     "name": "stderr",
     "output_type": "stream",
     "text": [
      "rule转化逻辑表达式进度:  39%|███▉      | 240/618 [2:12:47<3:34:23, 34.03s/it]"
     ]
    },
    {
     "name": "stdout",
     "output_type": "stream",
     "text": [
      "422\n"
     ]
    },
    {
     "name": "stderr",
     "output_type": "stream",
     "text": [
      "rule转化逻辑表达式进度:  39%|███▉      | 241/618 [2:13:13<3:17:41, 31.46s/it]"
     ]
    },
    {
     "name": "stdout",
     "output_type": "stream",
     "text": [
      "423\n"
     ]
    },
    {
     "name": "stderr",
     "output_type": "stream",
     "text": [
      "rule转化逻辑表达式进度:  39%|███▉      | 242/618 [2:13:55<3:37:55, 34.78s/it]"
     ]
    },
    {
     "name": "stdout",
     "output_type": "stream",
     "text": [
      "424\n"
     ]
    },
    {
     "name": "stderr",
     "output_type": "stream",
     "text": [
      "rule转化逻辑表达式进度:  39%|███▉      | 243/618 [2:14:31<3:39:15, 35.08s/it]"
     ]
    },
    {
     "name": "stdout",
     "output_type": "stream",
     "text": [
      "425\n"
     ]
    },
    {
     "name": "stderr",
     "output_type": "stream",
     "text": [
      "rule转化逻辑表达式进度:  39%|███▉      | 244/618 [2:15:09<3:44:53, 36.08s/it]"
     ]
    },
    {
     "name": "stdout",
     "output_type": "stream",
     "text": [
      "426\n"
     ]
    },
    {
     "name": "stderr",
     "output_type": "stream",
     "text": [
      "rule转化逻辑表达式进度:  40%|███▉      | 245/618 [2:15:30<3:15:09, 31.39s/it]"
     ]
    },
    {
     "name": "stdout",
     "output_type": "stream",
     "text": [
      "427\n"
     ]
    },
    {
     "name": "stderr",
     "output_type": "stream",
     "text": [
      "rule转化逻辑表达式进度:  40%|███▉      | 246/618 [2:15:54<3:01:33, 29.28s/it]"
     ]
    },
    {
     "name": "stdout",
     "output_type": "stream",
     "text": [
      "428\n"
     ]
    },
    {
     "name": "stderr",
     "output_type": "stream",
     "text": [
      "rule转化逻辑表达式进度:  40%|███▉      | 247/618 [2:16:19<2:53:42, 28.09s/it]"
     ]
    },
    {
     "name": "stdout",
     "output_type": "stream",
     "text": [
      "429\n"
     ]
    },
    {
     "name": "stderr",
     "output_type": "stream",
     "text": [
      "rule转化逻辑表达式进度:  40%|████      | 248/618 [2:16:49<2:55:31, 28.46s/it]"
     ]
    },
    {
     "name": "stdout",
     "output_type": "stream",
     "text": [
      "430\n"
     ]
    },
    {
     "name": "stderr",
     "output_type": "stream",
     "text": [
      "rule转化逻辑表达式进度:  40%|████      | 249/618 [2:17:21<3:02:48, 29.72s/it]"
     ]
    },
    {
     "name": "stdout",
     "output_type": "stream",
     "text": [
      "431\n"
     ]
    },
    {
     "name": "stderr",
     "output_type": "stream",
     "text": [
      "rule转化逻辑表达式进度:  40%|████      | 250/618 [2:18:00<3:18:38, 32.39s/it]"
     ]
    },
    {
     "name": "stdout",
     "output_type": "stream",
     "text": [
      "432\n"
     ]
    },
    {
     "name": "stderr",
     "output_type": "stream",
     "text": [
      "rule转化逻辑表达式进度:  41%|████      | 251/618 [2:18:15<2:47:04, 27.31s/it]"
     ]
    },
    {
     "name": "stdout",
     "output_type": "stream",
     "text": [
      "433\n"
     ]
    },
    {
     "name": "stderr",
     "output_type": "stream",
     "text": [
      "rule转化逻辑表达式进度:  41%|████      | 252/618 [2:19:02<3:21:44, 33.07s/it]"
     ]
    },
    {
     "name": "stdout",
     "output_type": "stream",
     "text": [
      "434\n"
     ]
    },
    {
     "name": "stderr",
     "output_type": "stream",
     "text": [
      "rule转化逻辑表达式进度:  41%|████      | 253/618 [2:19:39<3:28:42, 34.31s/it]"
     ]
    },
    {
     "name": "stdout",
     "output_type": "stream",
     "text": [
      "435\n"
     ]
    },
    {
     "name": "stderr",
     "output_type": "stream",
     "text": [
      "rule转化逻辑表达式进度:  41%|████      | 254/618 [2:20:02<3:06:33, 30.75s/it]"
     ]
    },
    {
     "name": "stdout",
     "output_type": "stream",
     "text": [
      "436\n"
     ]
    },
    {
     "name": "stderr",
     "output_type": "stream",
     "text": [
      "rule转化逻辑表达式进度:  41%|████▏     | 255/618 [2:20:29<3:00:30, 29.84s/it]"
     ]
    },
    {
     "name": "stdout",
     "output_type": "stream",
     "text": [
      "437\n"
     ]
    },
    {
     "name": "stderr",
     "output_type": "stream",
     "text": [
      "rule转化逻辑表达式进度:  41%|████▏     | 256/618 [2:21:00<3:01:15, 30.04s/it]"
     ]
    },
    {
     "name": "stdout",
     "output_type": "stream",
     "text": [
      "438\n"
     ]
    },
    {
     "name": "stderr",
     "output_type": "stream",
     "text": [
      "rule转化逻辑表达式进度:  42%|████▏     | 257/618 [2:21:27<2:56:14, 29.29s/it]"
     ]
    },
    {
     "name": "stdout",
     "output_type": "stream",
     "text": [
      "439\n"
     ]
    },
    {
     "name": "stderr",
     "output_type": "stream",
     "text": [
      "rule转化逻辑表达式进度:  42%|████▏     | 258/618 [2:22:19<3:36:32, 36.09s/it]"
     ]
    },
    {
     "name": "stdout",
     "output_type": "stream",
     "text": [
      "440\n"
     ]
    },
    {
     "name": "stderr",
     "output_type": "stream",
     "text": [
      "rule转化逻辑表达式进度:  42%|████▏     | 259/618 [2:22:46<3:19:01, 33.26s/it]"
     ]
    },
    {
     "name": "stdout",
     "output_type": "stream",
     "text": [
      "441\n"
     ]
    },
    {
     "name": "stderr",
     "output_type": "stream",
     "text": [
      "rule转化逻辑表达式进度:  42%|████▏     | 260/618 [2:23:12<3:05:28, 31.08s/it]"
     ]
    },
    {
     "name": "stdout",
     "output_type": "stream",
     "text": [
      "442\n"
     ]
    },
    {
     "name": "stderr",
     "output_type": "stream",
     "text": [
      "rule转化逻辑表达式进度:  42%|████▏     | 261/618 [2:23:52<3:20:33, 33.71s/it]"
     ]
    },
    {
     "name": "stdout",
     "output_type": "stream",
     "text": [
      "443\n"
     ]
    },
    {
     "name": "stderr",
     "output_type": "stream",
     "text": [
      "rule转化逻辑表达式进度:  42%|████▏     | 262/618 [2:24:19<3:07:31, 31.61s/it]"
     ]
    },
    {
     "name": "stdout",
     "output_type": "stream",
     "text": [
      "444\n"
     ]
    },
    {
     "name": "stderr",
     "output_type": "stream",
     "text": [
      "rule转化逻辑表达式进度:  43%|████▎     | 263/618 [2:24:51<3:09:18, 32.00s/it]"
     ]
    },
    {
     "name": "stdout",
     "output_type": "stream",
     "text": [
      "445\n"
     ]
    },
    {
     "name": "stderr",
     "output_type": "stream",
     "text": [
      "rule转化逻辑表达式进度:  43%|████▎     | 264/618 [2:25:21<3:04:08, 31.21s/it]"
     ]
    },
    {
     "name": "stdout",
     "output_type": "stream",
     "text": [
      "446\n"
     ]
    },
    {
     "name": "stderr",
     "output_type": "stream",
     "text": [
      "rule转化逻辑表达式进度:  43%|████▎     | 265/618 [2:25:48<2:57:23, 30.15s/it]"
     ]
    },
    {
     "name": "stdout",
     "output_type": "stream",
     "text": [
      "447\n"
     ]
    },
    {
     "name": "stderr",
     "output_type": "stream",
     "text": [
      "rule转化逻辑表达式进度:  43%|████▎     | 266/618 [2:26:19<2:57:35, 30.27s/it]"
     ]
    },
    {
     "name": "stdout",
     "output_type": "stream",
     "text": [
      "448\n"
     ]
    },
    {
     "name": "stderr",
     "output_type": "stream",
     "text": [
      "rule转化逻辑表达式进度:  43%|████▎     | 267/618 [2:26:45<2:48:54, 28.87s/it]"
     ]
    },
    {
     "name": "stdout",
     "output_type": "stream",
     "text": [
      "449\n"
     ]
    },
    {
     "name": "stderr",
     "output_type": "stream",
     "text": [
      "rule转化逻辑表达式进度:  43%|████▎     | 268/618 [2:27:34<3:24:41, 35.09s/it]"
     ]
    },
    {
     "name": "stdout",
     "output_type": "stream",
     "text": [
      "450\n"
     ]
    },
    {
     "name": "stderr",
     "output_type": "stream",
     "text": [
      "rule转化逻辑表达式进度:  44%|████▎     | 269/618 [2:28:05<3:16:30, 33.78s/it]"
     ]
    },
    {
     "name": "stdout",
     "output_type": "stream",
     "text": [
      "451\n"
     ]
    },
    {
     "name": "stderr",
     "output_type": "stream",
     "text": [
      "rule转化逻辑表达式进度:  44%|████▎     | 270/618 [2:28:28<2:58:04, 30.70s/it]"
     ]
    },
    {
     "name": "stdout",
     "output_type": "stream",
     "text": [
      "452\n"
     ]
    },
    {
     "name": "stderr",
     "output_type": "stream",
     "text": [
      "rule转化逻辑表达式进度:  44%|████▍     | 271/618 [2:29:00<2:58:32, 30.87s/it]"
     ]
    },
    {
     "name": "stdout",
     "output_type": "stream",
     "text": [
      "453\n"
     ]
    },
    {
     "name": "stderr",
     "output_type": "stream",
     "text": [
      "rule转化逻辑表达式进度:  44%|████▍     | 272/618 [2:29:20<2:38:47, 27.54s/it]"
     ]
    },
    {
     "name": "stdout",
     "output_type": "stream",
     "text": [
      "454\n"
     ]
    },
    {
     "name": "stderr",
     "output_type": "stream",
     "text": [
      "rule转化逻辑表达式进度:  44%|████▍     | 273/618 [2:29:37<2:20:57, 24.52s/it]"
     ]
    },
    {
     "name": "stdout",
     "output_type": "stream",
     "text": [
      "455\n"
     ]
    },
    {
     "name": "stderr",
     "output_type": "stream",
     "text": [
      "rule转化逻辑表达式进度:  44%|████▍     | 274/618 [2:29:47<1:54:54, 20.04s/it]"
     ]
    },
    {
     "name": "stdout",
     "output_type": "stream",
     "text": [
      "456\n"
     ]
    },
    {
     "name": "stderr",
     "output_type": "stream",
     "text": [
      "rule转化逻辑表达式进度:  44%|████▍     | 275/618 [2:30:05<1:52:29, 19.68s/it]"
     ]
    },
    {
     "name": "stdout",
     "output_type": "stream",
     "text": [
      "457\n"
     ]
    },
    {
     "name": "stderr",
     "output_type": "stream",
     "text": [
      "rule转化逻辑表达式进度:  45%|████▍     | 276/618 [2:30:33<2:06:13, 22.15s/it]"
     ]
    },
    {
     "name": "stdout",
     "output_type": "stream",
     "text": [
      "458\n"
     ]
    },
    {
     "name": "stderr",
     "output_type": "stream",
     "text": [
      "rule转化逻辑表达式进度:  45%|████▍     | 277/618 [2:31:15<2:39:33, 28.07s/it]"
     ]
    },
    {
     "name": "stdout",
     "output_type": "stream",
     "text": [
      "459\n"
     ]
    },
    {
     "name": "stderr",
     "output_type": "stream",
     "text": [
      "rule转化逻辑表达式进度:  45%|████▍     | 278/618 [2:31:52<2:53:44, 30.66s/it]"
     ]
    },
    {
     "name": "stdout",
     "output_type": "stream",
     "text": [
      "460\n"
     ]
    },
    {
     "name": "stderr",
     "output_type": "stream",
     "text": [
      "rule转化逻辑表达式进度:  45%|████▌     | 279/618 [2:32:44<3:29:08, 37.02s/it]"
     ]
    },
    {
     "name": "stdout",
     "output_type": "stream",
     "text": [
      "461\n"
     ]
    },
    {
     "name": "stderr",
     "output_type": "stream",
     "text": [
      "rule转化逻辑表达式进度:  45%|████▌     | 280/618 [2:33:40<4:00:32, 42.70s/it]"
     ]
    },
    {
     "name": "stdout",
     "output_type": "stream",
     "text": [
      "462\n"
     ]
    },
    {
     "name": "stderr",
     "output_type": "stream",
     "text": [
      "rule转化逻辑表达式进度:  45%|████▌     | 281/618 [2:34:30<4:12:19, 44.92s/it]"
     ]
    },
    {
     "name": "stdout",
     "output_type": "stream",
     "text": [
      "463\n"
     ]
    },
    {
     "name": "stderr",
     "output_type": "stream",
     "text": [
      "rule转化逻辑表达式进度:  46%|████▌     | 282/618 [2:35:21<4:21:33, 46.71s/it]"
     ]
    },
    {
     "name": "stdout",
     "output_type": "stream",
     "text": [
      "464\n"
     ]
    },
    {
     "name": "stderr",
     "output_type": "stream",
     "text": [
      "rule转化逻辑表达式进度:  46%|████▌     | 283/618 [2:36:10<4:25:55, 47.63s/it]"
     ]
    },
    {
     "name": "stdout",
     "output_type": "stream",
     "text": [
      "465\n"
     ]
    },
    {
     "name": "stderr",
     "output_type": "stream",
     "text": [
      "rule转化逻辑表达式进度:  46%|████▌     | 284/618 [2:36:36<3:47:23, 40.85s/it]"
     ]
    },
    {
     "name": "stdout",
     "output_type": "stream",
     "text": [
      "466\n"
     ]
    },
    {
     "name": "stderr",
     "output_type": "stream",
     "text": [
      "rule转化逻辑表达式进度:  46%|████▌     | 285/618 [2:36:58<3:16:51, 35.47s/it]"
     ]
    },
    {
     "name": "stdout",
     "output_type": "stream",
     "text": [
      "467\n"
     ]
    },
    {
     "name": "stderr",
     "output_type": "stream",
     "text": [
      "rule转化逻辑表达式进度:  46%|████▋     | 286/618 [2:37:31<3:11:26, 34.60s/it]"
     ]
    },
    {
     "name": "stdout",
     "output_type": "stream",
     "text": [
      "468\n"
     ]
    },
    {
     "name": "stderr",
     "output_type": "stream",
     "text": [
      "rule转化逻辑表达式进度:  46%|████▋     | 287/618 [2:37:56<2:54:16, 31.59s/it]"
     ]
    },
    {
     "name": "stdout",
     "output_type": "stream",
     "text": [
      "469\n"
     ]
    },
    {
     "name": "stderr",
     "output_type": "stream",
     "text": [
      "rule转化逻辑表达式进度:  47%|████▋     | 288/618 [2:38:29<2:56:24, 32.08s/it]"
     ]
    },
    {
     "name": "stdout",
     "output_type": "stream",
     "text": [
      "470\n"
     ]
    },
    {
     "name": "stderr",
     "output_type": "stream",
     "text": [
      "rule转化逻辑表达式进度:  47%|████▋     | 289/618 [2:39:08<3:06:59, 34.10s/it]"
     ]
    },
    {
     "name": "stdout",
     "output_type": "stream",
     "text": [
      "471\n"
     ]
    },
    {
     "name": "stderr",
     "output_type": "stream",
     "text": [
      "rule转化逻辑表达式进度:  47%|████▋     | 290/618 [2:40:07<3:47:59, 41.71s/it]"
     ]
    },
    {
     "name": "stdout",
     "output_type": "stream",
     "text": [
      "472\n"
     ]
    },
    {
     "name": "stderr",
     "output_type": "stream",
     "text": [
      "rule转化逻辑表达式进度:  47%|████▋     | 291/618 [2:40:41<3:35:04, 39.46s/it]"
     ]
    },
    {
     "name": "stdout",
     "output_type": "stream",
     "text": [
      "473\n"
     ]
    },
    {
     "name": "stderr",
     "output_type": "stream",
     "text": [
      "rule转化逻辑表达式进度:  47%|████▋     | 292/618 [2:41:23<3:37:32, 40.04s/it]"
     ]
    },
    {
     "name": "stdout",
     "output_type": "stream",
     "text": [
      "474\n"
     ]
    },
    {
     "name": "stderr",
     "output_type": "stream",
     "text": [
      "rule转化逻辑表达式进度:  47%|████▋     | 293/618 [2:41:45<3:08:16, 34.76s/it]"
     ]
    },
    {
     "name": "stdout",
     "output_type": "stream",
     "text": [
      "475\n"
     ]
    },
    {
     "name": "stderr",
     "output_type": "stream",
     "text": [
      "rule转化逻辑表达式进度:  48%|████▊     | 294/618 [2:42:23<3:12:02, 35.56s/it]"
     ]
    },
    {
     "name": "stdout",
     "output_type": "stream",
     "text": [
      "476\n"
     ]
    },
    {
     "name": "stderr",
     "output_type": "stream",
     "text": [
      "rule转化逻辑表达式进度:  48%|████▊     | 295/618 [2:43:09<3:29:48, 38.97s/it]"
     ]
    },
    {
     "name": "stdout",
     "output_type": "stream",
     "text": [
      "477\n"
     ]
    },
    {
     "name": "stderr",
     "output_type": "stream",
     "text": [
      "rule转化逻辑表达式进度:  48%|████▊     | 296/618 [2:43:42<3:19:02, 37.09s/it]"
     ]
    },
    {
     "name": "stdout",
     "output_type": "stream",
     "text": [
      "478\n"
     ]
    },
    {
     "name": "stderr",
     "output_type": "stream",
     "text": [
      "rule转化逻辑表达式进度:  48%|████▊     | 297/618 [2:44:22<3:23:23, 38.02s/it]"
     ]
    },
    {
     "name": "stdout",
     "output_type": "stream",
     "text": [
      "479\n"
     ]
    },
    {
     "name": "stderr",
     "output_type": "stream",
     "text": [
      "rule转化逻辑表达式进度:  48%|████▊     | 298/618 [2:45:07<3:33:28, 40.03s/it]"
     ]
    },
    {
     "name": "stdout",
     "output_type": "stream",
     "text": [
      "480\n"
     ]
    },
    {
     "name": "stderr",
     "output_type": "stream",
     "text": [
      "rule转化逻辑表达式进度:  48%|████▊     | 299/618 [2:45:40<3:20:47, 37.77s/it]"
     ]
    },
    {
     "name": "stdout",
     "output_type": "stream",
     "text": [
      "481\n"
     ]
    },
    {
     "name": "stderr",
     "output_type": "stream",
     "text": [
      "rule转化逻辑表达式进度:  49%|████▊     | 300/618 [2:46:02<2:55:00, 33.02s/it]"
     ]
    },
    {
     "name": "stdout",
     "output_type": "stream",
     "text": [
      "482\n"
     ]
    },
    {
     "name": "stderr",
     "output_type": "stream",
     "text": [
      "rule转化逻辑表达式进度:  49%|████▊     | 301/618 [2:46:37<2:57:37, 33.62s/it]"
     ]
    },
    {
     "name": "stdout",
     "output_type": "stream",
     "text": [
      "483\n"
     ]
    },
    {
     "name": "stderr",
     "output_type": "stream",
     "text": [
      "rule转化逻辑表达式进度:  49%|████▉     | 302/618 [2:47:08<2:52:54, 32.83s/it]"
     ]
    },
    {
     "name": "stdout",
     "output_type": "stream",
     "text": [
      "484\n"
     ]
    },
    {
     "name": "stderr",
     "output_type": "stream",
     "text": [
      "rule转化逻辑表达式进度:  49%|████▉     | 303/618 [2:47:49<3:05:46, 35.38s/it]"
     ]
    },
    {
     "name": "stdout",
     "output_type": "stream",
     "text": [
      "485\n"
     ]
    },
    {
     "name": "stderr",
     "output_type": "stream",
     "text": [
      "rule转化逻辑表达式进度:  49%|████▉     | 304/618 [2:48:37<3:25:41, 39.30s/it]"
     ]
    },
    {
     "name": "stdout",
     "output_type": "stream",
     "text": [
      "486\n"
     ]
    },
    {
     "name": "stderr",
     "output_type": "stream",
     "text": [
      "rule转化逻辑表达式进度:  49%|████▉     | 305/618 [2:49:11<3:16:55, 37.75s/it]"
     ]
    },
    {
     "name": "stdout",
     "output_type": "stream",
     "text": [
      "487\n"
     ]
    },
    {
     "name": "stderr",
     "output_type": "stream",
     "text": [
      "rule转化逻辑表达式进度:  50%|████▉     | 306/618 [2:49:43<3:05:57, 35.76s/it]"
     ]
    },
    {
     "name": "stdout",
     "output_type": "stream",
     "text": [
      "488\n"
     ]
    },
    {
     "name": "stderr",
     "output_type": "stream",
     "text": [
      "rule转化逻辑表达式进度:  50%|████▉     | 307/618 [2:50:08<2:49:10, 32.64s/it]"
     ]
    },
    {
     "name": "stdout",
     "output_type": "stream",
     "text": [
      "489\n"
     ]
    },
    {
     "name": "stderr",
     "output_type": "stream",
     "text": [
      "rule转化逻辑表达式进度:  50%|████▉     | 308/618 [2:50:34<2:38:29, 30.68s/it]"
     ]
    },
    {
     "name": "stdout",
     "output_type": "stream",
     "text": [
      "490\n"
     ]
    },
    {
     "name": "stderr",
     "output_type": "stream",
     "text": [
      "rule转化逻辑表达式进度:  50%|█████     | 309/618 [2:51:11<2:47:57, 32.61s/it]"
     ]
    },
    {
     "name": "stdout",
     "output_type": "stream",
     "text": [
      "491\n"
     ]
    },
    {
     "name": "stderr",
     "output_type": "stream",
     "text": [
      "rule转化逻辑表达式进度:  50%|█████     | 310/618 [2:51:37<2:36:52, 30.56s/it]"
     ]
    },
    {
     "name": "stdout",
     "output_type": "stream",
     "text": [
      "492\n"
     ]
    },
    {
     "name": "stderr",
     "output_type": "stream",
     "text": [
      "rule转化逻辑表达式进度:  50%|█████     | 311/618 [2:52:05<2:32:04, 29.72s/it]"
     ]
    },
    {
     "name": "stdout",
     "output_type": "stream",
     "text": [
      "493\n"
     ]
    },
    {
     "name": "stderr",
     "output_type": "stream",
     "text": [
      "rule转化逻辑表达式进度:  50%|█████     | 312/618 [2:52:44<2:45:45, 32.50s/it]"
     ]
    },
    {
     "name": "stdout",
     "output_type": "stream",
     "text": [
      "494\n"
     ]
    },
    {
     "name": "stderr",
     "output_type": "stream",
     "text": [
      "rule转化逻辑表达式进度:  51%|█████     | 313/618 [2:53:29<3:05:04, 36.41s/it]"
     ]
    },
    {
     "name": "stdout",
     "output_type": "stream",
     "text": [
      "495\n"
     ]
    },
    {
     "name": "stderr",
     "output_type": "stream",
     "text": [
      "rule转化逻辑表达式进度:  51%|█████     | 314/618 [2:54:15<3:18:34, 39.19s/it]"
     ]
    },
    {
     "name": "stdout",
     "output_type": "stream",
     "text": [
      "496\n"
     ]
    },
    {
     "name": "stderr",
     "output_type": "stream",
     "text": [
      "rule转化逻辑表达式进度:  51%|█████     | 315/618 [2:54:44<3:02:03, 36.05s/it]"
     ]
    },
    {
     "name": "stdout",
     "output_type": "stream",
     "text": [
      "497\n"
     ]
    },
    {
     "name": "stderr",
     "output_type": "stream",
     "text": [
      "rule转化逻辑表达式进度:  51%|█████     | 316/618 [2:55:00<2:31:43, 30.14s/it]"
     ]
    },
    {
     "name": "stdout",
     "output_type": "stream",
     "text": [
      "498\n"
     ]
    },
    {
     "name": "stderr",
     "output_type": "stream",
     "text": [
      "rule转化逻辑表达式进度:  51%|█████▏    | 317/618 [2:55:48<2:58:44, 35.63s/it]"
     ]
    },
    {
     "name": "stdout",
     "output_type": "stream",
     "text": [
      "499\n"
     ]
    },
    {
     "name": "stderr",
     "output_type": "stream",
     "text": [
      "rule转化逻辑表达式进度:  51%|█████▏    | 318/618 [2:56:28<3:04:27, 36.89s/it]"
     ]
    },
    {
     "name": "stdout",
     "output_type": "stream",
     "text": [
      "500\n"
     ]
    },
    {
     "name": "stderr",
     "output_type": "stream",
     "text": [
      "rule转化逻辑表达式进度:  52%|█████▏    | 319/618 [2:56:57<2:51:20, 34.38s/it]"
     ]
    },
    {
     "name": "stdout",
     "output_type": "stream",
     "text": [
      "501\n"
     ]
    },
    {
     "name": "stderr",
     "output_type": "stream",
     "text": [
      "rule转化逻辑表达式进度:  52%|█████▏    | 320/618 [2:57:23<2:38:10, 31.85s/it]"
     ]
    },
    {
     "name": "stdout",
     "output_type": "stream",
     "text": [
      "502\n"
     ]
    },
    {
     "name": "stderr",
     "output_type": "stream",
     "text": [
      "rule转化逻辑表达式进度:  52%|█████▏    | 321/618 [2:57:48<2:27:59, 29.90s/it]"
     ]
    },
    {
     "name": "stdout",
     "output_type": "stream",
     "text": [
      "503\n"
     ]
    },
    {
     "name": "stderr",
     "output_type": "stream",
     "text": [
      "rule转化逻辑表达式进度:  52%|█████▏    | 322/618 [2:58:13<2:19:51, 28.35s/it]"
     ]
    },
    {
     "name": "stdout",
     "output_type": "stream",
     "text": [
      "504\n"
     ]
    },
    {
     "name": "stderr",
     "output_type": "stream",
     "text": [
      "rule转化逻辑表达式进度:  52%|█████▏    | 323/618 [2:58:29<2:01:07, 24.64s/it]"
     ]
    },
    {
     "name": "stdout",
     "output_type": "stream",
     "text": [
      "505\n"
     ]
    },
    {
     "name": "stderr",
     "output_type": "stream",
     "text": [
      "rule转化逻辑表达式进度:  52%|█████▏    | 324/618 [2:59:06<2:19:11, 28.41s/it]"
     ]
    },
    {
     "name": "stdout",
     "output_type": "stream",
     "text": [
      "506\n"
     ]
    },
    {
     "name": "stderr",
     "output_type": "stream",
     "text": [
      "rule转化逻辑表达式进度:  53%|█████▎    | 325/618 [2:59:54<2:47:17, 34.26s/it]"
     ]
    },
    {
     "name": "stdout",
     "output_type": "stream",
     "text": [
      "507\n"
     ]
    },
    {
     "name": "stderr",
     "output_type": "stream",
     "text": [
      "rule转化逻辑表达式进度:  53%|█████▎    | 326/618 [3:00:15<2:27:59, 30.41s/it]"
     ]
    },
    {
     "name": "stdout",
     "output_type": "stream",
     "text": [
      "508\n"
     ]
    },
    {
     "name": "stderr",
     "output_type": "stream",
     "text": [
      "rule转化逻辑表达式进度:  53%|█████▎    | 327/618 [3:00:41<2:20:47, 29.03s/it]"
     ]
    },
    {
     "name": "stdout",
     "output_type": "stream",
     "text": [
      "509\n"
     ]
    },
    {
     "name": "stderr",
     "output_type": "stream",
     "text": [
      "rule转化逻辑表达式进度:  53%|█████▎    | 328/618 [3:01:05<2:12:36, 27.44s/it]"
     ]
    },
    {
     "name": "stdout",
     "output_type": "stream",
     "text": [
      "510\n"
     ]
    },
    {
     "name": "stderr",
     "output_type": "stream",
     "text": [
      "rule转化逻辑表达式进度:  53%|█████▎    | 329/618 [3:01:43<2:28:21, 30.80s/it]"
     ]
    },
    {
     "name": "stdout",
     "output_type": "stream",
     "text": [
      "511\n"
     ]
    },
    {
     "name": "stderr",
     "output_type": "stream",
     "text": [
      "rule转化逻辑表达式进度:  53%|█████▎    | 330/618 [3:02:12<2:25:10, 30.24s/it]"
     ]
    },
    {
     "name": "stdout",
     "output_type": "stream",
     "text": [
      "512\n"
     ]
    },
    {
     "name": "stderr",
     "output_type": "stream",
     "text": [
      "rule转化逻辑表达式进度:  54%|█████▎    | 331/618 [3:02:40<2:20:32, 29.38s/it]"
     ]
    },
    {
     "name": "stdout",
     "output_type": "stream",
     "text": [
      "513\n"
     ]
    },
    {
     "name": "stderr",
     "output_type": "stream",
     "text": [
      "rule转化逻辑表达式进度:  54%|█████▎    | 332/618 [3:03:00<2:06:35, 26.56s/it]"
     ]
    },
    {
     "name": "stdout",
     "output_type": "stream",
     "text": [
      "514\n"
     ]
    },
    {
     "name": "stderr",
     "output_type": "stream",
     "text": [
      "rule转化逻辑表达式进度:  54%|█████▍    | 333/618 [3:03:28<2:09:11, 27.20s/it]"
     ]
    },
    {
     "name": "stdout",
     "output_type": "stream",
     "text": [
      "515\n"
     ]
    },
    {
     "name": "stderr",
     "output_type": "stream",
     "text": [
      "rule转化逻辑表达式进度:  54%|█████▍    | 334/618 [3:03:48<1:58:22, 25.01s/it]"
     ]
    },
    {
     "name": "stdout",
     "output_type": "stream",
     "text": [
      "516\n"
     ]
    },
    {
     "name": "stderr",
     "output_type": "stream",
     "text": [
      "rule转化逻辑表达式进度:  54%|█████▍    | 335/618 [3:04:21<2:08:25, 27.23s/it]"
     ]
    },
    {
     "name": "stdout",
     "output_type": "stream",
     "text": [
      "517\n"
     ]
    },
    {
     "name": "stderr",
     "output_type": "stream",
     "text": [
      "rule转化逻辑表达式进度:  54%|█████▍    | 336/618 [3:04:45<2:04:07, 26.41s/it]"
     ]
    },
    {
     "name": "stdout",
     "output_type": "stream",
     "text": [
      "518\n"
     ]
    },
    {
     "name": "stderr",
     "output_type": "stream",
     "text": [
      "rule转化逻辑表达式进度:  55%|█████▍    | 337/618 [3:05:16<2:09:52, 27.73s/it]"
     ]
    },
    {
     "name": "stdout",
     "output_type": "stream",
     "text": [
      "519\n"
     ]
    },
    {
     "name": "stderr",
     "output_type": "stream",
     "text": [
      "rule转化逻辑表达式进度:  55%|█████▍    | 338/618 [3:06:03<2:36:15, 33.49s/it]"
     ]
    },
    {
     "name": "stdout",
     "output_type": "stream",
     "text": [
      "520\n"
     ]
    },
    {
     "name": "stderr",
     "output_type": "stream",
     "text": [
      "rule转化逻辑表达式进度:  55%|█████▍    | 339/618 [3:06:42<2:43:05, 35.07s/it]"
     ]
    },
    {
     "name": "stdout",
     "output_type": "stream",
     "text": [
      "521\n"
     ]
    },
    {
     "name": "stderr",
     "output_type": "stream",
     "text": [
      "rule转化逻辑表达式进度:  55%|█████▌    | 340/618 [3:07:16<2:41:18, 34.81s/it]"
     ]
    },
    {
     "name": "stdout",
     "output_type": "stream",
     "text": [
      "522\n"
     ]
    },
    {
     "name": "stderr",
     "output_type": "stream",
     "text": [
      "rule转化逻辑表达式进度:  55%|█████▌    | 341/618 [3:07:38<2:22:49, 30.94s/it]"
     ]
    },
    {
     "name": "stdout",
     "output_type": "stream",
     "text": [
      "523\n"
     ]
    },
    {
     "name": "stderr",
     "output_type": "stream",
     "text": [
      "rule转化逻辑表达式进度:  55%|█████▌    | 342/618 [3:08:03<2:14:58, 29.34s/it]"
     ]
    },
    {
     "name": "stdout",
     "output_type": "stream",
     "text": [
      "524\n"
     ]
    },
    {
     "name": "stderr",
     "output_type": "stream",
     "text": [
      "rule转化逻辑表达式进度:  56%|█████▌    | 343/618 [3:08:31<2:12:39, 28.94s/it]"
     ]
    },
    {
     "name": "stdout",
     "output_type": "stream",
     "text": [
      "525\n"
     ]
    },
    {
     "name": "stderr",
     "output_type": "stream",
     "text": [
      "rule转化逻辑表达式进度:  56%|█████▌    | 344/618 [3:09:20<2:39:39, 34.96s/it]"
     ]
    },
    {
     "name": "stdout",
     "output_type": "stream",
     "text": [
      "526\n"
     ]
    },
    {
     "name": "stderr",
     "output_type": "stream",
     "text": [
      "rule转化逻辑表达式进度:  56%|█████▌    | 345/618 [3:09:54<2:36:26, 34.38s/it]"
     ]
    },
    {
     "name": "stdout",
     "output_type": "stream",
     "text": [
      "527\n"
     ]
    },
    {
     "name": "stderr",
     "output_type": "stream",
     "text": [
      "rule转化逻辑表达式进度:  56%|█████▌    | 346/618 [3:10:22<2:27:49, 32.61s/it]"
     ]
    },
    {
     "name": "stdout",
     "output_type": "stream",
     "text": [
      "528\n"
     ]
    },
    {
     "name": "stderr",
     "output_type": "stream",
     "text": [
      "rule转化逻辑表达式进度:  56%|█████▌    | 347/618 [3:10:47<2:17:19, 30.40s/it]"
     ]
    },
    {
     "name": "stdout",
     "output_type": "stream",
     "text": [
      "529\n"
     ]
    },
    {
     "name": "stderr",
     "output_type": "stream",
     "text": [
      "rule转化逻辑表达式进度:  56%|█████▋    | 348/618 [3:11:38<2:43:55, 36.43s/it]"
     ]
    },
    {
     "name": "stdout",
     "output_type": "stream",
     "text": [
      "530\n"
     ]
    },
    {
     "name": "stderr",
     "output_type": "stream",
     "text": [
      "rule转化逻辑表达式进度:  56%|█████▋    | 349/618 [3:12:11<2:38:27, 35.34s/it]"
     ]
    },
    {
     "name": "stdout",
     "output_type": "stream",
     "text": [
      "531\n"
     ]
    },
    {
     "name": "stderr",
     "output_type": "stream",
     "text": [
      "rule转化逻辑表达式进度:  57%|█████▋    | 350/618 [3:12:37<2:25:40, 32.61s/it]"
     ]
    },
    {
     "name": "stdout",
     "output_type": "stream",
     "text": [
      "532\n"
     ]
    },
    {
     "name": "stderr",
     "output_type": "stream",
     "text": [
      "rule转化逻辑表达式进度:  57%|█████▋    | 351/618 [3:13:14<2:31:03, 33.94s/it]"
     ]
    },
    {
     "name": "stdout",
     "output_type": "stream",
     "text": [
      "533\n"
     ]
    },
    {
     "name": "stderr",
     "output_type": "stream",
     "text": [
      "rule转化逻辑表达式进度:  57%|█████▋    | 352/618 [3:13:36<2:15:11, 30.49s/it]"
     ]
    },
    {
     "name": "stdout",
     "output_type": "stream",
     "text": [
      "534\n"
     ]
    },
    {
     "name": "stderr",
     "output_type": "stream",
     "text": [
      "rule转化逻辑表达式进度:  57%|█████▋    | 353/618 [3:13:59<2:03:57, 28.07s/it]"
     ]
    },
    {
     "name": "stdout",
     "output_type": "stream",
     "text": [
      "535\n"
     ]
    },
    {
     "name": "stderr",
     "output_type": "stream",
     "text": [
      "rule转化逻辑表达式进度:  57%|█████▋    | 354/618 [3:14:29<2:06:03, 28.65s/it]"
     ]
    },
    {
     "name": "stdout",
     "output_type": "stream",
     "text": [
      "536\n"
     ]
    },
    {
     "name": "stderr",
     "output_type": "stream",
     "text": [
      "rule转化逻辑表达式进度:  57%|█████▋    | 355/618 [3:14:57<2:05:01, 28.52s/it]"
     ]
    },
    {
     "name": "stdout",
     "output_type": "stream",
     "text": [
      "537\n"
     ]
    },
    {
     "name": "stderr",
     "output_type": "stream",
     "text": [
      "rule转化逻辑表达式进度:  58%|█████▊    | 356/618 [3:15:41<2:25:15, 33.27s/it]"
     ]
    },
    {
     "name": "stdout",
     "output_type": "stream",
     "text": [
      "538\n"
     ]
    },
    {
     "name": "stderr",
     "output_type": "stream",
     "text": [
      "rule转化逻辑表达式进度:  58%|█████▊    | 357/618 [3:16:00<2:05:35, 28.87s/it]"
     ]
    },
    {
     "name": "stdout",
     "output_type": "stream",
     "text": [
      "539\n"
     ]
    },
    {
     "name": "stderr",
     "output_type": "stream",
     "text": [
      "rule转化逻辑表达式进度:  58%|█████▊    | 358/618 [3:16:31<2:08:15, 29.60s/it]"
     ]
    },
    {
     "name": "stdout",
     "output_type": "stream",
     "text": [
      "540\n"
     ]
    },
    {
     "name": "stderr",
     "output_type": "stream",
     "text": [
      "rule转化逻辑表达式进度:  58%|█████▊    | 359/618 [3:16:59<2:05:00, 28.96s/it]"
     ]
    },
    {
     "name": "stdout",
     "output_type": "stream",
     "text": [
      "541\n"
     ]
    },
    {
     "name": "stderr",
     "output_type": "stream",
     "text": [
      "rule转化逻辑表达式进度:  58%|█████▊    | 360/618 [3:17:31<2:08:46, 29.95s/it]"
     ]
    },
    {
     "name": "stdout",
     "output_type": "stream",
     "text": [
      "542\n"
     ]
    },
    {
     "name": "stderr",
     "output_type": "stream",
     "text": [
      "rule转化逻辑表达式进度:  58%|█████▊    | 361/618 [3:17:52<1:57:00, 27.32s/it]"
     ]
    },
    {
     "name": "stdout",
     "output_type": "stream",
     "text": [
      "543\n"
     ]
    },
    {
     "name": "stderr",
     "output_type": "stream",
     "text": [
      "rule转化逻辑表达式进度:  59%|█████▊    | 362/618 [3:18:21<1:58:20, 27.73s/it]"
     ]
    },
    {
     "name": "stdout",
     "output_type": "stream",
     "text": [
      "544\n"
     ]
    },
    {
     "name": "stderr",
     "output_type": "stream",
     "text": [
      "rule转化逻辑表达式进度:  59%|█████▊    | 363/618 [3:18:47<1:56:19, 27.37s/it]"
     ]
    },
    {
     "name": "stdout",
     "output_type": "stream",
     "text": [
      "545\n"
     ]
    },
    {
     "name": "stderr",
     "output_type": "stream",
     "text": [
      "rule转化逻辑表达式进度:  59%|█████▉    | 364/618 [3:19:13<1:53:46, 26.87s/it]"
     ]
    },
    {
     "name": "stdout",
     "output_type": "stream",
     "text": [
      "546\n"
     ]
    },
    {
     "name": "stderr",
     "output_type": "stream",
     "text": [
      "rule转化逻辑表达式进度:  59%|█████▉    | 365/618 [3:19:46<2:00:37, 28.61s/it]"
     ]
    },
    {
     "name": "stdout",
     "output_type": "stream",
     "text": [
      "547\n"
     ]
    },
    {
     "name": "stderr",
     "output_type": "stream",
     "text": [
      "rule转化逻辑表达式进度:  59%|█████▉    | 366/618 [3:20:09<1:53:47, 27.09s/it]"
     ]
    },
    {
     "name": "stdout",
     "output_type": "stream",
     "text": [
      "548\n"
     ]
    },
    {
     "name": "stderr",
     "output_type": "stream",
     "text": [
      "rule转化逻辑表达式进度:  59%|█████▉    | 367/618 [3:20:35<1:51:31, 26.66s/it]"
     ]
    },
    {
     "name": "stdout",
     "output_type": "stream",
     "text": [
      "549\n"
     ]
    },
    {
     "name": "stderr",
     "output_type": "stream",
     "text": [
      "rule转化逻辑表达式进度:  60%|█████▉    | 368/618 [3:20:56<1:44:12, 25.01s/it]"
     ]
    },
    {
     "name": "stdout",
     "output_type": "stream",
     "text": [
      "550\n"
     ]
    },
    {
     "name": "stderr",
     "output_type": "stream",
     "text": [
      "rule转化逻辑表达式进度:  60%|█████▉    | 369/618 [3:22:04<2:37:27, 37.94s/it]"
     ]
    },
    {
     "name": "stdout",
     "output_type": "stream",
     "text": [
      "551\n"
     ]
    },
    {
     "name": "stderr",
     "output_type": "stream",
     "text": [
      "rule转化逻辑表达式进度:  60%|█████▉    | 370/618 [3:22:33<2:25:03, 35.10s/it]"
     ]
    },
    {
     "name": "stdout",
     "output_type": "stream",
     "text": [
      "552\n"
     ]
    },
    {
     "name": "stderr",
     "output_type": "stream",
     "text": [
      "rule转化逻辑表达式进度:  60%|██████    | 371/618 [3:23:04<2:19:34, 33.91s/it]"
     ]
    },
    {
     "name": "stdout",
     "output_type": "stream",
     "text": [
      "553\n"
     ]
    },
    {
     "name": "stderr",
     "output_type": "stream",
     "text": [
      "rule转化逻辑表达式进度:  60%|██████    | 372/618 [3:23:31<2:10:29, 31.83s/it]"
     ]
    },
    {
     "name": "stdout",
     "output_type": "stream",
     "text": [
      "554\n"
     ]
    },
    {
     "name": "stderr",
     "output_type": "stream",
     "text": [
      "rule转化逻辑表达式进度:  60%|██████    | 373/618 [3:23:54<1:59:08, 29.18s/it]"
     ]
    },
    {
     "name": "stdout",
     "output_type": "stream",
     "text": [
      "555\n"
     ]
    },
    {
     "name": "stderr",
     "output_type": "stream",
     "text": [
      "rule转化逻辑表达式进度:  61%|██████    | 374/618 [3:24:24<2:00:28, 29.62s/it]"
     ]
    },
    {
     "name": "stdout",
     "output_type": "stream",
     "text": [
      "556\n"
     ]
    },
    {
     "name": "stderr",
     "output_type": "stream",
     "text": [
      "rule转化逻辑表达式进度:  61%|██████    | 375/618 [3:24:48<1:52:21, 27.74s/it]"
     ]
    },
    {
     "name": "stdout",
     "output_type": "stream",
     "text": [
      "557\n"
     ]
    },
    {
     "name": "stderr",
     "output_type": "stream",
     "text": [
      "rule转化逻辑表达式进度:  61%|██████    | 376/618 [3:25:06<1:40:49, 25.00s/it]"
     ]
    },
    {
     "name": "stdout",
     "output_type": "stream",
     "text": [
      "558\n"
     ]
    },
    {
     "name": "stderr",
     "output_type": "stream",
     "text": [
      "rule转化逻辑表达式进度:  61%|██████    | 377/618 [3:25:26<1:33:30, 23.28s/it]"
     ]
    },
    {
     "name": "stdout",
     "output_type": "stream",
     "text": [
      "559\n"
     ]
    },
    {
     "name": "stderr",
     "output_type": "stream",
     "text": [
      "rule转化逻辑表达式进度:  61%|██████    | 378/618 [3:25:55<1:39:56, 24.99s/it]"
     ]
    },
    {
     "name": "stdout",
     "output_type": "stream",
     "text": [
      "560\n"
     ]
    },
    {
     "name": "stderr",
     "output_type": "stream",
     "text": [
      "rule转化逻辑表达式进度:  61%|██████▏   | 379/618 [3:26:29<1:50:16, 27.69s/it]"
     ]
    },
    {
     "name": "stdout",
     "output_type": "stream",
     "text": [
      "561\n"
     ]
    },
    {
     "name": "stderr",
     "output_type": "stream",
     "text": [
      "rule转化逻辑表达式进度:  61%|██████▏   | 380/618 [3:26:59<1:53:42, 28.67s/it]"
     ]
    },
    {
     "name": "stdout",
     "output_type": "stream",
     "text": [
      "562\n"
     ]
    },
    {
     "name": "stderr",
     "output_type": "stream",
     "text": [
      "rule转化逻辑表达式进度:  62%|██████▏   | 381/618 [3:27:25<1:50:03, 27.86s/it]"
     ]
    },
    {
     "name": "stdout",
     "output_type": "stream",
     "text": [
      "563\n"
     ]
    },
    {
     "name": "stderr",
     "output_type": "stream",
     "text": [
      "rule转化逻辑表达式进度:  62%|██████▏   | 382/618 [3:27:48<1:43:38, 26.35s/it]"
     ]
    },
    {
     "name": "stdout",
     "output_type": "stream",
     "text": [
      "564\n"
     ]
    },
    {
     "name": "stderr",
     "output_type": "stream",
     "text": [
      "rule转化逻辑表达式进度:  62%|██████▏   | 383/618 [3:28:16<1:44:20, 26.64s/it]"
     ]
    },
    {
     "name": "stdout",
     "output_type": "stream",
     "text": [
      "565\n"
     ]
    },
    {
     "name": "stderr",
     "output_type": "stream",
     "text": [
      "rule转化逻辑表达式进度:  62%|██████▏   | 384/618 [3:28:55<1:58:49, 30.47s/it]"
     ]
    },
    {
     "name": "stdout",
     "output_type": "stream",
     "text": [
      "566\n"
     ]
    },
    {
     "name": "stderr",
     "output_type": "stream",
     "text": [
      "rule转化逻辑表达式进度:  62%|██████▏   | 385/618 [3:29:28<2:01:21, 31.25s/it]"
     ]
    },
    {
     "name": "stdout",
     "output_type": "stream",
     "text": [
      "567\n"
     ]
    },
    {
     "name": "stderr",
     "output_type": "stream",
     "text": [
      "rule转化逻辑表达式进度:  62%|██████▏   | 386/618 [3:29:57<1:58:04, 30.54s/it]"
     ]
    },
    {
     "name": "stdout",
     "output_type": "stream",
     "text": [
      "568\n"
     ]
    },
    {
     "name": "stderr",
     "output_type": "stream",
     "text": [
      "rule转化逻辑表达式进度:  63%|██████▎   | 387/618 [3:30:29<1:59:43, 31.10s/it]"
     ]
    },
    {
     "name": "stdout",
     "output_type": "stream",
     "text": [
      "569\n"
     ]
    },
    {
     "name": "stderr",
     "output_type": "stream",
     "text": [
      "rule转化逻辑表达式进度:  63%|██████▎   | 388/618 [3:30:52<1:49:13, 28.49s/it]"
     ]
    },
    {
     "name": "stdout",
     "output_type": "stream",
     "text": [
      "570\n"
     ]
    },
    {
     "name": "stderr",
     "output_type": "stream",
     "text": [
      "rule转化逻辑表达式进度:  63%|██████▎   | 389/618 [3:31:57<2:30:27, 39.42s/it]"
     ]
    },
    {
     "name": "stdout",
     "output_type": "stream",
     "text": [
      "571\n"
     ]
    },
    {
     "name": "stderr",
     "output_type": "stream",
     "text": [
      "rule转化逻辑表达式进度:  63%|██████▎   | 390/618 [3:32:51<2:47:08, 43.98s/it]"
     ]
    },
    {
     "name": "stdout",
     "output_type": "stream",
     "text": [
      "572\n"
     ]
    },
    {
     "name": "stderr",
     "output_type": "stream",
     "text": [
      "rule转化逻辑表达式进度:  63%|██████▎   | 391/618 [3:33:52<3:05:41, 49.08s/it]"
     ]
    },
    {
     "name": "stdout",
     "output_type": "stream",
     "text": [
      "573\n"
     ]
    },
    {
     "name": "stderr",
     "output_type": "stream",
     "text": [
      "rule转化逻辑表达式进度:  63%|██████▎   | 392/618 [3:35:04<3:29:53, 55.72s/it]"
     ]
    },
    {
     "name": "stdout",
     "output_type": "stream",
     "text": [
      "574\n"
     ]
    },
    {
     "name": "stderr",
     "output_type": "stream",
     "text": [
      "rule转化逻辑表达式进度:  64%|██████▎   | 393/618 [3:35:33<2:59:12, 47.79s/it]"
     ]
    },
    {
     "name": "stdout",
     "output_type": "stream",
     "text": [
      "575\n"
     ]
    },
    {
     "name": "stderr",
     "output_type": "stream",
     "text": [
      "rule转化逻辑表达式进度:  64%|██████▍   | 394/618 [3:35:52<2:26:11, 39.16s/it]"
     ]
    },
    {
     "name": "stdout",
     "output_type": "stream",
     "text": [
      "576\n"
     ]
    },
    {
     "name": "stderr",
     "output_type": "stream",
     "text": [
      "rule转化逻辑表达式进度:  64%|██████▍   | 395/618 [3:36:30<2:24:40, 38.93s/it]"
     ]
    },
    {
     "name": "stdout",
     "output_type": "stream",
     "text": [
      "577\n"
     ]
    },
    {
     "name": "stderr",
     "output_type": "stream",
     "text": [
      "rule转化逻辑表达式进度:  64%|██████▍   | 396/618 [3:37:00<2:13:49, 36.17s/it]"
     ]
    },
    {
     "name": "stdout",
     "output_type": "stream",
     "text": [
      "578\n"
     ]
    },
    {
     "name": "stderr",
     "output_type": "stream",
     "text": [
      "rule转化逻辑表达式进度:  64%|██████▍   | 397/618 [3:37:26<2:01:41, 33.04s/it]"
     ]
    },
    {
     "name": "stdout",
     "output_type": "stream",
     "text": [
      "579\n"
     ]
    },
    {
     "name": "stderr",
     "output_type": "stream",
     "text": [
      "rule转化逻辑表达式进度:  64%|██████▍   | 398/618 [3:38:14<2:17:46, 37.57s/it]"
     ]
    },
    {
     "name": "stdout",
     "output_type": "stream",
     "text": [
      "580\n"
     ]
    },
    {
     "name": "stderr",
     "output_type": "stream",
     "text": [
      "rule转化逻辑表达式进度:  65%|██████▍   | 399/618 [3:38:41<2:05:55, 34.50s/it]"
     ]
    },
    {
     "name": "stdout",
     "output_type": "stream",
     "text": [
      "581\n"
     ]
    },
    {
     "name": "stderr",
     "output_type": "stream",
     "text": [
      "rule转化逻辑表达式进度:  65%|██████▍   | 400/618 [3:39:20<2:10:25, 35.90s/it]"
     ]
    },
    {
     "name": "stdout",
     "output_type": "stream",
     "text": [
      "582\n"
     ]
    },
    {
     "name": "stderr",
     "output_type": "stream",
     "text": [
      "rule转化逻辑表达式进度:  65%|██████▍   | 401/618 [3:39:49<2:01:33, 33.61s/it]"
     ]
    },
    {
     "name": "stdout",
     "output_type": "stream",
     "text": [
      "583\n"
     ]
    },
    {
     "name": "stderr",
     "output_type": "stream",
     "text": [
      "rule转化逻辑表达式进度:  65%|██████▌   | 402/618 [3:40:13<1:50:39, 30.74s/it]"
     ]
    },
    {
     "name": "stdout",
     "output_type": "stream",
     "text": [
      "584\n"
     ]
    },
    {
     "name": "stderr",
     "output_type": "stream",
     "text": [
      "rule转化逻辑表达式进度:  65%|██████▌   | 403/618 [3:40:36<1:42:39, 28.65s/it]"
     ]
    },
    {
     "name": "stdout",
     "output_type": "stream",
     "text": [
      "585\n"
     ]
    },
    {
     "name": "stderr",
     "output_type": "stream",
     "text": [
      "rule转化逻辑表达式进度:  65%|██████▌   | 404/618 [3:40:59<1:35:55, 26.89s/it]"
     ]
    },
    {
     "name": "stdout",
     "output_type": "stream",
     "text": [
      "586\n"
     ]
    },
    {
     "name": "stderr",
     "output_type": "stream",
     "text": [
      "rule转化逻辑表达式进度:  66%|██████▌   | 405/618 [3:41:25<1:34:23, 26.59s/it]"
     ]
    },
    {
     "name": "stdout",
     "output_type": "stream",
     "text": [
      "587\n"
     ]
    },
    {
     "name": "stderr",
     "output_type": "stream",
     "text": [
      "rule转化逻辑表达式进度:  66%|██████▌   | 406/618 [3:42:00<1:42:45, 29.08s/it]"
     ]
    },
    {
     "name": "stdout",
     "output_type": "stream",
     "text": [
      "588\n"
     ]
    },
    {
     "name": "stderr",
     "output_type": "stream",
     "text": [
      "rule转化逻辑表达式进度:  66%|██████▌   | 407/618 [3:42:32<1:45:43, 30.06s/it]"
     ]
    },
    {
     "name": "stdout",
     "output_type": "stream",
     "text": [
      "589\n"
     ]
    },
    {
     "name": "stderr",
     "output_type": "stream",
     "text": [
      "rule转化逻辑表达式进度:  66%|██████▌   | 408/618 [3:42:58<1:40:50, 28.81s/it]"
     ]
    },
    {
     "name": "stdout",
     "output_type": "stream",
     "text": [
      "590\n"
     ]
    },
    {
     "name": "stderr",
     "output_type": "stream",
     "text": [
      "rule转化逻辑表达式进度:  66%|██████▌   | 409/618 [3:43:25<1:38:29, 28.27s/it]"
     ]
    },
    {
     "name": "stdout",
     "output_type": "stream",
     "text": [
      "591\n"
     ]
    },
    {
     "name": "stderr",
     "output_type": "stream",
     "text": [
      "rule转化逻辑表达式进度:  66%|██████▋   | 410/618 [3:43:47<1:31:35, 26.42s/it]"
     ]
    },
    {
     "name": "stdout",
     "output_type": "stream",
     "text": [
      "592\n"
     ]
    },
    {
     "name": "stderr",
     "output_type": "stream",
     "text": [
      "rule转化逻辑表达式进度:  67%|██████▋   | 411/618 [3:44:11<1:27:51, 25.47s/it]"
     ]
    },
    {
     "name": "stdout",
     "output_type": "stream",
     "text": [
      "593\n"
     ]
    },
    {
     "name": "stderr",
     "output_type": "stream",
     "text": [
      "rule转化逻辑表达式进度:  67%|██████▋   | 412/618 [3:44:50<1:41:51, 29.67s/it]"
     ]
    },
    {
     "name": "stdout",
     "output_type": "stream",
     "text": [
      "594\n"
     ]
    },
    {
     "name": "stderr",
     "output_type": "stream",
     "text": [
      "rule转化逻辑表达式进度:  67%|██████▋   | 413/618 [3:45:14<1:35:05, 27.83s/it]"
     ]
    },
    {
     "name": "stdout",
     "output_type": "stream",
     "text": [
      "595\n"
     ]
    },
    {
     "name": "stderr",
     "output_type": "stream",
     "text": [
      "rule转化逻辑表达式进度:  67%|██████▋   | 414/618 [3:45:33<1:26:25, 25.42s/it]"
     ]
    },
    {
     "name": "stdout",
     "output_type": "stream",
     "text": [
      "596\n"
     ]
    },
    {
     "name": "stderr",
     "output_type": "stream",
     "text": [
      "rule转化逻辑表达式进度:  67%|██████▋   | 415/618 [3:46:02<1:29:39, 26.50s/it]"
     ]
    },
    {
     "name": "stdout",
     "output_type": "stream",
     "text": [
      "597\n"
     ]
    },
    {
     "name": "stderr",
     "output_type": "stream",
     "text": [
      "rule转化逻辑表达式进度:  67%|██████▋   | 416/618 [3:46:38<1:38:41, 29.31s/it]"
     ]
    },
    {
     "name": "stdout",
     "output_type": "stream",
     "text": [
      "598\n"
     ]
    },
    {
     "name": "stderr",
     "output_type": "stream",
     "text": [
      "rule转化逻辑表达式进度:  67%|██████▋   | 417/618 [3:47:03<1:33:30, 27.91s/it]"
     ]
    },
    {
     "name": "stdout",
     "output_type": "stream",
     "text": [
      "599\n"
     ]
    },
    {
     "name": "stderr",
     "output_type": "stream",
     "text": [
      "rule转化逻辑表达式进度:  68%|██████▊   | 418/618 [3:47:13<1:15:04, 22.52s/it]"
     ]
    },
    {
     "name": "stdout",
     "output_type": "stream",
     "text": [
      "600\n"
     ]
    },
    {
     "name": "stderr",
     "output_type": "stream",
     "text": [
      "rule转化逻辑表达式进度:  68%|██████▊   | 419/618 [3:47:43<1:21:59, 24.72s/it]"
     ]
    },
    {
     "name": "stdout",
     "output_type": "stream",
     "text": [
      "601\n"
     ]
    },
    {
     "name": "stderr",
     "output_type": "stream",
     "text": [
      "rule转化逻辑表达式进度:  68%|██████▊   | 420/618 [3:48:14<1:28:02, 26.68s/it]"
     ]
    },
    {
     "name": "stdout",
     "output_type": "stream",
     "text": [
      "602\n"
     ]
    },
    {
     "name": "stderr",
     "output_type": "stream",
     "text": [
      "rule转化逻辑表达式进度:  68%|██████▊   | 421/618 [3:48:39<1:26:02, 26.21s/it]"
     ]
    },
    {
     "name": "stdout",
     "output_type": "stream",
     "text": [
      "603\n"
     ]
    },
    {
     "name": "stderr",
     "output_type": "stream",
     "text": [
      "rule转化逻辑表达式进度:  68%|██████▊   | 422/618 [3:48:53<1:14:00, 22.65s/it]"
     ]
    },
    {
     "name": "stdout",
     "output_type": "stream",
     "text": [
      "604\n"
     ]
    },
    {
     "name": "stderr",
     "output_type": "stream",
     "text": [
      "rule转化逻辑表达式进度:  68%|██████▊   | 423/618 [3:49:32<1:29:17, 27.48s/it]"
     ]
    },
    {
     "name": "stdout",
     "output_type": "stream",
     "text": [
      "605\n"
     ]
    },
    {
     "name": "stderr",
     "output_type": "stream",
     "text": [
      "rule转化逻辑表达式进度:  69%|██████▊   | 424/618 [3:49:52<1:21:03, 25.07s/it]"
     ]
    },
    {
     "name": "stdout",
     "output_type": "stream",
     "text": [
      "606\n"
     ]
    },
    {
     "name": "stderr",
     "output_type": "stream",
     "text": [
      "rule转化逻辑表达式进度:  69%|██████▉   | 425/618 [3:50:14<1:18:20, 24.36s/it]"
     ]
    },
    {
     "name": "stdout",
     "output_type": "stream",
     "text": [
      "607\n"
     ]
    },
    {
     "name": "stderr",
     "output_type": "stream",
     "text": [
      "rule转化逻辑表达式进度:  69%|██████▉   | 426/618 [3:50:59<1:37:19, 30.41s/it]"
     ]
    },
    {
     "name": "stdout",
     "output_type": "stream",
     "text": [
      "608\n"
     ]
    },
    {
     "name": "stderr",
     "output_type": "stream",
     "text": [
      "rule转化逻辑表达式进度:  69%|██████▉   | 427/618 [3:51:27<1:34:30, 29.69s/it]"
     ]
    },
    {
     "name": "stdout",
     "output_type": "stream",
     "text": [
      "609\n"
     ]
    },
    {
     "name": "stderr",
     "output_type": "stream",
     "text": [
      "rule转化逻辑表达式进度:  69%|██████▉   | 428/618 [3:51:53<1:30:43, 28.65s/it]"
     ]
    },
    {
     "name": "stdout",
     "output_type": "stream",
     "text": [
      "610\n"
     ]
    },
    {
     "name": "stderr",
     "output_type": "stream",
     "text": [
      "rule转化逻辑表达式进度:  69%|██████▉   | 429/618 [3:52:21<1:29:31, 28.42s/it]"
     ]
    },
    {
     "name": "stdout",
     "output_type": "stream",
     "text": [
      "611\n"
     ]
    },
    {
     "name": "stderr",
     "output_type": "stream",
     "text": [
      "rule转化逻辑表达式进度:  70%|██████▉   | 430/618 [3:52:39<1:19:04, 25.24s/it]"
     ]
    },
    {
     "name": "stdout",
     "output_type": "stream",
     "text": [
      "612\n"
     ]
    },
    {
     "name": "stderr",
     "output_type": "stream",
     "text": [
      "rule转化逻辑表达式进度:  70%|██████▉   | 431/618 [3:53:05<1:19:31, 25.52s/it]"
     ]
    },
    {
     "name": "stdout",
     "output_type": "stream",
     "text": [
      "613\n"
     ]
    },
    {
     "name": "stderr",
     "output_type": "stream",
     "text": [
      "rule转化逻辑表达式进度:  70%|██████▉   | 432/618 [3:53:29<1:17:31, 25.01s/it]"
     ]
    },
    {
     "name": "stdout",
     "output_type": "stream",
     "text": [
      "614\n"
     ]
    },
    {
     "name": "stderr",
     "output_type": "stream",
     "text": [
      "rule转化逻辑表达式进度:  70%|███████   | 433/618 [3:53:49<1:12:31, 23.52s/it]"
     ]
    },
    {
     "name": "stdout",
     "output_type": "stream",
     "text": [
      "615\n"
     ]
    },
    {
     "name": "stderr",
     "output_type": "stream",
     "text": [
      "rule转化逻辑表达式进度:  70%|███████   | 434/618 [3:54:25<1:23:52, 27.35s/it]"
     ]
    },
    {
     "name": "stdout",
     "output_type": "stream",
     "text": [
      "616\n"
     ]
    },
    {
     "name": "stderr",
     "output_type": "stream",
     "text": [
      "rule转化逻辑表达式进度:  70%|███████   | 435/618 [3:54:45<1:16:32, 25.10s/it]"
     ]
    },
    {
     "name": "stdout",
     "output_type": "stream",
     "text": [
      "617\n"
     ]
    },
    {
     "name": "stderr",
     "output_type": "stream",
     "text": [
      "rule转化逻辑表达式进度:  71%|███████   | 436/618 [3:55:12<1:17:30, 25.55s/it]"
     ]
    },
    {
     "name": "stdout",
     "output_type": "stream",
     "text": [
      "618\n"
     ]
    },
    {
     "name": "stderr",
     "output_type": "stream",
     "text": [
      "rule转化逻辑表达式进度:  71%|███████   | 437/618 [3:55:35<1:14:51, 24.81s/it]"
     ]
    },
    {
     "name": "stdout",
     "output_type": "stream",
     "text": [
      "619\n"
     ]
    },
    {
     "name": "stderr",
     "output_type": "stream",
     "text": [
      "rule转化逻辑表达式进度:  71%|███████   | 438/618 [3:56:01<1:15:31, 25.18s/it]"
     ]
    },
    {
     "name": "stdout",
     "output_type": "stream",
     "text": [
      "620\n"
     ]
    },
    {
     "name": "stderr",
     "output_type": "stream",
     "text": [
      "rule转化逻辑表达式进度:  71%|███████   | 439/618 [3:56:26<1:15:20, 25.25s/it]"
     ]
    },
    {
     "name": "stdout",
     "output_type": "stream",
     "text": [
      "621\n"
     ]
    },
    {
     "name": "stderr",
     "output_type": "stream",
     "text": [
      "rule转化逻辑表达式进度:  71%|███████   | 440/618 [3:56:55<1:17:45, 26.21s/it]"
     ]
    },
    {
     "name": "stdout",
     "output_type": "stream",
     "text": [
      "622\n"
     ]
    },
    {
     "name": "stderr",
     "output_type": "stream",
     "text": [
      "rule转化逻辑表达式进度:  71%|███████▏  | 441/618 [3:57:23<1:19:05, 26.81s/it]"
     ]
    },
    {
     "name": "stdout",
     "output_type": "stream",
     "text": [
      "623\n"
     ]
    },
    {
     "name": "stderr",
     "output_type": "stream",
     "text": [
      "rule转化逻辑表达式进度:  72%|███████▏  | 442/618 [3:58:00<1:28:00, 30.00s/it]"
     ]
    },
    {
     "name": "stdout",
     "output_type": "stream",
     "text": [
      "624\n"
     ]
    },
    {
     "name": "stderr",
     "output_type": "stream",
     "text": [
      "rule转化逻辑表达式进度:  72%|███████▏  | 443/618 [3:58:37<1:33:44, 32.14s/it]"
     ]
    },
    {
     "name": "stdout",
     "output_type": "stream",
     "text": [
      "625\n"
     ]
    },
    {
     "name": "stderr",
     "output_type": "stream",
     "text": [
      "rule转化逻辑表达式进度:  72%|███████▏  | 444/618 [3:59:10<1:33:57, 32.40s/it]"
     ]
    },
    {
     "name": "stdout",
     "output_type": "stream",
     "text": [
      "626\n"
     ]
    },
    {
     "name": "stderr",
     "output_type": "stream",
     "text": [
      "rule转化逻辑表达式进度:  72%|███████▏  | 445/618 [3:59:46<1:36:36, 33.51s/it]"
     ]
    },
    {
     "name": "stdout",
     "output_type": "stream",
     "text": [
      "627\n"
     ]
    },
    {
     "name": "stderr",
     "output_type": "stream",
     "text": [
      "rule转化逻辑表达式进度:  72%|███████▏  | 446/618 [4:00:20<1:36:13, 33.57s/it]"
     ]
    },
    {
     "name": "stdout",
     "output_type": "stream",
     "text": [
      "628\n"
     ]
    },
    {
     "name": "stderr",
     "output_type": "stream",
     "text": [
      "rule转化逻辑表达式进度:  72%|███████▏  | 447/618 [4:00:37<1:21:43, 28.68s/it]"
     ]
    },
    {
     "name": "stdout",
     "output_type": "stream",
     "text": [
      "629\n"
     ]
    },
    {
     "name": "stderr",
     "output_type": "stream",
     "text": [
      "rule转化逻辑表达式进度:  72%|███████▏  | 448/618 [4:01:02<1:17:47, 27.46s/it]"
     ]
    },
    {
     "name": "stdout",
     "output_type": "stream",
     "text": [
      "630\n"
     ]
    },
    {
     "name": "stderr",
     "output_type": "stream",
     "text": [
      "rule转化逻辑表达式进度:  73%|███████▎  | 449/618 [4:01:32<1:19:42, 28.30s/it]"
     ]
    },
    {
     "name": "stdout",
     "output_type": "stream",
     "text": [
      "631\n"
     ]
    },
    {
     "name": "stderr",
     "output_type": "stream",
     "text": [
      "rule转化逻辑表达式进度:  73%|███████▎  | 450/618 [4:01:58<1:17:12, 27.57s/it]"
     ]
    },
    {
     "name": "stdout",
     "output_type": "stream",
     "text": [
      "632\n"
     ]
    },
    {
     "name": "stderr",
     "output_type": "stream",
     "text": [
      "rule转化逻辑表达式进度:  73%|███████▎  | 451/618 [4:02:38<1:26:49, 31.19s/it]"
     ]
    },
    {
     "name": "stdout",
     "output_type": "stream",
     "text": [
      "633\n"
     ]
    },
    {
     "name": "stderr",
     "output_type": "stream",
     "text": [
      "rule转化逻辑表达式进度:  73%|███████▎  | 452/618 [4:03:13<1:29:15, 32.26s/it]"
     ]
    },
    {
     "name": "stdout",
     "output_type": "stream",
     "text": [
      "634\n"
     ]
    },
    {
     "name": "stderr",
     "output_type": "stream",
     "text": [
      "rule转化逻辑表达式进度:  73%|███████▎  | 453/618 [4:03:29<1:15:15, 27.37s/it]"
     ]
    },
    {
     "name": "stdout",
     "output_type": "stream",
     "text": [
      "635\n"
     ]
    },
    {
     "name": "stderr",
     "output_type": "stream",
     "text": [
      "rule转化逻辑表达式进度:  73%|███████▎  | 454/618 [4:03:59<1:17:20, 28.30s/it]"
     ]
    },
    {
     "name": "stdout",
     "output_type": "stream",
     "text": [
      "636\n"
     ]
    },
    {
     "name": "stderr",
     "output_type": "stream",
     "text": [
      "rule转化逻辑表达式进度:  74%|███████▎  | 455/618 [4:04:24<1:14:22, 27.38s/it]"
     ]
    },
    {
     "name": "stdout",
     "output_type": "stream",
     "text": [
      "637\n"
     ]
    },
    {
     "name": "stderr",
     "output_type": "stream",
     "text": [
      "rule转化逻辑表达式进度:  74%|███████▍  | 456/618 [4:04:46<1:09:42, 25.82s/it]"
     ]
    },
    {
     "name": "stdout",
     "output_type": "stream",
     "text": [
      "638\n"
     ]
    },
    {
     "name": "stderr",
     "output_type": "stream",
     "text": [
      "rule转化逻辑表达式进度:  74%|███████▍  | 457/618 [4:05:10<1:07:43, 25.24s/it]"
     ]
    },
    {
     "name": "stdout",
     "output_type": "stream",
     "text": [
      "639\n"
     ]
    },
    {
     "name": "stderr",
     "output_type": "stream",
     "text": [
      "rule转化逻辑表达式进度:  74%|███████▍  | 458/618 [4:05:30<1:02:40, 23.50s/it]"
     ]
    },
    {
     "name": "stdout",
     "output_type": "stream",
     "text": [
      "640\n"
     ]
    },
    {
     "name": "stderr",
     "output_type": "stream",
     "text": [
      "rule转化逻辑表达式进度:  74%|███████▍  | 459/618 [4:05:54<1:03:11, 23.84s/it]"
     ]
    },
    {
     "name": "stdout",
     "output_type": "stream",
     "text": [
      "641\n"
     ]
    },
    {
     "name": "stderr",
     "output_type": "stream",
     "text": [
      "rule转化逻辑表达式进度:  74%|███████▍  | 460/618 [4:06:19<1:03:15, 24.02s/it]"
     ]
    },
    {
     "name": "stdout",
     "output_type": "stream",
     "text": [
      "642\n"
     ]
    },
    {
     "name": "stderr",
     "output_type": "stream",
     "text": [
      "rule转化逻辑表达式进度:  75%|███████▍  | 461/618 [4:06:50<1:08:45, 26.28s/it]"
     ]
    },
    {
     "name": "stdout",
     "output_type": "stream",
     "text": [
      "643\n"
     ]
    },
    {
     "name": "stderr",
     "output_type": "stream",
     "text": [
      "rule转化逻辑表达式进度:  75%|███████▍  | 462/618 [4:07:37<1:24:11, 32.38s/it]"
     ]
    },
    {
     "name": "stdout",
     "output_type": "stream",
     "text": [
      "644\n"
     ]
    },
    {
     "name": "stderr",
     "output_type": "stream",
     "text": [
      "rule转化逻辑表达式进度:  75%|███████▍  | 463/618 [4:08:07<1:22:05, 31.78s/it]"
     ]
    },
    {
     "name": "stdout",
     "output_type": "stream",
     "text": [
      "645\n"
     ]
    },
    {
     "name": "stderr",
     "output_type": "stream",
     "text": [
      "rule转化逻辑表达式进度:  75%|███████▌  | 464/618 [4:08:31<1:15:00, 29.23s/it]"
     ]
    },
    {
     "name": "stdout",
     "output_type": "stream",
     "text": [
      "646\n"
     ]
    },
    {
     "name": "stderr",
     "output_type": "stream",
     "text": [
      "rule转化逻辑表达式进度:  75%|███████▌  | 465/618 [4:08:59<1:13:33, 28.85s/it]"
     ]
    },
    {
     "name": "stdout",
     "output_type": "stream",
     "text": [
      "647\n"
     ]
    },
    {
     "name": "stderr",
     "output_type": "stream",
     "text": [
      "rule转化逻辑表达式进度:  75%|███████▌  | 466/618 [4:09:21<1:08:33, 27.06s/it]"
     ]
    },
    {
     "name": "stdout",
     "output_type": "stream",
     "text": [
      "648\n"
     ]
    },
    {
     "name": "stderr",
     "output_type": "stream",
     "text": [
      "rule转化逻辑表达式进度:  76%|███████▌  | 467/618 [4:09:43<1:03:59, 25.43s/it]"
     ]
    },
    {
     "name": "stdout",
     "output_type": "stream",
     "text": [
      "649\n"
     ]
    },
    {
     "name": "stderr",
     "output_type": "stream",
     "text": [
      "rule转化逻辑表达式进度:  76%|███████▌  | 468/618 [4:10:03<59:04, 23.63s/it]  "
     ]
    },
    {
     "name": "stdout",
     "output_type": "stream",
     "text": [
      "650\n"
     ]
    },
    {
     "name": "stderr",
     "output_type": "stream",
     "text": [
      "rule转化逻辑表达式进度:  76%|███████▌  | 469/618 [4:10:18<52:42, 21.22s/it]"
     ]
    },
    {
     "name": "stdout",
     "output_type": "stream",
     "text": [
      "651\n"
     ]
    },
    {
     "name": "stderr",
     "output_type": "stream",
     "text": [
      "rule转化逻辑表达式进度:  76%|███████▌  | 470/618 [4:10:31<46:21, 18.79s/it]"
     ]
    },
    {
     "name": "stdout",
     "output_type": "stream",
     "text": [
      "652\n"
     ]
    },
    {
     "name": "stderr",
     "output_type": "stream",
     "text": [
      "rule转化逻辑表达式进度:  76%|███████▌  | 471/618 [4:10:58<51:33, 21.05s/it]"
     ]
    },
    {
     "name": "stdout",
     "output_type": "stream",
     "text": [
      "653\n"
     ]
    },
    {
     "name": "stderr",
     "output_type": "stream",
     "text": [
      "rule转化逻辑表达式进度:  76%|███████▋  | 472/618 [4:11:21<53:15, 21.89s/it]"
     ]
    },
    {
     "name": "stdout",
     "output_type": "stream",
     "text": [
      "654\n"
     ]
    },
    {
     "name": "stderr",
     "output_type": "stream",
     "text": [
      "rule转化逻辑表达式进度:  77%|███████▋  | 473/618 [4:11:50<57:43, 23.88s/it]"
     ]
    },
    {
     "name": "stdout",
     "output_type": "stream",
     "text": [
      "655\n"
     ]
    },
    {
     "name": "stderr",
     "output_type": "stream",
     "text": [
      "rule转化逻辑表达式进度:  77%|███████▋  | 474/618 [4:12:08<52:51, 22.02s/it]"
     ]
    },
    {
     "name": "stdout",
     "output_type": "stream",
     "text": [
      "656\n"
     ]
    },
    {
     "name": "stderr",
     "output_type": "stream",
     "text": [
      "rule转化逻辑表达式进度:  77%|███████▋  | 475/618 [4:12:39<59:08, 24.82s/it]"
     ]
    },
    {
     "name": "stdout",
     "output_type": "stream",
     "text": [
      "657\n"
     ]
    },
    {
     "name": "stderr",
     "output_type": "stream",
     "text": [
      "rule转化逻辑表达式进度:  77%|███████▋  | 476/618 [4:13:14<1:05:59, 27.89s/it]"
     ]
    },
    {
     "name": "stdout",
     "output_type": "stream",
     "text": [
      "658\n"
     ]
    },
    {
     "name": "stderr",
     "output_type": "stream",
     "text": [
      "rule转化逻辑表达式进度:  77%|███████▋  | 477/618 [4:13:45<1:07:49, 28.86s/it]"
     ]
    },
    {
     "name": "stdout",
     "output_type": "stream",
     "text": [
      "659\n"
     ]
    },
    {
     "name": "stderr",
     "output_type": "stream",
     "text": [
      "rule转化逻辑表达式进度:  77%|███████▋  | 478/618 [4:14:55<1:36:09, 41.21s/it]"
     ]
    },
    {
     "name": "stdout",
     "output_type": "stream",
     "text": [
      "660\n"
     ]
    },
    {
     "name": "stderr",
     "output_type": "stream",
     "text": [
      "rule转化逻辑表达式进度:  78%|███████▊  | 479/618 [4:15:58<1:50:36, 47.74s/it]"
     ]
    },
    {
     "name": "stdout",
     "output_type": "stream",
     "text": [
      "661\n"
     ]
    },
    {
     "name": "stderr",
     "output_type": "stream",
     "text": [
      "rule转化逻辑表达式进度:  78%|███████▊  | 480/618 [4:17:01<2:00:14, 52.28s/it]"
     ]
    },
    {
     "name": "stdout",
     "output_type": "stream",
     "text": [
      "662\n"
     ]
    },
    {
     "name": "stderr",
     "output_type": "stream",
     "text": [
      "rule转化逻辑表达式进度:  78%|███████▊  | 481/618 [4:18:03<2:05:52, 55.13s/it]"
     ]
    },
    {
     "name": "stdout",
     "output_type": "stream",
     "text": [
      "663\n"
     ]
    },
    {
     "name": "stderr",
     "output_type": "stream",
     "text": [
      "rule转化逻辑表达式进度:  78%|███████▊  | 482/618 [4:18:39<1:52:09, 49.48s/it]"
     ]
    },
    {
     "name": "stdout",
     "output_type": "stream",
     "text": [
      "664\n"
     ]
    },
    {
     "name": "stderr",
     "output_type": "stream",
     "text": [
      "rule转化逻辑表达式进度:  78%|███████▊  | 483/618 [4:19:08<1:37:31, 43.35s/it]"
     ]
    },
    {
     "name": "stdout",
     "output_type": "stream",
     "text": [
      "665\n"
     ]
    },
    {
     "name": "stderr",
     "output_type": "stream",
     "text": [
      "rule转化逻辑表达式进度:  78%|███████▊  | 484/618 [4:19:48<1:34:29, 42.31s/it]"
     ]
    },
    {
     "name": "stdout",
     "output_type": "stream",
     "text": [
      "666\n"
     ]
    },
    {
     "name": "stderr",
     "output_type": "stream",
     "text": [
      "rule转化逻辑表达式进度:  78%|███████▊  | 485/618 [4:20:03<1:15:24, 34.02s/it]"
     ]
    },
    {
     "name": "stdout",
     "output_type": "stream",
     "text": [
      "667\n"
     ]
    },
    {
     "name": "stderr",
     "output_type": "stream",
     "text": [
      "rule转化逻辑表达式进度:  79%|███████▊  | 486/618 [4:20:20<1:04:00, 29.09s/it]"
     ]
    },
    {
     "name": "stdout",
     "output_type": "stream",
     "text": [
      "668\n"
     ]
    },
    {
     "name": "stderr",
     "output_type": "stream",
     "text": [
      "rule转化逻辑表达式进度:  79%|███████▉  | 487/618 [4:20:40<57:02, 26.13s/it]  "
     ]
    },
    {
     "name": "stdout",
     "output_type": "stream",
     "text": [
      "669\n"
     ]
    },
    {
     "name": "stderr",
     "output_type": "stream",
     "text": [
      "rule转化逻辑表达式进度:  79%|███████▉  | 488/618 [4:20:55<49:46, 22.97s/it]"
     ]
    },
    {
     "name": "stdout",
     "output_type": "stream",
     "text": [
      "670\n"
     ]
    },
    {
     "name": "stderr",
     "output_type": "stream",
     "text": [
      "rule转化逻辑表达式进度:  79%|███████▉  | 489/618 [4:21:25<53:44, 25.00s/it]"
     ]
    },
    {
     "name": "stdout",
     "output_type": "stream",
     "text": [
      "671\n"
     ]
    },
    {
     "name": "stderr",
     "output_type": "stream",
     "text": [
      "rule转化逻辑表达式进度:  79%|███████▉  | 490/618 [4:21:54<56:11, 26.34s/it]"
     ]
    },
    {
     "name": "stdout",
     "output_type": "stream",
     "text": [
      "672\n"
     ]
    },
    {
     "name": "stderr",
     "output_type": "stream",
     "text": [
      "rule转化逻辑表达式进度:  79%|███████▉  | 491/618 [4:22:14<51:47, 24.47s/it]"
     ]
    },
    {
     "name": "stdout",
     "output_type": "stream",
     "text": [
      "673\n"
     ]
    },
    {
     "name": "stderr",
     "output_type": "stream",
     "text": [
      "rule转化逻辑表达式进度:  80%|███████▉  | 492/618 [4:22:45<55:07, 26.25s/it]"
     ]
    },
    {
     "name": "stdout",
     "output_type": "stream",
     "text": [
      "674\n"
     ]
    },
    {
     "name": "stderr",
     "output_type": "stream",
     "text": [
      "rule转化逻辑表达式进度:  80%|███████▉  | 493/618 [4:23:06<51:35, 24.77s/it]"
     ]
    },
    {
     "name": "stdout",
     "output_type": "stream",
     "text": [
      "675\n"
     ]
    },
    {
     "name": "stderr",
     "output_type": "stream",
     "text": [
      "rule转化逻辑表达式进度:  80%|███████▉  | 494/618 [4:23:25<47:21, 22.91s/it]"
     ]
    },
    {
     "name": "stdout",
     "output_type": "stream",
     "text": [
      "676\n"
     ]
    },
    {
     "name": "stderr",
     "output_type": "stream",
     "text": [
      "rule转化逻辑表达式进度:  80%|████████  | 495/618 [4:23:38<40:54, 19.95s/it]"
     ]
    },
    {
     "name": "stdout",
     "output_type": "stream",
     "text": [
      "677\n"
     ]
    },
    {
     "name": "stderr",
     "output_type": "stream",
     "text": [
      "rule转化逻辑表达式进度:  80%|████████  | 496/618 [4:23:54<38:08, 18.76s/it]"
     ]
    },
    {
     "name": "stdout",
     "output_type": "stream",
     "text": [
      "678\n"
     ]
    },
    {
     "name": "stderr",
     "output_type": "stream",
     "text": [
      "rule转化逻辑表达式进度:  80%|████████  | 497/618 [4:24:15<39:24, 19.54s/it]"
     ]
    },
    {
     "name": "stdout",
     "output_type": "stream",
     "text": [
      "679\n"
     ]
    },
    {
     "name": "stderr",
     "output_type": "stream",
     "text": [
      "rule转化逻辑表达式进度:  81%|████████  | 498/618 [4:24:46<45:50, 22.92s/it]"
     ]
    },
    {
     "name": "stdout",
     "output_type": "stream",
     "text": [
      "680\n"
     ]
    },
    {
     "name": "stderr",
     "output_type": "stream",
     "text": [
      "rule转化逻辑表达式进度:  81%|████████  | 499/618 [4:25:26<55:37, 28.04s/it]"
     ]
    },
    {
     "name": "stdout",
     "output_type": "stream",
     "text": [
      "681\n"
     ]
    },
    {
     "name": "stderr",
     "output_type": "stream",
     "text": [
      "rule转化逻辑表达式进度:  81%|████████  | 500/618 [4:25:48<51:26, 26.15s/it]"
     ]
    },
    {
     "name": "stdout",
     "output_type": "stream",
     "text": [
      "682\n"
     ]
    },
    {
     "name": "stderr",
     "output_type": "stream",
     "text": [
      "rule转化逻辑表达式进度:  81%|████████  | 501/618 [4:26:22<55:37, 28.53s/it]"
     ]
    },
    {
     "name": "stdout",
     "output_type": "stream",
     "text": [
      "683\n"
     ]
    },
    {
     "name": "stderr",
     "output_type": "stream",
     "text": [
      "rule转化逻辑表达式进度:  81%|████████  | 502/618 [4:26:50<54:48, 28.35s/it]"
     ]
    },
    {
     "name": "stdout",
     "output_type": "stream",
     "text": [
      "684\n"
     ]
    },
    {
     "name": "stderr",
     "output_type": "stream",
     "text": [
      "rule转化逻辑表达式进度:  81%|████████▏ | 503/618 [4:27:18<54:07, 28.24s/it]"
     ]
    },
    {
     "name": "stdout",
     "output_type": "stream",
     "text": [
      "685\n"
     ]
    },
    {
     "name": "stderr",
     "output_type": "stream",
     "text": [
      "rule转化逻辑表达式进度:  82%|████████▏ | 504/618 [4:27:47<54:11, 28.52s/it]"
     ]
    },
    {
     "name": "stdout",
     "output_type": "stream",
     "text": [
      "686\n"
     ]
    },
    {
     "name": "stderr",
     "output_type": "stream",
     "text": [
      "rule转化逻辑表达式进度:  82%|████████▏ | 505/618 [4:28:17<54:28, 28.93s/it]"
     ]
    },
    {
     "name": "stdout",
     "output_type": "stream",
     "text": [
      "687\n"
     ]
    },
    {
     "name": "stderr",
     "output_type": "stream",
     "text": [
      "rule转化逻辑表达式进度:  82%|████████▏ | 506/618 [4:28:49<56:06, 30.05s/it]"
     ]
    },
    {
     "name": "stdout",
     "output_type": "stream",
     "text": [
      "688\n"
     ]
    },
    {
     "name": "stderr",
     "output_type": "stream",
     "text": [
      "rule转化逻辑表达式进度:  82%|████████▏ | 507/618 [4:29:19<55:13, 29.85s/it]"
     ]
    },
    {
     "name": "stdout",
     "output_type": "stream",
     "text": [
      "689\n"
     ]
    },
    {
     "name": "stderr",
     "output_type": "stream",
     "text": [
      "rule转化逻辑表达式进度:  82%|████████▏ | 508/618 [4:29:43<51:37, 28.16s/it]"
     ]
    },
    {
     "name": "stdout",
     "output_type": "stream",
     "text": [
      "690\n"
     ]
    },
    {
     "name": "stderr",
     "output_type": "stream",
     "text": [
      "rule转化逻辑表达式进度:  82%|████████▏ | 509/618 [4:30:05<47:51, 26.35s/it]"
     ]
    },
    {
     "name": "stdout",
     "output_type": "stream",
     "text": [
      "691\n"
     ]
    },
    {
     "name": "stderr",
     "output_type": "stream",
     "text": [
      "rule转化逻辑表达式进度:  83%|████████▎ | 510/618 [4:30:46<55:03, 30.59s/it]"
     ]
    },
    {
     "name": "stdout",
     "output_type": "stream",
     "text": [
      "692\n"
     ]
    },
    {
     "name": "stderr",
     "output_type": "stream",
     "text": [
      "rule转化逻辑表达式进度:  83%|████████▎ | 511/618 [4:31:05<48:27, 27.17s/it]"
     ]
    },
    {
     "name": "stdout",
     "output_type": "stream",
     "text": [
      "693\n"
     ]
    },
    {
     "name": "stderr",
     "output_type": "stream",
     "text": [
      "rule转化逻辑表达式进度:  83%|████████▎ | 512/618 [4:31:28<45:42, 25.87s/it]"
     ]
    },
    {
     "name": "stdout",
     "output_type": "stream",
     "text": [
      "694\n"
     ]
    },
    {
     "name": "stderr",
     "output_type": "stream",
     "text": [
      "rule转化逻辑表达式进度:  83%|████████▎ | 513/618 [4:32:03<50:31, 28.88s/it]"
     ]
    },
    {
     "name": "stdout",
     "output_type": "stream",
     "text": [
      "695\n"
     ]
    },
    {
     "name": "stderr",
     "output_type": "stream",
     "text": [
      "rule转化逻辑表达式进度:  83%|████████▎ | 514/618 [4:32:36<52:07, 30.07s/it]"
     ]
    },
    {
     "name": "stdout",
     "output_type": "stream",
     "text": [
      "696\n"
     ]
    },
    {
     "name": "stderr",
     "output_type": "stream",
     "text": [
      "rule转化逻辑表达式进度:  83%|████████▎ | 515/618 [4:33:01<48:49, 28.45s/it]"
     ]
    },
    {
     "name": "stdout",
     "output_type": "stream",
     "text": [
      "697\n"
     ]
    },
    {
     "name": "stderr",
     "output_type": "stream",
     "text": [
      "rule转化逻辑表达式进度:  83%|████████▎ | 516/618 [4:33:30<48:48, 28.71s/it]"
     ]
    },
    {
     "name": "stdout",
     "output_type": "stream",
     "text": [
      "698\n"
     ]
    },
    {
     "name": "stderr",
     "output_type": "stream",
     "text": [
      "rule转化逻辑表达式进度:  84%|████████▎ | 517/618 [4:34:10<53:37, 31.86s/it]"
     ]
    },
    {
     "name": "stdout",
     "output_type": "stream",
     "text": [
      "699\n"
     ]
    },
    {
     "name": "stderr",
     "output_type": "stream",
     "text": [
      "rule转化逻辑表达式进度:  84%|████████▍ | 518/618 [4:34:36<50:09, 30.10s/it]"
     ]
    },
    {
     "name": "stdout",
     "output_type": "stream",
     "text": [
      "700\n"
     ]
    },
    {
     "name": "stderr",
     "output_type": "stream",
     "text": [
      "rule转化逻辑表达式进度:  84%|████████▍ | 519/618 [4:35:07<50:20, 30.51s/it]"
     ]
    },
    {
     "name": "stdout",
     "output_type": "stream",
     "text": [
      "701\n"
     ]
    },
    {
     "name": "stderr",
     "output_type": "stream",
     "text": [
      "rule转化逻辑表达式进度:  84%|████████▍ | 520/618 [4:35:41<51:31, 31.55s/it]"
     ]
    },
    {
     "name": "stdout",
     "output_type": "stream",
     "text": [
      "702\n"
     ]
    },
    {
     "name": "stderr",
     "output_type": "stream",
     "text": [
      "rule转化逻辑表达式进度:  84%|████████▍ | 521/618 [4:36:07<48:33, 30.04s/it]"
     ]
    },
    {
     "name": "stdout",
     "output_type": "stream",
     "text": [
      "703\n"
     ]
    },
    {
     "name": "stderr",
     "output_type": "stream",
     "text": [
      "rule转化逻辑表达式进度:  84%|████████▍ | 522/618 [4:36:26<42:40, 26.67s/it]"
     ]
    },
    {
     "name": "stdout",
     "output_type": "stream",
     "text": [
      "704\n"
     ]
    },
    {
     "name": "stderr",
     "output_type": "stream",
     "text": [
      "rule转化逻辑表达式进度:  85%|████████▍ | 523/618 [4:37:01<45:50, 28.95s/it]"
     ]
    },
    {
     "name": "stdout",
     "output_type": "stream",
     "text": [
      "705\n"
     ]
    },
    {
     "name": "stderr",
     "output_type": "stream",
     "text": [
      "rule转化逻辑表达式进度:  85%|████████▍ | 524/618 [4:37:23<42:15, 26.97s/it]"
     ]
    },
    {
     "name": "stdout",
     "output_type": "stream",
     "text": [
      "706\n"
     ]
    },
    {
     "name": "stderr",
     "output_type": "stream",
     "text": [
      "rule转化逻辑表达式进度:  85%|████████▍ | 525/618 [4:38:00<46:28, 29.98s/it]"
     ]
    },
    {
     "name": "stdout",
     "output_type": "stream",
     "text": [
      "707\n"
     ]
    },
    {
     "name": "stderr",
     "output_type": "stream",
     "text": [
      "rule转化逻辑表达式进度:  85%|████████▌ | 526/618 [4:38:33<47:14, 30.81s/it]"
     ]
    },
    {
     "name": "stdout",
     "output_type": "stream",
     "text": [
      "708\n"
     ]
    },
    {
     "name": "stderr",
     "output_type": "stream",
     "text": [
      "rule转化逻辑表达式进度:  85%|████████▌ | 527/618 [4:39:00<45:11, 29.80s/it]"
     ]
    },
    {
     "name": "stdout",
     "output_type": "stream",
     "text": [
      "709\n"
     ]
    },
    {
     "name": "stderr",
     "output_type": "stream",
     "text": [
      "rule转化逻辑表达式进度:  85%|████████▌ | 528/618 [4:39:39<48:44, 32.50s/it]"
     ]
    },
    {
     "name": "stdout",
     "output_type": "stream",
     "text": [
      "710\n"
     ]
    },
    {
     "name": "stderr",
     "output_type": "stream",
     "text": [
      "rule转化逻辑表达式进度:  86%|████████▌ | 529/618 [4:40:00<43:15, 29.16s/it]"
     ]
    },
    {
     "name": "stdout",
     "output_type": "stream",
     "text": [
      "711\n"
     ]
    },
    {
     "name": "stderr",
     "output_type": "stream",
     "text": [
      "rule转化逻辑表达式进度:  86%|████████▌ | 530/618 [4:40:21<39:01, 26.60s/it]"
     ]
    },
    {
     "name": "stdout",
     "output_type": "stream",
     "text": [
      "712\n"
     ]
    },
    {
     "name": "stderr",
     "output_type": "stream",
     "text": [
      "rule转化逻辑表达式进度:  86%|████████▌ | 531/618 [4:40:49<39:12, 27.04s/it]"
     ]
    },
    {
     "name": "stdout",
     "output_type": "stream",
     "text": [
      "713\n"
     ]
    },
    {
     "name": "stderr",
     "output_type": "stream",
     "text": [
      "rule转化逻辑表达式进度:  86%|████████▌ | 532/618 [4:41:08<35:20, 24.66s/it]"
     ]
    },
    {
     "name": "stdout",
     "output_type": "stream",
     "text": [
      "714\n"
     ]
    },
    {
     "name": "stderr",
     "output_type": "stream",
     "text": [
      "rule转化逻辑表达式进度:  86%|████████▌ | 533/618 [4:41:30<33:43, 23.81s/it]"
     ]
    },
    {
     "name": "stdout",
     "output_type": "stream",
     "text": [
      "715\n"
     ]
    },
    {
     "name": "stderr",
     "output_type": "stream",
     "text": [
      "rule转化逻辑表达式进度:  86%|████████▋ | 534/618 [4:42:00<35:57, 25.68s/it]"
     ]
    },
    {
     "name": "stdout",
     "output_type": "stream",
     "text": [
      "716\n"
     ]
    },
    {
     "name": "stderr",
     "output_type": "stream",
     "text": [
      "rule转化逻辑表达式进度:  87%|████████▋ | 535/618 [4:42:28<36:31, 26.40s/it]"
     ]
    },
    {
     "name": "stdout",
     "output_type": "stream",
     "text": [
      "717\n"
     ]
    },
    {
     "name": "stderr",
     "output_type": "stream",
     "text": [
      "rule转化逻辑表达式进度:  87%|████████▋ | 536/618 [4:42:53<35:20, 25.86s/it]"
     ]
    },
    {
     "name": "stdout",
     "output_type": "stream",
     "text": [
      "718\n"
     ]
    },
    {
     "name": "stderr",
     "output_type": "stream",
     "text": [
      "rule转化逻辑表达式进度:  87%|████████▋ | 537/618 [4:43:37<42:16, 31.32s/it]"
     ]
    },
    {
     "name": "stdout",
     "output_type": "stream",
     "text": [
      "719\n"
     ]
    },
    {
     "name": "stderr",
     "output_type": "stream",
     "text": [
      "rule转化逻辑表达式进度:  87%|████████▋ | 538/618 [4:44:05<40:44, 30.55s/it]"
     ]
    },
    {
     "name": "stdout",
     "output_type": "stream",
     "text": [
      "720\n"
     ]
    },
    {
     "name": "stderr",
     "output_type": "stream",
     "text": [
      "rule转化逻辑表达式进度:  87%|████████▋ | 539/618 [4:44:27<36:36, 27.80s/it]"
     ]
    },
    {
     "name": "stdout",
     "output_type": "stream",
     "text": [
      "721\n"
     ]
    },
    {
     "name": "stderr",
     "output_type": "stream",
     "text": [
      "rule转化逻辑表达式进度:  87%|████████▋ | 540/618 [4:44:48<33:44, 25.96s/it]"
     ]
    },
    {
     "name": "stdout",
     "output_type": "stream",
     "text": [
      "722\n"
     ]
    },
    {
     "name": "stderr",
     "output_type": "stream",
     "text": [
      "rule转化逻辑表达式进度:  88%|████████▊ | 541/618 [4:45:04<29:17, 22.83s/it]"
     ]
    },
    {
     "name": "stdout",
     "output_type": "stream",
     "text": [
      "723\n"
     ]
    },
    {
     "name": "stderr",
     "output_type": "stream",
     "text": [
      "rule转化逻辑表达式进度:  88%|████████▊ | 542/618 [4:45:26<28:43, 22.68s/it]"
     ]
    },
    {
     "name": "stdout",
     "output_type": "stream",
     "text": [
      "724\n"
     ]
    },
    {
     "name": "stderr",
     "output_type": "stream",
     "text": [
      "rule转化逻辑表达式进度:  88%|████████▊ | 543/618 [4:46:19<39:29, 31.60s/it]"
     ]
    },
    {
     "name": "stdout",
     "output_type": "stream",
     "text": [
      "725\n"
     ]
    },
    {
     "name": "stderr",
     "output_type": "stream",
     "text": [
      "rule转化逻辑表达式进度:  88%|████████▊ | 544/618 [4:46:40<35:05, 28.45s/it]"
     ]
    },
    {
     "name": "stdout",
     "output_type": "stream",
     "text": [
      "726\n"
     ]
    },
    {
     "name": "stderr",
     "output_type": "stream",
     "text": [
      "rule转化逻辑表达式进度:  88%|████████▊ | 545/618 [4:47:07<34:07, 28.05s/it]"
     ]
    },
    {
     "name": "stdout",
     "output_type": "stream",
     "text": [
      "727\n"
     ]
    },
    {
     "name": "stderr",
     "output_type": "stream",
     "text": [
      "rule转化逻辑表达式进度:  88%|████████▊ | 546/618 [4:47:23<29:30, 24.59s/it]"
     ]
    },
    {
     "name": "stdout",
     "output_type": "stream",
     "text": [
      "728\n"
     ]
    },
    {
     "name": "stderr",
     "output_type": "stream",
     "text": [
      "rule转化逻辑表达式进度:  89%|████████▊ | 547/618 [4:47:43<27:25, 23.18s/it]"
     ]
    },
    {
     "name": "stdout",
     "output_type": "stream",
     "text": [
      "729\n"
     ]
    },
    {
     "name": "stderr",
     "output_type": "stream",
     "text": [
      "rule转化逻辑表达式进度:  89%|████████▊ | 548/618 [4:48:05<26:35, 22.79s/it]"
     ]
    },
    {
     "name": "stdout",
     "output_type": "stream",
     "text": [
      "730\n"
     ]
    },
    {
     "name": "stderr",
     "output_type": "stream",
     "text": [
      "rule转化逻辑表达式进度:  89%|████████▉ | 549/618 [4:48:39<30:05, 26.17s/it]"
     ]
    },
    {
     "name": "stdout",
     "output_type": "stream",
     "text": [
      "731\n"
     ]
    },
    {
     "name": "stderr",
     "output_type": "stream",
     "text": [
      "rule转化逻辑表达式进度:  89%|████████▉ | 550/618 [4:49:07<30:06, 26.57s/it]"
     ]
    },
    {
     "name": "stdout",
     "output_type": "stream",
     "text": [
      "732\n"
     ]
    },
    {
     "name": "stderr",
     "output_type": "stream",
     "text": [
      "rule转化逻辑表达式进度:  89%|████████▉ | 551/618 [4:49:24<26:39, 23.88s/it]"
     ]
    },
    {
     "name": "stdout",
     "output_type": "stream",
     "text": [
      "733\n"
     ]
    },
    {
     "name": "stderr",
     "output_type": "stream",
     "text": [
      "rule转化逻辑表达式进度:  89%|████████▉ | 552/618 [4:50:05<31:39, 28.78s/it]"
     ]
    },
    {
     "name": "stdout",
     "output_type": "stream",
     "text": [
      "734\n"
     ]
    },
    {
     "name": "stderr",
     "output_type": "stream",
     "text": [
      "rule转化逻辑表达式进度:  89%|████████▉ | 553/618 [4:50:50<36:42, 33.88s/it]"
     ]
    },
    {
     "name": "stdout",
     "output_type": "stream",
     "text": [
      "735\n"
     ]
    },
    {
     "name": "stderr",
     "output_type": "stream",
     "text": [
      "rule转化逻辑表达式进度:  90%|████████▉ | 554/618 [4:51:18<34:11, 32.05s/it]"
     ]
    },
    {
     "name": "stdout",
     "output_type": "stream",
     "text": [
      "736\n"
     ]
    },
    {
     "name": "stderr",
     "output_type": "stream",
     "text": [
      "rule转化逻辑表达式进度:  90%|████████▉ | 555/618 [4:52:04<37:53, 36.09s/it]"
     ]
    },
    {
     "name": "stdout",
     "output_type": "stream",
     "text": [
      "737\n"
     ]
    },
    {
     "name": "stderr",
     "output_type": "stream",
     "text": [
      "rule转化逻辑表达式进度:  90%|████████▉ | 556/618 [4:52:34<35:32, 34.40s/it]"
     ]
    },
    {
     "name": "stdout",
     "output_type": "stream",
     "text": [
      "738\n"
     ]
    },
    {
     "name": "stderr",
     "output_type": "stream",
     "text": [
      "rule转化逻辑表达式进度:  90%|█████████ | 557/618 [4:53:10<35:17, 34.71s/it]"
     ]
    },
    {
     "name": "stdout",
     "output_type": "stream",
     "text": [
      "739\n"
     ]
    },
    {
     "name": "stderr",
     "output_type": "stream",
     "text": [
      "rule转化逻辑表达式进度:  90%|█████████ | 558/618 [4:53:38<32:52, 32.87s/it]"
     ]
    },
    {
     "name": "stdout",
     "output_type": "stream",
     "text": [
      "740\n"
     ]
    },
    {
     "name": "stderr",
     "output_type": "stream",
     "text": [
      "rule转化逻辑表达式进度:  90%|█████████ | 559/618 [4:54:00<29:04, 29.57s/it]"
     ]
    },
    {
     "name": "stdout",
     "output_type": "stream",
     "text": [
      "741\n"
     ]
    },
    {
     "name": "stderr",
     "output_type": "stream",
     "text": [
      "rule转化逻辑表达式进度:  91%|█████████ | 560/618 [4:54:33<29:29, 30.51s/it]"
     ]
    },
    {
     "name": "stdout",
     "output_type": "stream",
     "text": [
      "742\n"
     ]
    },
    {
     "name": "stderr",
     "output_type": "stream",
     "text": [
      "rule转化逻辑表达式进度:  91%|█████████ | 561/618 [4:55:03<28:49, 30.34s/it]"
     ]
    },
    {
     "name": "stdout",
     "output_type": "stream",
     "text": [
      "743\n"
     ]
    },
    {
     "name": "stderr",
     "output_type": "stream",
     "text": [
      "rule转化逻辑表达式进度:  91%|█████████ | 562/618 [4:55:21<24:58, 26.76s/it]"
     ]
    },
    {
     "name": "stdout",
     "output_type": "stream",
     "text": [
      "744\n"
     ]
    },
    {
     "name": "stderr",
     "output_type": "stream",
     "text": [
      "rule转化逻辑表达式进度:  91%|█████████ | 563/618 [4:55:58<27:13, 29.71s/it]"
     ]
    },
    {
     "name": "stdout",
     "output_type": "stream",
     "text": [
      "745\n"
     ]
    },
    {
     "name": "stderr",
     "output_type": "stream",
     "text": [
      "rule转化逻辑表达式进度:  91%|█████████▏| 564/618 [4:56:28<26:56, 29.93s/it]"
     ]
    },
    {
     "name": "stdout",
     "output_type": "stream",
     "text": [
      "746\n"
     ]
    },
    {
     "name": "stderr",
     "output_type": "stream",
     "text": [
      "rule转化逻辑表达式进度:  91%|█████████▏| 565/618 [4:57:00<27:02, 30.61s/it]"
     ]
    },
    {
     "name": "stdout",
     "output_type": "stream",
     "text": [
      "747\n"
     ]
    },
    {
     "name": "stderr",
     "output_type": "stream",
     "text": [
      "rule转化逻辑表达式进度:  92%|█████████▏| 566/618 [4:57:28<25:49, 29.79s/it]"
     ]
    },
    {
     "name": "stdout",
     "output_type": "stream",
     "text": [
      "748\n"
     ]
    },
    {
     "name": "stderr",
     "output_type": "stream",
     "text": [
      "rule转化逻辑表达式进度:  92%|█████████▏| 567/618 [4:57:49<23:00, 27.07s/it]"
     ]
    },
    {
     "name": "stdout",
     "output_type": "stream",
     "text": [
      "749\n"
     ]
    },
    {
     "name": "stderr",
     "output_type": "stream",
     "text": [
      "rule转化逻辑表达式进度:  92%|█████████▏| 568/618 [4:58:03<19:18, 23.16s/it]"
     ]
    },
    {
     "name": "stdout",
     "output_type": "stream",
     "text": [
      "750\n"
     ]
    },
    {
     "name": "stderr",
     "output_type": "stream",
     "text": [
      "rule转化逻辑表达式进度:  92%|█████████▏| 569/618 [4:58:36<21:17, 26.08s/it]"
     ]
    },
    {
     "name": "stdout",
     "output_type": "stream",
     "text": [
      "751\n"
     ]
    },
    {
     "name": "stderr",
     "output_type": "stream",
     "text": [
      "rule转化逻辑表达式进度:  92%|█████████▏| 570/618 [4:58:54<18:56, 23.68s/it]"
     ]
    },
    {
     "name": "stdout",
     "output_type": "stream",
     "text": [
      "752\n"
     ]
    },
    {
     "name": "stderr",
     "output_type": "stream",
     "text": [
      "rule转化逻辑表达式进度:  92%|█████████▏| 571/618 [4:59:19<18:50, 24.05s/it]"
     ]
    },
    {
     "name": "stdout",
     "output_type": "stream",
     "text": [
      "753\n"
     ]
    },
    {
     "name": "stderr",
     "output_type": "stream",
     "text": [
      "rule转化逻辑表达式进度:  93%|█████████▎| 572/618 [4:59:55<21:19, 27.82s/it]"
     ]
    },
    {
     "name": "stdout",
     "output_type": "stream",
     "text": [
      "754\n"
     ]
    },
    {
     "name": "stderr",
     "output_type": "stream",
     "text": [
      "rule转化逻辑表达式进度:  93%|█████████▎| 573/618 [5:00:19<19:55, 26.57s/it]"
     ]
    },
    {
     "name": "stdout",
     "output_type": "stream",
     "text": [
      "755\n"
     ]
    },
    {
     "name": "stderr",
     "output_type": "stream",
     "text": [
      "rule转化逻辑表达式进度:  93%|█████████▎| 574/618 [5:00:46<19:31, 26.62s/it]"
     ]
    },
    {
     "name": "stdout",
     "output_type": "stream",
     "text": [
      "756\n"
     ]
    },
    {
     "name": "stderr",
     "output_type": "stream",
     "text": [
      "rule转化逻辑表达式进度:  93%|█████████▎| 575/618 [5:01:10<18:34, 25.93s/it]"
     ]
    },
    {
     "name": "stdout",
     "output_type": "stream",
     "text": [
      "757\n"
     ]
    },
    {
     "name": "stderr",
     "output_type": "stream",
     "text": [
      "rule转化逻辑表达式进度:  93%|█████████▎| 576/618 [5:01:44<19:45, 28.22s/it]"
     ]
    },
    {
     "name": "stdout",
     "output_type": "stream",
     "text": [
      "758\n"
     ]
    },
    {
     "name": "stderr",
     "output_type": "stream",
     "text": [
      "rule转化逻辑表达式进度:  93%|█████████▎| 577/618 [5:02:17<20:15, 29.66s/it]"
     ]
    },
    {
     "name": "stdout",
     "output_type": "stream",
     "text": [
      "759\n"
     ]
    },
    {
     "name": "stderr",
     "output_type": "stream",
     "text": [
      "rule转化逻辑表达式进度:  94%|█████████▎| 578/618 [5:02:44<19:12, 28.82s/it]"
     ]
    },
    {
     "name": "stdout",
     "output_type": "stream",
     "text": [
      "760\n"
     ]
    },
    {
     "name": "stderr",
     "output_type": "stream",
     "text": [
      "rule转化逻辑表达式进度:  94%|█████████▎| 579/618 [5:03:19<20:03, 30.86s/it]"
     ]
    },
    {
     "name": "stdout",
     "output_type": "stream",
     "text": [
      "761\n"
     ]
    },
    {
     "name": "stderr",
     "output_type": "stream",
     "text": [
      "rule转化逻辑表达式进度:  94%|█████████▍| 580/618 [5:03:49<19:19, 30.52s/it]"
     ]
    },
    {
     "name": "stdout",
     "output_type": "stream",
     "text": [
      "762\n"
     ]
    },
    {
     "name": "stderr",
     "output_type": "stream",
     "text": [
      "rule转化逻辑表达式进度:  94%|█████████▍| 581/618 [5:04:16<18:13, 29.57s/it]"
     ]
    },
    {
     "name": "stdout",
     "output_type": "stream",
     "text": [
      "763\n"
     ]
    },
    {
     "name": "stderr",
     "output_type": "stream",
     "text": [
      "rule转化逻辑表达式进度:  94%|█████████▍| 582/618 [5:04:40<16:42, 27.84s/it]"
     ]
    },
    {
     "name": "stdout",
     "output_type": "stream",
     "text": [
      "764\n"
     ]
    },
    {
     "name": "stderr",
     "output_type": "stream",
     "text": [
      "rule转化逻辑表达式进度:  94%|█████████▍| 583/618 [5:05:04<15:35, 26.74s/it]"
     ]
    },
    {
     "name": "stdout",
     "output_type": "stream",
     "text": [
      "765\n"
     ]
    },
    {
     "name": "stderr",
     "output_type": "stream",
     "text": [
      "rule转化逻辑表达式进度:  94%|█████████▍| 584/618 [5:05:35<15:46, 27.84s/it]"
     ]
    },
    {
     "name": "stdout",
     "output_type": "stream",
     "text": [
      "766\n"
     ]
    },
    {
     "name": "stderr",
     "output_type": "stream",
     "text": [
      "rule转化逻辑表达式进度:  95%|█████████▍| 585/618 [5:06:01<15:06, 27.48s/it]"
     ]
    },
    {
     "name": "stdout",
     "output_type": "stream",
     "text": [
      "767\n"
     ]
    },
    {
     "name": "stderr",
     "output_type": "stream",
     "text": [
      "rule转化逻辑表达式进度:  95%|█████████▍| 586/618 [5:06:26<14:08, 26.53s/it]"
     ]
    },
    {
     "name": "stdout",
     "output_type": "stream",
     "text": [
      "768\n"
     ]
    },
    {
     "name": "stderr",
     "output_type": "stream",
     "text": [
      "rule转化逻辑表达式进度:  95%|█████████▍| 587/618 [5:07:18<17:46, 34.41s/it]"
     ]
    },
    {
     "name": "stdout",
     "output_type": "stream",
     "text": [
      "769\n"
     ]
    },
    {
     "name": "stderr",
     "output_type": "stream",
     "text": [
      "rule转化逻辑表达式进度:  95%|█████████▌| 588/618 [5:08:10<19:43, 39.46s/it]"
     ]
    },
    {
     "name": "stdout",
     "output_type": "stream",
     "text": [
      "770\n"
     ]
    },
    {
     "name": "stderr",
     "output_type": "stream",
     "text": [
      "rule转化逻辑表达式进度:  95%|█████████▌| 589/618 [5:08:24<15:23, 31.86s/it]"
     ]
    },
    {
     "name": "stdout",
     "output_type": "stream",
     "text": [
      "771\n"
     ]
    },
    {
     "name": "stderr",
     "output_type": "stream",
     "text": [
      "rule转化逻辑表达式进度:  95%|█████████▌| 590/618 [5:08:49<13:57, 29.91s/it]"
     ]
    },
    {
     "name": "stdout",
     "output_type": "stream",
     "text": [
      "772\n"
     ]
    },
    {
     "name": "stderr",
     "output_type": "stream",
     "text": [
      "rule转化逻辑表达式进度:  96%|█████████▌| 591/618 [5:09:32<15:12, 33.81s/it]"
     ]
    },
    {
     "name": "stdout",
     "output_type": "stream",
     "text": [
      "773\n"
     ]
    },
    {
     "name": "stderr",
     "output_type": "stream",
     "text": [
      "rule转化逻辑表达式进度:  96%|█████████▌| 592/618 [5:10:07<14:47, 34.14s/it]"
     ]
    },
    {
     "name": "stdout",
     "output_type": "stream",
     "text": [
      "774\n"
     ]
    },
    {
     "name": "stderr",
     "output_type": "stream",
     "text": [
      "rule转化逻辑表达式进度:  96%|█████████▌| 593/618 [5:11:02<16:48, 40.35s/it]"
     ]
    },
    {
     "name": "stdout",
     "output_type": "stream",
     "text": [
      "775\n"
     ]
    },
    {
     "name": "stderr",
     "output_type": "stream",
     "text": [
      "rule转化逻辑表达式进度:  96%|█████████▌| 594/618 [5:11:18<13:11, 32.98s/it]"
     ]
    },
    {
     "name": "stdout",
     "output_type": "stream",
     "text": [
      "776\n"
     ]
    },
    {
     "name": "stderr",
     "output_type": "stream",
     "text": [
      "rule转化逻辑表达式进度:  96%|█████████▋| 595/618 [5:11:36<10:55, 28.52s/it]"
     ]
    },
    {
     "name": "stdout",
     "output_type": "stream",
     "text": [
      "777\n"
     ]
    },
    {
     "name": "stderr",
     "output_type": "stream",
     "text": [
      "rule转化逻辑表达式进度:  96%|█████████▋| 596/618 [5:11:59<09:53, 26.99s/it]"
     ]
    },
    {
     "name": "stdout",
     "output_type": "stream",
     "text": [
      "778\n"
     ]
    },
    {
     "name": "stderr",
     "output_type": "stream",
     "text": [
      "rule转化逻辑表达式进度:  97%|█████████▋| 597/618 [5:12:36<10:27, 29.90s/it]"
     ]
    },
    {
     "name": "stdout",
     "output_type": "stream",
     "text": [
      "779\n"
     ]
    },
    {
     "name": "stderr",
     "output_type": "stream",
     "text": [
      "rule转化逻辑表达式进度:  97%|█████████▋| 598/618 [5:13:08<10:10, 30.54s/it]"
     ]
    },
    {
     "name": "stdout",
     "output_type": "stream",
     "text": [
      "780\n"
     ]
    },
    {
     "name": "stderr",
     "output_type": "stream",
     "text": [
      "rule转化逻辑表达式进度:  97%|█████████▋| 599/618 [5:13:33<09:10, 28.96s/it]"
     ]
    },
    {
     "name": "stdout",
     "output_type": "stream",
     "text": [
      "781\n"
     ]
    },
    {
     "name": "stderr",
     "output_type": "stream",
     "text": [
      "rule转化逻辑表达式进度:  97%|█████████▋| 600/618 [5:13:54<07:56, 26.49s/it]"
     ]
    },
    {
     "name": "stdout",
     "output_type": "stream",
     "text": [
      "782\n"
     ]
    },
    {
     "name": "stderr",
     "output_type": "stream",
     "text": [
      "rule转化逻辑表达式进度:  97%|█████████▋| 601/618 [5:14:14<06:56, 24.49s/it]"
     ]
    },
    {
     "name": "stdout",
     "output_type": "stream",
     "text": [
      "783\n"
     ]
    },
    {
     "name": "stderr",
     "output_type": "stream",
     "text": [
      "rule转化逻辑表达式进度:  97%|█████████▋| 602/618 [5:14:44<07:02, 26.38s/it]"
     ]
    },
    {
     "name": "stdout",
     "output_type": "stream",
     "text": [
      "784\n"
     ]
    },
    {
     "name": "stderr",
     "output_type": "stream",
     "text": [
      "rule转化逻辑表达式进度:  98%|█████████▊| 603/618 [5:15:07<06:18, 25.26s/it]"
     ]
    },
    {
     "name": "stdout",
     "output_type": "stream",
     "text": [
      "785\n"
     ]
    },
    {
     "name": "stderr",
     "output_type": "stream",
     "text": [
      "rule转化逻辑表达式进度:  98%|█████████▊| 604/618 [5:15:36<06:09, 26.40s/it]"
     ]
    },
    {
     "name": "stdout",
     "output_type": "stream",
     "text": [
      "786\n"
     ]
    },
    {
     "name": "stderr",
     "output_type": "stream",
     "text": [
      "rule转化逻辑表达式进度:  98%|█████████▊| 605/618 [5:15:48<04:46, 22.07s/it]"
     ]
    },
    {
     "name": "stdout",
     "output_type": "stream",
     "text": [
      "787\n"
     ]
    },
    {
     "name": "stderr",
     "output_type": "stream",
     "text": [
      "rule转化逻辑表达式进度:  98%|█████████▊| 606/618 [5:16:24<05:14, 26.22s/it]"
     ]
    },
    {
     "name": "stdout",
     "output_type": "stream",
     "text": [
      "788\n"
     ]
    },
    {
     "name": "stderr",
     "output_type": "stream",
     "text": [
      "rule转化逻辑表达式进度:  98%|█████████▊| 607/618 [5:16:43<04:25, 24.16s/it]"
     ]
    },
    {
     "name": "stdout",
     "output_type": "stream",
     "text": [
      "789\n"
     ]
    },
    {
     "name": "stderr",
     "output_type": "stream",
     "text": [
      "rule转化逻辑表达式进度:  98%|█████████▊| 608/618 [5:17:17<04:28, 26.89s/it]"
     ]
    },
    {
     "name": "stdout",
     "output_type": "stream",
     "text": [
      "790\n"
     ]
    },
    {
     "name": "stderr",
     "output_type": "stream",
     "text": [
      "rule转化逻辑表达式进度:  99%|█████████▊| 609/618 [5:17:37<03:43, 24.88s/it]"
     ]
    },
    {
     "name": "stdout",
     "output_type": "stream",
     "text": [
      "791\n"
     ]
    },
    {
     "name": "stderr",
     "output_type": "stream",
     "text": [
      "rule转化逻辑表达式进度:  99%|█████████▊| 610/618 [5:17:53<02:58, 22.31s/it]"
     ]
    },
    {
     "name": "stdout",
     "output_type": "stream",
     "text": [
      "792\n"
     ]
    },
    {
     "name": "stderr",
     "output_type": "stream",
     "text": [
      "rule转化逻辑表达式进度:  99%|█████████▉| 611/618 [5:18:28<03:02, 26.04s/it]"
     ]
    },
    {
     "name": "stdout",
     "output_type": "stream",
     "text": [
      "793\n"
     ]
    },
    {
     "name": "stderr",
     "output_type": "stream",
     "text": [
      "rule转化逻辑表达式进度:  99%|█████████▉| 612/618 [5:19:08<03:01, 30.25s/it]"
     ]
    },
    {
     "name": "stdout",
     "output_type": "stream",
     "text": [
      "794\n"
     ]
    },
    {
     "name": "stderr",
     "output_type": "stream",
     "text": [
      "rule转化逻辑表达式进度:  99%|█████████▉| 613/618 [5:19:34<02:24, 28.94s/it]"
     ]
    },
    {
     "name": "stdout",
     "output_type": "stream",
     "text": [
      "795\n"
     ]
    },
    {
     "name": "stderr",
     "output_type": "stream",
     "text": [
      "rule转化逻辑表达式进度:  99%|█████████▉| 614/618 [5:19:55<01:46, 26.54s/it]"
     ]
    },
    {
     "name": "stdout",
     "output_type": "stream",
     "text": [
      "796\n"
     ]
    },
    {
     "name": "stderr",
     "output_type": "stream",
     "text": [
      "rule转化逻辑表达式进度: 100%|█████████▉| 615/618 [5:20:20<01:18, 26.21s/it]"
     ]
    },
    {
     "name": "stdout",
     "output_type": "stream",
     "text": [
      "797\n"
     ]
    },
    {
     "name": "stderr",
     "output_type": "stream",
     "text": [
      "rule转化逻辑表达式进度: 100%|█████████▉| 616/618 [5:20:42<00:49, 24.83s/it]"
     ]
    },
    {
     "name": "stdout",
     "output_type": "stream",
     "text": [
      "798\n"
     ]
    },
    {
     "name": "stderr",
     "output_type": "stream",
     "text": [
      "rule转化逻辑表达式进度: 100%|█████████▉| 617/618 [5:20:59<00:22, 22.55s/it]"
     ]
    },
    {
     "name": "stdout",
     "output_type": "stream",
     "text": [
      "799\n"
     ]
    },
    {
     "name": "stderr",
     "output_type": "stream",
     "text": [
      "rule转化逻辑表达式进度: 100%|██████████| 618/618 [5:21:16<00:00, 31.19s/it]"
     ]
    },
    {
     "name": "stdout",
     "output_type": "stream",
     "text": [
      "800\n"
     ]
    },
    {
     "name": "stderr",
     "output_type": "stream",
     "text": [
      "\n"
     ]
    }
   ],
   "source": [
    "for dicts in tqdm(data[84], desc='rule转化逻辑表达式进度'):\n",
    "    # 替换内容\n",
    "    replacement = dicts['rule_text']\n",
    "\n",
    "    # 使用正则表达式替换 [[RULES]]\n",
    "    content = re.sub(r'\\[\\[RULES\\]\\]', replacement, file_content)\n",
    "\n",
    "    messages = [\n",
    "        {\n",
    "            \"role\": \"system\",\n",
    "            \"content\": \"你是 Kimi，由 Moonshot AI 提供的人工智能助手，你更擅长中文和英文的对话。你会为用户提供安全，有帮助，准确的回答。同时，你会拒绝一切涉及恐怖主义，种族歧视，黄色暴力等问题的回答。Moonshot AI 为专有名词，不可翻译成其他语言。请将内容输出为可解析的json格式。\"\n",
    "        },\n",
    "        {\n",
    "            \"role\": \"system\",\n",
    "            \"content\": content,\n",
    "        },\n",
    "        {\n",
    "            \"role\": \"user\",\n",
    "            \"content\": \"你好，请根据txt内容生成回答。\"\n",
    "        }\n",
    "    ]\n",
    "\n",
    "    completion = call_api_with_rate_limit_handling(client, messages, \"moonshot-v1-32k\", 5)\n",
    "\n",
    "    print(dicts['rule_id'])\n",
    "    answers.append(completion.choices[0].message.content)"
   ]
  },
  {
   "cell_type": "code",
   "execution_count": 14,
   "id": "0b3b7b45-6adc-45ee-900d-3d6abf0c0314",
   "metadata": {
    "execution": {
     "iopub.execute_input": "2024-12-03T11:27:53.267028Z",
     "iopub.status.busy": "2024-12-03T11:27:53.266092Z",
     "iopub.status.idle": "2024-12-03T11:27:53.292723Z",
     "shell.execute_reply": "2024-12-03T11:27:53.291481Z",
     "shell.execute_reply.started": "2024-12-03T11:27:53.266963Z"
    }
   },
   "outputs": [],
   "source": [
    "with open('data/DF/answers_v3.json', 'w', encoding='utf-8') as f:\n",
    "    json.dump(answers, f, ensure_ascii=False, indent=4)"
   ]
  },
  {
   "cell_type": "code",
   "execution_count": 10,
   "id": "c49222b4-d0df-4746-8417-86fa12d6002d",
   "metadata": {
    "execution": {
     "iopub.execute_input": "2024-11-21T13:19:32.119059Z",
     "iopub.status.busy": "2024-11-21T13:19:32.117986Z",
     "iopub.status.idle": "2024-11-21T13:19:32.125663Z",
     "shell.execute_reply": "2024-11-21T13:19:32.124459Z",
     "shell.execute_reply.started": "2024-11-21T13:19:32.119011Z"
    }
   },
   "outputs": [
    {
     "name": "stdout",
     "output_type": "stream",
     "text": [
      "根据提供的规则描述，我们可以将其解析为一阶逻辑公式。以下是规则的逻辑表达式：\n",
      "\n",
      "```json\n",
      "{\n",
      "    \"rule\": \"危险化学品事故是指危险化学品生产、经营、储存、运输、使用和废弃危险化学品处置等过程中由危险化学品造成人员伤害、财产损失和环境污染的事故（矿山开采过程中发生的有毒、有害气体中毒、爆炸事故、放炮事故除外）。\",\n",
      "    \"predicates\": [\n",
      "        \"危险化学品事故：ChemicalAccident(Cause, Injury, PropertyDamage, EnvironmentalPollution) ::: 表示由危险化学品造成的事故，包括人员伤害、财产损失和环境污染。\",\n",
      "        \"造成：Cause(Accident, Effect) ::: 表示事故造成了某种效果。\",\n",
      "        \"人员伤害：Injury(Person) ::: 表示事故中人员受到伤害。\",\n",
      "        \"财产损失：PropertyDamage(Asset) ::: 表示事故中财产受到损失。\",\n",
      "        \"环境污染：EnvironmentalPollution(Environment) ::: 表示事故中环境受到污染。\",\n",
      "        \"生产：Produce(Chemical) ::: 表示危险化学品的生产过程。\",\n",
      "        \"经营：Operate(Chemical) ::: 表示危险化学品的经营过程。\",\n",
      "        \"储存：Store(Chemical) ::: 表示危险化学品的储存过程。\",\n",
      "        \"运输：Transport(Chemical) ::: 表示危险化学品的运输过程。\",\n",
      "        \"使用：Use(Chemical) ::: 表示危险化学品的使用过程。\",\n",
      "        \"废弃处置：Dispose(Chemical) ::: 表示危险化学品的废弃处置过程。\",\n",
      "        \"矿山开采事故：MiningAccident(GasPoisoning, Explosion, Blasting) ::: 表示矿山开采过程中发生的事故，包括有毒、有害气体中毒、爆炸事故、放炮事故。\"\n",
      "    ],\n",
      "    \"logicexpression\": [\n",
      "        \"∀c (ChemicalAccident(c, i, p, e) ↔ (Produce(c) ∨ Operate(c) ∨ Store(c) ∨ Transport(c) ∨ Use(c) ∨ Dispose(c)) ∧ (Cause(c, i) ∧ Cause(c, p) ∧ Cause(c, e)) ∧ ¬(MiningAccident(c, GasPoisoning) ∨ MiningAccident(c, Explosion) ∨ MiningAccident(c, Blasting))))\"\n",
      "    ]\n",
      "}\n",
      "```\n",
      "\n",
      "在这个逻辑表达式中，我们定义了相关的谓词，并构建了一个逻辑公式来表示规则中描述的情况。这个公式表明，如果一个事故是由危险化学品在生产、经营、储存、运输、使用或废弃处置过程中造成的，并且导致了人员伤害、财产损失和环境污染，那么这个事故就是一个危险化学品事故，除非这个事故是矿山开采过程中的特定类型的事故。\n"
     ]
    }
   ],
   "source": [
    "print(answers[0])"
   ]
  },
  {
   "cell_type": "markdown",
   "id": "b62fc8b7-8299-4641-9bed-b7c861bec8ea",
   "metadata": {
    "jp-MarkdownHeadingCollapsed": true
   },
   "source": [
    "## cache方法传输测试"
   ]
  },
  {
   "cell_type": "code",
   "execution_count": 4,
   "id": "89918fdd-18ba-4fea-8e5d-e6546e505782",
   "metadata": {
    "execution": {
     "iopub.execute_input": "2024-11-08T06:40:50.670073Z",
     "iopub.status.busy": "2024-11-08T06:40:50.669187Z",
     "iopub.status.idle": "2024-11-08T06:40:50.749649Z",
     "shell.execute_reply": "2024-11-08T06:40:50.748823Z",
     "shell.execute_reply.started": "2024-11-08T06:40:50.670006Z"
    }
   },
   "outputs": [],
   "source": [
    "client = OpenAI(\n",
    "    api_key=\"sk-gNToXJPO4Ih8NDZnDloSXR780dQDEZ2Epu49wcVA1sWb4Ecw\",\n",
    "    base_url=\"https://api.moonshot.cn/v1\",\n",
    ")"
   ]
  },
  {
   "cell_type": "code",
   "execution_count": null,
   "id": "ce73fa68-5991-47f7-9698-6cd6ff28ecae",
   "metadata": {},
   "outputs": [],
   "source": [
    "def upload_files(files: List[str], cache_tag: Optional[str] = None) -> List[Dict[str, Any]]:\n",
    "    \"\"\"\n",
    "    upload_files 会将传入的文件（路径）全部通过文件上传接口 '/v1/files' 上传，并获取上传后的\n",
    "    文件内容生成文件 messages。每个文件会是一个独立的 message，这些 message 的 role 均为\n",
    "    system，Kimi 大模型会正确识别这些 system messages 中的文件内容。\n",
    "\n",
    "    如果你设置了 cache_tag 参数，那么 upload_files 还会将你上传的文件内容存入 Context Cache\n",
    "    上下文缓存中，后续你就可以使用这个 Cache 来对文件内容进行提问。当你指定了 cache_tag 的值时，\n",
    "    upload_files 会生成一个 role 为 cache 的 message，通过这个 message，你可以引用已被缓存\n",
    "    的文件内容，这样就不必每次调用 `/v1/chat/completions` 接口时都要把文件内容再传输一遍。\n",
    "\n",
    "    注意，如果你设置了 cache_tag 的值，你需要把 upload_files 返回的 messages 放置在请求\n",
    "    `/v1/chat/completions` 接口时 messages 参数列表的第一位（实际上，我们推荐不管是否启用\n",
    "    cache_tag，都将 upload_files 返回的 messages 放置在 messages 列表的头部）。\n",
    "\n",
    "    关于 Context Caching 的具体信息，可以访问这里：\n",
    "\n",
    "    https://platform.moonshot.cn/docs/api/caching\n",
    "\n",
    "    :param files: 一个包含要上传文件的路径的列表，路径可以是绝对路径也可以是相对路径，请使用字符串\n",
    "        的形式传递文件路径。\n",
    "    :param cache_tag: 设置 Context Caching 的 tag 值，你可以将 tag 理解为自定义的 Cache 名称，\n",
    "        当你设置了 cache_tag 的值，就意味着启用 Context Caching 功能，默认缓存时间是 300 秒，每次\n",
    "        携带缓存进行 `/v1/chat/completions` 请求都将刷新缓存存活时间（300 秒）。\n",
    "    :return: 一个包含了文件内容或文件缓存的 messages 列表，请将这些 messages 加入到 Context 中，\n",
    "        即请求 `/v1/chat/completions` 接口时的 messages 参数中。\n",
    "    \"\"\"\n",
    "    messages = []\n",
    "\n",
    "    # 对每个文件路径，我们都会上传文件并抽取文件内容，最后生成一个 role 为 system 的 message，并加入\n",
    "    # 到最终返回的 messages 列表中。\n",
    "    for file in files:\n",
    "        file_object = client.files.create(file=Path(file), purpose=\"file-extract\")\n",
    "        file_content = client.files.content(file_id=file_object.id).text\n",
    "        messages.append({\n",
    "            \"role\": \"system\",\n",
    "            \"content\": file_content,\n",
    "        })\n",
    "\n",
    "    if cache_tag:\n",
    "        # 当启用缓存（即 cache_tag 有值时），我们通过 HTTP 接口创建缓存，缓存的内容则是前文中通过文件上传\n",
    "        # 和抽取接口生成的 messages 内容，我们为这些缓存设置一个默认的有效期 300 秒（通过 ttl 字段），并\n",
    "        # 为这个缓存打上标记，标记值为 cache_tag（通过 tags 字段）。\n",
    "        r = httpx.post(f\"{client.base_url}caching\",\n",
    "                       headers={\n",
    "                           \"Authorization\": f\"Bearer {client.api_key}\",\n",
    "                       },\n",
    "                       json={\n",
    "                           \"model\": \"moonshot-v1\",\n",
    "                           \"messages\": messages,\n",
    "                           \"ttl\": 300,\n",
    "                           \"tags\": [cache_tag],\n",
    "                       })\n",
    "\n",
    "        if r.status_code != 200:\n",
    "            raise Exception(r.text)\n",
    "\n",
    "        # 创建缓存成功后，我们不再需要将文件抽取后的内容原封不动地加入 messages 中，取而代之的是，我们可以设置一个\n",
    "        # role 为 cache 的消息来引用我们已缓存的文件内容，只需要在 content 中指定我们给 Cache 设定的 tag 即可，\n",
    "        # 这样可以有效减少网络传输的开销，即使是多个文件内容，也只需要添加一条 message，保持 messages 列表的清爽感。\n",
    "        return [{\n",
    "            \"role\": \"cache\",\n",
    "            \"content\": f\"tag={cache_tag};reset_ttl=300\",\n",
    "        }]\n",
    "    else:\n",
    "        return messages"
   ]
  }
 ],
 "metadata": {
  "kernelspec": {
   "display_name": "Python 3 (ipykernel)",
   "language": "python",
   "name": "python3"
  },
  "language_info": {
   "codemirror_mode": {
    "name": "ipython",
    "version": 3
   },
   "file_extension": ".py",
   "mimetype": "text/x-python",
   "name": "python",
   "nbconvert_exporter": "python",
   "pygments_lexer": "ipython3",
   "version": "3.10.12"
  }
 },
 "nbformat": 4,
 "nbformat_minor": 5
}
