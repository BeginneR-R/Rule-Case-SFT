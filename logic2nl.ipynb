{
 "cells": [
  {
   "cell_type": "markdown",
   "id": "c8178404",
   "metadata": {},
   "source": [
    "## 将实例化的逻辑表达式转化为自然语言"
   ]
  },
  {
   "cell_type": "code",
   "execution_count": 12,
   "id": "66235589-d78c-4235-a74f-82905fc82ed4",
   "metadata": {
    "execution": {
     "iopub.execute_input": "2024-12-04T04:04:03.015228Z",
     "iopub.status.busy": "2024-12-04T04:04:03.014144Z",
     "iopub.status.idle": "2024-12-04T04:04:03.023449Z",
     "shell.execute_reply": "2024-12-04T04:04:03.022093Z",
     "shell.execute_reply.started": "2024-12-04T04:04:03.015130Z"
    }
   },
   "outputs": [],
   "source": [
    "from typing import List\n",
    "from typing import Optional\n",
    "from typing import Dict\n",
    "\n",
    "import os\n",
    "import json\n",
    "from pathlib import Path\n",
    "\n",
    "import httpx\n",
    "from openai import OpenAI\n",
    "\n",
    "import requests\n",
    "\n",
    "import time\n",
    "import re\n",
    "from tqdm import tqdm"
   ]
  },
  {
   "cell_type": "markdown",
   "id": "bf0c6bd3-0465-46b6-9f50-7f08c4fcf0c6",
   "metadata": {},
   "source": [
    "## 逻辑表达式转化为自然语言"
   ]
  },
  {
   "cell_type": "code",
   "execution_count": 2,
   "id": "8da15da0-9bf8-4125-80f7-605fd793086b",
   "metadata": {
    "execution": {
     "iopub.execute_input": "2024-12-04T03:56:20.946599Z",
     "iopub.status.busy": "2024-12-04T03:56:20.945806Z",
     "iopub.status.idle": "2024-12-04T03:56:21.432376Z",
     "shell.execute_reply": "2024-12-04T03:56:21.430847Z",
     "shell.execute_reply.started": "2024-12-04T03:56:20.946535Z"
    }
   },
   "outputs": [
    {
     "name": "stdout",
     "output_type": "stream",
     "text": [
      "200\n",
      "{\"id\":\"ct7t5pb5cfusk9k5e3og\",\"object\":\"file\",\"bytes\":6097,\"created_at\":1733284581,\"filename\":\"nl.txt\",\"purpose\":\"file-extract\",\"status\":\"ok\",\"status_details\":\"\"}\n"
     ]
    }
   ],
   "source": [
    "# 文件路径\n",
    "file_path = \"prompts/DataFountain/nl.txt\"\n",
    "\n",
    "# 请求的 URL\n",
    "url = \"https://api.moonshot.cn/v1/files\"\n",
    "\n",
    "headers = {\n",
    "    'Authorization': 'sk-gNToXJPO4Ih8NDZnDloSXR780dQDEZ2Epu49wcVA1sWb4Ecw'\n",
    "}\n",
    "\n",
    "# 准备文件数据\n",
    "files = {'file': open(file_path, 'rb')}\n",
    "\n",
    "# 发起 POST 请求\n",
    "response = requests.post(url, headers=headers, files=files)\n",
    "\n",
    "# 打印响应内容\n",
    "print(response.status_code)\n",
    "print(response.text)"
   ]
  },
  {
   "cell_type": "code",
   "execution_count": 3,
   "id": "3eaa33bd-88ac-4e2f-a5ca-1303a48d726c",
   "metadata": {
    "execution": {
     "iopub.execute_input": "2024-12-04T03:56:25.198519Z",
     "iopub.status.busy": "2024-12-04T03:56:25.197738Z",
     "iopub.status.idle": "2024-12-04T03:56:25.882850Z",
     "shell.execute_reply": "2024-12-04T03:56:25.881328Z",
     "shell.execute_reply.started": "2024-12-04T03:56:25.198473Z"
    }
   },
   "outputs": [],
   "source": [
    "client = OpenAI(\n",
    "    api_key=\"sk-gNToXJPO4Ih8NDZnDloSXR780dQDEZ2Epu49wcVA1sWb4Ecw\",\n",
    "    base_url=\"https://api.moonshot.cn/v1\",\n",
    ")\n",
    "\n",
    "file_object = client.files.create(file=Path(\"prompts/DataFountain/nl.txt\"), purpose=\"file-extract\")\n",
    "file_content = client.files.content(file_id=file_object.id).text"
   ]
  },
  {
   "cell_type": "code",
   "execution_count": 4,
   "id": "b6dd41da-9c3e-41bc-bfc5-6cc66b3cb2c6",
   "metadata": {
    "execution": {
     "iopub.execute_input": "2024-12-04T03:56:34.036779Z",
     "iopub.status.busy": "2024-12-04T03:56:34.035929Z",
     "iopub.status.idle": "2024-12-04T03:56:34.060488Z",
     "shell.execute_reply": "2024-12-04T03:56:34.059643Z",
     "shell.execute_reply.started": "2024-12-04T03:56:34.036725Z"
    }
   },
   "outputs": [],
   "source": [
    "with open('data/DF/instance_predicates_v3.json', 'r', encoding='utf-8') as file:\n",
    "    data = json.load(file)"
   ]
  },
  {
   "cell_type": "code",
   "execution_count": 11,
   "id": "f1ac69e5-d31f-4fb4-86d1-b20f0cc3549e",
   "metadata": {
    "execution": {
     "iopub.execute_input": "2024-12-04T04:02:36.043396Z",
     "iopub.status.busy": "2024-12-04T04:02:36.042503Z",
     "iopub.status.idle": "2024-12-04T04:02:36.051057Z",
     "shell.execute_reply": "2024-12-04T04:02:36.049699Z",
     "shell.execute_reply.started": "2024-12-04T04:02:36.043332Z"
    },
    "scrolled": true
   },
   "outputs": [
    {
     "name": "stdout",
     "output_type": "stream",
     "text": [
      "751\n"
     ]
    }
   ],
   "source": [
    "print(len(data))"
   ]
  },
  {
   "cell_type": "code",
   "execution_count": 25,
   "id": "db57d3d2-2803-4a23-a9f9-1a867f35d07a",
   "metadata": {
    "execution": {
     "iopub.execute_input": "2024-11-22T10:33:58.231118Z",
     "iopub.status.busy": "2024-11-22T10:33:58.230427Z",
     "iopub.status.idle": "2024-11-22T10:33:58.238958Z",
     "shell.execute_reply": "2024-11-22T10:33:58.237594Z",
     "shell.execute_reply.started": "2024-11-22T10:33:58.231072Z"
    }
   },
   "outputs": [],
   "source": [
    "def extract_json(text):\n",
    "    # 使用正则表达式匹配并提取 JSON 数据（假设 JSON 数据用 `{` 开头和 `}` 结尾）\n",
    "    json_data = re.search(r'\\[.*\\]', text, re.DOTALL)\n",
    "\n",
    "    # 检查是否找到匹配的 JSON 数据\n",
    "    if json_data:\n",
    "        json_string = json_data.group(0)\n",
    "\n",
    "        # 将 JSON 数据解析为字典\n",
    "        data = json.loads(json_string)\n",
    "        return data\n",
    "    else:\n",
    "        print(\"未找到 JSON 数据。\")"
   ]
  },
  {
   "cell_type": "code",
   "execution_count": 11,
   "id": "298ec0d8-414a-4a24-a1aa-ad99904c3fb9",
   "metadata": {
    "execution": {
     "iopub.execute_input": "2024-11-22T10:17:31.062032Z",
     "iopub.status.busy": "2024-11-22T10:17:31.061194Z",
     "iopub.status.idle": "2024-11-22T10:17:31.069541Z",
     "shell.execute_reply": "2024-11-22T10:17:31.068371Z",
     "shell.execute_reply.started": "2024-11-22T10:17:31.061969Z"
    },
    "scrolled": true
   },
   "outputs": [
    {
     "name": "stdout",
     "output_type": "stream",
     "text": [
      "[\n",
      "    {\n",
      "        \"instance_predicates\": [\n",
      "            \"c=“甲苯泄漏” — 表示危险化学品事故为甲苯泄漏\",\n",
      "            \"i=“工人受伤” — 表示人员伤害为工人受伤\",\n",
      "            \"p=“设备损坏” — 表示财产损失为设备损坏\",\n",
      "            \"e=“河流污染” — 表示环境污染为河流污染\",\n",
      "            \"Cause=“甲苯泄漏导致” — 表示事故原因为甲苯泄漏导致\"\n",
      "        ],\n",
      "        \"instance_logicexpression\": [\n",
      "            \"∀c (ChemicalAccident(“甲苯泄漏”, “工人受伤”, “设备损坏”, “河流污染”) ↔ (Produce(“甲苯泄漏”) ∨ Operate(“甲苯泄漏”) ∨ Store(“甲苯泄漏”) ∨ Transport(“甲苯泄漏”) ∨ Use(“甲苯泄漏”) ∨ Dispose(“甲苯泄漏”)) ∧ (Cause(“甲苯泄漏”, “工人受伤”) ∧ Cause(“甲苯泄漏”, “设备损坏”) ∧ Cause(“甲苯泄漏”, “河流污染”)) ∧ ¬(MiningAccident(“甲苯泄漏”, GasPoisoning) ∨ MiningAccident(“甲苯泄漏”, Explosion) ∨ MiningAccident(“甲苯泄漏”, Blasting))))\"\n",
      "        ]\n",
      "    },\n",
      "    {\n",
      "        \"instance_predicates\": [\n",
      "            \"c=“硫酸泄漏” — 表示危险化学品事故为硫酸泄漏\",\n",
      "            \"i=“居民中毒” — 表示人员伤害为居民中毒\",\n",
      "            \"p=“仓库损毁” — 表示财产损失为仓库损毁\",\n",
      "            \"e=“土壤污染” — 表示环境污染为土壤污染\",\n",
      "            \"Cause=“硫酸泄漏导致” — 表示事故原因为硫酸泄漏导致\"\n",
      "        ],\n",
      "        \"instance_logicexpression\": [\n",
      "            \"∀c (ChemicalAccident(“硫酸泄漏”, “居民中毒”, “仓库损毁”, “土壤污染”) ↔ (Produce(“硫酸泄漏”) ∨ Operate(“硫酸泄漏”) ∨ Store(“硫酸泄漏”) ∨ Transport(“硫酸泄漏”) ∨ Use(“硫酸泄漏”) ∨ Dispose(“硫酸泄漏”)) ∧ (Cause(“硫酸泄漏”, “居民中毒”) ∧ Cause(“硫酸泄漏”, “仓库损毁”) ∧ Cause(“硫酸泄漏”, “土壤污染”)) ∧ ¬(MiningAccident(“硫酸泄漏”, GasPoisoning) ∨ MiningAccident(“硫酸泄漏”, Explosion) ∨ MiningAccident(“硫酸泄漏”, Blasting))))\"\n",
      "        ]\n",
      "    },\n",
      "    {\n",
      "        \"instance_predicates\": [\n",
      "            \"c=“氯气泄漏” — 表示危险化学品事故为氯气泄漏\",\n",
      "            \"i=“员工窒息” — 表示人员伤害为员工窒息\",\n",
      "            \"p=“运输车辆损毁” — 表示财产损失为运输车辆损毁\",\n",
      "            \"e=“大气污染” — 表示环境污染为大气污染\",\n",
      "            \"Cause=“氯气泄漏导致” — 表示事故原因为氯气泄漏导致\"\n",
      "        ],\n",
      "        \"instance_logicexpression\": [\n",
      "            \"∀c (ChemicalAccident(“氯气泄漏”, “员工窒息”, “运输车辆损毁”, “大气污染”) ↔ (Produce(“氯气泄漏”) ∨ Operate(“氯气泄漏”) ∨ Store(“氯气泄漏”) ∨ Transport(“氯气泄漏”) ∨ Use(“氯气泄漏”) ∨ Dispose(“氯气泄漏”)) ∧ (Cause(“氯气泄漏”, “员工窒息”) ∧ Cause(“氯气泄漏”, “运输车辆损毁”) ∧ Cause(“氯气泄漏”, “大气污染”)) ∧ ¬(MiningAccident(“氯气泄漏”, GasPoisoning) ∨ MiningAccident(“氯气泄漏”, Explosion) ∨ MiningAccident(“氯气泄漏”, Blasting))))\"\n",
      "        ]\n",
      "    }\n",
      "]\n"
     ]
    }
   ],
   "source": [
    "print(extract_json(data[0]))"
   ]
  },
  {
   "cell_type": "markdown",
   "id": "ee8257d6-5c00-48a6-8089-b959a28e9892",
   "metadata": {},
   "source": [
    "## 使用api转化自然语言"
   ]
  },
  {
   "cell_type": "code",
   "execution_count": 6,
   "id": "78d9b509-a3d5-4910-8845-978dcdd02213",
   "metadata": {
    "execution": {
     "iopub.execute_input": "2024-12-04T03:57:11.127346Z",
     "iopub.status.busy": "2024-12-04T03:57:11.126192Z",
     "iopub.status.idle": "2024-12-04T03:57:11.137803Z",
     "shell.execute_reply": "2024-12-04T03:57:11.136845Z",
     "shell.execute_reply.started": "2024-12-04T03:57:11.127283Z"
    }
   },
   "outputs": [],
   "source": [
    "def call_api_with_rate_limit_handling(client, messages, model=\"moonshot-v1-32k\", max_retries=5):\n",
    "    retries = 0\n",
    "    while retries < max_retries:\n",
    "        try:\n",
    "            completion = client.chat.completions.create(\n",
    "                model=model,\n",
    "                messages=messages,\n",
    "                temperature=0,\n",
    "            )\n",
    "            return completion\n",
    "        except Exception as e:\n",
    "            if '429' in str(e):  # 检查异常消息中是否包含429\n",
    "                print(\"Rate limit reached. Retrying in 1 second...\")\n",
    "                time.sleep(1)  # 等待1秒钟\n",
    "                retries += 1\n",
    "            else:\n",
    "                raise  # Re-raise the exception if it's not a 429 error\n",
    "    raise Exception(\"Max retries reached. API call failed.\")"
   ]
  },
  {
   "cell_type": "code",
   "execution_count": 15,
   "id": "8c77761e-c04e-45a6-90aa-acae8282baba",
   "metadata": {
    "execution": {
     "iopub.execute_input": "2024-12-04T04:05:43.067477Z",
     "iopub.status.busy": "2024-12-04T04:05:43.066549Z",
     "iopub.status.idle": "2024-12-04T04:05:43.073658Z",
     "shell.execute_reply": "2024-12-04T04:05:43.072319Z",
     "shell.execute_reply.started": "2024-12-04T04:05:43.067414Z"
    }
   },
   "outputs": [],
   "source": [
    "nl = []"
   ]
  },
  {
   "cell_type": "code",
   "execution_count": 16,
   "id": "dcb41e1a-ed8e-4ecf-a166-17018279de66",
   "metadata": {
    "execution": {
     "iopub.execute_input": "2024-12-04T04:05:46.065747Z",
     "iopub.status.busy": "2024-12-04T04:05:46.064861Z",
     "iopub.status.idle": "2024-12-04T06:53:27.348224Z",
     "shell.execute_reply": "2024-12-04T06:53:27.346276Z",
     "shell.execute_reply.started": "2024-12-04T04:05:46.065682Z"
    },
    "scrolled": true
   },
   "outputs": [
    {
     "name": "stderr",
     "output_type": "stream",
     "text": [
      "rule转化逻辑表达式进度: 100%|██████████| 751/751 [2:47:41<00:00, 13.40s/it]  \n"
     ]
    }
   ],
   "source": [
    "for dicts in tqdm(data, desc='rule转化逻辑表达式进度'):\n",
    "    # 替换内容\n",
    "    # 使用正则表达式替换 [[RULES]]\n",
    "    # content = re.sub(r'\\[\\[RULES\\]\\]', instance, file_content)\n",
    "    # print(content)\n",
    "\n",
    "    # 使用replace\n",
    "    content = file_content.replace(\"[[RULES]]\", dicts)\n",
    "\n",
    "    messages = [\n",
    "        {\n",
    "            \"role\": \"system\",\n",
    "            \"content\": \"你是 Kimi，由 Moonshot AI 提供的人工智能助手，你更擅长中文和英文的对话。你会为用户提供安全，有帮助，准确的回答。同时，你会拒绝一切涉及恐怖主义，种族歧视，黄色暴力等问题的回答。Moonshot AI 为专有名词，不可翻译成其他语言。请将内容输出为可解析的json格式。\"\n",
    "        },\n",
    "        {\n",
    "            \"role\": \"system\",\n",
    "            \"content\": content,\n",
    "        },\n",
    "        {\n",
    "            \"role\": \"user\",\n",
    "            \"content\": \"你好，请根据txt内容生成回答。\"\n",
    "        }\n",
    "    ]\n",
    "\n",
    "    completion = call_api_with_rate_limit_handling(client, messages, \"moonshot-v1-32k\", 5)\n",
    "\n",
    "    nl.append(completion.choices[0].message.content)"
   ]
  },
  {
   "cell_type": "code",
   "execution_count": 18,
   "id": "c6f70075-27be-43bb-878f-4b8087838c02",
   "metadata": {
    "execution": {
     "iopub.execute_input": "2024-12-04T06:55:08.866921Z",
     "iopub.status.busy": "2024-12-04T06:55:08.866138Z",
     "iopub.status.idle": "2024-12-04T06:55:08.873836Z",
     "shell.execute_reply": "2024-12-04T06:55:08.872556Z",
     "shell.execute_reply.started": "2024-12-04T06:55:08.866868Z"
    },
    "scrolled": true
   },
   "outputs": [
    {
     "name": "stdout",
     "output_type": "stream",
     "text": [
      "你好，以下是根据提供的逻辑表达式和谓词描述转换成自然语言的输出：\n",
      "\n",
      "```json\n",
      "[\n",
      "    {\n",
      "        \"natural_language\": \"如果工厂发生了爆炸事件，并且涉及的是易燃化学品，那么这个事件会导致人员伤害、财产损失和环境污染。同时，这个事件与生产、操作、储存、运输、使用或处置易燃化学品有关，并且不是矿井事故、有毒气体中毒、爆炸事故或爆破事故。\"\n",
      "    },\n",
      "    {\n",
      "        \"natural_language\": \"如果化工厂发生了化学品泄漏事件，并且涉及的是有毒化学品，那么这个事件会导致人员伤害、财产损失和环境污染。同时，这个事件与生产、操作、储存、运输、使用或处置有毒化学品有关，并且不是矿井事故、有毒气体中毒、爆炸事故或爆破事故。\"\n",
      "    },\n",
      "    {\n",
      "        \"natural_language\": \"如果在运输途中发生了化学品泄漏事件，并且涉及的是腐蚀性化学品，那么这个事件会导致人员伤害、财产损失和环境污染。同时，这个事件与生产、操作、储存、运输、使用或处置腐蚀性化学品有关，并且不是矿井事故、有毒气体中毒、爆炸事故或爆破事故。\"\n",
      "    },\n",
      "    {\n",
      "        \"natural_language\": \"如果实验室发生了化学品爆炸事件，并且涉及的是实验用化学品，那么这个事件会导致人员伤害、财产损失和环境污染。同时，这个事件与生产、操作、储存、运输、使用或处置实验用化学品有关，并且不是矿井事故、有毒气体中毒、爆炸事故或爆破事故。\"\n",
      "    }\n",
      "]\n",
      "```\n"
     ]
    }
   ],
   "source": [
    "print(nl[0])"
   ]
  },
  {
   "cell_type": "code",
   "execution_count": 17,
   "id": "35cb0e6a-7b4f-4a10-84d1-14a43e572647",
   "metadata": {
    "execution": {
     "iopub.execute_input": "2024-12-04T06:54:44.869957Z",
     "iopub.status.busy": "2024-12-04T06:54:44.869005Z",
     "iopub.status.idle": "2024-12-04T06:54:44.885123Z",
     "shell.execute_reply": "2024-12-04T06:54:44.884619Z",
     "shell.execute_reply.started": "2024-12-04T06:54:44.869892Z"
    }
   },
   "outputs": [],
   "source": [
    "with open('data/DF/instance_nl_v1.json', 'w', encoding='utf-8') as f:\n",
    "    json.dump(nl, f, ensure_ascii=False, indent=4)"
   ]
  },
  {
   "cell_type": "code",
   "execution_count": null,
   "id": "03ec33b8-e48f-4852-9878-ead3ccb12ac0",
   "metadata": {},
   "outputs": [],
   "source": []
  }
 ],
 "metadata": {
  "kernelspec": {
   "display_name": "Python 3 (ipykernel)",
   "language": "python",
   "name": "python3"
  },
  "language_info": {
   "codemirror_mode": {
    "name": "ipython",
    "version": 3
   },
   "file_extension": ".py",
   "mimetype": "text/x-python",
   "name": "python",
   "nbconvert_exporter": "python",
   "pygments_lexer": "ipython3",
   "version": "3.10.12"
  }
 },
 "nbformat": 4,
 "nbformat_minor": 5
}
