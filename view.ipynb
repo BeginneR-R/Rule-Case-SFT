{
 "cells": [
  {
   "cell_type": "code",
   "execution_count": 2,
   "id": "caf21a44-4526-4cd8-8320-ee67cf7fd82b",
   "metadata": {
    "execution": {
     "iopub.execute_input": "2024-12-05T14:29:43.298405Z",
     "iopub.status.busy": "2024-12-05T14:29:43.297857Z",
     "iopub.status.idle": "2024-12-05T14:29:43.303948Z",
     "shell.execute_reply": "2024-12-05T14:29:43.302726Z",
     "shell.execute_reply.started": "2024-12-05T14:29:43.298375Z"
    }
   },
   "outputs": [],
   "source": [
    "import json\n",
    "import re"
   ]
  },
  {
   "cell_type": "code",
   "execution_count": 130,
   "id": "fb409c57-468c-4a1a-b0da-a820bd9db5d9",
   "metadata": {
    "execution": {
     "iopub.execute_input": "2024-12-06T08:26:24.361847Z",
     "iopub.status.busy": "2024-12-06T08:26:24.360810Z",
     "iopub.status.idle": "2024-12-06T08:26:24.399307Z",
     "shell.execute_reply": "2024-12-06T08:26:24.398720Z",
     "shell.execute_reply.started": "2024-12-06T08:26:24.361775Z"
    }
   },
   "outputs": [],
   "source": [
    "with open(\"data/DF/instance_predicates_782_v2.json\", \"r\", encoding=\"utf-8\") as f:\n",
    "    ans3 = json.load(f)\n",
    "\n",
    "with open(\"data/DF/instance_nl_751_v1.json\", \"r\", encoding=\"utf-8\") as f:\n",
    "    ans1 = json.load(f)"
   ]
  },
  {
   "cell_type": "code",
   "execution_count": 131,
   "id": "4e39cb5c-c3cf-4548-99fa-7de4af30d556",
   "metadata": {
    "execution": {
     "iopub.execute_input": "2024-12-06T08:26:30.565232Z",
     "iopub.status.busy": "2024-12-06T08:26:30.564306Z",
     "iopub.status.idle": "2024-12-06T08:26:30.573197Z",
     "shell.execute_reply": "2024-12-06T08:26:30.571795Z",
     "shell.execute_reply.started": "2024-12-06T08:26:30.565163Z"
    },
    "scrolled": true
   },
   "outputs": [
    {
     "name": "stdout",
     "output_type": "stream",
     "text": [
      "751\n"
     ]
    }
   ],
   "source": [
    "print(len(ans1))"
   ]
  },
  {
   "cell_type": "code",
   "execution_count": 34,
   "id": "ccc10d9d-3d4d-465e-9d36-168623c301b9",
   "metadata": {
    "execution": {
     "iopub.execute_input": "2024-12-05T14:47:17.949152Z",
     "iopub.status.busy": "2024-12-05T14:47:17.948340Z",
     "iopub.status.idle": "2024-12-05T14:47:17.957402Z",
     "shell.execute_reply": "2024-12-05T14:47:17.956217Z",
     "shell.execute_reply.started": "2024-12-05T14:47:17.949088Z"
    },
    "jupyter": {
     "source_hidden": true
    }
   },
   "outputs": [
    {
     "name": "stdout",
     "output_type": "stream",
     "text": [
      "空字符的个数: 49\n",
      "空字符的索引位置: [21, 22, 31, 76, 78, 80, 84, 91, 100, 103, 111, 122, 125, 130, 134, 136, 137, 138, 140, 143, 145, 146, 168, 181, 187, 271, 274, 367, 371, 434, 439, 459, 510, 525, 570, 571, 573, 600, 624, 654, 660, 661, 662, 704, 718, 730, 774, 794, 795]\n"
     ]
    }
   ],
   "source": [
    "# 找出为空字符的元素的索引和数量\n",
    "empty_count = 0\n",
    "empty_indices = []\n",
    "\n",
    "for index, element in enumerate(ip800v3):\n",
    "    if element == \"\":\n",
    "        empty_count += 1\n",
    "        empty_indices.append(index)\n",
    "\n",
    "# 输出结果\n",
    "print(f\"空字符的个数: {empty_count}\")\n",
    "print(f\"空字符的索引位置: {empty_indices}\")"
   ]
  },
  {
   "cell_type": "code",
   "execution_count": 36,
   "id": "6b302a40-e611-449b-8319-44858e53b0a2",
   "metadata": {
    "execution": {
     "iopub.execute_input": "2024-12-05T14:47:45.442031Z",
     "iopub.status.busy": "2024-12-05T14:47:45.441111Z",
     "iopub.status.idle": "2024-12-05T14:47:45.457196Z",
     "shell.execute_reply": "2024-12-05T14:47:45.456598Z",
     "shell.execute_reply.started": "2024-12-05T14:47:45.441969Z"
    }
   },
   "outputs": [],
   "source": [
    "with open('data/DF/instance_nl_800_v1.json', 'w', encoding='utf-8') as f:\n",
    "    json.dump(ip800v3, f, ensure_ascii=False, indent=4)"
   ]
  },
  {
   "cell_type": "code",
   "execution_count": 132,
   "id": "d7072070-857a-4088-b70b-8b818ece8842",
   "metadata": {
    "execution": {
     "iopub.execute_input": "2024-12-06T08:28:22.118937Z",
     "iopub.status.busy": "2024-12-06T08:28:22.117977Z",
     "iopub.status.idle": "2024-12-06T08:28:22.130361Z",
     "shell.execute_reply": "2024-12-06T08:28:22.129431Z",
     "shell.execute_reply.started": "2024-12-06T08:28:22.118866Z"
    }
   },
   "outputs": [],
   "source": [
    "skip_list = [84, 91, 100, 122, 125, 134, 136, 138, 140, 146, 181, 274, 371, 570, 573, 660, 661, 662]\n",
    "skip_list2 = [21, 22, 31, 76, 78, 80, 100, 108, 125, 130, 134, 136, 158, 176, 260, 355, 421, 426, 446, 497, 512, 557, 585, 609, 639, 686, 700, 712, 756, 776, 777]\n",
    "ip782 = [''] * 782\n",
    "a = 0\n",
    "for i in range(0, 782):\n",
    "    if i not in skip_list2:\n",
    "        ip782[i] = ans1[a]\n",
    "        a += 1\n",
    "    else:\n",
    "        ip782[i] = \"\""
   ]
  },
  {
   "cell_type": "code",
   "execution_count": 136,
   "id": "59046ebc-eb8b-4b2d-a5e9-c55fc33e83c2",
   "metadata": {
    "execution": {
     "iopub.execute_input": "2024-12-06T08:30:41.478642Z",
     "iopub.status.busy": "2024-12-06T08:30:41.477797Z",
     "iopub.status.idle": "2024-12-06T08:30:41.487918Z",
     "shell.execute_reply": "2024-12-06T08:30:41.486935Z",
     "shell.execute_reply.started": "2024-12-06T08:30:41.478597Z"
    }
   },
   "outputs": [],
   "source": [
    "skip_list = [84, 91, 100, 122, 125, 134, 136, 138, 140, 146, 181, 274, 371, 570, 573, 660, 661, 662]\n",
    "skip_list2 = [21, 22, 31, 76, 78, 80, 100, 108, 125, 130, 134, 136, 158, 176, 260, 355, 421, 426, 446, 497, 512, 557, 585, 609, 639, 686, 700, 712, 756, 776, 777]\n",
    "ip800 = [''] * 800\n",
    "a = 0\n",
    "for i in range(0, 800):\n",
    "    if i not in skip_list:\n",
    "        ip800[i] = ip782[a]\n",
    "        a += 1\n",
    "    else:\n",
    "        ip800[i] = \"\""
   ]
  },
  {
   "cell_type": "code",
   "execution_count": 139,
   "id": "dec623d7-1688-4f3f-91b1-4a35f7b33aae",
   "metadata": {
    "execution": {
     "iopub.execute_input": "2024-12-06T08:31:23.879228Z",
     "iopub.status.busy": "2024-12-06T08:31:23.878294Z",
     "iopub.status.idle": "2024-12-06T08:31:23.899460Z",
     "shell.execute_reply": "2024-12-06T08:31:23.898646Z",
     "shell.execute_reply.started": "2024-12-06T08:31:23.879164Z"
    }
   },
   "outputs": [],
   "source": [
    "with open('data/DF/instance_nl_800_v3.json', 'w', encoding='utf-8') as f:\n",
    "    json.dump(ip800, f, indent=4, ensure_ascii=False)"
   ]
  },
  {
   "cell_type": "code",
   "execution_count": 135,
   "id": "88660539-c82b-436f-a54b-a888b77d8a04",
   "metadata": {
    "execution": {
     "iopub.execute_input": "2024-12-04T12:07:07.916382Z",
     "iopub.status.busy": "2024-12-04T12:07:07.915567Z",
     "iopub.status.idle": "2024-12-04T12:07:07.985860Z",
     "shell.execute_reply": "2024-12-04T12:07:07.985104Z",
     "shell.execute_reply.started": "2024-12-04T12:07:07.916317Z"
    },
    "scrolled": true
   },
   "outputs": [
    {
     "name": "stdout",
     "output_type": "stream",
     "text": [
      "清理后的特殊部分：\n",
      "\n",
      "不包含特殊部分的数据序号：\n",
      "[21, 22, 31, 76, 78, 80, 100, 108, 125, 130, 134, 136, 158, 176, 260, 355, 421, 426, 446, 497, 512, 557, 585, 609, 639, 686, 700, 712, 756, 776, 777]\n"
     ]
    }
   ],
   "source": [
    "# 假设你的数据是一个列表\n",
    "data_list = ans1\n",
    "\n",
    "# 定义模式\n",
    "import re\n",
    "\n",
    "pattern = r\"```json(.*?)```\"\n",
    "\n",
    "# 提取并清理包含特殊部分的元素\n",
    "cleaned_parts = [re.search(pattern, data, re.DOTALL).group(1).strip() for data in data_list if re.search(pattern, data, re.DOTALL)]\n",
    "\n",
    "# 找出不包含特殊部分的元素的序号\n",
    "not_contain_indices = [index for index, data in enumerate(data_list) if not re.search(pattern, data, re.DOTALL)]\n",
    "\n",
    "# 输出结果\n",
    "print(\"清理后的特殊部分：\")\n",
    "# print(cleaned_parts)\n",
    "\n",
    "print(\"\\n不包含特殊部分的数据序号：\")\n",
    "print(not_contain_indices)\n"
   ]
  },
  {
   "cell_type": "code",
   "execution_count": 41,
   "id": "8aad6a8b-5cff-4554-8bb5-d014959cc5f7",
   "metadata": {
    "execution": {
     "iopub.execute_input": "2024-12-04T03:51:22.865638Z",
     "iopub.status.busy": "2024-12-04T03:51:22.864500Z",
     "iopub.status.idle": "2024-12-04T03:51:22.908884Z",
     "shell.execute_reply": "2024-12-04T03:51:22.908044Z",
     "shell.execute_reply.started": "2024-12-04T03:51:22.865545Z"
    }
   },
   "outputs": [
    {
     "name": "stdout",
     "output_type": "stream",
     "text": [
      "751\n"
     ]
    }
   ],
   "source": [
    "# 假设你的数据是一个列表\n",
    "data_list = ans1\n",
    "\n",
    "# 定义模式\n",
    "pattern = r\"```json.*?```\"\n",
    "\n",
    "# 提取每个元素中匹配到的特殊部分\n",
    "matched_parts = [re.search(pattern, data, re.DOTALL).group() for data in data_list if re.search(pattern, data, re.DOTALL)]\n",
    "\n",
    "# 输出结果\n",
    "print(len(matched_parts))\n",
    "\n",
    "# pattern = r\"```json(.*?)```\"\n",
    "\n",
    "# # 提取并清理每个元素中的特殊部分\n",
    "# cleaned_parts = [re.search(pattern, data, re.DOTALL).group(1).strip() for data in data_list if re.search(pattern, data, re.DOTALL)]\n",
    "\n",
    "# # 输出结果\n",
    "# print(\"清理后的特殊部分：\")\n",
    "# print(len(cleaned_parts))"
   ]
  },
  {
   "cell_type": "markdown",
   "id": "c158a7c7-ba0f-49a0-b13b-0b7751568b37",
   "metadata": {
    "jp-MarkdownHeadingCollapsed": true
   },
   "source": [
    "## 查看数据"
   ]
  },
  {
   "cell_type": "code",
   "execution_count": 42,
   "id": "bcbdb42d-99e2-4f9e-8953-5a3783003312",
   "metadata": {
    "execution": {
     "iopub.execute_input": "2024-12-04T03:52:09.865013Z",
     "iopub.status.busy": "2024-12-04T03:52:09.864203Z",
     "iopub.status.idle": "2024-12-04T03:52:09.888263Z",
     "shell.execute_reply": "2024-12-04T03:52:09.887423Z",
     "shell.execute_reply.started": "2024-12-04T03:52:09.864953Z"
    }
   },
   "outputs": [],
   "source": [
    "with open('data/DF/instance_predicates_v3.json', 'w', encoding='utf-8') as f:\n",
    "    json.dump(matched_parts, f, ensure_ascii=False, indent=4)"
   ]
  },
  {
   "cell_type": "code",
   "execution_count": 31,
   "id": "f52ccb9e-d490-4d34-8f92-5355ffd0217e",
   "metadata": {
    "execution": {
     "iopub.execute_input": "2024-12-04T03:46:35.865584Z",
     "iopub.status.busy": "2024-12-04T03:46:35.864589Z",
     "iopub.status.idle": "2024-12-04T03:46:35.893214Z",
     "shell.execute_reply": "2024-12-04T03:46:35.892574Z",
     "shell.execute_reply.started": "2024-12-04T03:46:35.865517Z"
    }
   },
   "outputs": [],
   "source": [
    "with open(\"data/DF/rules_to_logic.json\", \"r\", encoding=\"utf-8\") as f:\n",
    "    data = json.load(f)\n",
    "\n",
    "with open(\"data/DF/instance_predicates_v2.json\", \"r\", encoding=\"utf-8\") as f:\n",
    "    logic_ins = json.load(f)\n",
    "\n",
    "with open(\"data/DF/logic_to_nl.json\", \"r\", encoding=\"utf-8\") as f:\n",
    "    nl = json.load(f)"
   ]
  },
  {
   "cell_type": "code",
   "execution_count": 3,
   "id": "2c6570ab-c06c-45f0-bde7-48a5cb02d720",
   "metadata": {
    "execution": {
     "iopub.execute_input": "2024-11-28T13:17:04.602100Z",
     "iopub.status.busy": "2024-11-28T13:17:04.601394Z",
     "iopub.status.idle": "2024-11-28T13:17:04.608776Z",
     "shell.execute_reply": "2024-11-28T13:17:04.607610Z",
     "shell.execute_reply.started": "2024-11-28T13:17:04.602049Z"
    }
   },
   "outputs": [
    {
     "name": "stdout",
     "output_type": "stream",
     "text": [
      "100\n"
     ]
    }
   ],
   "source": [
    "print(len(data))"
   ]
  },
  {
   "cell_type": "code",
   "execution_count": 13,
   "id": "c1b1c33a-eec0-48b6-a135-b198c293832e",
   "metadata": {
    "execution": {
     "iopub.execute_input": "2024-11-29T08:31:23.585629Z",
     "iopub.status.busy": "2024-11-29T08:31:23.584749Z",
     "iopub.status.idle": "2024-11-29T08:31:23.591068Z",
     "shell.execute_reply": "2024-11-29T08:31:23.590174Z",
     "shell.execute_reply.started": "2024-11-29T08:31:23.585571Z"
    }
   },
   "outputs": [
    {
     "name": "stdout",
     "output_type": "stream",
     "text": [
      "根据您提供的规则描述，以下是解析为一阶逻辑公式的JSON格式输出：\n",
      "\n",
      "```json\n",
      "{\n",
      "    \"rule\": \"化学品登记中心的职责：负责建立化学品基本数据库，为事故救援和调查处理提供相关化学品基本数据与信息。\",\n",
      "    \"predicates\": [\n",
      "        \"负责建立：ResponsibleForEstablishing(Organization, Database) ::: 表示某个组织负责建立某个数据库。\",\n",
      "        \"提供数据：ProvideData(Organization, Data, Purpose) ::: 表示某个组织为某个目的提供数据。\",\n",
      "        \"基本数据库：BasicDatabase(Database) ::: 表示某个数据库是基本数据库。\",\n",
      "        \"化学品数据：ChemicalData(Data) ::: 表示数据是关于化学品的。\",\n",
      "        \"事故救援：AccidentRescue(Purpose) ::: 表示某个目的是事故救援。\",\n",
      "        \"调查处理：InvestigationHandling(Purpose) ::: 表示某个目的是调查处理。\"\n",
      "    ],\n",
      "    \"logicexpression\": [\n",
      "        \"∀c ∀d ∀p (ResponsibleForEstablishing(化学品登记中心, d) ∧ BasicDatabase(d) → (ChemicalData(c) ∧ ProvideData(化学品登记中心, c, AccidentRescue) ∧ ProvideData(化学品登记中心, c, InvestigationHandling))))\"\n",
      "    ]\n",
      "}\n",
      "```\n",
      "\n",
      "在这个逻辑表达式中，我们定义了以下谓词：\n",
      "- `ResponsibleForEstablishing` 表示某个组织负责建立某个数据库。\n",
      "- `ProvideData` 表示某个组织为某个目的提供数据。\n",
      "- `BasicDatabase` 表示某个数据库是基本数据库。\n",
      "- `ChemicalData` 表示数据是关于化学品的。\n",
      "- `AccidentRescue` 和 `InvestigationHandling` 表示某个目的是事故救援或调查处理。\n",
      "\n",
      "逻辑表达式表明，如果化学品登记中心负责建立一个基本数据库，那么它必须为事故救援和调查处理提供相关的化学品数据。\n"
     ]
    }
   ],
   "source": [
    "print(data[10])"
   ]
  },
  {
   "cell_type": "code",
   "execution_count": 34,
   "id": "a1cb923c-556c-4482-987e-e2f7e3294716",
   "metadata": {
    "execution": {
     "iopub.execute_input": "2024-12-04T03:48:37.864550Z",
     "iopub.status.busy": "2024-12-04T03:48:37.863622Z",
     "iopub.status.idle": "2024-12-04T03:48:37.872226Z",
     "shell.execute_reply": "2024-12-04T03:48:37.870859Z",
     "shell.execute_reply.started": "2024-12-04T03:48:37.864487Z"
    }
   },
   "outputs": [
    {
     "name": "stdout",
     "output_type": "stream",
     "text": [
      "根据您提供的规则数据，以下是谓词实例化的参数值，以及将实例化参数代入逻辑表达式的结果：\n",
      "\n",
      "```json\n",
      "[\n",
      "    {\n",
      "        \"instance_predicates\": [\n",
      "            \"f=“服务器宕机” — 表示服务器宕机是软硬件自身故障\",\n",
      "            \"Hardware=“服务器” — 表示硬件为服务器\",\n",
      "            \"Software=“操作系统” — 表示软件为操作系统\"\n",
      "        ],\n",
      "        \"instance_logicexpression\": [\n",
      "            \"∀f (设备设施故障(f) → (软硬件自身故障(f) ∨ 外围保障设施故障(f) ∨ 人为破坏事故(f) ∨ 其他设备设施故障(f)))\"\n",
      "        ]\n",
      "    },\n",
      "    {\n",
      "        \"instance_predicates\": [\n",
      "            \"f=“电源系统失效” — 表示电源系统失效是外围保障设施故障\",\n",
      "            \"Peripheral=“电源系统” — 表示外围保障设施为电源系统\"\n",
      "        ],\n",
      "        \"instance_logicexpression\": [\n",
      "            \"∀f (设备设施故障(f) → (软硬件自身故障(f) ∨ 外围保障设施故障(f) ∨ 人为破坏事故(f) ∨ 其他设备设施故障(f)))\"\n",
      "        ]\n",
      "    },\n",
      "    {\n",
      "        \"instance_predicates\": [\n",
      "            \"f=“网络攻击” — 表示网络攻击是人为破坏事故\",\n",
      "            \"Sabotage=“网络攻击” — 表示人为破坏事故为网络攻击\"\n",
      "        ],\n",
      "        \"instance_logicexpression\": [\n",
      "            \"∀f (设备设施故障(f) → (软硬件自身故障(f) ∨ 外围保障设施故障(f) ∨ 人为破坏事故(f) ∨ 其他设备设施故障(f)))\"\n",
      "        ]\n",
      "    },\n",
      "    {\n",
      "        \"instance_predicates\": [\n",
      "            \"f=“环境温度过高” — 表示环境温度过高是其他设备设施故障\",\n",
      "            \"Other=“环境温度过高” — 表示其他设备设施故障为环境温度过高\"\n",
      "        ],\n",
      "        \"instance_logicexpression\": [\n",
      "            \"∀f (设备设施故障(f) → (软硬件自身故障(f) ∨ 外围保障设施故障(f) ∨ 人为破坏事故(f) ∨ 其他设备设施故障(f)))\"\n",
      "        ]\n",
      "    }\n",
      "]\n",
      "```\n",
      "\n",
      "这些实例化参数值和逻辑表达式展示了不同类型的设备设施故障情况，包括软硬件自身故障、外围保障设施故障、人为破坏事故和其他设备设施故障。\n"
     ]
    }
   ],
   "source": [
    "print(logic_ins[780])"
   ]
  },
  {
   "cell_type": "code",
   "execution_count": 14,
   "id": "9dacc91c-1e8c-4a23-b508-50fe62b83f91",
   "metadata": {
    "execution": {
     "iopub.execute_input": "2024-11-29T08:31:41.341171Z",
     "iopub.status.busy": "2024-11-29T08:31:41.340296Z",
     "iopub.status.idle": "2024-11-29T08:31:41.348546Z",
     "shell.execute_reply": "2024-11-29T08:31:41.347323Z",
     "shell.execute_reply.started": "2024-11-29T08:31:41.341108Z"
    }
   },
   "outputs": [
    {
     "name": "stdout",
     "output_type": "stream",
     "text": [
      "根据您提供的JSON格式数据，以下是逻辑表达式转化为自然语言的输出：\n",
      "\n",
      "如果化学产品登记中心负责建立“化学品基本数据库”，并且“化学品基本数据库”是基本数据库，那么化学产品登记中心将提供“化学品甲的基本数据”，并且这些数据将用于事故救援和调查处理。\n",
      "根据您提供的JSON格式数据，以下是逻辑表达式转化为自然语言的输出：\n",
      "\n",
      "```json\n",
      "[\n",
      "    {\n",
      "        \"instance_predicates\": [\n",
      "            \"d=“化学品基本数据库” — 表示化学品登记中心负责建立的数据库\",\n",
      "            \"c=“化学品乙的安全信息” — 表示关于化学品乙的安全信息\",\n",
      "            \"Purpose1=“事故救援” — 表示提供数据的目的事故救援\",\n",
      "            \"Purpose2=“调查处理” — 表示提供数据的目的调查处理\"\n",
      "        ],\n",
      "        \"instance_logicexpression\": [\n",
      "            \"∀c∀d∀p (ResponsibleForEstablishing(化学品登记中心, “化学品基本数据库”) ∧ BasicDatabase(“化学品基本数据库”) → (ChemicalData(“化学品乙的安全信息”) ∧ ProvideData(化学品登记中心, “化学品乙的安全信息”, AccidentRescue) ∧ ProvideData(化学品登记中心, “化学品乙的安全信息”, InvestigationHandling)))\"\n",
      "        ]\n",
      "    }\n",
      "]\n",
      "```\n",
      "\n",
      "### 翻译的自然语言输出如下：\n",
      "\n",
      "如果化学品登记中心负责建立“化学品基本数据库”，并且该数据库是基本数据库，那么化学品登记中心将提供关于化学品乙的安全信息，并且这些信息将用于事故救援和调查处理。\n",
      "根据您提供的JSON格式数据，以下是逻辑表达式转化为自然语言的输出：\n",
      "\n",
      "如果化学产品登记中心负责建立“化学产品基础数据库”，并且“化学产品基础数据库”是基本数据库，那么化学产品登记中心将提供关于“化学产品类的应急措施”的数据，并且这些数据将用于事故救援和调查处理。\n",
      "根据您提供的JSON格式数据，以下是逻辑表达式转化为自然语言的输出：\n",
      "\n",
      "如果化学产品登记中心负责建立“化学品基本数据库”，并且“化学品基本数据库”是基本数据库，那么化学产品丁的环境影响将提供数据，并且化学产品登记中心将为事故救援提供数据，同时也会为调查处理提供数据。\n"
     ]
    }
   ],
   "source": [
    "for i in nl[10]:\n",
    "    print(i)\n"
   ]
  },
  {
   "cell_type": "markdown",
   "id": "70bb404c-7c11-452c-898f-b4ffc66b35a2",
   "metadata": {},
   "source": [
    "1. 如果发生紧急情况，办公室有应急值班，并且安全监督管理总局的领导报告了事故并传达了指令，那么办公室需要向中央办公室和国务院办公室提交值班信息。同时，办公室需要向国务院相关部门报送信息，并接收安全监督管理总局领导的指令，以及报告审批。办公室还需监督实施情况，并在事故发生现场派出工作组，同时通知国务院相关部门并协调相关事宜。\n",
    "2. 如果办公室承担紧急值班任务，并且有向党中央领导报告事故和传达指示的任务，那么办公室需要向中央办公厅和国务院办公厅提交值班信息，并向事发地的省级政府抄送。同时，办公室还需要接收党中央领导的指示，并报告审批，监督实施情况，并向事发现场派遣工作组。在派遣工作组之后，办公室还需要向事发地省级政府通报，并协调相关事宜。\n",
    "3. 如果办公室有紧急值班任务，并且国务领导报告了事故并传达了指示，那么办公室需要向中央办公室和国务办公室提交值班信息。同时，办公室需要向公安部门抄送信息，接收国务领导的指示，并报告审批。办公室还需监督实施情况，并在化工厂事故现场派出工作组，同时通知公安部门并协调相关事宜。"
   ]
  },
  {
   "cell_type": "markdown",
   "id": "2083d2da-195c-4379-bdeb-e6f4b5712f62",
   "metadata": {
    "jp-MarkdownHeadingCollapsed": true
   },
   "source": [
    "## 补齐缺失的条例"
   ]
  },
  {
   "cell_type": "code",
   "execution_count": 66,
   "id": "c76cbd5e-71c6-4902-bede-7b62fa31e671",
   "metadata": {
    "execution": {
     "iopub.execute_input": "2024-12-04T09:30:45.915212Z",
     "iopub.status.busy": "2024-12-04T09:30:45.914071Z",
     "iopub.status.idle": "2024-12-04T09:30:45.933333Z",
     "shell.execute_reply": "2024-12-04T09:30:45.932618Z",
     "shell.execute_reply.started": "2024-12-04T09:30:45.915149Z"
    }
   },
   "outputs": [],
   "source": [
    "with open('data/DF/answers_v3.json', 'r', encoding='utf-8') as f:\n",
    "    data = json.load(f)"
   ]
  },
  {
   "cell_type": "code",
   "execution_count": 73,
   "id": "40d74824-9300-48c8-8631-4ae8e353944e",
   "metadata": {
    "execution": {
     "iopub.execute_input": "2024-12-04T09:34:53.915089Z",
     "iopub.status.busy": "2024-12-04T09:34:53.914287Z",
     "iopub.status.idle": "2024-12-04T09:34:53.927882Z",
     "shell.execute_reply": "2024-12-04T09:34:53.927066Z",
     "shell.execute_reply.started": "2024-12-04T09:34:53.915028Z"
    }
   },
   "outputs": [],
   "source": [
    "with open('data/DF/rules1.json', 'r', encoding='utf-8') as f:\n",
    "    rule = json.load(f)\n",
    "\n",
    "rules1 = []\n",
    "for r in rule:\n",
    "    rules1.append(r[\"rule_text\"])"
   ]
  },
  {
   "cell_type": "code",
   "execution_count": 105,
   "id": "c2252d89-5b60-4977-93e5-7eac77123341",
   "metadata": {
    "execution": {
     "iopub.execute_input": "2024-12-04T10:03:29.009297Z",
     "iopub.status.busy": "2024-12-04T10:03:29.008496Z",
     "iopub.status.idle": "2024-12-04T10:03:29.034587Z",
     "shell.execute_reply": "2024-12-04T10:03:29.033683Z",
     "shell.execute_reply.started": "2024-12-04T10:03:29.009242Z"
    }
   },
   "outputs": [],
   "source": [
    "with open('data/DF/answers_800_v4.json', 'r', encoding='utf-8') as f:\n",
    "    large = json.load(f)\n",
    "\n",
    "with open('data/DF/answers_782_v5.json', 'r', encoding='utf-8') as f:\n",
    "    small = json.load(f)"
   ]
  },
  {
   "cell_type": "code",
   "execution_count": 106,
   "id": "973f0d59-a411-47a6-83c1-ef1205d09ef2",
   "metadata": {
    "execution": {
     "iopub.execute_input": "2024-12-04T10:04:56.918222Z",
     "iopub.status.busy": "2024-12-04T10:04:56.917389Z",
     "iopub.status.idle": "2024-12-04T10:04:56.927362Z",
     "shell.execute_reply": "2024-12-04T10:04:56.926204Z",
     "shell.execute_reply.started": "2024-12-04T10:04:56.918175Z"
    }
   },
   "outputs": [],
   "source": [
    "large_rule = []\n",
    "for s in large:\n",
    "    match = re.search(r'\"rule\":\\s*\"([^\"]*)\"', s)\n",
    "    \n",
    "    if match:\n",
    "        large_rule.append(match.group(1)) "
   ]
  },
  {
   "cell_type": "code",
   "execution_count": 107,
   "id": "8199b1ba-05dd-40f1-9b56-f1dd885d508c",
   "metadata": {
    "execution": {
     "iopub.execute_input": "2024-12-04T10:04:58.910636Z",
     "iopub.status.busy": "2024-12-04T10:04:58.909940Z",
     "iopub.status.idle": "2024-12-04T10:04:58.920096Z",
     "shell.execute_reply": "2024-12-04T10:04:58.918926Z",
     "shell.execute_reply.started": "2024-12-04T10:04:58.910587Z"
    }
   },
   "outputs": [],
   "source": [
    "small_rule = []\n",
    "for s in small:\n",
    "    match = re.search(r'\"rule\":\\s*\"([^\"]*)\"', s)\n",
    "    \n",
    "    if match:\n",
    "        small_rule.append(match.group(1)) "
   ]
  },
  {
   "cell_type": "code",
   "execution_count": 108,
   "id": "da9bc049-59ad-4d4d-b3d7-981077f648d7",
   "metadata": {
    "execution": {
     "iopub.execute_input": "2024-12-04T10:05:18.914991Z",
     "iopub.status.busy": "2024-12-04T10:05:18.914172Z",
     "iopub.status.idle": "2024-12-04T10:05:18.922433Z",
     "shell.execute_reply": "2024-12-04T10:05:18.921209Z",
     "shell.execute_reply.started": "2024-12-04T10:05:18.914928Z"
    }
   },
   "outputs": [
    {
     "name": "stdout",
     "output_type": "stream",
     "text": [
      "798 782\n"
     ]
    }
   ],
   "source": [
    "print(len(large_rule), len(small_rule))"
   ]
  },
  {
   "cell_type": "code",
   "execution_count": 109,
   "id": "c6c3a339-a2ec-4e0e-b3cf-604baf6a1df8",
   "metadata": {
    "execution": {
     "iopub.execute_input": "2024-12-04T11:11:05.972254Z",
     "iopub.status.busy": "2024-12-04T11:11:05.971773Z",
     "iopub.status.idle": "2024-12-04T11:11:05.977428Z",
     "shell.execute_reply": "2024-12-04T11:11:05.976668Z",
     "shell.execute_reply.started": "2024-12-04T11:11:05.972224Z"
    }
   },
   "outputs": [],
   "source": [
    "def jaccard_similarity(str1, str2):\n",
    "    set1, set2 = set(str1), set(str2)\n",
    "    intersection = len(set1.intersection(set2))\n",
    "    union = len(set1.union(set2))\n",
    "    return intersection / union"
   ]
  },
  {
   "cell_type": "code",
   "execution_count": 102,
   "id": "b1d2273f-7cf3-4388-b7cf-fc073edad268",
   "metadata": {
    "execution": {
     "iopub.execute_input": "2024-12-04T09:49:06.915183Z",
     "iopub.status.busy": "2024-12-04T09:49:06.914349Z",
     "iopub.status.idle": "2024-12-04T09:49:06.922726Z",
     "shell.execute_reply": "2024-12-04T09:49:06.921513Z",
     "shell.execute_reply.started": "2024-12-04T09:49:06.915120Z"
    }
   },
   "outputs": [
    {
     "name": "stdout",
     "output_type": "stream",
     "text": [
      "出现下列情况之一者，为Ⅳ级响应：（1）数省（区、市）同时发生一般洪水；（2）数省（区、市）同时发生轻度干旱；（3）大江大河干流堤防出现险情；（4）大中型水库出现险情；（5）多座大型以上城市同时因旱影响正常供水。\n",
      "Ⅲ级响应行动：（1）国家防总秘书长主持会商，作出相应工作安排，密切监视汛情、旱情发展变化，加强防汛抗旱工作的指导，在2小时内将情况上报国务院并通报国家防总成员单位。国家防总办公室在24小时内派出工作组、专家组，指导地方防汛抗旱。（2）相关流域防汛指挥机构加强汛（旱）情监视，加强洪水预测预报，做好相关工程调度，派出工作组、专家组到一线协助防汛抗旱。（3）相关省、自治区、直辖市的防汛抗旱指挥机构具体安排防汛抗旱工作；按照权限调度水利、防洪工程；根据预案组织防汛抢险或组织抗旱，派出工作组、专家组到一线具体帮助防汛抗旱工作，并将防汛抗旱的工作情况上报当地人民政府分管领导和国家防总。省级防汛指挥机构在省级电视台发布汛（旱）情通报；民政部门及时救助灾民。卫生部门组织医疗队赴一线开展卫生防疫工作。其他部门按照职责分工，开展工作。\n"
     ]
    }
   ],
   "source": [
    "a = 140\n",
    "print(rule[a])\n",
    "print(rules1[a])"
   ]
  },
  {
   "cell_type": "code",
   "execution_count": 110,
   "id": "0bf8329b-420c-44fb-a252-374010b9f467",
   "metadata": {
    "execution": {
     "iopub.execute_input": "2024-12-04T11:11:41.256807Z",
     "iopub.status.busy": "2024-12-04T11:11:41.255979Z",
     "iopub.status.idle": "2024-12-04T11:11:41.305814Z",
     "shell.execute_reply": "2024-12-04T11:11:41.304893Z",
     "shell.execute_reply.started": "2024-12-04T11:11:41.256747Z"
    },
    "scrolled": true
   },
   "outputs": [
    {
     "name": "stdout",
     "output_type": "stream",
     "text": [
      "84\n",
      "85\n",
      "86\n",
      "87\n",
      "88\n",
      "89\n",
      "90\n",
      "91\n",
      "92\n",
      "93\n",
      "94\n",
      "95\n",
      "96\n",
      "97\n",
      "98\n",
      "99\n",
      "100\n",
      "101\n",
      "102\n",
      "103\n",
      "104\n",
      "105\n",
      "106\n",
      "107\n",
      "108\n",
      "109\n",
      "110\n",
      "111\n",
      "112\n",
      "113\n",
      "114\n",
      "115\n",
      "116\n",
      "117\n",
      "118\n",
      "119\n",
      "120\n",
      "121\n",
      "122\n",
      "123\n",
      "124\n",
      "125\n",
      "126\n",
      "127\n",
      "128\n",
      "129\n",
      "130\n",
      "131\n",
      "132\n",
      "133\n",
      "134\n",
      "135\n",
      "136\n",
      "137\n",
      "138\n",
      "139\n",
      "140\n",
      "141\n",
      "142\n",
      "143\n",
      "144\n",
      "145\n",
      "146\n",
      "147\n",
      "148\n",
      "149\n",
      "150\n",
      "151\n",
      "152\n",
      "153\n",
      "154\n",
      "155\n",
      "156\n",
      "157\n",
      "158\n",
      "159\n",
      "160\n",
      "161\n",
      "162\n",
      "163\n",
      "164\n",
      "165\n",
      "166\n",
      "167\n",
      "168\n",
      "169\n",
      "170\n",
      "171\n",
      "172\n",
      "173\n",
      "174\n",
      "175\n",
      "176\n",
      "177\n",
      "178\n",
      "179\n",
      "180\n",
      "181\n",
      "182\n",
      "183\n",
      "184\n",
      "185\n",
      "186\n",
      "187\n",
      "188\n",
      "189\n",
      "190\n",
      "191\n",
      "192\n",
      "193\n",
      "194\n",
      "195\n",
      "196\n",
      "197\n",
      "198\n",
      "199\n",
      "200\n",
      "201\n",
      "202\n",
      "203\n",
      "204\n",
      "205\n",
      "206\n",
      "207\n",
      "208\n",
      "209\n",
      "210\n",
      "211\n",
      "212\n",
      "213\n",
      "214\n",
      "215\n",
      "216\n",
      "217\n",
      "218\n",
      "219\n",
      "220\n",
      "221\n",
      "222\n",
      "223\n",
      "224\n",
      "225\n",
      "226\n",
      "227\n",
      "228\n",
      "229\n",
      "230\n",
      "231\n",
      "232\n",
      "233\n",
      "234\n",
      "235\n",
      "236\n",
      "237\n",
      "238\n",
      "239\n",
      "240\n",
      "241\n",
      "242\n",
      "243\n",
      "244\n",
      "245\n",
      "246\n",
      "247\n",
      "248\n",
      "249\n",
      "250\n",
      "251\n",
      "252\n",
      "253\n",
      "254\n",
      "255\n",
      "256\n",
      "257\n",
      "258\n",
      "259\n",
      "260\n",
      "261\n",
      "262\n",
      "263\n",
      "264\n",
      "265\n",
      "266\n",
      "267\n",
      "268\n",
      "269\n",
      "270\n",
      "271\n",
      "272\n",
      "273\n",
      "274\n",
      "275\n",
      "276\n",
      "277\n",
      "278\n",
      "279\n",
      "280\n",
      "281\n",
      "282\n",
      "283\n",
      "284\n",
      "285\n",
      "286\n",
      "287\n",
      "288\n",
      "289\n",
      "290\n",
      "291\n",
      "292\n",
      "293\n",
      "294\n",
      "295\n",
      "296\n",
      "297\n",
      "298\n",
      "299\n",
      "300\n",
      "301\n",
      "302\n",
      "303\n",
      "304\n",
      "305\n",
      "306\n",
      "307\n",
      "308\n",
      "309\n",
      "310\n",
      "311\n",
      "312\n",
      "313\n",
      "314\n",
      "315\n",
      "316\n",
      "317\n",
      "318\n",
      "319\n",
      "320\n",
      "321\n",
      "322\n",
      "323\n",
      "324\n",
      "325\n",
      "326\n",
      "327\n",
      "328\n",
      "329\n",
      "330\n",
      "331\n",
      "332\n",
      "333\n",
      "334\n",
      "335\n",
      "336\n",
      "337\n",
      "338\n",
      "339\n",
      "340\n",
      "341\n",
      "342\n",
      "343\n",
      "344\n",
      "345\n",
      "346\n",
      "347\n",
      "348\n",
      "349\n",
      "350\n",
      "351\n",
      "352\n",
      "353\n",
      "354\n",
      "355\n",
      "356\n",
      "357\n",
      "358\n",
      "359\n",
      "360\n",
      "361\n",
      "362\n",
      "363\n",
      "364\n",
      "365\n",
      "366\n",
      "367\n",
      "368\n",
      "369\n",
      "370\n",
      "371\n",
      "372\n",
      "373\n",
      "374\n",
      "375\n",
      "376\n",
      "377\n",
      "378\n",
      "379\n",
      "380\n",
      "381\n",
      "382\n",
      "383\n",
      "384\n",
      "385\n",
      "386\n",
      "387\n",
      "388\n",
      "389\n",
      "390\n",
      "391\n",
      "392\n",
      "393\n",
      "394\n",
      "395\n",
      "396\n",
      "397\n",
      "398\n",
      "399\n",
      "400\n",
      "401\n",
      "402\n",
      "403\n",
      "404\n",
      "405\n",
      "406\n",
      "407\n",
      "408\n",
      "409\n",
      "410\n",
      "411\n",
      "412\n",
      "413\n",
      "414\n",
      "415\n",
      "416\n",
      "417\n",
      "418\n",
      "419\n",
      "420\n",
      "421\n",
      "422\n",
      "423\n",
      "424\n",
      "425\n",
      "426\n",
      "427\n",
      "428\n",
      "429\n",
      "430\n",
      "431\n",
      "432\n",
      "433\n",
      "434\n",
      "435\n",
      "436\n",
      "437\n",
      "438\n",
      "439\n",
      "440\n",
      "441\n",
      "442\n",
      "443\n",
      "444\n",
      "445\n",
      "446\n",
      "447\n",
      "448\n",
      "449\n",
      "450\n",
      "451\n",
      "452\n",
      "453\n",
      "454\n",
      "455\n",
      "456\n",
      "457\n",
      "458\n",
      "459\n",
      "460\n",
      "461\n",
      "462\n",
      "463\n",
      "464\n",
      "465\n",
      "466\n",
      "467\n",
      "468\n",
      "469\n",
      "470\n",
      "471\n",
      "472\n",
      "473\n",
      "474\n",
      "475\n",
      "476\n",
      "477\n",
      "478\n",
      "479\n",
      "480\n",
      "481\n",
      "482\n",
      "483\n",
      "484\n",
      "485\n",
      "486\n",
      "487\n",
      "488\n",
      "489\n",
      "490\n",
      "491\n",
      "492\n",
      "493\n",
      "494\n",
      "495\n",
      "496\n",
      "497\n",
      "498\n",
      "499\n",
      "500\n",
      "501\n",
      "502\n",
      "503\n",
      "504\n",
      "505\n",
      "506\n",
      "507\n",
      "508\n",
      "509\n",
      "510\n",
      "511\n",
      "512\n",
      "513\n",
      "514\n",
      "515\n",
      "516\n",
      "517\n",
      "518\n",
      "519\n",
      "520\n",
      "521\n",
      "522\n",
      "523\n",
      "524\n",
      "525\n",
      "526\n",
      "527\n",
      "528\n",
      "529\n",
      "530\n",
      "531\n",
      "532\n",
      "533\n",
      "534\n",
      "535\n",
      "536\n",
      "537\n",
      "538\n",
      "539\n",
      "540\n",
      "541\n",
      "542\n",
      "543\n",
      "544\n",
      "545\n",
      "546\n",
      "547\n",
      "548\n",
      "549\n",
      "550\n",
      "551\n",
      "552\n",
      "553\n",
      "554\n",
      "555\n",
      "556\n",
      "557\n",
      "558\n",
      "559\n",
      "560\n",
      "561\n",
      "562\n",
      "563\n",
      "564\n",
      "565\n",
      "566\n",
      "567\n",
      "568\n",
      "569\n",
      "570\n",
      "571\n",
      "572\n",
      "573\n",
      "574\n",
      "575\n",
      "576\n",
      "577\n",
      "578\n",
      "579\n",
      "580\n",
      "581\n",
      "582\n",
      "583\n",
      "584\n",
      "585\n",
      "586\n",
      "587\n",
      "588\n",
      "589\n",
      "590\n",
      "591\n",
      "592\n",
      "593\n",
      "594\n",
      "595\n",
      "596\n",
      "597\n",
      "598\n",
      "599\n",
      "600\n",
      "601\n",
      "602\n",
      "603\n",
      "604\n",
      "605\n",
      "606\n",
      "607\n",
      "608\n",
      "609\n",
      "610\n",
      "611\n",
      "612\n",
      "613\n",
      "614\n",
      "615\n",
      "616\n",
      "617\n",
      "618\n",
      "619\n",
      "620\n",
      "621\n",
      "622\n",
      "623\n",
      "624\n",
      "625\n",
      "626\n",
      "627\n",
      "628\n",
      "629\n",
      "630\n",
      "631\n",
      "632\n",
      "633\n",
      "634\n",
      "635\n",
      "636\n",
      "637\n",
      "638\n",
      "639\n",
      "640\n",
      "641\n",
      "642\n",
      "643\n",
      "644\n",
      "645\n",
      "646\n",
      "647\n",
      "648\n",
      "649\n",
      "650\n",
      "651\n",
      "652\n",
      "653\n",
      "654\n",
      "655\n",
      "656\n",
      "657\n",
      "658\n",
      "659\n",
      "660\n",
      "661\n",
      "662\n",
      "663\n",
      "664\n",
      "665\n",
      "666\n",
      "667\n",
      "668\n",
      "669\n",
      "670\n",
      "671\n",
      "672\n",
      "673\n",
      "674\n",
      "675\n",
      "676\n",
      "677\n",
      "678\n",
      "679\n",
      "680\n",
      "681\n",
      "682\n",
      "683\n",
      "684\n",
      "685\n",
      "686\n",
      "687\n",
      "688\n",
      "689\n",
      "690\n",
      "691\n",
      "692\n",
      "693\n",
      "694\n",
      "695\n",
      "696\n",
      "697\n",
      "698\n",
      "699\n",
      "700\n",
      "701\n",
      "702\n",
      "703\n",
      "704\n",
      "705\n",
      "706\n",
      "707\n",
      "708\n",
      "709\n",
      "710\n",
      "711\n",
      "712\n",
      "713\n",
      "714\n",
      "715\n",
      "716\n",
      "717\n",
      "718\n",
      "719\n",
      "720\n",
      "721\n",
      "722\n",
      "723\n",
      "724\n",
      "725\n",
      "726\n",
      "727\n",
      "728\n",
      "729\n",
      "730\n",
      "731\n",
      "732\n",
      "733\n",
      "734\n",
      "735\n",
      "736\n",
      "737\n",
      "738\n",
      "739\n",
      "740\n",
      "741\n",
      "742\n",
      "743\n",
      "744\n",
      "745\n",
      "746\n",
      "747\n",
      "748\n",
      "749\n",
      "750\n",
      "751\n",
      "752\n",
      "753\n",
      "754\n",
      "755\n",
      "756\n",
      "757\n",
      "758\n",
      "759\n",
      "760\n",
      "761\n",
      "762\n",
      "763\n",
      "764\n",
      "765\n",
      "766\n",
      "767\n",
      "768\n",
      "769\n",
      "770\n",
      "771\n",
      "772\n",
      "773\n",
      "774\n",
      "775\n",
      "776\n",
      "777\n",
      "778\n",
      "779\n",
      "780\n",
      "781\n"
     ]
    },
    {
     "ename": "IndexError",
     "evalue": "list index out of range",
     "output_type": "error",
     "traceback": [
      "\u001b[0;31m---------------------------------------------------------------------------\u001b[0m",
      "\u001b[0;31mIndexError\u001b[0m                                Traceback (most recent call last)",
      "Cell \u001b[0;32mIn[110], line 2\u001b[0m\n\u001b[1;32m      1\u001b[0m \u001b[38;5;28;01mfor\u001b[39;00m i \u001b[38;5;129;01min\u001b[39;00m \u001b[38;5;28mrange\u001b[39m(\u001b[38;5;241m0\u001b[39m, \u001b[38;5;241m800\u001b[39m):\n\u001b[0;32m----> 2\u001b[0m     \u001b[38;5;28;01mif\u001b[39;00m jaccard_similarity(large_rule[i], \u001b[43msmall_rule\u001b[49m\u001b[43m[\u001b[49m\u001b[43mi\u001b[49m\u001b[43m]\u001b[49m) \u001b[38;5;241m!=\u001b[39m \u001b[38;5;241m1\u001b[39m:\n\u001b[1;32m      3\u001b[0m         \u001b[38;5;28mprint\u001b[39m(i)\n",
      "\u001b[0;31mIndexError\u001b[0m: list index out of range"
     ]
    }
   ],
   "source": [
    "for i in range(0, 800):\n",
    "    if jaccard_similarity(large_rule[i], small_rule[i]) != 1:\n",
    "        print(i)"
   ]
  },
  {
   "cell_type": "code",
   "execution_count": 85,
   "id": "c5569b45-b7d4-4573-8e64-bf20fec04d04",
   "metadata": {
    "execution": {
     "iopub.execute_input": "2024-12-04T09:43:49.915094Z",
     "iopub.status.busy": "2024-12-04T09:43:49.914263Z",
     "iopub.status.idle": "2024-12-04T09:43:49.923187Z",
     "shell.execute_reply": "2024-12-04T09:43:49.922270Z",
     "shell.execute_reply.started": "2024-12-04T09:43:49.915029Z"
    }
   },
   "outputs": [],
   "source": [
    "def find_unmatched_elements(A, B, threshold=0.9):\n",
    "    unmatched_A = set(A)  # 用来存储A中未匹配的元素\n",
    "    unmatched_B = set(B)  # 用来存储B中未匹配的元素\n",
    "\n",
    "    matched_A = set()  # 记录匹配成功的A中的元素\n",
    "    matched_B = set()  # 记录匹配成功的B中的元素\n",
    "\n",
    "    # 对集合A和B中的每一对元素计算Jaccard相似度\n",
    "    for a in A:\n",
    "        for b in B:\n",
    "            similarity = jaccard_similarity(a, b)\n",
    "            if similarity > threshold:\n",
    "                matched_A.add(a)\n",
    "                matched_B.add(b)\n",
    "                break  # 找到匹配后，跳出内层循环，避免重复匹配\n",
    "\n",
    "    # 删除已匹配的元素\n",
    "    unmatched_A -= matched_A\n",
    "    unmatched_B -= matched_B\n",
    "\n",
    "    return list(unmatched_A), list(unmatched_B)"
   ]
  },
  {
   "cell_type": "code",
   "execution_count": 86,
   "id": "4cc58b94-9f75-41eb-a2db-2f527742e8aa",
   "metadata": {
    "collapsed": true,
    "execution": {
     "iopub.execute_input": "2024-12-04T09:43:51.915405Z",
     "iopub.status.busy": "2024-12-04T09:43:51.914611Z",
     "iopub.status.idle": "2024-12-04T09:44:00.022403Z",
     "shell.execute_reply": "2024-12-04T09:44:00.021584Z",
     "shell.execute_reply.started": "2024-12-04T09:43:51.915342Z"
    },
    "jupyter": {
     "outputs_hidden": true
    },
    "scrolled": true
   },
   "outputs": [
    {
     "name": "stdout",
     "output_type": "stream",
     "text": [
      "Unmatched elements in A: ['严重干旱：受旱区域作物受旱面积占播种面积的比例达51%～80%；以及因旱造成农（牧）区临时性饮水困难人口占所在地区人口比例达41%～60%。', '城市轻度干旱：因旱城市供水量低于正常需求量的5%～10%，出现缺水现象，居民生活、生产用水在受到一定程度影响。']\n",
      "Unmatched elements in B: ['Ⅳ级应急响应观测设备监控维护：各观测机构随时监控海观测仪器设备运行情况，当观测仪器设备出现故障时，应立即采取以下措施：（1）及时向各级海洋主管部门和海洋观测数据接收节点报送故障情况;（2）在保障观测人员人身安全的前提下，尽快修复或调取备品备件进行更换；（3）具备条件的海洋站（岸基测点）立即开展人工补测，时段为每日8时至17时，并录入观测报文自动报送，尽量避免数据缺测。', '海浪灾害橙色警报发布标准：受热带气旋或温带天气系统影响，预计未来24小时受影响近岸海域出现4.5m-6.0m（不含）有效波高，或者近海预报海域出现9.0m-14.0m（不含）有效波时，应发布海浪橙色警报。', '出现下列情况之一时，国家海洋局将启动Ⅳ级应急响应：（1）预报中心发布风暴潮灾害蓝色警报。（2）预报中心针对我国近岸海域发布海浪蓝色警报，或针对我国近海海域发布海浪灾害蓝色、黄色警报。（3）预报中心针对渤黄海海域连续2天发布海冰蓝色警报，且预计未来3天预警海域内冰情会持续发展，海冰灾害警报级别将维持或升级；海冰灾害已经或者预计对海上油气生产作业、海上航运、水产养殖等造成一定影响。', '社会动员：（1）各级人民政府可根据海上突发事件的等级、发展趋势、影响程度等在本行政区域内依法发布社会动员令。（2）当应急力量不足时，由当地政府动员本地区机关、企事业单位、各类民间组织和志愿人员等社会力量参与或支援海上应急救援行动。', '通信信息中心：负责保障安全监管总局外网、内网畅通运行，及时通过网站发布事故信息及救援进展情况。', 'Ⅲ级应急响应决策服务：预报中心在警报初发和升级时，迅速编写《海洋局值班信息》，简要介绍灾害预测意见，转由国家海洋局值班室以国家海洋局应急办名义向国务院应急办报送。次日起，每日15时前编写《海洋局值班信息》，简要介绍灾害实况和预测意见，转由国家海洋局值班室以国家海洋局应急办名义向国务院应急办报送。\\u3000\\u3000预报中心根据国务院相关部委、军队总部机关、大型央企等决策服务单位的具体要求，提供海洋灾害警报服务，具体服务内容和形式与服务对象沟通确定。\\u3000\\u3000海区预报中心根据海区内沿海省（自治区、直辖市）人民政府、军方相关单位、重要涉海企事业单位的具体需求，提供海洋灾害警报服务，具体服务内容和形式与服务对象沟通确定。国家海洋局属其他预报机构根据所在地政府和企事业单位的实际需求，提供海洋灾害警报服务。如本单位警报结论与整体会商意见存在分歧，预报机构在提供决策服务时，可将整体会商意见和分歧论据一并介绍。', 'Ⅱ级应急响应组织管理：国家海洋局及受影响海区的分局相关领导和工作人员应保持24小时通讯畅通，密切关注灾害发生发展动态，协调灾害应急响应工作。局减灾司领导和分局分管领导每日参加1次灾害预警应急视频会商。相关观测、预报和减灾业务机构实行领导带班和人员24小时值班。预计海啸灾害将影响港澳台地区，局国际司立即联络国务院港澳办和台办，通知港澳台相关部门共同做好海啸灾害应对工作。', '调度统计司：负责应急值守，接收、处置各地、各部门上报的事故信息，及时报告安全监管总局领导，同时转送安全监管总局办公厅和应急指挥中心；按照安全监管总局领导指示，起草事故救援工作指导意见；跟踪、续报事故救援进展情况。', 'Ⅳ级应急响应决策服务：预报中心在警报初发和升级时，迅速编写《海洋局值班信息》，简要介绍灾害预测意见，转由国家海洋局值班室以国家海洋局应急办名义向国务院应急办报送。次日起，每日15时前编写《海洋局值班信息》，简要介绍灾害实况和预测意见，转由国家海洋局值班室以国家海洋局应急办名义向国务院应急办报送。\\u3000\\u3000预报中心根据国务院相关部委、军队总部机关、大型央企等决策服务单位的具体要求，提供海洋灾害警报服务，具体服务内容和形式与服务对象沟通确定。\\u3000\\u3000海区预报中心根据海区内沿海省（自治区、直辖市）人民政府、军方相关单位、重要涉海企事业单位的具体需求，提供海洋灾害警报服务，具体服务内容和形式与服务对象沟通确定。国家海洋局属其他预报机构根据所在地政府和企事业单位的实际需求，提供海洋灾害警报服务。如本单位警报结论与整体会商意见存在分歧，预报机构在提供决策服务时，可将整体会商意见和分歧论据一并介绍。', 'Ⅱ级应急响应应急加密观测：海浪灾害影响期间，受影响海区的分局组织开展海浪加密观测工作。海浪自动观测点全天24小时加密观测；海浪人工观测点每日8时至17时加密观测。加密观测指令由分局统一下达。海冰灾害影响期间，北海分局组织相关中心站和海洋站每日开展1次重点岸段现场巡视与观测，并在每日14时前将数据通过电子邮件发送预报中心和受影响的省（自治区、直辖市）海洋预报机构；同时协调飞机每周开展2次航空遥感观测，并在飞机降落12小时内，由北海航空支队通过电子邮件传输至北海预报中心，经北海预报中心汇总后，传输至预报中心和受影响的省（自治区、直辖市）海洋预报机构。当因海啸灾害启动Ⅱ级应急响应时，预报中心利用全球地震监测预警系统密切监视地震、海啸发生发展动态，并及时从中国地震台网中心、太平洋海啸警报中心、西北太平洋海啸预警中心获取海啸预警信息。', '办公厅：负责应急值守，及时向安全监管总局领导报告事故信息，传达安全监管总局领导关于事故救援工作的批示和意见；向中央办公厅、国务院办公厅报送《值班信息》，同时抄送国务院有关部门；接收党中央、国务院领导同志的重要批示、指示，迅速呈报安全监管总局领导阅批，并负责督办落实；需派工作组前往现场协助救援和开展事故调查时，及时向国务院有关部门、事发地省级政府等通报情况，并协调有关事宜。', '大雾Ⅱ级响应启动：当中央气象台发布大雾红色预警,且预计未来72h预警区内的大部地区仍将连续达到大雾橙色预警以上标准;或者大雾天气已经出现,三个及以上省(自治区、直辖市)大部分地区可能或已经导致交通运输受到重大影响,并且该影响可能持续。', 'Ⅱ级应急响应观测设备监控维护：各观测机构随时监控海洋观测仪器设备运行情况当观测仪器设备出现故障时，应立即采取以下措施：（1）及时向各级海洋主管部门和海洋观测数据接收节点报送故障情况;（2）在保障观测人员人身安全的前提下，尽快修复或调取备品备件进行更换；（3）具备条件的海洋站（岸基测点）立即开展人工补测，时段为每日8时至7时，并录入观测报文自动报送，尽量避免数据缺测。', '凡属下列情况之一者启动Ⅲ级应急响应：（1）民用航空器发生较大飞行事故。（2）民用航空器在运行过程中发生严重的不正常紧急事件，可能导致较大以上飞行事故发生，或可能对地面设施、环境保护、公众安全、社会稳定等造成较大影响或损失。', '安全生产协调司：根据安全监管总局领导指示和有关规定，组织协调安全监察专员赶赴事故现场参与事故应急救援和事故调查处理工作。', '霾Ⅲ级响应启动：当中央气象台发布霾橙色预警,且预计未来72h预警区内的大部地区仍将连续达到霾黄色预警以上标准;或者霾天气已经出现,两个及以上省(自治区、直辖市)大部分地区可能或已经导致交通运输、人类生活受到较大影响,并且该影响可能持续。', '严重干旱：受旱区域作物受旱面积占播种面积的比例达５1％～８0％；以及因旱造成农（牧）区临时性饮水困难人口占所在地区人口比例达４1％～６0％。', 'Ⅲ级应急响应观测设备监控维护：各观测机构随时监控海洋观测仪器设备运行情况，当观测仪器设备出现故障时，应立即采取以下措施：（1）及时向各级海洋主管部门和海洋观测数据接收节点报送故障情况;（2）在保障观测人员人身安全的前提下，尽快修复或调取备品备件进行更换；\\u3000\\u3000（3）具备条件的海洋站（岸基测点）立即开展人工补测，时段为每日8时至17时，并录入观测报文自动报送，尽量避免数据缺测。', 'Ⅲ级应急响应启动：局减灾司组织预报中心、减灾中心根据灾害发展形势，研判应急响应级别，确定启动Ⅲ级应急响应，由局减灾司领导签发Ⅲ级应急响应启动命令。', 'Ⅲ级响应行动：（1）国家防总秘书长主持会商，作出相应工作安排，密切监视汛情、旱情发展变化，加强防汛抗旱工作的指导，在2小时内将情况上报国务院并通报国家防总成员单位。国家防总办公室在24小时内派出工作组、专家组，指导地方防汛抗旱。（2）相关流域防汛指挥机构加强汛（旱）情监视，加强洪水预测预报，做好相关工程调度，派出工作组、专家组到一线协助防汛抗旱。（3）相关省、自治区、直辖市的防汛抗旱指挥机构具体安排防汛抗旱工作；按照权限调度水利、防洪工程；根据预案组织防汛抢险或组织抗旱，派出工作组、专家组到一线具体帮助防汛抗旱工作，并将防汛抗旱的工作情况上报当地人民政府分管领导和国家防总。省级防汛指挥机构在省级电视台发布汛（旱）情通报；民政部门及时救助灾民。卫生部门组织医疗队赴一线开展卫生防疫工作。其他部门按照职责分工，开展工作。', '风暴潮灾害红色警报发布标准：受热带气旋或温带天气系统影响，预计未来受影响区域内有一个或一个以上有代表性的验潮站的高潮位达到红色警戒潮位，应发布风暴潮红色警报。', '风暴潮灾害橙色警报发布标准：受热带气旋或温带天气系统影响，预计未来受影响区域内有一个或一个以上有代表的验潮站的高潮位达到橙色警戒潮位，应发布风暴潮橙色警报。', '冰冻I级响应启动：当中央气象台发布冰冻红色预警，预计未来72h预警区内的大部地区仍将连续达到冰冻橙色以上预警标准，或者冰冻天气已经出现,两个及以上省(自治区、直辖市)大部分地区对交通运输、电力供应、人类生活造成特别严重的影响,并且该影响可能持续。', 'Ⅱ级应急响应灾害应对情况公开：局办公室统一组织开展如下工作:（1）国家海洋局网站开通专题网页报道应急响应工作。（2）中国海洋报进行采访报道。（3）各级预报机构联系新闻媒体，并通过网站、微博、微信等渠道及时发布灾害预警信息，公开应急响应和服务工作情况。', '政策法规司：负责事故信息发布工作，与中宣部、国务院新闻办及新华社、人民日报社、中央人民广播电台、中央电视台等主要新闻媒体联系，协助地方有关部门做好事故现场新闻发布工作，正确引导媒体和公众舆论。', '凡属下列情况之一者启动Ⅳ级应急响应：（1）民用航空器发生一般飞行事故。（2）民用航空器在运行过程中发生严重的不正常紧急事件，可能导致一般以上飞行事故发生，或可能对地面设施、环境保护、公众安全、社会稳定等造成一定影响或损失。', '较大森林火灾：受害森林面积在1公顷以上100公顷以下的，或者死亡3人以上10人以下的，或者重伤10人以上50人以下的。', 'Ⅱ级应急响应决策服务：预报中心在警报初发和升级时，迅速编写《海洋局值班信息》，简要介绍灾害预测意见，转由国家海洋局值班室以国家海洋局应急办名义向国务院应急办报送。次日起，每日15时前编写《海洋局值班信息》，简要介绍灾害实况和预测意见，转由国家海洋局值班室以国家海洋局应急办名义向国务院应急办报送。\\u3000\\u3000预报中心为国家防总及其办公室提供会商支持，根据国务院相关部委、军队总部机关、大型央企等决策服务单位的具体要求，提供海洋灾害警报服务，具体服务内容和形式与服务对象沟通确定。\\u3000\\u3000海区预报中心根据海区内沿海省（自治区、直辖市）人民政府、军方相关单位、重要涉海企事业单位的具体需求，提供海洋灾害警报服务，具体服务内容和形式与服务对象沟通确定。国家海洋局属其他预报机构根据所在地政府和企事业单位的实际需求，提供海洋灾害警报服务。如本单位警报结论与整体会商意见存在分歧，预报机构在提供决策服务时，可将整体会商意见和分歧论据一并介绍。', 'Ⅱ级应急响应数据传输与分发：预报中心、海区预报中心、中心站、海洋站各级数据传输节点应加强数据传输的监控工作，每日8时至20时期间，每3小时人工监控1次，发现观测数据传输故障情况应立即报告上一级主管部门，并设法恢复。数据传输中断期间，数据传输故障线路的发送节点应通过其他通讯方式将风、浪、潮主要观测要素的整点数据发送给预报中心和海区预报中心，每1小时发送1次。恢复传输后，立即完成数据补传。\\u3000\\u3000卫星中心每日向预报中心、海区预报中心和受影响的省（自治区、直辖市）海洋预报机构提供灾害影响期间的卫星遥感分析处理实时资料。监测中心按照年度海洋观测预报和防灾减灾工作方案要求，每日将鲅鱼圈岸基测冰雷达站观测资料以电子邮件形式发送预报中心、卫星中心、北海预报中心和受影响的省（自治区、直辖市）海洋预报机构。', 'Ⅲ级应急响应数据传输与分发：预报中心、海区预报中心、中心站、海洋站各级数据传输节点应加强数据传输的监控工作，每日8时至20时期间，每3小时人工监控1次，发现数据传输故障情况应立即报告上一级主管部门，并设法恢复。如数据传输线路故障，故障线路的发送节点应通过其他通讯方式将风、浪、潮主要观测要素的整点数据发送预报中心和海区预报中心，每3小时发送1次。恢复传输后，立即完成数据补传。\\u3000\\u3000卫星中心每日向预报中心、海区预报中心和受影响的省（自治区、直辖市）海洋预报机构提供灾害影响期间的卫星遥感分析处理实时资料。\\u3000\\u3000监测中心按照年度海洋观测预报和防灾减灾工作方案要求，每日将鲅鱼圈岸基测冰雷达站观测资料以电子邮件形式发送预报中心、卫星中心、北海预报中心和受影响的省（自治区、直辖市）海洋预报机构。', 'Ⅳ级应急响应启动：局减灾司组织预报中心、减灾中心根据灾害发展形势，研判应急响应级别，确定启动Ⅳ级应急响应，由局减灾司领导签发Ⅳ级应急响应启动命令。', '海啸灾害橙色警报：受地震或其他因素影响，预计海啸将会在我国沿岸产生1（含）-3米的海啸波幅，发布海啸橙色警报。', '机关服务中心：负责安全监管总局事故应急处置过程中的后勤保障工作。', '较大地震灾害是指造成10人以上、50人以下死亡（含失踪）或者造成较重经济损失的地震灾害。当人口较密集地区发生5.0级以上、6.0级以下地震，人口密集地区发生4.0级以上、5.0级以下地震，初判为较大地震灾害。', '寒潮Ⅱ级响应启动:当中央气象台发布寒潮橙色预警,且预计未来72h预警区内的大部地区寒潮天气仍将持续;或者寒潮天气已经出现,两个及以上省(自治区、直辖市)大部分地区可能或已经对热带、亚热带经济林果、农作物、水产养殖、高禽生产及北方设施农业等造成重大损失,并且该影响可能持续。', '城市轻度干旱：因旱城市供水量低于正常需求量的５％～１0％，出现缺水现象，居民生活、生产用水在受到一定程度影响。', '治安保障：由事故发生地省级人民政府组织事故现场治安警戒和治安管理，加强对重点地区、重点场所、重点人群、重要物资设备的防范保护，维持现场秩序，及时疏散群众。发动和组织群众，开展群防联防，协助做好治安工作。', 'Ⅳ级应急响应数据传输与分发：预报中心、海区预报中心、中心站、海洋站各级数据传输节点应加强数据传输的监控工作，每日8时至20时期间，每3小时人工监控1次，发现数据传输故障情况应立即报告上一级主管部门，并设法恢复。如数据传输线路故障，故障线路的发送节点应通过其他通讯方式将风、浪、潮主要观测要素的整点数据发送给预报中心和海区预报中心，每3小时发送1次。恢复传输后，立即完成数据补传。\\u3000\\u3000卫星中心每日向预报中心、海区预报中心和受影响的省（自治区、直辖市）海洋预报机构供灾害影响期间的卫星遥感分析处理实时资料。监测中心按照年度海洋观测预报和防灾减灾工作方案要求，每日将鲅鱼圈岸基测冰雷达站观测资料以电子邮件形式发送预报中心、卫星中心、北海预报中心和影响的省（自治区、直辖市）海洋预报机构。', 'Ⅱ级应急响应灾害预警制作与发布：风暴潮和海浪害警报每日面向社会公众至少发布2次，预计灾害趋势加重或有重大变化时应加密发布。海冰灾害警报每日发布1次，海啸灾害警报可随时滚动更新。每次发布警报前，预报中心应组织各级海洋预报部门利用视频或者电话方式开展应急会商。其中，风暴潮和海浪灾害视频会商频次不低于每日2次，海冰灾害每日安排1次视频会商，具体时间由预报心提前确定并通知。\\u3000\\u3000预计发生海啸灾害时，预报中心不必召开视频会商，直接发布海啸预警。', 'Ⅳ级应急响应灾害应对情况公开：各预报减灾机构在局办公室的统一组织下联系新闻媒体，并通过网站、微博、微信等渠道及时发布灾害预警信息，公开应急响应和服务工作情况。', '出现下列情况时启动Ⅲ级响应：在化学品生产、经营、储存、运输、使用和废弃危险化学品处置等过程发生的火灾事故、爆炸事故、易燃、易爆或有毒物质泄漏事故，已经危及周边社区、居民的生命财产安全，造成或可能造成3～9 人死亡、或30～50 人中毒、或直接经济损失较大、或较大社会影响等。', '事故信息的处理：省级应急救援指挥机构、地方各级安全生产监督管理部门接到Ⅱ级以上危险化学品事故报告后要及时报安全监管总局。各危险化学品从业单位可将所属企业发生的Ⅱ级以上危险化学品事故信息直接报安全监管总局。危险化学品事故现场应急救援指挥部、省级应急救援指挥机构要跟踪续报事故发展、救援工作进展以及事故可能造成的影响等信息，及时提出需要上级协调解决的问题和提供的支援。']\n"
     ]
    }
   ],
   "source": [
    "# 查找未匹配的元素\n",
    "unmatched_A, unmatched_B = find_unmatched_elements(rules, rules1)\n",
    "\n",
    "print(\"Unmatched elements in A:\", unmatched_A)\n",
    "print(\"Unmatched elements in B:\", unmatched_B)"
   ]
  },
  {
   "cell_type": "code",
   "execution_count": 87,
   "id": "4d3cec90-f0a2-4b6d-aed8-bb7b3d868654",
   "metadata": {
    "execution": {
     "iopub.execute_input": "2024-12-04T09:44:12.935822Z",
     "iopub.status.busy": "2024-12-04T09:44:12.935018Z",
     "iopub.status.idle": "2024-12-04T09:44:12.942497Z",
     "shell.execute_reply": "2024-12-04T09:44:12.941513Z",
     "shell.execute_reply.started": "2024-12-04T09:44:12.935757Z"
    }
   },
   "outputs": [
    {
     "name": "stdout",
     "output_type": "stream",
     "text": [
      "42\n"
     ]
    }
   ],
   "source": [
    "print(len(unmatched_B))"
   ]
  },
  {
   "cell_type": "markdown",
   "id": "a1839022-5fef-4215-b348-4d8686d25adb",
   "metadata": {},
   "source": [
    "## instruction数据格式转换"
   ]
  },
  {
   "cell_type": "code",
   "execution_count": 140,
   "id": "535ad6e1-fcd5-4c11-b76d-bb71b13ae4f9",
   "metadata": {
    "execution": {
     "iopub.execute_input": "2024-12-06T08:31:52.927568Z",
     "iopub.status.busy": "2024-12-06T08:31:52.926766Z",
     "iopub.status.idle": "2024-12-06T08:31:52.941240Z",
     "shell.execute_reply": "2024-12-06T08:31:52.940350Z",
     "shell.execute_reply.started": "2024-12-06T08:31:52.927513Z"
    }
   },
   "outputs": [],
   "source": [
    "with open('data/DF/instance_nl_800_v3.json', 'r', encoding='utf-8') as f:\n",
    "    data = json.load(f)"
   ]
  },
  {
   "cell_type": "code",
   "execution_count": 141,
   "id": "5131af31-cee6-4801-8008-c5ac28d0d620",
   "metadata": {
    "collapsed": true,
    "execution": {
     "iopub.execute_input": "2024-12-06T08:32:06.509194Z",
     "iopub.status.busy": "2024-12-06T08:32:06.508139Z",
     "iopub.status.idle": "2024-12-06T08:32:06.516813Z",
     "shell.execute_reply": "2024-12-06T08:32:06.515455Z",
     "shell.execute_reply.started": "2024-12-06T08:32:06.509131Z"
    },
    "jupyter": {
     "outputs_hidden": true
    },
    "scrolled": true
   },
   "outputs": [
    {
     "name": "stdout",
     "output_type": "stream",
     "text": [
      "你好，以下是根据提供的逻辑表达式和谓词描述转换成自然语言的输出：\n",
      "\n",
      "```json\n",
      "[\n",
      "    {\n",
      "        \"natural_language\": \"对于任何事件E，如果E是一个地震，那么它既是自然灾害也是紧急事件，并且地震会导致网络安全事件，具体表现为网络中断。\"\n",
      "    },\n",
      "    {\n",
      "        \"natural_language\": \"对于任何事件E，如果E是一个台风，那么它既是自然灾害也是紧急事件，并且台风会导致网络安全事件，具体表现为数据中心故障。\"\n",
      "    },\n",
      "    {\n",
      "        \"natural_language\": \"对于任何事件E，如果E是一个恐怖袭击，那么它既是自然灾害也是紧急事件，并且恐怖袭击会导致网络安全事件，具体表现为关键基础设施瘫痪。\"\n",
      "    },\n",
      "    {\n",
      "        \"natural_language\": \"对于任何事件E，如果E是一个洪水，那么它既是自然灾害也是紧急事件，并且洪水会导致网络安全事件，具体表现为通信中断。\"\n",
      "    },\n",
      "    {\n",
      "        \"natural_language\": \"对于任何事件E，如果E是一个网络攻击，那么它既是自然灾害也是紧急事件，并且网络攻击会导致网络安全事件，具体表现为数据泄露。\"\n",
      "    }\n",
      "]\n",
      "```\n"
     ]
    }
   ],
   "source": [
    "print(data[799])"
   ]
  },
  {
   "cell_type": "code",
   "execution_count": 143,
   "id": "17b5cdc4-5b7a-44cc-91d3-1690b968abad",
   "metadata": {
    "execution": {
     "iopub.execute_input": "2024-12-06T08:32:45.357305Z",
     "iopub.status.busy": "2024-12-06T08:32:45.356431Z",
     "iopub.status.idle": "2024-12-06T08:32:45.387889Z",
     "shell.execute_reply": "2024-12-06T08:32:45.386998Z",
     "shell.execute_reply.started": "2024-12-06T08:32:45.357241Z"
    }
   },
   "outputs": [
    {
     "name": "stdout",
     "output_type": "stream",
     "text": [
      "清理后的特殊部分：\n",
      "[\n",
      "    {\n",
      "        \"natural_language\": \"对于任何事件E，如果E是一个地震，那么它既是自然灾害也是紧急事件，并且地震会导致网络安全事件，具体表现为网络中断。\"\n",
      "    },\n",
      "    {\n",
      "        \"natural_language\": \"对于任何事件E，如果E是一个台风，那么它既是自然灾害也是紧急事件，并且台风会导致网络安全事件，具体表现为数据中心故障。\"\n",
      "    },\n",
      "    {\n",
      "        \"natural_language\": \"对于任何事件E，如果E是一个恐怖袭击，那么它既是自然灾害也是紧急事件，并且恐怖袭击会导致网络安全事件，具体表现为关键基础设施瘫痪。\"\n",
      "    },\n",
      "    {\n",
      "        \"natural_language\": \"对于任何事件E，如果E是一个洪水，那么它既是自然灾害也是紧急事件，并且洪水会导致网络安全事件，具体表现为通信中断。\"\n",
      "    },\n",
      "    {\n",
      "        \"natural_language\": \"对于任何事件E，如果E是一个网络攻击，那么它既是自然灾害也是紧急事件，并且网络攻击会导致网络安全事件，具体表现为数据泄露。\"\n",
      "    }\n",
      "]\n",
      "\n",
      "不包含特殊部分的数据序号：\n",
      "[12, 21, 22, 31, 66, 76, 78, 80, 84, 91, 100, 103, 111, 122, 125, 130, 134, 136, 137, 138, 140, 143, 144, 145, 146, 150, 168, 171, 181, 184, 187, 199, 216, 246, 270, 271, 274, 363, 364, 366, 367, 371, 377, 392, 434, 439, 459, 510, 525, 570, 571, 573, 600, 624, 635, 654, 659, 660, 661, 662, 702, 704, 718, 730, 769, 774, 794, 795]\n",
      "68\n"
     ]
    }
   ],
   "source": [
    "# 假设你的数据是一个列表\n",
    "data_list = data\n",
    "\n",
    "# 定义模式\n",
    "import re\n",
    "\n",
    "pattern = r\"```json(.*?)```\"\n",
    "\n",
    "# 提取包含特殊部分的内容，如果不匹配，则用空字符串\n",
    "cleaned_parts = [\n",
    "    re.search(pattern, data, re.DOTALL).group(1).strip() if re.search(pattern, data, re.DOTALL) else \"\"\n",
    "    for data in data_list\n",
    "]\n",
    "\n",
    "# 找出不包含特殊部分的元素的序号\n",
    "not_contain_indices = [index for index, data in enumerate(data_list) if not re.search(pattern, data, re.DOTALL)]\n",
    "\n",
    "# 输出结果\n",
    "print(\"清理后的特殊部分：\")\n",
    "print(cleaned_parts[799])\n",
    "\n",
    "print(\"\\n不包含特殊部分的数据序号：\")\n",
    "print(not_contain_indices)\n",
    "print(len(not_contain_indices))"
   ]
  },
  {
   "cell_type": "code",
   "execution_count": 145,
   "id": "7d98043a-d1be-4cd6-bffd-eefaf9308b69",
   "metadata": {
    "execution": {
     "iopub.execute_input": "2024-12-06T08:34:07.145097Z",
     "iopub.status.busy": "2024-12-06T08:34:07.144235Z",
     "iopub.status.idle": "2024-12-06T08:34:07.155551Z",
     "shell.execute_reply": "2024-12-06T08:34:07.154368Z",
     "shell.execute_reply.started": "2024-12-06T08:34:07.145042Z"
    }
   },
   "outputs": [
    {
     "name": "stdout",
     "output_type": "stream",
     "text": [
      "[]\n",
      "2\n"
     ]
    }
   ],
   "source": [
    "def match_quotes_and_comma(text):\n",
    "    # 正则表达式：匹配中文左引号和中文右引号+英文逗号之间的内容\n",
    "    pattern1 = r'“(.*?)”,'\n",
    "    pattern2 = r'“(.*?)”\\n'\n",
    "\n",
    "    # 查找所有匹配项\n",
    "    matches1 = re.findall(pattern1, text)\n",
    "    matches2 = re.findall(pattern2, text)\n",
    "\n",
    "    dicts = []\n",
    "    for i in matches1 + matches2:\n",
    "        dicts.append({\n",
    "            \"natural_language\": i,\n",
    "        })\n",
    "    dicts = json.dumps(dicts, ensure_ascii=False)\n",
    "    return dicts\n",
    "\n",
    "\n",
    "# 示例数据\n",
    "data1 = cleaned_parts[799]\n",
    "\n",
    "# 调用函数进行匹配\n",
    "result = match_quotes_and_comma(data1)\n",
    "print(result)\n",
    "print(len(result))"
   ]
  },
  {
   "cell_type": "code",
   "execution_count": 146,
   "id": "7b878d0f-0616-4022-b297-568908fb9de0",
   "metadata": {
    "execution": {
     "iopub.execute_input": "2024-12-06T08:34:37.849302Z",
     "iopub.status.busy": "2024-12-06T08:34:37.848407Z",
     "iopub.status.idle": "2024-12-06T08:34:37.870133Z",
     "shell.execute_reply": "2024-12-06T08:34:37.869004Z",
     "shell.execute_reply.started": "2024-12-06T08:34:37.849240Z"
    },
    "scrolled": true
   },
   "outputs": [
    {
     "name": "stdout",
     "output_type": "stream",
     "text": [
      "4\n",
      "5\n",
      "7\n",
      "8\n",
      "25\n",
      "37\n",
      "39\n",
      "60\n",
      "72\n",
      "73\n",
      "97\n",
      "102\n",
      "114\n",
      "139\n",
      "141\n",
      "154\n",
      "157\n",
      "188\n",
      "190\n",
      "193\n",
      "203\n",
      "205\n",
      "206\n",
      "218\n",
      "236\n",
      "241\n",
      "244\n",
      "245\n",
      "248\n",
      "250\n",
      "252\n",
      "257\n",
      "279\n",
      "282\n",
      "296\n",
      "297\n",
      "299\n",
      "329\n",
      "334\n",
      "335\n",
      "337\n",
      "339\n",
      "341\n",
      "342\n",
      "351\n",
      "352\n",
      "370\n",
      "373\n",
      "406\n",
      "415\n",
      "435\n",
      "441\n",
      "490\n",
      "499\n",
      "511\n",
      "513\n",
      "515\n",
      "516\n",
      "518\n",
      "538\n",
      "546\n",
      "556\n",
      "572\n",
      "582\n",
      "599\n",
      "606\n",
      "611\n",
      "621\n",
      "628\n",
      "632\n",
      "639\n",
      "644\n",
      "645\n",
      "647\n",
      "648\n",
      "663\n",
      "669\n",
      "674\n",
      "693\n",
      "706\n",
      "723\n",
      "724\n",
      "734\n",
      "743\n",
      "751\n",
      "762\n",
      "770\n",
      "771\n",
      "776\n",
      "781\n",
      "796\n"
     ]
    }
   ],
   "source": [
    "cleaned_parts_json = []\n",
    "for index, i in enumerate(cleaned_parts):\n",
    "    if i:\n",
    "        try:\n",
    "            cleaned_parts_json.append(json.loads(i))\n",
    "        except Exception:\n",
    "            print(index)\n",
    "            cleaned_parts_json.append(json.loads(match_quotes_and_comma(i)))\n",
    "    else:\n",
    "        cleaned_parts_json.append('')\n",
    "# print(json.loads(cleaned_parts[0]))"
   ]
  },
  {
   "cell_type": "code",
   "execution_count": 147,
   "id": "788df579-3cd5-4b07-a4ab-9478dbd1a21a",
   "metadata": {
    "execution": {
     "iopub.execute_input": "2024-12-06T08:34:51.848572Z",
     "iopub.status.busy": "2024-12-06T08:34:51.848107Z",
     "iopub.status.idle": "2024-12-06T08:34:51.858939Z",
     "shell.execute_reply": "2024-12-06T08:34:51.857611Z",
     "shell.execute_reply.started": "2024-12-06T08:34:51.848543Z"
    }
   },
   "outputs": [],
   "source": [
    "with open('data/DF/rules1.json', 'r', encoding='utf-8') as f:\n",
    "    rules = json.load(f)"
   ]
  },
  {
   "cell_type": "code",
   "execution_count": 148,
   "id": "e871cf5b-4fae-4675-9194-015fb765ce5a",
   "metadata": {
    "execution": {
     "iopub.execute_input": "2024-12-06T08:34:53.872594Z",
     "iopub.status.busy": "2024-12-06T08:34:53.871073Z",
     "iopub.status.idle": "2024-12-06T08:34:53.884058Z",
     "shell.execute_reply": "2024-12-06T08:34:53.883179Z",
     "shell.execute_reply.started": "2024-12-06T08:34:53.872531Z"
    }
   },
   "outputs": [],
   "source": [
    "rule_dict = []\n",
    "for index, i in enumerate(cleaned_parts_json):\n",
    "    if i:\n",
    "        dicts = {\n",
    "            \"rule_id\": index,\n",
    "            \"rule\": rules[index][\"rule_text\"],\n",
    "            \"nl\": i\n",
    "        }\n",
    "    else:\n",
    "        dicts = {\n",
    "            \"rule_id\": index,\n",
    "            \"rule\": rules[index][\"rule_text\"],\n",
    "            \"nl\": \"\"\n",
    "        }\n",
    "    rule_dict.append(dicts)"
   ]
  },
  {
   "cell_type": "code",
   "execution_count": 150,
   "id": "da5ae527-50c4-4881-b8e1-4e0c5ab66275",
   "metadata": {
    "execution": {
     "iopub.execute_input": "2024-12-06T08:34:59.848893Z",
     "iopub.status.busy": "2024-12-06T08:34:59.848011Z",
     "iopub.status.idle": "2024-12-06T08:34:59.855564Z",
     "shell.execute_reply": "2024-12-06T08:34:59.854452Z",
     "shell.execute_reply.started": "2024-12-06T08:34:59.848821Z"
    }
   },
   "outputs": [
    {
     "name": "stdout",
     "output_type": "stream",
     "text": [
      "{'rule_id': 799, 'rule': '灾害性事件是指由自然灾害等其他突发事件导致的网络安全事件。', 'nl': [{'natural_language': '对于任何事件E，如果E是一个地震，那么它既是自然灾害也是紧急事件，并且地震会导致网络安全事件，具体表现为网络中断。'}, {'natural_language': '对于任何事件E，如果E是一个台风，那么它既是自然灾害也是紧急事件，并且台风会导致网络安全事件，具体表现为数据中心故障。'}, {'natural_language': '对于任何事件E，如果E是一个恐怖袭击，那么它既是自然灾害也是紧急事件，并且恐怖袭击会导致网络安全事件，具体表现为关键基础设施瘫痪。'}, {'natural_language': '对于任何事件E，如果E是一个洪水，那么它既是自然灾害也是紧急事件，并且洪水会导致网络安全事件，具体表现为通信中断。'}, {'natural_language': '对于任何事件E，如果E是一个网络攻击，那么它既是自然灾害也是紧急事件，并且网络攻击会导致网络安全事件，具体表现为数据泄露。'}]}\n"
     ]
    }
   ],
   "source": [
    "print(rule_dict[799])"
   ]
  },
  {
   "cell_type": "code",
   "execution_count": 151,
   "id": "572052a0-fb22-45c4-bc86-7a995585c391",
   "metadata": {
    "execution": {
     "iopub.execute_input": "2024-12-06T08:35:07.849661Z",
     "iopub.status.busy": "2024-12-06T08:35:07.848766Z",
     "iopub.status.idle": "2024-12-06T08:35:07.879156Z",
     "shell.execute_reply": "2024-12-06T08:35:07.878356Z",
     "shell.execute_reply.started": "2024-12-06T08:35:07.849593Z"
    }
   },
   "outputs": [],
   "source": [
    "with open('data/DF/instruction_rule_800_v3.json', 'w', encoding='utf-8') as f:\n",
    "    json.dump(rule_dict, f, indent=4, ensure_ascii=False)"
   ]
  },
  {
   "cell_type": "code",
   "execution_count": 7,
   "id": "9267544b-323c-4a12-9439-496f6b04c6ae",
   "metadata": {
    "execution": {
     "iopub.execute_input": "2024-12-11T06:26:47.681677Z",
     "iopub.status.busy": "2024-12-11T06:26:47.680471Z",
     "iopub.status.idle": "2024-12-11T06:26:47.720248Z",
     "shell.execute_reply": "2024-12-11T06:26:47.719655Z",
     "shell.execute_reply.started": "2024-12-11T06:26:47.681640Z"
    }
   },
   "outputs": [
    {
     "name": "stdout",
     "output_type": "stream",
     "text": [
      "键名修改完成，新的文件已保存为 data/DF/instruction_rule_800_v4.json\n"
     ]
    }
   ],
   "source": [
    "# 假设你的 JSON 数据保存在一个文件中\n",
    "input_file = 'data/DF/instruction_rule_800_v3.json'\n",
    "output_file = 'data/DF/instruction_rule_800_v4.json'\n",
    "\n",
    "# 读取原始 JSON 数据\n",
    "with open(input_file, 'r', encoding='utf-8') as file:\n",
    "    data = json.load(file)\n",
    "\n",
    "# 遍历数据并修改键名\n",
    "for item in data:\n",
    "    if 'nl' in item:\n",
    "        for nl_item in item['nl']:\n",
    "            if 'translated_text' in nl_item:\n",
    "                nl_item['natural_language'] = nl_item.pop('translated_text')\n",
    "\n",
    "# 将修改后的数据写回到新的文件\n",
    "with open(output_file, 'w', encoding='utf-8') as file:\n",
    "    json.dump(data, file, ensure_ascii=False, indent=4)\n",
    "\n",
    "print(f\"键名修改完成，新的文件已保存为 {output_file}\")\n"
   ]
  },
  {
   "cell_type": "markdown",
   "id": "fd948852-d97d-452e-bbc5-2be3b43731fe",
   "metadata": {},
   "source": [
    "## 将数据转变为nl2instruction输入需要形式"
   ]
  },
  {
   "cell_type": "code",
   "execution_count": 8,
   "id": "0393b47d-81ae-4bfa-bf59-ce962fdacc4b",
   "metadata": {
    "execution": {
     "iopub.execute_input": "2024-12-11T06:27:01.986663Z",
     "iopub.status.busy": "2024-12-11T06:27:01.985805Z",
     "iopub.status.idle": "2024-12-11T06:27:02.003847Z",
     "shell.execute_reply": "2024-12-11T06:27:02.003052Z",
     "shell.execute_reply.started": "2024-12-11T06:27:01.986601Z"
    }
   },
   "outputs": [],
   "source": [
    "with open('data/DF/instruction_rule_800_v4.json', 'r', encoding='utf-8') as f:\n",
    "    nl_data = json.load(f)"
   ]
  },
  {
   "cell_type": "code",
   "execution_count": 10,
   "id": "430a1ebf-7e8d-4986-99ee-13b8604a66de",
   "metadata": {
    "execution": {
     "iopub.execute_input": "2024-12-11T06:28:14.803752Z",
     "iopub.status.busy": "2024-12-11T06:28:14.802924Z",
     "iopub.status.idle": "2024-12-11T06:28:14.817376Z",
     "shell.execute_reply": "2024-12-11T06:28:14.816608Z",
     "shell.execute_reply.started": "2024-12-11T06:28:14.803696Z"
    }
   },
   "outputs": [],
   "source": [
    "instruction = []\n",
    "for rule in nl_data:\n",
    "    nl_dict = {\n",
    "        \"rule_id\": rule[\"rule_id\"],\n",
    "        \"nl_rule_pair\": []\n",
    "    }\n",
    "    if rule[\"nl\"]:\n",
    "        for natural_language in rule[\"nl\"]:\n",
    "            # print(natural_language[\"natural_language\"])\n",
    "            pair = {\n",
    "                \"rule\": rule[\"rule\"],\n",
    "                \"natural_language\": natural_language[\"natural_language\"] or natural_language[\"translated_text\"]\n",
    "            }\n",
    "            nl_dict[\"nl_rule_pair\"].append(pair)\n",
    "    instruction.append(nl_dict)"
   ]
  },
  {
   "cell_type": "code",
   "execution_count": 11,
   "id": "598861e5-346b-4888-bd0f-1bebecd15650",
   "metadata": {
    "execution": {
     "iopub.execute_input": "2024-12-11T06:28:28.732652Z",
     "iopub.status.busy": "2024-12-11T06:28:28.731854Z",
     "iopub.status.idle": "2024-12-11T06:28:28.767921Z",
     "shell.execute_reply": "2024-12-11T06:28:28.767042Z",
     "shell.execute_reply.started": "2024-12-11T06:28:28.732606Z"
    }
   },
   "outputs": [],
   "source": [
    "with open('data/DF/instruction_v1.json', 'w', encoding='utf-8') as f:\n",
    "    json.dump(instruction, f, indent=4, ensure_ascii=False)"
   ]
  },
  {
   "cell_type": "markdown",
   "id": "9503763f-18a1-431f-9953-3afa20595e06",
   "metadata": {},
   "source": [
    "## 处理为instruction形式"
   ]
  },
  {
   "cell_type": "code",
   "execution_count": 47,
   "id": "ab92e531-25b6-426b-80cf-c6c2484034eb",
   "metadata": {
    "execution": {
     "iopub.execute_input": "2024-12-12T11:53:35.080783Z",
     "iopub.status.busy": "2024-12-12T11:53:35.080109Z",
     "iopub.status.idle": "2024-12-12T11:53:35.101653Z",
     "shell.execute_reply": "2024-12-12T11:53:35.101151Z",
     "shell.execute_reply.started": "2024-12-12T11:53:35.080732Z"
    }
   },
   "outputs": [],
   "source": [
    "with open('data/DF/instruction_transed_v1.json', 'r', encoding='utf-8') as f:\n",
    "    data1 = json.load(f)"
   ]
  },
  {
   "cell_type": "code",
   "execution_count": 84,
   "id": "d1002aec-1eb5-4cca-8b77-57501dca0e46",
   "metadata": {
    "execution": {
     "iopub.execute_input": "2024-12-12T12:16:57.852568Z",
     "iopub.status.busy": "2024-12-12T12:16:57.851736Z",
     "iopub.status.idle": "2024-12-12T12:16:57.873315Z",
     "shell.execute_reply": "2024-12-12T12:16:57.872566Z",
     "shell.execute_reply.started": "2024-12-12T12:16:57.852505Z"
    }
   },
   "outputs": [
    {
     "name": "stdout",
     "output_type": "stream",
     "text": [
      "提取的内容:\n",
      "{\n",
      "    \"instruction\": \"如果化工厂发生了化学品泄漏事件，并且涉及的是有毒化学品，这个事件是否属于危险化学品事故？\",\n",
      "    \"output\": \"是的，这个事件会导致人员伤害、财产损失和环境污染，并且与生产、操作、储存、运输、使用或处置有毒化学品有关，不属于矿井事故、有毒气体中毒、爆炸事故或爆破事故，因此属于危险化学品事故。\"\n",
      "}\n"
     ]
    }
   ],
   "source": [
    "with open('data/DF/instruction_transed_v1.json', 'r', encoding='utf-8') as f:\n",
    "    data1 = json.load(f)\n",
    "\n",
    "# 输入字符串\n",
    "text = data1[0][\"io_pair\"][1]\n",
    "\n",
    "# 确认 text 是字符串类型\n",
    "if not isinstance(text, str):\n",
    "    print(f\"输入不是字符串，实际类型是: {type(text)}\")\n",
    "\n",
    "# 正则表达式匹配三引号 + json 和三引号之间的内容\n",
    "pattern = r\"```json\\n(.*?)\\n```\"\n",
    "\n",
    "# 提取内容\n",
    "match = re.search(pattern, text, re.DOTALL)\n",
    "\n",
    "if match:\n",
    "    extracted_content = match.group(1)\n",
    "    print(\"提取的内容:\")\n",
    "    print(extracted_content)\n",
    "else:\n",
    "    print(\"未找到匹配内容。\")"
   ]
  },
  {
   "cell_type": "code",
   "execution_count": 96,
   "id": "6c7ca7f8-ff87-4168-939e-b2c70dbf320c",
   "metadata": {
    "execution": {
     "iopub.execute_input": "2024-12-12T12:28:32.686908Z",
     "iopub.status.busy": "2024-12-12T12:28:32.686269Z",
     "iopub.status.idle": "2024-12-12T12:28:32.718310Z",
     "shell.execute_reply": "2024-12-12T12:28:32.717565Z",
     "shell.execute_reply.started": "2024-12-12T12:28:32.686867Z"
    }
   },
   "outputs": [],
   "source": [
    "with open('data/DF/instruction_transed_v1.json', 'r', encoding='utf-8') as f:\n",
    "    data1 = json.load(f)\n",
    "\n",
    "# 正则表达式匹配三引号 + json 和三引号之间的内容\n",
    "pattern = r\"```json\\n(.*?)\\n```\"\n",
    "\n",
    "for index, d in enumerate(data1):\n",
    "    if d[\"io_pair\"]:\n",
    "        d[\"io_p\"] = []\n",
    "        for sentence in d[\"io_pair\"]:\n",
    "            match = re.search(pattern, sentence, re.DOTALL)  # 提取内容\n",
    "            extracted_content = match.group(1)\n",
    "            d[\"io_p\"].append(extracted_content)\n",
    "\n",
    "\n",
    "# print(json.loads(data1[0][\"io_p\"][0]))"
   ]
  },
  {
   "cell_type": "code",
   "execution_count": 92,
   "id": "a9bc5b27-5d06-4bbd-905d-7b5445caa039",
   "metadata": {
    "execution": {
     "iopub.execute_input": "2024-12-12T12:24:48.052790Z",
     "iopub.status.busy": "2024-12-12T12:24:48.051946Z",
     "iopub.status.idle": "2024-12-12T12:24:48.087033Z",
     "shell.execute_reply": "2024-12-12T12:24:48.086203Z",
     "shell.execute_reply.started": "2024-12-12T12:24:48.052726Z"
    }
   },
   "outputs": [],
   "source": [
    "with open('data/DF/instruction_v3.json', 'w', encoding='utf-8') as f:\n",
    "    json.dump(data1, f, indent=4, ensure_ascii=False)"
   ]
  },
  {
   "cell_type": "code",
   "execution_count": 109,
   "id": "43aea923-0d10-4bc1-92f3-5e8124ae11bc",
   "metadata": {
    "execution": {
     "iopub.execute_input": "2024-12-12T13:19:05.378166Z",
     "iopub.status.busy": "2024-12-12T13:19:05.377356Z",
     "iopub.status.idle": "2024-12-12T13:19:05.429068Z",
     "shell.execute_reply": "2024-12-12T13:19:05.428156Z",
     "shell.execute_reply.started": "2024-12-12T13:19:05.378103Z"
    }
   },
   "outputs": [],
   "source": [
    "with open('data/DF/instruction_v2.json', 'r', encoding='utf-8') as f:\n",
    "    datav2 = json.load(f)\n",
    "    \n",
    "for d in datav2:\n",
    "    d[\"instruction\"] = []\n",
    "    if d[\"io_pair\"]:\n",
    "        for s in d[\"io_p\"]:\n",
    "            # 正则表达式匹配 JSON 格式块\n",
    "            pattern = r\"\\{.*?\\}\"\n",
    "            # 使用 re.findall 提取所有符合格式的内容\n",
    "            matches = re.findall(pattern, s, re.DOTALL)\n",
    "            # 将匹配结果存储到列表中\n",
    "            result_list = matches\n",
    "            for idx, match in enumerate(result_list, start=1):\n",
    "                d[\"instruction\"].append(json.loads(match))"
   ]
  },
  {
   "cell_type": "code",
   "execution_count": 110,
   "id": "e111cfa7-6238-4830-a790-98dc1bb03fea",
   "metadata": {
    "execution": {
     "iopub.execute_input": "2024-12-12T13:19:10.843855Z",
     "iopub.status.busy": "2024-12-12T13:19:10.843112Z",
     "iopub.status.idle": "2024-12-12T13:19:10.897597Z",
     "shell.execute_reply": "2024-12-12T13:19:10.896799Z",
     "shell.execute_reply.started": "2024-12-12T13:19:10.843796Z"
    }
   },
   "outputs": [],
   "source": [
    "with open('data/DF/instruction_v4.json', 'w', encoding='utf-8') as f:\n",
    "    json.dump(datav2, f, indent=4, ensure_ascii=False)"
   ]
  },
  {
   "cell_type": "markdown",
   "id": "a975fe0b-c93e-4d51-ba43-856214410663",
   "metadata": {},
   "source": [
    "## 为instruction添加rule"
   ]
  },
  {
   "cell_type": "code",
   "execution_count": 112,
   "id": "04b1c788-0e45-476c-8439-5a12335b8e0a",
   "metadata": {
    "execution": {
     "iopub.execute_input": "2024-12-12T13:24:36.745316Z",
     "iopub.status.busy": "2024-12-12T13:24:36.744608Z",
     "iopub.status.idle": "2024-12-12T13:24:36.781809Z",
     "shell.execute_reply": "2024-12-12T13:24:36.781265Z",
     "shell.execute_reply.started": "2024-12-12T13:24:36.745276Z"
    }
   },
   "outputs": [],
   "source": [
    "with open('data/DF/instruction_v4.json', 'r', encoding='utf-8') as f:\n",
    "    datav4 = json.load(f)\n",
    "\n",
    "with open('data/DF/rules1.json', 'r', encoding='utf-8') as f:\n",
    "    rules1 = json.load(f)\n",
    "\n",
    "for idx, d in enumerate(datav4):\n",
    "    if d[\"io_pair\"]:\n",
    "        for ins in d[\"instruction\"]:\n",
    "            ins[\"rule\"] = rules1[idx][\"rule_text\"]"
   ]
  },
  {
   "cell_type": "code",
   "execution_count": 113,
   "id": "fac13a70-855a-4a46-8fbd-80ea054d8838",
   "metadata": {
    "execution": {
     "iopub.execute_input": "2024-12-12T13:24:51.730762Z",
     "iopub.status.busy": "2024-12-12T13:24:51.729793Z",
     "iopub.status.idle": "2024-12-12T13:24:51.790341Z",
     "shell.execute_reply": "2024-12-12T13:24:51.789519Z",
     "shell.execute_reply.started": "2024-12-12T13:24:51.730706Z"
    }
   },
   "outputs": [],
   "source": [
    "with open('data/DF/instruction_v5.json', 'w', encoding='utf-8') as f:\n",
    "    json.dump(datav4, f, indent=4, ensure_ascii=False)"
   ]
  },
  {
   "cell_type": "markdown",
   "id": "fef2333b-f112-4f62-9e2d-32854b3ba027",
   "metadata": {},
   "source": [
    "## 最后的处理"
   ]
  },
  {
   "cell_type": "code",
   "execution_count": 115,
   "id": "9750f181-0d22-4b13-81bd-68fc37d1f6c8",
   "metadata": {
    "execution": {
     "iopub.execute_input": "2024-12-12T13:27:20.702072Z",
     "iopub.status.busy": "2024-12-12T13:27:20.701328Z",
     "iopub.status.idle": "2024-12-12T13:27:20.743415Z",
     "shell.execute_reply": "2024-12-12T13:27:20.742640Z",
     "shell.execute_reply.started": "2024-12-12T13:27:20.702016Z"
    }
   },
   "outputs": [],
   "source": [
    "with open('data/DF/instruction_v5.json', 'r', encoding='utf-8') as f:\n",
    "    datav5 = json.load(f)\n",
    "\n",
    "sentences = []\n",
    "for d in datav5:\n",
    "    if d[\"instruction\"]:\n",
    "        for i in d[\"instruction\"]:\n",
    "            sentences.append(i)"
   ]
  },
  {
   "cell_type": "code",
   "execution_count": 117,
   "id": "02767f71-9c6a-4984-811a-8c0708310309",
   "metadata": {
    "execution": {
     "iopub.execute_input": "2024-12-12T13:28:30.631421Z",
     "iopub.status.busy": "2024-12-12T13:28:30.630608Z",
     "iopub.status.idle": "2024-12-12T13:28:30.662378Z",
     "shell.execute_reply": "2024-12-12T13:28:30.661598Z",
     "shell.execute_reply.started": "2024-12-12T13:28:30.631359Z"
    }
   },
   "outputs": [],
   "source": [
    "with open('data/DF/instruction_v6.json', 'w', encoding='utf-8') as f:\n",
    "    json.dump(sentences, f, indent=4, ensure_ascii=False)"
   ]
  },
  {
   "cell_type": "markdown",
   "id": "ed44e82a-51da-4a1e-8ef1-1082dec3f6a5",
   "metadata": {},
   "source": [
    "## 划分训练集验证集测试集"
   ]
  },
  {
   "cell_type": "code",
   "execution_count": 119,
   "id": "240ee573-b9e2-40c0-b327-9a0a78655318",
   "metadata": {
    "execution": {
     "iopub.execute_input": "2024-12-12T13:41:13.302392Z",
     "iopub.status.busy": "2024-12-12T13:41:13.301581Z",
     "iopub.status.idle": "2024-12-12T13:41:13.321836Z",
     "shell.execute_reply": "2024-12-12T13:41:13.321084Z",
     "shell.execute_reply.started": "2024-12-12T13:41:13.302330Z"
    }
   },
   "outputs": [],
   "source": [
    "with open('data/DF/instruction_v6.json', 'r', encoding='utf-8') as f:\n",
    "    datav6 = json.load(f)"
   ]
  },
  {
   "cell_type": "code",
   "execution_count": 121,
   "id": "3bc8e994-0e5d-4bd9-be18-102b63b02d48",
   "metadata": {
    "execution": {
     "iopub.execute_input": "2024-12-12T13:42:27.050156Z",
     "iopub.status.busy": "2024-12-12T13:42:27.049423Z",
     "iopub.status.idle": "2024-12-12T13:42:27.092644Z",
     "shell.execute_reply": "2024-12-12T13:42:27.091789Z",
     "shell.execute_reply.started": "2024-12-12T13:42:27.050110Z"
    }
   },
   "outputs": [
    {
     "name": "stdout",
     "output_type": "stream",
     "text": [
      "训练集大小: 2325\n",
      "验证集大小: 498\n",
      "测试集大小: 499\n"
     ]
    }
   ],
   "source": [
    "import random\n",
    "\n",
    "# 假设你的列表是 data_list\n",
    "data_list = datav6  # 示例数据，长度为 3322\n",
    "\n",
    "# 设置随机种子，确保每次划分结果一致\n",
    "random.seed(42)\n",
    "\n",
    "# 首先，打乱数据\n",
    "random.shuffle(data_list)\n",
    "\n",
    "# 计算训练集、验证集和测试集的大小\n",
    "train_size = int(0.7 * len(data_list))  # 70% 用于训练\n",
    "val_size = int(0.15 * len(data_list))   # 15% 用于验证\n",
    "test_size = len(data_list) - train_size - val_size  # 剩余 15% 用于测试\n",
    "\n",
    "# 划分数据集\n",
    "train_data = data_list[:train_size]\n",
    "val_data = data_list[train_size:train_size+val_size]\n",
    "test_data = data_list[train_size+val_size:]\n",
    "\n",
    "# 打印各个数据集的大小\n",
    "print(f\"训练集大小: {len(train_data)}\")\n",
    "print(f\"验证集大小: {len(val_data)}\")\n",
    "print(f\"测试集大小: {len(test_data)}\")\n",
    "\n",
    "with open('ft_data/train_data_v1.json', 'w', encoding='utf-8') as f:\n",
    "    json.dump(train_data, f, indent=4, ensure_ascii=False)\n",
    "\n",
    "with open('ft_data/val_data_v1.json', 'w', encoding='utf-8') as f:\n",
    "    json.dump(val_data, f, indent=4, ensure_ascii=False)\n",
    "\n",
    "with open('ft_data/test_data_v1.json', 'w', encoding='utf-8') as f:\n",
    "    json.dump(test_data, f, indent=4, ensure_ascii=False)"
   ]
  },
  {
   "cell_type": "markdown",
   "id": "7a4351db-79db-4700-bfb2-4042fa4d0cbb",
   "metadata": {},
   "source": [
    "## useless test"
   ]
  },
  {
   "cell_type": "code",
   "execution_count": 1,
   "id": "8793957e-8f0f-4ef3-a191-07e023641a9f",
   "metadata": {
    "execution": {
     "iopub.execute_input": "2025-01-01T12:34:45.004266Z",
     "iopub.status.busy": "2025-01-01T12:34:45.003433Z",
     "iopub.status.idle": "2025-01-01T12:34:45.066333Z",
     "shell.execute_reply": "2025-01-01T12:34:45.065426Z",
     "shell.execute_reply.started": "2025-01-01T12:34:45.004202Z"
    }
   },
   "outputs": [],
   "source": [
    "with open('ft_data/train_data_v1.json', 'r', encoding='utf-8') as f:\n",
    "    trainv7 = json.load(f)\n",
    "\n",
    "with open('ft_data/test_data_v1.json', 'r', encoding='utf-8') as f:\n",
    "    testv7 = json.load(f)\n",
    "\n",
    "with open('ft_data/val_data_v1.json', 'r', encoding='utf-8') as f:\n",
    "    valv7 = json.load(f)\n",
    "\n",
    "for item in trainv7:\n",
    "    if \"rule\" in item:\n",
    "        item[\"input\"] = item.pop(\"rule\")\n",
    "\n",
    "for item in testv7:\n",
    "    if \"rule\" in item:\n",
    "        item[\"input\"] = item.pop(\"rule\")\n",
    "\n",
    "for item in valv7:\n",
    "    if \"rule\" in item:\n",
    "        item[\"input\"] = item.pop(\"rule\")\n",
    "\n",
    "with open('ft_data/train_data_v2.json', 'w', encoding='utf-8') as f:\n",
    "    json.dump(trainv7, f, indent=4, ensure_ascii=False)\n",
    "\n",
    "with open('ft_data/val_data_v2.json', 'w', encoding='utf-8') as f:\n",
    "    json.dump(valv7, f, indent=4, ensure_ascii=False)\n",
    "\n",
    "with open('ft_data/test_data_v2.json', 'w', encoding='utf-8') as f:\n",
    "    json.dump(testv7, f, indent=4, ensure_ascii=False)"
   ]
  },
  {
   "cell_type": "code",
   "execution_count": 3,
   "id": "3aefde5c-30ff-4824-b329-2519dc473ee8",
   "metadata": {
    "execution": {
     "iopub.execute_input": "2025-01-01T12:42:06.595077Z",
     "iopub.status.busy": "2025-01-01T12:42:06.594305Z",
     "iopub.status.idle": "2025-01-01T12:42:06.634105Z",
     "shell.execute_reply": "2025-01-01T12:42:06.633214Z",
     "shell.execute_reply.started": "2025-01-01T12:42:06.595020Z"
    }
   },
   "outputs": [],
   "source": [
    "with open('ft_data/train_data_v2.json', 'r', encoding='utf-8') as f:\n",
    "    trainv7 = json.load(f)\n",
    "\n",
    "with open('ft_data/val_data_v2.json', 'r', encoding='utf-8') as f:\n",
    "    valv7 = json.load(f)\n",
    "\n",
    "trainv7.extend(valv7)\n",
    "\n",
    "with open('ft_data/train_data_v3.json', 'w', encoding='utf-8') as f:\n",
    "    json.dump(trainv7, f, indent=4, ensure_ascii=False)"
   ]
  }
 ],
 "metadata": {
  "kernelspec": {
   "display_name": "Python 3 (ipykernel)",
   "language": "python",
   "name": "python3"
  },
  "language_info": {
   "codemirror_mode": {
    "name": "ipython",
    "version": 3
   },
   "file_extension": ".py",
   "mimetype": "text/x-python",
   "name": "python",
   "nbconvert_exporter": "python",
   "pygments_lexer": "ipython3",
   "version": "3.10.12"
  }
 },
 "nbformat": 4,
 "nbformat_minor": 5
}
