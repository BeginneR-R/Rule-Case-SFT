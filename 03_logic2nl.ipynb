{
 "cells": [
  {
   "cell_type": "markdown",
   "id": "e2169f9d",
   "metadata": {},
   "source": [
    "# TRY 1"
   ]
  },
  {
   "cell_type": "markdown",
   "id": "c8178404",
   "metadata": {},
   "source": [
    "## 将实例化的逻辑表达式转化为自然语言"
   ]
  },
  {
   "cell_type": "code",
   "execution_count": null,
   "id": "66235589-d78c-4235-a74f-82905fc82ed4",
   "metadata": {
    "execution": {
     "iopub.execute_input": "2024-12-04T04:04:03.015228Z",
     "iopub.status.busy": "2024-12-04T04:04:03.014144Z",
     "iopub.status.idle": "2024-12-04T04:04:03.023449Z",
     "shell.execute_reply": "2024-12-04T04:04:03.022093Z",
     "shell.execute_reply.started": "2024-12-04T04:04:03.015130Z"
    }
   },
   "outputs": [],
   "source": [
    "from typing import List\n",
    "from typing import Optional\n",
    "from typing import Dict\n",
    "\n",
    "import os\n",
    "import json\n",
    "from pathlib import Path\n",
    "\n",
    "import httpx\n",
    "from openai import OpenAI\n",
    "\n",
    "import requests\n",
    "\n",
    "import time\n",
    "import re\n",
    "from tqdm import tqdm"
   ]
  },
  {
   "cell_type": "markdown",
   "id": "bf0c6bd3-0465-46b6-9f50-7f08c4fcf0c6",
   "metadata": {},
   "source": [
    "## 逻辑表达式转化为自然语言"
   ]
  },
  {
   "cell_type": "code",
   "execution_count": null,
   "id": "8da15da0-9bf8-4125-80f7-605fd793086b",
   "metadata": {
    "execution": {
     "iopub.execute_input": "2024-12-04T03:56:20.946599Z",
     "iopub.status.busy": "2024-12-04T03:56:20.945806Z",
     "iopub.status.idle": "2024-12-04T03:56:21.432376Z",
     "shell.execute_reply": "2024-12-04T03:56:21.430847Z",
     "shell.execute_reply.started": "2024-12-04T03:56:20.946535Z"
    }
   },
   "outputs": [],
   "source": [
    "# 文件路径\n",
    "file_path = \"prompts/DataFountain/nl.txt\"\n",
    "\n",
    "# 请求的 URL\n",
    "url = \"https://api.moonshot.cn/v1/files\"\n",
    "\n",
    "headers = {\n",
    "    'Authorization': 'sk-gNToXJPO4Ih8NDZnDloSXR780dQDEZ2Epu49wcVA1sWb4Ecw'\n",
    "}\n",
    "\n",
    "# 准备文件数据\n",
    "files = {'file': open(file_path, 'rb')}\n",
    "\n",
    "# 发起 POST 请求\n",
    "response = requests.post(url, headers=headers, files=files)\n",
    "\n",
    "# 打印响应内容\n",
    "print(response.status_code)\n",
    "print(response.text)"
   ]
  },
  {
   "cell_type": "code",
   "execution_count": null,
   "id": "3eaa33bd-88ac-4e2f-a5ca-1303a48d726c",
   "metadata": {
    "execution": {
     "iopub.execute_input": "2024-12-04T03:56:25.198519Z",
     "iopub.status.busy": "2024-12-04T03:56:25.197738Z",
     "iopub.status.idle": "2024-12-04T03:56:25.882850Z",
     "shell.execute_reply": "2024-12-04T03:56:25.881328Z",
     "shell.execute_reply.started": "2024-12-04T03:56:25.198473Z"
    }
   },
   "outputs": [],
   "source": [
    "client = OpenAI(\n",
    "    api_key=\"sk-gNToXJPO4Ih8NDZnDloSXR780dQDEZ2Epu49wcVA1sWb4Ecw\",\n",
    "    base_url=\"https://api.moonshot.cn/v1\",\n",
    ")\n",
    "\n",
    "file_object = client.files.create(file=Path(\"prompts/DataFountain/nl.txt\"), purpose=\"file-extract\")\n",
    "file_content = client.files.content(file_id=file_object.id).text"
   ]
  },
  {
   "cell_type": "code",
   "execution_count": null,
   "id": "b6dd41da-9c3e-41bc-bfc5-6cc66b3cb2c6",
   "metadata": {
    "execution": {
     "iopub.execute_input": "2024-12-04T03:56:34.036779Z",
     "iopub.status.busy": "2024-12-04T03:56:34.035929Z",
     "iopub.status.idle": "2024-12-04T03:56:34.060488Z",
     "shell.execute_reply": "2024-12-04T03:56:34.059643Z",
     "shell.execute_reply.started": "2024-12-04T03:56:34.036725Z"
    }
   },
   "outputs": [],
   "source": [
    "with open('data/DF/instance_predicates_v3.json', 'r', encoding='utf-8') as file:\n",
    "    data = json.load(file)"
   ]
  },
  {
   "cell_type": "code",
   "execution_count": null,
   "id": "f1ac69e5-d31f-4fb4-86d1-b20f0cc3549e",
   "metadata": {
    "execution": {
     "iopub.execute_input": "2024-12-04T04:02:36.043396Z",
     "iopub.status.busy": "2024-12-04T04:02:36.042503Z",
     "iopub.status.idle": "2024-12-04T04:02:36.051057Z",
     "shell.execute_reply": "2024-12-04T04:02:36.049699Z",
     "shell.execute_reply.started": "2024-12-04T04:02:36.043332Z"
    },
    "scrolled": true
   },
   "outputs": [],
   "source": [
    "print(len(data))"
   ]
  },
  {
   "cell_type": "code",
   "execution_count": null,
   "id": "db57d3d2-2803-4a23-a9f9-1a867f35d07a",
   "metadata": {
    "execution": {
     "iopub.execute_input": "2024-11-22T10:33:58.231118Z",
     "iopub.status.busy": "2024-11-22T10:33:58.230427Z",
     "iopub.status.idle": "2024-11-22T10:33:58.238958Z",
     "shell.execute_reply": "2024-11-22T10:33:58.237594Z",
     "shell.execute_reply.started": "2024-11-22T10:33:58.231072Z"
    }
   },
   "outputs": [],
   "source": [
    "def extract_json(text):\n",
    "    # 使用正则表达式匹配并提取 JSON 数据（假设 JSON 数据用 `{` 开头和 `}` 结尾）\n",
    "    json_data = re.search(r'\\[.*\\]', text, re.DOTALL)\n",
    "\n",
    "    # 检查是否找到匹配的 JSON 数据\n",
    "    if json_data:\n",
    "        json_string = json_data.group(0)\n",
    "\n",
    "        # 将 JSON 数据解析为字典\n",
    "        data = json.loads(json_string)\n",
    "        return data\n",
    "    else:\n",
    "        print(\"未找到 JSON 数据。\")"
   ]
  },
  {
   "cell_type": "code",
   "execution_count": null,
   "id": "298ec0d8-414a-4a24-a1aa-ad99904c3fb9",
   "metadata": {
    "execution": {
     "iopub.execute_input": "2024-11-22T10:17:31.062032Z",
     "iopub.status.busy": "2024-11-22T10:17:31.061194Z",
     "iopub.status.idle": "2024-11-22T10:17:31.069541Z",
     "shell.execute_reply": "2024-11-22T10:17:31.068371Z",
     "shell.execute_reply.started": "2024-11-22T10:17:31.061969Z"
    },
    "scrolled": true
   },
   "outputs": [],
   "source": [
    "print(extract_json(data[0]))"
   ]
  },
  {
   "cell_type": "markdown",
   "id": "ee8257d6-5c00-48a6-8089-b959a28e9892",
   "metadata": {},
   "source": [
    "## 使用api转化自然语言"
   ]
  },
  {
   "cell_type": "code",
   "execution_count": null,
   "id": "78d9b509-a3d5-4910-8845-978dcdd02213",
   "metadata": {
    "execution": {
     "iopub.execute_input": "2024-12-04T03:57:11.127346Z",
     "iopub.status.busy": "2024-12-04T03:57:11.126192Z",
     "iopub.status.idle": "2024-12-04T03:57:11.137803Z",
     "shell.execute_reply": "2024-12-04T03:57:11.136845Z",
     "shell.execute_reply.started": "2024-12-04T03:57:11.127283Z"
    }
   },
   "outputs": [],
   "source": [
    "def call_api_with_rate_limit_handling(client, messages, model=\"moonshot-v1-32k\", max_retries=5):\n",
    "    retries = 0\n",
    "    while retries < max_retries:\n",
    "        try:\n",
    "            completion = client.chat.completions.create(\n",
    "                model=model,\n",
    "                messages=messages,\n",
    "                temperature=0,\n",
    "            )\n",
    "            return completion\n",
    "        except Exception as e:\n",
    "            if '429' in str(e):  # 检查异常消息中是否包含429\n",
    "                print(\"Rate limit reached. Retrying in 1 second...\")\n",
    "                time.sleep(1)  # 等待1秒钟\n",
    "                retries += 1\n",
    "            else:\n",
    "                raise  # Re-raise the exception if it's not a 429 error\n",
    "    raise Exception(\"Max retries reached. API call failed.\")"
   ]
  },
  {
   "cell_type": "code",
   "execution_count": null,
   "id": "8c77761e-c04e-45a6-90aa-acae8282baba",
   "metadata": {
    "execution": {
     "iopub.execute_input": "2024-12-04T04:05:43.067477Z",
     "iopub.status.busy": "2024-12-04T04:05:43.066549Z",
     "iopub.status.idle": "2024-12-04T04:05:43.073658Z",
     "shell.execute_reply": "2024-12-04T04:05:43.072319Z",
     "shell.execute_reply.started": "2024-12-04T04:05:43.067414Z"
    }
   },
   "outputs": [],
   "source": [
    "nl = []"
   ]
  },
  {
   "cell_type": "code",
   "execution_count": null,
   "id": "dcb41e1a-ed8e-4ecf-a166-17018279de66",
   "metadata": {
    "execution": {
     "iopub.execute_input": "2024-12-04T04:05:46.065747Z",
     "iopub.status.busy": "2024-12-04T04:05:46.064861Z",
     "iopub.status.idle": "2024-12-04T06:53:27.348224Z",
     "shell.execute_reply": "2024-12-04T06:53:27.346276Z",
     "shell.execute_reply.started": "2024-12-04T04:05:46.065682Z"
    },
    "scrolled": true
   },
   "outputs": [],
   "source": [
    "for dicts in tqdm(data, desc='rule转化逻辑表达式进度'):\n",
    "    # 替换内容\n",
    "    # 使用正则表达式替换 [[RULES]]\n",
    "    # content = re.sub(r'\\[\\[RULES\\]\\]', instance, file_content)\n",
    "    # print(content)\n",
    "\n",
    "    # 使用replace\n",
    "    content = file_content.replace(\"[[RULES]]\", dicts)\n",
    "\n",
    "    messages = [\n",
    "        {\n",
    "            \"role\": \"system\",\n",
    "            \"content\": \"你是 Kimi，由 Moonshot AI 提供的人工智能助手，你更擅长中文和英文的对话。你会为用户提供安全，有帮助，准确的回答。同时，你会拒绝一切涉及恐怖主义，种族歧视，黄色暴力等问题的回答。Moonshot AI 为专有名词，不可翻译成其他语言。请将内容输出为可解析的json格式。\"\n",
    "        },\n",
    "        {\n",
    "            \"role\": \"system\",\n",
    "            \"content\": content,\n",
    "        },\n",
    "        {\n",
    "            \"role\": \"user\",\n",
    "            \"content\": \"你好，请根据txt内容生成回答。\"\n",
    "        }\n",
    "    ]\n",
    "\n",
    "    completion = call_api_with_rate_limit_handling(client, messages, \"moonshot-v1-32k\", 5)\n",
    "\n",
    "    nl.append(completion.choices[0].message.content)"
   ]
  },
  {
   "cell_type": "code",
   "execution_count": null,
   "id": "c6f70075-27be-43bb-878f-4b8087838c02",
   "metadata": {
    "execution": {
     "iopub.execute_input": "2024-12-04T06:55:08.866921Z",
     "iopub.status.busy": "2024-12-04T06:55:08.866138Z",
     "iopub.status.idle": "2024-12-04T06:55:08.873836Z",
     "shell.execute_reply": "2024-12-04T06:55:08.872556Z",
     "shell.execute_reply.started": "2024-12-04T06:55:08.866868Z"
    },
    "scrolled": true
   },
   "outputs": [],
   "source": [
    "print(nl[0])"
   ]
  },
  {
   "cell_type": "code",
   "execution_count": null,
   "id": "35cb0e6a-7b4f-4a10-84d1-14a43e572647",
   "metadata": {
    "execution": {
     "iopub.execute_input": "2024-12-04T06:54:44.869957Z",
     "iopub.status.busy": "2024-12-04T06:54:44.869005Z",
     "iopub.status.idle": "2024-12-04T06:54:44.885123Z",
     "shell.execute_reply": "2024-12-04T06:54:44.884619Z",
     "shell.execute_reply.started": "2024-12-04T06:54:44.869892Z"
    }
   },
   "outputs": [],
   "source": [
    "with open('data/DF/instance_nl_v1.json', 'w', encoding='utf-8') as f:\n",
    "    json.dump(nl, f, ensure_ascii=False, indent=4)"
   ]
  },
  {
   "cell_type": "code",
   "execution_count": null,
   "id": "03ec33b8-e48f-4852-9878-ead3ccb12ac0",
   "metadata": {},
   "outputs": [],
   "source": []
  },
  {
   "cell_type": "markdown",
   "id": "09afb85b",
   "metadata": {},
   "source": [
    "# 使用缓存"
   ]
  },
  {
   "cell_type": "code",
   "execution_count": 1,
   "id": "83dac99d",
   "metadata": {},
   "outputs": [],
   "source": [
    "from typing import List\n",
    "from typing import Optional\n",
    "from typing import Dict\n",
    "\n",
    "import os\n",
    "import json\n",
    "import jsonlines\n",
    "from pathlib import Path\n",
    "\n",
    "import httpx\n",
    "from openai import OpenAI\n",
    "\n",
    "import requests\n",
    "\n",
    "import time\n",
    "import re\n",
    "from tqdm import tqdm"
   ]
  },
  {
   "cell_type": "code",
   "execution_count": 2,
   "id": "3474b711",
   "metadata": {},
   "outputs": [
    {
     "name": "stdout",
     "output_type": "stream",
     "text": [
      "{'id': 'cache-ezijs7moc6di11gdge8i', 'object': 'cache_object', 'model': 'moonshot-v1', 'messages': [{'role': 'system', 'content': '任务描述：你将被给予一个列表，列表每个元素是一条 JSON 格式的数据，包含：1. 谓词的描述和谓词的具体取值（instance_predicates）；2. 将这些具体取值的谓词代入逻辑表达式得到的表达式（instance_logicexpression）。你的任务是将实例化的逻辑表达式，转化为自然语言的形式。\\n------\\n下面是一个例子：\\n```json\\n[\\n    {\\n        \"instance_predicates\": [\\n            \"s=“化工厂” — 表示事故场景在化工厂\",\\n            \"i=“张三” — 表示安全监察专员为张三\",\\n            \"r=“化工事故应急处理规定” — 表示领导发出的指示和相关规定\"\\n        ],\\n        \"instance_logicexpression\": [\\n            \"∀s∀i∀r\\xa0(Accident(“化工厂”)∧Instruction(Leader,\\xa0“化工事故应急处理规定”)→(GoTo(“张三”,\\xa0“化工厂”)∧Participate(“张三”,\\xa0“化工厂”,\\xa0“应急救援”)∧Participate(“张三”,\\xa0“化工厂”,\\xa0“调查”)))\"\\n        ]\\n    },\\n    {\\n        \"instance_predicates\": [\\n            \"s=“矿井” — 表示事故场景在矿井\",\\n            \"i=“李四” — 表示安全监察专员为李四\",\\n            \"r=“矿山安全生产规章” — 表示领导发出的指示和相关规定\"\\n        ],\\n        \"instance_logicexpression\": [\\n            \"∀s∀i∀r\\xa0(Accident(“矿井”)∧Instruction(Leader,\\xa0“矿山安全生产规章”)→(GoTo(“李四”,\\xa0“矿井”)∧Participate(“李四”,\\xa0“矿井”,\\xa0“应急救援”)∧Participate(“李四”,\\xa0“矿井”,\\xa0“调查”)))\"\\n        ]\\n    },\\n    {\\n        \"instance_predicates\": [\\n            \"s=“港口” — 表示事故场景在港口\",\\n            \"i=“王五” — 表示安全监察专员为王五\",\\n            \"r=“港口作业安全管理条例” — 表示领导发出的指示和相关规定\"\\n        ],\\n        \"instance_logicexpression\": [\\n            \"∀s∀i∀r\\xa0(Accident(“港口”)∧Instruction(Leader,\\xa0“港口作业安全管理条例”)→(GoTo(“王五”,\\xa0“港口”)∧Participate(“王五”,\\xa0“港口”,\\xa0“应急救援”)∧Participate(“王五”,\\xa0“港口”,\\xa0“调查”)))\"\\n        ]\\n    },\\n    {\\n        \"instance_predicates\": [\\n            \"s=“建筑工地” — 表示事故场景在建筑工地\",\\n            \"i=“赵六” — 表示安全监察专员为赵六\",\\n            \"r=“建筑施工安全规章” — 表示领导发出的指示和相关规定\"\\n        ],\\n        \"instance_logicexpression\": [\\n            \"∀s∀i∀r\\xa0(Accident(“建筑工地”)∧Instruction(Leader,\\xa0“建筑施工安全规章”)→(GoTo(“赵六”,\\xa0“建筑工地”)∧Participate(“赵六”,\\xa0“建筑工地”,\\xa0“应急救援”)∧Participate(“赵六”,\\xa0“建筑工地”,\\xa0“调查”)))\"\\n        ]\\n    },\\n]\\n```\\n###\\n翻译的自然语言输出如下：\\n[\\n    \"在化工厂发生了事故。根据“化工事故应急处理规定”，领导发出了指示。安全监察专员张三接到指令，立即赶赴化工厂，参与现场的应急救援工作和事故调查。\",\\n    \"矿井发生了一起事故。依据“矿山安全生产规章”，领导做出指示。安全监察专员李四接到指令后，前往矿井现场参与应急救援，并对事故进行调查。\"，\\n    \"港口发生了安全事故。根据“港口作业安全管理条例”，领导发出指示，要求派出监察专员。王五作为安全监察专员，赶赴港口，参与应急救援，并协助事故调查工作。\",\\n    \"在建筑工地发生了事故。按照“建筑施工安全规章”中的指示，领导决定派人前往事故现场。安全监察专员赵六接到指令后，迅速前往建筑工地，参与应急救援并进行事故调查。\"\\n]\\n------\\n下面是一个例子：\\n```json\\n[\\n    {\\n        \"instance_predicates\": [\\n            \"p=“张三” — 张三为本地获救人员\",\\n            \"部门：民政部门\"\\n        ],\\n        \"instance_logicexpression\": [\\n            \"获救人员(张三)→(¬港澳台或外籍人员(张三)→ResponsibleForSettlement(民政部门,\\xa0张三))\"\\n        ]\\n    },\\n    {\\n        \"instance_predicates\": [\\n            \"p=“李四” — 李四为港澳台人员\",\\n            \"部门：港澳台办\"\\n        ],\\n        \"instance_logicexpression\": [\\n            \"港澳台或外籍人员(李四,\\xa0港澳台)→ResponsibleForSettlement(港澳台办,\\xa0李四)\"\\n        ]\\n    },\\n    {\\n        \"instance_predicates\": [\\n            \"p=“John\\xa0Smith” — John Smith为外籍获救人员\",\\n            \"部门：外交部门\"\\n        ],\\n        \"instance_logicexpression\": [\\n            \"港澳台或外籍人员(John\\xa0Smith,\\xa0外籍)→Deport(John\\xa0Smith,\\xa0外交部门)\"\\n        ]\\n    },\\n    {\\n        \"instance_predicates\": [\\n            \"p=“小王” — 小王为本地获救人员，工作单位负责安置\",\\n            \"部门：所在单位\"\\n        ],\\n        \"instance_logicexpression\": [\\n            \"获救人员(小王)→(¬港澳台或外籍人员(小王)→ResponsibleForSettlement(所在单位,\\xa0小王))\"\\n        ]\\n    },\\n    {\\n        \"instance_predicates\": [\\n            \"p=“Maria” — Maria为外籍获救人员\",\\n            \"部门：公安部门\"\\n        ],\\n        \"instance_logicexpression\": [\\n            \"港澳台或外籍人员(Maria,\\xa0外籍)→Deport(Maria,\\xa0公安部门)\"\\n        ]\\n    },\\n]\\n```\\n###\\n翻译的自然语言输出如下：\\n[\\n    \"如果张三是获救人员，并且他不是港澳台或外籍人员，那么民政部门负责安置张三。\",\\n    \"如果李四是港澳台人员，那么港澳台办负责安置李四。\",\\n    \"如果 John Smith 是外籍人员，那么外交部门负责遣返他。\",\\n    \"如果小王是获救人员，并且他不是港澳台或外籍人员，那么他所在的单位负责安置小王。\",\\n    \"如果 Maria 是外籍人员，那么公安部门负责遣返她。\"\\n]\\n------\\n下面就是你需要进行逻辑表达式向自然语言翻译的：\\n谓词与逻辑表达式：\\n[[RULES]]\\n###'}], 'name': 'example_cache', 'description': '', 'metadata': None, 'expired_at': 1742809766, 'status': 'pending', 'tokens': 1537, 'created_at': 1742806166, 'updated_at': 1742806166}\n"
     ]
    }
   ],
   "source": [
    "# 你的API密钥\n",
    "api_key = \"sk-gNToXJPO4Ih8NDZnDloSXR780dQDEZ2Epu49wcVA1sWb4Ecw\"\n",
    "\n",
    "# 读取文本文件内容\n",
    "with open('prompts/DataFountain/nl.txt', 'r', encoding='utf-8') as file:\n",
    "    file_content = file.read()\n",
    "\n",
    "# 创建缓存的请求数据\n",
    "data = {\n",
    "    \"model\": \"moonshot-v1\",\n",
    "    \"messages\": [\n",
    "        {\n",
    "            \"role\": \"system\",\n",
    "            \"content\": file_content\n",
    "        }\n",
    "    ],\n",
    "    \"name\": \"example_cache\",\n",
    "    \"ttl\": 3600  # 缓存有效期，单位为秒\n",
    "}\n",
    "\n",
    "# 发送POST请求创建缓存\n",
    "response = requests.post(\n",
    "    url=\"https://api.moonshot.cn/v1/caching\",\n",
    "    headers={\n",
    "        \"Authorization\": f\"Bearer {api_key}\",\n",
    "        \"Content-Type\": \"application/json\"\n",
    "    },\n",
    "    json=data\n",
    ")\n",
    "\n",
    "# 打印响应内容\n",
    "print(json.loads(response.text))"
   ]
  },
  {
   "cell_type": "code",
   "execution_count": 3,
   "id": "1228cb11",
   "metadata": {},
   "outputs": [],
   "source": [
    "# 读取文本文件内容\n",
    "def load_file_content(file_path):\n",
    "    with open(file_path, 'r', encoding='utf-8') as file:\n",
    "        return file.read()\n",
    "\n",
    "\n",
    "# 创建缓存\n",
    "def create_cache(file_content):\n",
    "    data = {\n",
    "        \"model\": \"moonshot-v1\",\n",
    "        \"messages\": [\n",
    "            {\n",
    "                \"role\": \"system\",\n",
    "                \"content\": file_content\n",
    "            }\n",
    "        ],\n",
    "        \"name\": \"example_cache\",\n",
    "        \"ttl\": 3600  # 缓存有效期，单位为秒\n",
    "    }\n",
    "    response = requests.post(\n",
    "        url=\"https://api.moonshot.cn/v1/caching\",\n",
    "        headers={\n",
    "            \"Authorization\": f\"Bearer {api_key}\",\n",
    "            \"Content-Type\": \"application/json\"\n",
    "        },\n",
    "        json=data\n",
    "    )\n",
    "    cache_response = json.loads(response.text)\n",
    "    return cache_response['id']\n",
    "\n",
    "\n",
    "# 检查缓存是否存在且未过期\n",
    "def check_cache(cache_id):\n",
    "    response = requests.get(\n",
    "        url=f\"https://api.moonshot.cn/v1/caching/{cache_id}\",\n",
    "        headers={\n",
    "            \"Authorization\": f\"Bearer {api_key}\"\n",
    "        }\n",
    "    )\n",
    "    if response.status_code == 200:\n",
    "        return True\n",
    "    return False\n",
    "\n",
    "\n",
    "# 重新加载数据并更新缓存\n",
    "def reload_and_update_cache(file_path, cache_id):\n",
    "    new_file_content = load_file_content(file_path)\n",
    "    data = {\n",
    "        \"model\": \"moonshot-v1\",\n",
    "        \"messages\": [\n",
    "            {\n",
    "                \"role\": \"system\",\n",
    "                \"content\": new_file_content\n",
    "            }\n",
    "        ],\n",
    "        \"name\": \"example_cache\",\n",
    "        \"ttl\": 3600  # 缓存有效期，单位为秒\n",
    "    }\n",
    "    response = requests.put(\n",
    "        url=f\"https://api.moonshot.cn/v1/caching/{cache_id}\",\n",
    "        headers={\n",
    "            \"Authorization\": f\"Bearer {api_key}\",\n",
    "            \"Content-Type\": \"application/json\"\n",
    "        },\n",
    "        json=data\n",
    "    )\n",
    "    return response.status_code == 200\n",
    "\n",
    "\n",
    "# 使用缓存内容并添加问题\n",
    "def use_cache_with_question(cache_id, question):\n",
    "    data = {\n",
    "        \"model\": \"moonshot-v1-32k\",\n",
    "        \"messages\": [\n",
    "            {\n",
    "                \"role\": \"cache\",\n",
    "                \"content\": f\"cache_id={cache_id};reset_ttl=3600\",\n",
    "            },\n",
    "            {\n",
    "                \"role\": \"user\",\n",
    "                \"content\": question\n",
    "            }\n",
    "        ]\n",
    "    }\n",
    "    response = requests.post(\n",
    "        url=\"https://api.moonshot.cn/v1/chat/completions\",\n",
    "        headers={\n",
    "            \"Authorization\": f\"Bearer {api_key}\",\n",
    "            \"Content-Type\": \"application/json\"\n",
    "        },\n",
    "        json=data\n",
    "    )\n",
    "    return response.json()['choices'][0]['message']['content']"
   ]
  },
  {
   "cell_type": "code",
   "execution_count": 8,
   "id": "70a8cdb7",
   "metadata": {},
   "outputs": [
    {
     "name": "stdout",
     "output_type": "stream",
     "text": [
      "Fileprompts/DataFountain/nl.txt success read\n",
      "cache id:cache-ezijuidoc6di11gdgfki\n",
      "cache cuccess\n",
      "缓存已存在\n"
     ]
    },
    {
     "name": "stderr",
     "output_type": "stream",
     "text": [
      "Processing: 100%|██████████| 2/2 [00:12<00:00,  6.10s/it]\n"
     ]
    }
   ],
   "source": [
    "# 主流程\n",
    "file_path = 'prompts/DataFountain/nl.txt'\n",
    "file_content = load_file_content(file_path)\n",
    "print(f\"File{file_path} success read\")\n",
    "cache_id = create_cache(file_content)\n",
    "print(f\"cache id:{cache_id}\")\n",
    "print(\"cache cuccess\")\n",
    "\n",
    "# # 模拟缓存过期\n",
    "# time.sleep(3600)\n",
    "\n",
    "# 检查缓存是否存在且未过期\n",
    "if not check_cache(cache_id):\n",
    "    print(\"检查不到缓存\")\n",
    "    # 重新加载数据并更新缓存\n",
    "    if reload_and_update_cache(file_path, cache_id):\n",
    "        print(\"缓存更新成功\")\n",
    "    else:\n",
    "        print(\"缓存更新失败\")\n",
    "\n",
    "print(\"缓存已存在\")\n",
    "\n",
    "# with open('data/法律/law_logic2predicates_v4.json', 'r', encoding='utf-8') as file:\n",
    "#     answer = json.load(file)\n",
    "with open('data/法律/law_logic2predicates_v5.jsonl', 'r', encoding='utf-8') as file:\n",
    "    # 逐行读取\n",
    "    answer = []\n",
    "    for line in file:\n",
    "        # 去掉行尾的换行符\n",
    "        line = line.strip()\n",
    "        # 解析 JSON 数据\n",
    "        line = json.loads(line)\n",
    "        answer.append(line)\n",
    "        \n",
    "\n",
    "for idx, value in tqdm(enumerate(answer), total=len(answer), desc=\"Processing\"):\n",
    "    context = value['predicates']\n",
    "    # 使用缓存内容并添加问题\n",
    "    question = f\"请回答关于文件内容的问题，其中[[CONTEXT]]代表的数据为{context}\"\n",
    "    response = use_cache_with_question(cache_id, question)\n",
    "    judgement = {\n",
    "        \"id\": value[\"id\"],\n",
    "        \"number\": value['number'],\n",
    "        \"judgement\": value['judgement'],\n",
    "        \"predicates\": value['predicates'],\n",
    "        \"natural_language\": response\n",
    "    }\n",
    "    # 打开文件以进行写入，如果文件不存在，会创建文件\n",
    "    with jsonlines.open('data/法律/law_predicates2nl_v2.jsonl', mode='a') as writer:\n",
    "        writer.write(judgement)\n"
   ]
  }
 ],
 "metadata": {
  "kernelspec": {
   "display_name": "Python 3",
   "language": "python",
   "name": "python3"
  },
  "language_info": {
   "codemirror_mode": {
    "name": "ipython",
    "version": 3
   },
   "file_extension": ".py",
   "mimetype": "text/x-python",
   "name": "python",
   "nbconvert_exporter": "python",
   "pygments_lexer": "ipython3",
   "version": "3.10.11"
  }
 },
 "nbformat": 4,
 "nbformat_minor": 5
}
