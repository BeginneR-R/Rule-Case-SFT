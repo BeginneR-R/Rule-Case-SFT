{
 "cells": [
  {
   "cell_type": "markdown",
   "id": "be83e740-1274-468c-8958-06799194b8db",
   "metadata": {},
   "source": [
    "# 将nl转化为指令微调的格式"
   ]
  },
  {
   "cell_type": "code",
   "execution_count": 1,
   "id": "806d9bcf-0ed9-4e09-a271-82bfea96b221",
   "metadata": {
    "execution": {
     "iopub.execute_input": "2024-12-11T09:01:14.226280Z",
     "iopub.status.busy": "2024-12-11T09:01:14.225692Z",
     "iopub.status.idle": "2024-12-11T09:01:14.686616Z",
     "shell.execute_reply": "2024-12-11T09:01:14.685118Z",
     "shell.execute_reply.started": "2024-12-11T09:01:14.226237Z"
    }
   },
   "outputs": [],
   "source": [
    "from typing import List\n",
    "from typing import Optional\n",
    "from typing import Dict\n",
    "\n",
    "import os\n",
    "import json\n",
    "from pathlib import Path\n",
    "\n",
    "import httpx\n",
    "from openai import OpenAI\n",
    "\n",
    "import requests\n",
    "\n",
    "import time\n",
    "from tqdm import tqdm\n",
    "import re"
   ]
  },
  {
   "cell_type": "code",
   "execution_count": 2,
   "id": "b3850a23-fdbe-4a12-8861-608a96b2d81c",
   "metadata": {
    "execution": {
     "iopub.execute_input": "2024-12-11T09:01:16.194471Z",
     "iopub.status.busy": "2024-12-11T09:01:16.193628Z",
     "iopub.status.idle": "2024-12-11T09:01:16.949713Z",
     "shell.execute_reply": "2024-12-11T09:01:16.948538Z",
     "shell.execute_reply.started": "2024-12-11T09:01:16.194400Z"
    }
   },
   "outputs": [
    {
     "name": "stdout",
     "output_type": "stream",
     "text": [
      "200\n",
      "{\"id\":\"ctcl9n3jfih8i2n6966g\",\"object\":\"file\",\"bytes\":3641,\"created_at\":1733907676,\"filename\":\"instruction.txt\",\"purpose\":\"file-extract\",\"status\":\"ok\",\"status_details\":\"\"}\n"
     ]
    }
   ],
   "source": [
    "# 文件路径\n",
    "file_path = \"prompts/DataFountain/instruction.txt\"\n",
    "\n",
    "# 请求的 URL\n",
    "url = \"https://api.moonshot.cn/v1/files\"\n",
    "\n",
    "headers = {\n",
    "    'Authorization': 'sk-gNToXJPO4Ih8NDZnDloSXR780dQDEZ2Epu49wcVA1sWb4Ecw'\n",
    "}\n",
    "\n",
    "# 准备文件数据\n",
    "files = {'file': open(file_path, 'rb')}\n",
    "\n",
    "# 发起 POST 请求\n",
    "response = requests.post(url, headers=headers, files=files)\n",
    "\n",
    "# 打印响应内容\n",
    "print(response.status_code)\n",
    "print(response.text)"
   ]
  },
  {
   "cell_type": "code",
   "execution_count": 3,
   "id": "e715132a-15b8-42f5-83b8-65387290031e",
   "metadata": {
    "execution": {
     "iopub.execute_input": "2024-12-11T09:01:21.680671Z",
     "iopub.status.busy": "2024-12-11T09:01:21.679918Z",
     "iopub.status.idle": "2024-12-11T09:01:22.858181Z",
     "shell.execute_reply": "2024-12-11T09:01:22.857116Z",
     "shell.execute_reply.started": "2024-12-11T09:01:21.680627Z"
    }
   },
   "outputs": [],
   "source": [
    "client = OpenAI(\n",
    "    api_key=\"sk-gNToXJPO4Ih8NDZnDloSXR780dQDEZ2Epu49wcVA1sWb4Ecw\",\n",
    "    base_url=\"https://api.moonshot.cn/v1\",\n",
    ")\n",
    "\n",
    "file_object = client.files.create(file=Path(\"prompts/DataFountain/instruction.txt\"), purpose=\"file-extract\")\n",
    "file_content = client.files.content(file_id=file_object.id).text"
   ]
  },
  {
   "cell_type": "markdown",
   "id": "dd70fc98-fa42-4543-8c86-c6162dd98d07",
   "metadata": {},
   "source": [
    "## 读取自然语言数据"
   ]
  },
  {
   "cell_type": "code",
   "execution_count": 4,
   "id": "cd3944f4-123e-4412-a251-239e444bb083",
   "metadata": {
    "execution": {
     "iopub.execute_input": "2024-12-11T09:01:25.258220Z",
     "iopub.status.busy": "2024-12-11T09:01:25.257417Z",
     "iopub.status.idle": "2024-12-11T09:01:25.278177Z",
     "shell.execute_reply": "2024-12-11T09:01:25.277553Z",
     "shell.execute_reply.started": "2024-12-11T09:01:25.258162Z"
    }
   },
   "outputs": [],
   "source": [
    "with open('data/DF/instruction_v1.json', 'r', encoding='utf-8') as f:\n",
    "    nl_data = json.load(f)"
   ]
  },
  {
   "cell_type": "code",
   "execution_count": 5,
   "id": "53cef5bb-abef-4eb2-9ffd-0ef85454b747",
   "metadata": {
    "execution": {
     "iopub.execute_input": "2024-12-11T09:01:26.112101Z",
     "iopub.status.busy": "2024-12-11T09:01:26.111267Z",
     "iopub.status.idle": "2024-12-11T09:01:26.118925Z",
     "shell.execute_reply": "2024-12-11T09:01:26.118073Z",
     "shell.execute_reply.started": "2024-12-11T09:01:26.112038Z"
    }
   },
   "outputs": [
    {
     "name": "stdout",
     "output_type": "stream",
     "text": [
      "{'rule_id': 0, 'nl_rule_pair': [{'rule': '危险化学品事故是指危险化学品生产、经营、储存、运输、使用和废弃危险化学品处置等过程中由危险化学品造成人员伤害、财产损失和环境污染的事故（矿山开采过程中发生的有毒、有害气体中毒、爆炸事故、放炮事故除外）。', 'natural_language': '如果工厂发生了爆炸事件，并且涉及的是易燃化学品，那么这个事件会导致人员伤害、财产损失和环境污染。同时，这个事件与生产、操作、储存、运输、使用或处置易燃化学品有关，并且不是矿井事故、有毒气体中毒、爆炸事故或爆破事故。'}, {'rule': '危险化学品事故是指危险化学品生产、经营、储存、运输、使用和废弃危险化学品处置等过程中由危险化学品造成人员伤害、财产损失和环境污染的事故（矿山开采过程中发生的有毒、有害气体中毒、爆炸事故、放炮事故除外）。', 'natural_language': '如果化工厂发生了化学品泄漏事件，并且涉及的是有毒化学品，那么这个事件会导致人员伤害、财产损失和环境污染。同时，这个事件与生产、操作、储存、运输、使用或处置有毒化学品有关，并且不是矿井事故、有毒气体中毒、爆炸事故或爆破事故。'}, {'rule': '危险化学品事故是指危险化学品生产、经营、储存、运输、使用和废弃危险化学品处置等过程中由危险化学品造成人员伤害、财产损失和环境污染的事故（矿山开采过程中发生的有毒、有害气体中毒、爆炸事故、放炮事故除外）。', 'natural_language': '如果在运输途中发生了化学品泄漏事件，并且涉及的是腐蚀性化学品，那么这个事件会导致人员伤害、财产损失和环境污染。同时，这个事件与生产、操作、储存、运输、使用或处置腐蚀性化学品有关，并且不是矿井事故、有毒气体中毒、爆炸事故或爆破事故。'}, {'rule': '危险化学品事故是指危险化学品生产、经营、储存、运输、使用和废弃危险化学品处置等过程中由危险化学品造成人员伤害、财产损失和环境污染的事故（矿山开采过程中发生的有毒、有害气体中毒、爆炸事故、放炮事故除外）。', 'natural_language': '如果实验室发生了化学品爆炸事件，并且涉及的是实验用化学品，那么这个事件会导致人员伤害、财产损失和环境污染。同时，这个事件与生产、操作、储存、运输、使用或处置实验用化学品有关，并且不是矿井事故、有毒气体中毒、爆炸事故或爆破事故。'}]}\n"
     ]
    }
   ],
   "source": [
    "print(nl_data[0])"
   ]
  },
  {
   "cell_type": "code",
   "execution_count": 6,
   "id": "0cfaf53c-cda0-48ad-b1cc-8db557b13932",
   "metadata": {
    "execution": {
     "iopub.execute_input": "2024-12-11T09:01:32.346366Z",
     "iopub.status.busy": "2024-12-11T09:01:32.345547Z",
     "iopub.status.idle": "2024-12-11T09:01:32.357012Z",
     "shell.execute_reply": "2024-12-11T09:01:32.355657Z",
     "shell.execute_reply.started": "2024-12-11T09:01:32.346313Z"
    }
   },
   "outputs": [
    {
     "name": "stdout",
     "output_type": "stream",
     "text": [
      "```json\n",
      "{\n",
      "    \"rule\": \"机关服务中心的职责：负责安全监管总局事故应急处置过程中的后勤保障工作。\",\n",
      "    \"natural_language\": \"在事故应急处置过程中，如果任务是事故现场安全检查，那么将提供后勤支持，并且机关服务中心负责这项任务。\"\n",
      "}\n",
      "```\n"
     ]
    }
   ],
   "source": [
    "i = 0\n",
    "\n",
    "\n",
    "def wrap_with_quotes(inputs):\n",
    "    # Convert the item to a JSON-formatted string\n",
    "    json_content = json.dumps(inputs, ensure_ascii=False, indent=4)\n",
    "    # Wrap the content with triple quotes\n",
    "    result = f'```json\\n{json_content}\\n```'\n",
    "    return result\n",
    "\n",
    "\n",
    "# Example input: a list of dictionaries\n",
    "input_data = [\n",
    "    {\n",
    "        \"rule\": \"机关服务中心的职责：负责安全监管总局事故应急处置过程中的后勤保障工作。\",\n",
    "        \"natural_language\": \"在事故应急处置过程中，如果任务是事故现场安全检查，那么将提供后勤支持，并且机关服务中心负责这项任务。\"\n",
    "    },\n",
    "    {\n",
    "        \"rule\": \"另一个规则示例：说明某些具体职责。\",\n",
    "        \"natural_language\": \"这是另一个自然语言描述示例。\"\n",
    "    }\n",
    "]\n",
    "\n",
    "# Process the input data\n",
    "wrapped_data = wrap_with_quotes(input_data[0])\n",
    "print(wrapped_data)"
   ]
  },
  {
   "cell_type": "markdown",
   "id": "1bb1630f-6475-439a-b431-c1a63bcf2da9",
   "metadata": {},
   "source": [
    "## 调用api函数"
   ]
  },
  {
   "cell_type": "code",
   "execution_count": 7,
   "id": "12f7cb0b-1ace-49b2-b5c6-49da8b424682",
   "metadata": {
    "execution": {
     "iopub.execute_input": "2024-12-11T09:01:37.093725Z",
     "iopub.status.busy": "2024-12-11T09:01:37.092873Z",
     "iopub.status.idle": "2024-12-11T09:01:37.117034Z",
     "shell.execute_reply": "2024-12-11T09:01:37.115477Z",
     "shell.execute_reply.started": "2024-12-11T09:01:37.093662Z"
    }
   },
   "outputs": [],
   "source": [
    "def call_api_with_rate_limit_handling(client, messages, model=\"moonshot-v1-32k\", max_retries=5):\n",
    "    retries = 0\n",
    "    while retries < max_retries:\n",
    "        try:\n",
    "            completion = client.chat.completions.create(\n",
    "                model=model,\n",
    "                messages=messages,\n",
    "                temperature=0,\n",
    "            )\n",
    "            return completion\n",
    "        except Exception as e:\n",
    "            if '429' in str(e):  # 检查异常消息中是否包含429\n",
    "                print(\"Rate limit reached. Retrying in 1 second...\")\n",
    "                time.sleep(1)  # 等待1秒钟\n",
    "                retries += 1\n",
    "            else:\n",
    "                raise  # Re-raise the exception if it's not a 429 error\n",
    "    raise Exception(\"Max retries reached. API call failed.\")"
   ]
  },
  {
   "cell_type": "markdown",
   "id": "73a52592-cff8-41ff-a8d0-ca1763bade1a",
   "metadata": {},
   "source": [
    "## 调用api"
   ]
  },
  {
   "cell_type": "code",
   "execution_count": 8,
   "id": "0730cc87-3794-4add-ac78-c408699db8d3",
   "metadata": {
    "execution": {
     "iopub.execute_input": "2024-12-11T09:01:40.423812Z",
     "iopub.status.busy": "2024-12-11T09:01:40.422925Z",
     "iopub.status.idle": "2024-12-11T16:48:38.832298Z",
     "shell.execute_reply": "2024-12-11T16:48:38.830767Z",
     "shell.execute_reply.started": "2024-12-11T09:01:40.423752Z"
    },
    "scrolled": true
   },
   "outputs": [
    {
     "name": "stderr",
     "output_type": "stream",
     "text": [
      "Processing: 100%|██████████| 800/800 [7:46:58<00:00, 35.02s/it]    \n"
     ]
    }
   ],
   "source": [
    "answer = []\n",
    "for data in tqdm(nl_data, desc=\"Processing\"):\n",
    "    dicts = {\n",
    "        \"rule_id\": data[\"rule_id\"],\n",
    "        \"io_pair\": []\n",
    "    }\n",
    "    for pair in data[\"nl_rule_pair\"]:\n",
    "        wrapped_data = wrap_with_quotes(pair)\n",
    "        # 替换内容\n",
    "        replacement = wrapped_data\n",
    "\n",
    "        # 使用正则表达式替换 [[RULES]]\n",
    "        content = re.sub(r'\\[\\[RULES\\]\\]', replacement, file_content)\n",
    "\n",
    "        messages = [\n",
    "            {\n",
    "                \"role\": \"system\",\n",
    "                \"content\": \"你是 Kimi，由 Moonshot AI 提供的人工智能助手，你更擅长中文和英文的对话。你会为用户提供安全，有帮助，准确的回答。同时，你会拒绝一切涉及恐怖主义，种族歧视，黄色暴力等问题的回答。Moonshot AI 为专有名词，不可翻译成其他语言。请将内容输出为可解析的json格式。\"\n",
    "            },\n",
    "            {\n",
    "                \"role\": \"system\",\n",
    "                \"content\": content,\n",
    "            },\n",
    "            {\n",
    "                \"role\": \"user\",\n",
    "                \"content\": \"你好，请根据txt内容生成回答。\"\n",
    "            }\n",
    "        ]\n",
    "\n",
    "        completion = call_api_with_rate_limit_handling(client, messages, \"moonshot-v1-32k\", 5)\n",
    "\n",
    "        dicts[\"io_pair\"].append(completion.choices[0].message.content)\n",
    "    answer.append(dicts)"
   ]
  },
  {
   "cell_type": "code",
   "execution_count": null,
   "id": "c770b737-7b55-4d60-a536-6faa88c664e0",
   "metadata": {
    "execution": {
     "iopub.status.busy": "2024-12-11T09:00:51.298968Z",
     "iopub.status.idle": "2024-12-11T09:00:51.299264Z",
     "shell.execute_reply": "2024-12-11T09:00:51.299137Z",
     "shell.execute_reply.started": "2024-12-11T09:00:51.299124Z"
    }
   },
   "outputs": [],
   "source": [
    "print(answer[0][\"io_pair\"][0])\n",
    "print(len(answer))"
   ]
  },
  {
   "cell_type": "code",
   "execution_count": 9,
   "id": "f1ef5b24-3bd2-40fa-a7e1-cd2d77c8fab9",
   "metadata": {
    "execution": {
     "iopub.execute_input": "2024-12-12T04:22:13.133122Z",
     "iopub.status.busy": "2024-12-12T04:22:13.132225Z",
     "iopub.status.idle": "2024-12-12T04:22:13.163059Z",
     "shell.execute_reply": "2024-12-12T04:22:13.162254Z",
     "shell.execute_reply.started": "2024-12-12T04:22:13.133056Z"
    }
   },
   "outputs": [],
   "source": [
    "with open('data/DF/instruction_transed_v1.json', 'w', encoding='utf-8') as f:\n",
    "    json.dump(answer, f, ensure_ascii=False, indent=4)"
   ]
  }
 ],
 "metadata": {
  "kernelspec": {
   "display_name": "Python 3 (ipykernel)",
   "language": "python",
   "name": "python3"
  },
  "language_info": {
   "codemirror_mode": {
    "name": "ipython",
    "version": 3
   },
   "file_extension": ".py",
   "mimetype": "text/x-python",
   "name": "python",
   "nbconvert_exporter": "python",
   "pygments_lexer": "ipython3",
   "version": "3.10.12"
  }
 },
 "nbformat": 4,
 "nbformat_minor": 5
}
