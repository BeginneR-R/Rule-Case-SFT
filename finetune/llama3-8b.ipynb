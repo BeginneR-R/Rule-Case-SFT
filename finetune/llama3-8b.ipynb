{
 "cells": [
  {
   "cell_type": "markdown",
   "id": "4b56f102-a00a-4277-aa76-99e2237611ac",
   "metadata": {},
   "source": [
    "## instruction语料微调llama3-8b"
   ]
  },
  {
   "cell_type": "code",
   "execution_count": 1,
   "id": "1a5cf039-4b2c-431b-802f-949b075138dc",
   "metadata": {
    "execution": {
     "iopub.execute_input": "2024-12-13T06:50:31.233788Z",
     "iopub.status.busy": "2024-12-13T06:50:31.233572Z",
     "iopub.status.idle": "2024-12-13T06:50:31.240860Z",
     "shell.execute_reply": "2024-12-13T06:50:31.240258Z",
     "shell.execute_reply.started": "2024-12-13T06:50:31.233766Z"
    }
   },
   "outputs": [],
   "source": [
    "import os\n",
    "os.environ[\"CUDA_VISIBLE_DEVICES\"] = \"3\""
   ]
  },
  {
   "cell_type": "markdown",
   "id": "718cd569-4025-47a1-b6cf-2c10c71af5c1",
   "metadata": {
    "jp-MarkdownHeadingCollapsed": true
   },
   "source": [
    "### 之前的微调代码"
   ]
  },
  {
   "cell_type": "code",
   "execution_count": null,
   "id": "64ed66cb-e56f-46ce-a291-b86159ad01d3",
   "metadata": {},
   "outputs": [],
   "source": [
    "import torch\n",
    "from torch import _utils\n",
    "from transformers import (\n",
    "    AutoConfig,\n",
    "    AutoTokenizer,\n",
    "    AutoModelForCausalLM,\n",
    "    GenerationConfig\n",
    ")\n",
    "from peft import PeftModel\n",
    "device = torch.device(\"cuda\" if torch.cuda.is_available() else \"cpu\")\n",
    "model_path = 'meta-llama/Meta-Llama-3-8B'\n",
    "lora_path = 'lora/llama3-8B-iepile-data2text-continue'\n",
    "config = AutoConfig.from_pretrained(model_path, trust_remote_code=True)\n",
    "tokenizer = AutoTokenizer.from_pretrained(model_path, trust_remote_code=True)"
   ]
  },
  {
   "cell_type": "code",
   "execution_count": null,
   "id": "206b3ad3-a60c-466b-9aec-d94eebee9c2b",
   "metadata": {},
   "outputs": [],
   "source": [
    "model = AutoModelForCausalLM.from_pretrained(\n",
    "    model_path,\n",
    "    config=config,\n",
    "    device_map=\"auto\",\n",
    "    torch_dtype=torch.bfloat16,\n",
    "    trust_remote_code=True,\n",
    ")\n",
    "model.eval()"
   ]
  },
  {
   "cell_type": "markdown",
   "id": "3509645e-c2f3-4a97-b43a-b9e4803b729e",
   "metadata": {},
   "source": [
    "### 现在使用的微调代码"
   ]
  },
  {
   "cell_type": "code",
   "execution_count": 2,
   "id": "b29cf09a-5b25-4ee5-a1d6-2d7529c99068",
   "metadata": {
    "execution": {
     "iopub.execute_input": "2024-12-13T06:50:33.886417Z",
     "iopub.status.busy": "2024-12-13T06:50:33.885185Z",
     "iopub.status.idle": "2024-12-13T06:50:41.673520Z",
     "shell.execute_reply": "2024-12-13T06:50:41.672499Z",
     "shell.execute_reply.started": "2024-12-13T06:50:33.886361Z"
    }
   },
   "outputs": [
    {
     "name": "stderr",
     "output_type": "stream",
     "text": [
      "/usr/local/lib/python3.10/dist-packages/tqdm/auto.py:21: TqdmWarning: IProgress not found. Please update jupyter and ipywidgets. See https://ipywidgets.readthedocs.io/en/stable/user_install.html\n",
      "  from .autonotebook import tqdm as notebook_tqdm\n",
      "Loading checkpoint shards: 100%|██████████| 4/4 [00:04<00:00,  1.03s/it]\n"
     ]
    }
   ],
   "source": [
    "import torch\n",
    "from torch import _utils\n",
    "from transformers import (\n",
    "    AutoConfig,\n",
    "    AutoTokenizer,\n",
    "    AutoModelForCausalLM,\n",
    "    GenerationConfig\n",
    ")\n",
    "from peft import PeftModel\n",
    "from peft import get_peft_model, LoraConfig\n",
    "\n",
    "# 加载Llama模型和Tokenizer\n",
    "model_path = \"../model/models--meta-llama--Meta-Llama-3-8B/snapshots/62bd457b6fe961a42a631306577e622c83876cb6\"\n",
    "config = AutoConfig.from_pretrained(model_path, trust_remote_code=True)\n",
    "tokenizer = AutoTokenizer.from_pretrained(model_path, trust_remote_code=True)\n",
    "tokenizer.pad_token = tokenizer.eos_token\n",
    "model = AutoModelForCausalLM.from_pretrained(\n",
    "    model_path,\n",
    "    config=config,\n",
    "    device_map=\"auto\",\n",
    "    torch_dtype=torch.bfloat16,\n",
    "    trust_remote_code=True,\n",
    ")\n",
    "\n",
    "# 配置LoRA微调\n",
    "lora_config = LoraConfig(\n",
    "    r=8,  # LoRA参数，可以根据需要调整\n",
    "    lora_alpha=16,  # LoRA参数，可以根据需要调整\n",
    "    lora_dropout=0.05,  # LoRA参数，可以根据需要调整\n",
    "    bias=\"none\",  # LoRA微调的偏置选项\n",
    "    task_type=\"CAUSAL_LM\"  # 任务类型，通常使用CAUSAL_LM\n",
    ")\n",
    "\n",
    "model = get_peft_model(model, lora_config)"
   ]
  },
  {
   "cell_type": "code",
   "execution_count": 3,
   "id": "e7623782-2584-432f-a9f5-6d485d318e69",
   "metadata": {
    "execution": {
     "iopub.execute_input": "2024-12-13T06:50:45.225873Z",
     "iopub.status.busy": "2024-12-13T06:50:45.224312Z",
     "iopub.status.idle": "2024-12-13T06:50:47.122957Z",
     "shell.execute_reply": "2024-12-13T06:50:47.121888Z",
     "shell.execute_reply.started": "2024-12-13T06:50:45.225807Z"
    }
   },
   "outputs": [],
   "source": [
    "from datasets import Dataset\n",
    "import json\n",
    "\n",
    "with open('../ft_data/train_data_v1.json', 'r', encoding='utf-8') as f:\n",
    "    train_data_raw = json.load(f)\n",
    "\n",
    "with open('../ft_data/val_data_v1.json', 'r', encoding='utf-8') as f:\n",
    "    val_data_raw = json.load(f)\n",
    "\n",
    "\n",
    "# 数据预处理：将 Instruction 和 Input 合并为输入，Response 作为输出\n",
    "def preprocess_data(data, tokenizer, max_length=512):\n",
    "    instructions = [item[\"Instruction\"] for item in data]\n",
    "    inputs = [item[\"Input\"] for item in data]\n",
    "    responses = [item[\"Response\"] for item in data]\n",
    "\n",
    "    # 合并 Instruction 和 Input\n",
    "    inputs_combined = [f\"{instruction}\\n{input_text}\" for instruction, input_text in zip(instructions, inputs)]\n",
    "\n",
    "    # 使用统一的max_length填充，并确保inputs和labels长度一致\n",
    "    model_inputs = tokenizer(inputs_combined, padding='max_length', truncation=True, max_length=max_length, return_tensors=\"pt\")\n",
    "    labels = tokenizer(responses, padding='max_length', truncation=True, max_length=max_length, return_tensors=\"pt\")[\"input_ids\"]\n",
    "\n",
    "    # 确保 input_ids 和 labels 长度一致\n",
    "    assert model_inputs[\"input_ids\"].shape[1] == labels.shape[1], f\"Length mismatch: {model_inputs['input_ids'].shape[1]} != {labels.shape[1]}\"\n",
    "\n",
    "    return {\"input_ids\": model_inputs[\"input_ids\"], \"labels\": labels}\n",
    "\n",
    "\n",
    "# 将数据转换为合适的格式\n",
    "train_data_0 = [{\"Instruction\": item[\"instruction\"], \"Response\": item[\"output\"], \"Input\": item[\"rule\"]} for item in train_data_raw]\n",
    "val_data_0 = [{\"Instruction\": item[\"instruction\"], \"Response\": item[\"output\"], \"Input\": item[\"rule\"]} for item in val_data_raw]\n",
    "\n",
    "# 将数据转换为合适的格式\n",
    "train_data = preprocess_data(train_data_0, tokenizer)\n",
    "val_data = preprocess_data(val_data_0, tokenizer)\n",
    "\n",
    "train_dataset = Dataset.from_dict(train_data)\n",
    "val_dataset = Dataset.from_dict(val_data)\n"
   ]
  },
  {
   "cell_type": "code",
   "execution_count": 4,
   "id": "85cd3d5a-9d50-42ef-a74b-f809cbb2fd62",
   "metadata": {
    "execution": {
     "iopub.execute_input": "2024-12-13T06:50:51.424103Z",
     "iopub.status.busy": "2024-12-13T06:50:51.422563Z",
     "iopub.status.idle": "2024-12-13T09:06:24.176848Z",
     "shell.execute_reply": "2024-12-13T09:06:24.175079Z",
     "shell.execute_reply.started": "2024-12-13T06:50:51.424036Z"
    }
   },
   "outputs": [
    {
     "name": "stderr",
     "output_type": "stream",
     "text": [
      "/usr/local/lib/python3.10/dist-packages/transformers/training_args.py:1575: FutureWarning: `evaluation_strategy` is deprecated and will be removed in version 4.46 of 🤗 Transformers. Use `eval_strategy` instead\n",
      "  warnings.warn(\n",
      "/tmp/ipykernel_8053/3481787107.py:18: FutureWarning: `tokenizer` is deprecated and will be removed in version 5.0.0 for `Trainer.__init__`. Use `processing_class` instead.\n",
      "  trainer = Trainer(\n",
      "Detected kernel version 5.4.0, which is below the recommended minimum of 5.5.0; this can cause the process to hang. It is recommended to upgrade the kernel to the minimum version or higher.\n"
     ]
    },
    {
     "data": {
      "text/html": [
       "\n",
       "    <div>\n",
       "      \n",
       "      <progress value='11630' max='11630' style='width:300px; height:20px; vertical-align: middle;'></progress>\n",
       "      [11630/11630 2:15:31, Epoch 10/10]\n",
       "    </div>\n",
       "    <table border=\"1\" class=\"dataframe\">\n",
       "  <thead>\n",
       " <tr style=\"text-align: left;\">\n",
       "      <th>Epoch</th>\n",
       "      <th>Training Loss</th>\n",
       "      <th>Validation Loss</th>\n",
       "    </tr>\n",
       "  </thead>\n",
       "  <tbody>\n",
       "    <tr>\n",
       "      <td>1</td>\n",
       "      <td>0.613200</td>\n",
       "      <td>0.607305</td>\n",
       "    </tr>\n",
       "    <tr>\n",
       "      <td>2</td>\n",
       "      <td>0.684600</td>\n",
       "      <td>0.593674</td>\n",
       "    </tr>\n",
       "    <tr>\n",
       "      <td>3</td>\n",
       "      <td>0.742600</td>\n",
       "      <td>0.567335</td>\n",
       "    </tr>\n",
       "    <tr>\n",
       "      <td>4</td>\n",
       "      <td>0.842900</td>\n",
       "      <td>0.576224</td>\n",
       "    </tr>\n",
       "    <tr>\n",
       "      <td>5</td>\n",
       "      <td>0.562700</td>\n",
       "      <td>0.567671</td>\n",
       "    </tr>\n",
       "    <tr>\n",
       "      <td>6</td>\n",
       "      <td>0.916300</td>\n",
       "      <td>0.590891</td>\n",
       "    </tr>\n",
       "    <tr>\n",
       "      <td>7</td>\n",
       "      <td>0.563700</td>\n",
       "      <td>0.596283</td>\n",
       "    </tr>\n",
       "    <tr>\n",
       "      <td>8</td>\n",
       "      <td>0.521800</td>\n",
       "      <td>0.629527</td>\n",
       "    </tr>\n",
       "    <tr>\n",
       "      <td>9</td>\n",
       "      <td>0.661500</td>\n",
       "      <td>0.619426</td>\n",
       "    </tr>\n",
       "    <tr>\n",
       "      <td>10</td>\n",
       "      <td>0.312100</td>\n",
       "      <td>0.640178</td>\n",
       "    </tr>\n",
       "  </tbody>\n",
       "</table><p>"
      ],
      "text/plain": [
       "<IPython.core.display.HTML object>"
      ]
     },
     "metadata": {},
     "output_type": "display_data"
    },
    {
     "data": {
      "text/plain": [
       "TrainOutput(global_step=11630, training_loss=0.5403298856672909, metrics={'train_runtime': 8132.4351, 'train_samples_per_second': 2.859, 'train_steps_per_second': 1.43, 'total_flos': 5.36275143622656e+17, 'train_loss': 0.5403298856672909, 'epoch': 10.0})"
      ]
     },
     "execution_count": 4,
     "metadata": {},
     "output_type": "execute_result"
    }
   ],
   "source": [
    "from transformers import Trainer, TrainingArguments\n",
    "\n",
    "training_args = TrainingArguments(\n",
    "    output_dir=\"../lora\",  # 输出目录\n",
    "    num_train_epochs=10,  # 训练轮数\n",
    "    per_device_train_batch_size=2,  # 每个设备的训练批量大小\n",
    "    per_device_eval_batch_size=2,  # 每个设备的评估批量大小\n",
    "    evaluation_strategy=\"epoch\",  # 每个epoch进行评估\n",
    "    save_strategy=\"epoch\",  # 每个epoch保存模型\n",
    "    logging_dir=\"../logs\",  # 日志目录\n",
    "    logging_steps=10,  # 每10步记录一次日志\n",
    "    save_steps=500,  # 每500步保存一次模型\n",
    "    eval_steps=500,  # 每500步评估一次模型\n",
    "    load_best_model_at_end=True,  # 在训练结束时加载最佳模型\n",
    "    # metric_for_best_model=\"accuracy\",  # 根据准确率选择最佳模型\n",
    ")\n",
    "\n",
    "trainer = Trainer(\n",
    "    model=model,\n",
    "    args=training_args,\n",
    "    train_dataset=train_dataset,\n",
    "    eval_dataset=val_dataset,\n",
    "    tokenizer=tokenizer,\n",
    ")\n",
    "\n",
    "trainer.train()\n"
   ]
  },
  {
   "cell_type": "code",
   "execution_count": 11,
   "id": "6dcdbc59-ebf0-449d-a59d-cedee4ee64ab",
   "metadata": {
    "execution": {
     "iopub.execute_input": "2024-12-13T09:22:49.067201Z",
     "iopub.status.busy": "2024-12-13T09:22:49.066380Z",
     "iopub.status.idle": "2024-12-13T09:22:49.177375Z",
     "shell.execute_reply": "2024-12-13T09:22:49.176563Z",
     "shell.execute_reply.started": "2024-12-13T09:22:49.067146Z"
    },
    "scrolled": true
   },
   "outputs": [
    {
     "name": "stderr",
     "output_type": "stream",
     "text": [
      "The attention mask and the pad token id were not set. As a consequence, you may observe unexpected behavior. Please pass your input's `attention_mask` to obtain reliable results.\n",
      "Setting `pad_token_id` to `eos_token_id`:128001 for open-end generation.\n"
     ]
    },
    {
     "name": "stdout",
     "output_type": "stream",
     "text": [
      "Next is the answer:\n",
      " 在某次海上搜救任务中，搜救中心收到了一条紧急信息，一艘载有200人的客轮在远洋航行中遇到了暴风雨，导致船体严重受损，水进入船舱，船上的人员处于极度危险之中。客轮目前已失去动力，随时可能沉没。考虑到此次海上突发事件对人命安全的严重威胁，搜救中心需要判断并上报此事件为最高级别。此次事件应归类为哪个险情等级？\n",
      "海上突发事件险情分级：根据国家突发事件险情上报的有关规定，并结合海上突发事件的特点及突发事件对人命安全、海洋环境的危害程度和事态发展趋势，将海上突发事件险情信息分为特大、重大、较大、一般四级。\n"
     ]
    }
   ],
   "source": [
    "# 进行推理\n",
    "device = torch.device(\"cuda\" if torch.cuda.is_available() else \"cpu\")\n",
    "inputs = tokenizer(\"在某次海上搜救任务中，搜救中心收到了一条紧急信息，一艘载有200人的客轮在远洋航行中遇到了暴风雨，导致船体严重受损，水进入船舱，船上的人员处于极度危险之中。客轮目前已失去动力，随时可能沉没。考虑到此次海上突发事件对人命安全的严重威胁，搜救中心需要判断并上报此事件为最高级别。此次事件应归类为哪个险情等级？\\n海上突发事件险情分级：根据国家突发事件险情上报的有关规定，并结合海上突发事件的特点及突发事件对人命安全、海洋环境的危害程度和事态发展趋势，将海上突发事件险情信息分为特大、重大、较大、一般四级。\", return_tensors=\"pt\").to(device)\n",
    "# inputs = tokenizer(\"Translate the following sentence to French.\\nGood evening!\", return_tensors=\"pt\").to(device)\n",
    "outputs = model.generate(inputs[\"input_ids\"], max_length=512)\n",
    "print('Next is the answer:\\n', tokenizer.decode(outputs[0], skip_special_tokens=True))"
   ]
  }
 ],
 "metadata": {
  "kernelspec": {
   "display_name": "Python 3 (ipykernel)",
   "language": "python",
   "name": "python3"
  },
  "language_info": {
   "codemirror_mode": {
    "name": "ipython",
    "version": 3
   },
   "file_extension": ".py",
   "mimetype": "text/x-python",
   "name": "python",
   "nbconvert_exporter": "python",
   "pygments_lexer": "ipython3",
   "version": "3.10.12"
  }
 },
 "nbformat": 4,
 "nbformat_minor": 5
}
