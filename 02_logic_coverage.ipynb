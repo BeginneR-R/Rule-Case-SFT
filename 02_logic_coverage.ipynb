{
 "cells": [
  {
   "cell_type": "markdown",
   "id": "cfc1b91a",
   "metadata": {},
   "source": [
    "# 通过覆盖率的准则设计实例"
   ]
  },
  {
   "cell_type": "code",
   "execution_count": null,
   "id": "58c05d1c-bec7-4972-843b-00fc9fadb0f2",
   "metadata": {
    "execution": {
     "iopub.execute_input": "2024-12-03T12:21:02.972328Z",
     "iopub.status.busy": "2024-12-03T12:21:02.971335Z",
     "iopub.status.idle": "2024-12-03T12:21:03.590862Z",
     "shell.execute_reply": "2024-12-03T12:21:03.590009Z",
     "shell.execute_reply.started": "2024-12-03T12:21:02.972259Z"
    }
   },
   "outputs": [],
   "source": [
    "from typing import List\n",
    "from typing import Optional\n",
    "from typing import Dict\n",
    "\n",
    "import os\n",
    "import json\n",
    "from pathlib import Path\n",
    "\n",
    "import httpx\n",
    "from openai import OpenAI\n",
    "\n",
    "import requests\n",
    "\n",
    "import time"
   ]
  },
  {
   "cell_type": "markdown",
   "id": "0f9d972e-4996-4487-8234-1f1a4461dd10",
   "metadata": {},
   "source": [
    "## 进行谓词实例化"
   ]
  },
  {
   "cell_type": "code",
   "execution_count": null,
   "id": "fb0d9375-d2a0-49ac-a40a-fd619ad403ec",
   "metadata": {
    "execution": {
     "iopub.execute_input": "2024-12-03T12:23:47.812766Z",
     "iopub.status.busy": "2024-12-03T12:23:47.812176Z",
     "iopub.status.idle": "2024-12-03T12:23:48.479743Z",
     "shell.execute_reply": "2024-12-03T12:23:48.478723Z",
     "shell.execute_reply.started": "2024-12-03T12:23:47.812725Z"
    }
   },
   "outputs": [],
   "source": [
    "# 文件路径\n",
    "file_path = \"prompts/DataFountain/predicates.txt\"\n",
    "\n",
    "# 请求的 URL\n",
    "url = \"https://api.moonshot.cn/v1/files\"\n",
    "\n",
    "headers = {\n",
    "    'Authorization': 'sk-gNToXJPO4Ih8NDZnDloSXR780dQDEZ2Epu49wcVA1sWb4Ecw'\n",
    "}\n",
    "\n",
    "# 准备文件数据\n",
    "files = {'file': open(file_path, 'rb')}\n",
    "\n",
    "# 发起 POST 请求\n",
    "response = requests.post(url, headers=headers, files=files)\n",
    "\n",
    "# 打印响应内容\n",
    "print(response.status_code)\n",
    "print(response.text)"
   ]
  },
  {
   "cell_type": "code",
   "execution_count": null,
   "id": "a08adbf1-f55c-4d72-99da-e939889edf13",
   "metadata": {
    "execution": {
     "iopub.execute_input": "2024-12-03T12:23:52.813276Z",
     "iopub.status.busy": "2024-12-03T12:23:52.812726Z",
     "iopub.status.idle": "2024-12-03T12:23:53.572019Z",
     "shell.execute_reply": "2024-12-03T12:23:53.570644Z",
     "shell.execute_reply.started": "2024-12-03T12:23:52.813238Z"
    }
   },
   "outputs": [],
   "source": [
    "client = OpenAI(\n",
    "    api_key=\"sk-gNToXJPO4Ih8NDZnDloSXR780dQDEZ2Epu49wcVA1sWb4Ecw\",\n",
    "    base_url=\"https://api.moonshot.cn/v1\",\n",
    ")\n",
    "\n",
    "file_object = client.files.create(file=Path(\"prompts/DataFountain/predicates.txt\"), purpose=\"file-extract\")\n",
    "file_content = client.files.content(file_id=file_object.id).text"
   ]
  },
  {
   "cell_type": "code",
   "execution_count": null,
   "id": "f8c4f3ea-14d8-4d28-a9be-5da457b16492",
   "metadata": {
    "execution": {
     "iopub.execute_input": "2024-11-22T08:12:09.063886Z",
     "iopub.status.busy": "2024-11-22T08:12:09.063116Z",
     "iopub.status.idle": "2024-11-22T08:12:09.070862Z",
     "shell.execute_reply": "2024-11-22T08:12:09.069661Z",
     "shell.execute_reply.started": "2024-11-22T08:12:09.063830Z"
    },
    "scrolled": true
   },
   "outputs": [],
   "source": [
    "print(file_content)"
   ]
  },
  {
   "cell_type": "markdown",
   "id": "46edf60c-540f-47a7-8d27-1d7fdd7a2285",
   "metadata": {},
   "source": [
    "## 读取数据与格式转换"
   ]
  },
  {
   "cell_type": "code",
   "execution_count": null,
   "id": "d8432b1f-08be-4482-a74e-da69d2ebdda9",
   "metadata": {
    "execution": {
     "iopub.execute_input": "2024-12-03T12:24:08.813864Z",
     "iopub.status.busy": "2024-12-03T12:24:08.812961Z",
     "iopub.status.idle": "2024-12-03T12:24:08.831095Z",
     "shell.execute_reply": "2024-12-03T12:24:08.830238Z",
     "shell.execute_reply.started": "2024-12-03T12:24:08.813798Z"
    }
   },
   "outputs": [],
   "source": [
    "import re\n",
    "\n",
    "with open('data/DF/answers_782_v5.json', 'r', encoding='utf-8') as file:\n",
    "    data = json.load(file)"
   ]
  },
  {
   "cell_type": "code",
   "execution_count": null,
   "id": "b66f0e25-ae69-4eae-99ab-8d418186d90b",
   "metadata": {
    "execution": {
     "iopub.execute_input": "2024-12-03T12:24:10.818845Z",
     "iopub.status.busy": "2024-12-03T12:24:10.818013Z",
     "iopub.status.idle": "2024-12-03T12:24:10.826292Z",
     "shell.execute_reply": "2024-12-03T12:24:10.824895Z",
     "shell.execute_reply.started": "2024-12-03T12:24:10.818780Z"
    },
    "scrolled": true
   },
   "outputs": [],
   "source": [
    "print(data[0])"
   ]
  },
  {
   "cell_type": "markdown",
   "id": "79ed8389-dacd-422f-aec0-ac644336cd83",
   "metadata": {
    "jp-MarkdownHeadingCollapsed": true
   },
   "source": [
    "## JSON格式匹配"
   ]
  },
  {
   "cell_type": "code",
   "execution_count": null,
   "id": "2e7704cd-8065-4391-9582-627e62fc941d",
   "metadata": {
    "execution": {
     "iopub.execute_input": "2024-11-22T08:14:33.091280Z",
     "iopub.status.busy": "2024-11-22T08:14:33.090438Z",
     "iopub.status.idle": "2024-11-22T08:14:33.098318Z",
     "shell.execute_reply": "2024-11-22T08:14:33.097264Z",
     "shell.execute_reply.started": "2024-11-22T08:14:33.091224Z"
    }
   },
   "outputs": [],
   "source": [
    "def extract_json(text):\n",
    "    # 使用正则表达式匹配并提取 JSON 数据（假设 JSON 数据用 `{` 开头和 `}` 结尾）\n",
    "    json_data = re.search(r'\\{.*\\}', text, re.DOTALL)\n",
    "\n",
    "    # 检查是否找到匹配的 JSON 数据\n",
    "    if json_data:\n",
    "        json_string = json_data.group(0)\n",
    "\n",
    "        # # 将 JSON 数据解析为字典\n",
    "        # data = json.loads(json_string)\n",
    "        return json_string\n",
    "    else:\n",
    "        print(\"未找到 JSON 数据。\")"
   ]
  },
  {
   "cell_type": "code",
   "execution_count": null,
   "id": "8dfdc208-17f7-4763-aeae-99346d3412b8",
   "metadata": {
    "execution": {
     "iopub.execute_input": "2024-11-22T08:07:10.013167Z",
     "iopub.status.busy": "2024-11-22T08:07:10.012342Z",
     "iopub.status.idle": "2024-11-22T08:07:10.022894Z",
     "shell.execute_reply": "2024-11-22T08:07:10.021379Z",
     "shell.execute_reply.started": "2024-11-22T08:07:10.013106Z"
    }
   },
   "outputs": [],
   "source": [
    "extract_json(data[0])"
   ]
  },
  {
   "cell_type": "markdown",
   "id": "dc11cbdc-12f4-44af-a3ad-282e0b38feeb",
   "metadata": {},
   "source": [
    "## 使用api进行谓词实例化"
   ]
  },
  {
   "cell_type": "code",
   "execution_count": null,
   "id": "856f5724-e7ec-4d10-9dd3-a63dd102a830",
   "metadata": {
    "execution": {
     "iopub.execute_input": "2024-12-03T12:25:01.815057Z",
     "iopub.status.busy": "2024-12-03T12:25:01.814184Z",
     "iopub.status.idle": "2024-12-03T12:25:01.825935Z",
     "shell.execute_reply": "2024-12-03T12:25:01.824424Z",
     "shell.execute_reply.started": "2024-12-03T12:25:01.814992Z"
    }
   },
   "outputs": [],
   "source": [
    "def call_api_with_rate_limit_handling(client, messages, model=\"moonshot-v1-32k\", max_retries=5):\n",
    "    retries = 0\n",
    "    while retries < max_retries:\n",
    "        try:\n",
    "            completion = client.chat.completions.create(\n",
    "                model=model,\n",
    "                messages=messages,\n",
    "                temperature=0,\n",
    "            )\n",
    "            return completion\n",
    "        except Exception as e:\n",
    "            if '429' in str(e):  # 检查异常消息中是否包含429\n",
    "                print(\"Rate limit reached. Retrying in 1 second...\")\n",
    "                time.sleep(1)  # 等待1秒钟\n",
    "                retries += 1\n",
    "            else:\n",
    "                raise  # Re-raise the exception if it's not a 429 error\n",
    "    raise Exception(\"Max retries reached. API call failed.\")"
   ]
  },
  {
   "cell_type": "code",
   "execution_count": null,
   "id": "a1dfb1ae-dd92-476f-a65a-32d6fa78667d",
   "metadata": {
    "execution": {
     "iopub.execute_input": "2024-12-03T12:30:03.812190Z",
     "iopub.status.busy": "2024-12-03T12:30:03.811346Z",
     "iopub.status.idle": "2024-12-03T12:30:03.817258Z",
     "shell.execute_reply": "2024-12-03T12:30:03.816281Z",
     "shell.execute_reply.started": "2024-12-03T12:30:03.812145Z"
    }
   },
   "outputs": [],
   "source": [
    "instance_predicates = []"
   ]
  },
  {
   "cell_type": "code",
   "execution_count": null,
   "id": "7ec267c8-df18-49ae-965c-ca5dfc888b12",
   "metadata": {
    "execution": {
     "iopub.execute_input": "2024-12-03T12:30:32.189381Z",
     "iopub.status.busy": "2024-12-03T12:30:32.187664Z"
    },
    "scrolled": true
   },
   "outputs": [],
   "source": [
    "for index, text in enumerate(data, start=0):\n",
    "    # 替换内容\n",
    "    replacement = text\n",
    "\n",
    "    # # 使用正则表达式替换 [[RULES]]\n",
    "    # content = re.sub(r'\\[\\[RULES\\]\\]', replacement, file_content)\n",
    "\n",
    "    # 使用replace\n",
    "    content = file_content.replace(\"[[RULES]]\", replacement)\n",
    "\n",
    "    messages = [\n",
    "        {\n",
    "            \"role\": \"system\",\n",
    "            \"content\": \"你是 Kimi，由 Moonshot AI 提供的人工智能助手，你更擅长中文和英文的对话。你会为用户提供安全，有帮助，准确的回答。同时，你会拒绝一切涉及恐怖主义，种族歧视，黄色暴力等问题的回答。Moonshot AI 为专有名词，不可翻译成其他语言。请将内容输出为可解析的json格式。\"\n",
    "        },\n",
    "        {\n",
    "            \"role\": \"system\",\n",
    "            \"content\": content,\n",
    "        },\n",
    "        {\n",
    "            \"role\": \"user\",\n",
    "            \"content\": \"你好，请根据txt内容生成回答。\"\n",
    "        }\n",
    "    ]\n",
    "\n",
    "    completion = call_api_with_rate_limit_handling(client, messages, \"moonshot-v1-32k\", 5)\n",
    "\n",
    "    print(f\"{index}\")\n",
    "    instance_predicates.append(completion.choices[0].message.content)"
   ]
  },
  {
   "cell_type": "code",
   "execution_count": null,
   "id": "530e5701-20e5-40f3-a8ce-198ca290e19b",
   "metadata": {
    "execution": {
     "iopub.execute_input": "2024-12-04T01:50:34.915762Z",
     "iopub.status.busy": "2024-12-04T01:50:34.914918Z",
     "iopub.status.idle": "2024-12-04T01:50:34.941058Z",
     "shell.execute_reply": "2024-12-04T01:50:34.940166Z",
     "shell.execute_reply.started": "2024-12-04T01:50:34.915703Z"
    }
   },
   "outputs": [],
   "source": [
    "with open('data/DF/instance_predicates_v2.json', 'w', encoding='utf-8') as f:\n",
    "    json.dump(instance_predicates, f, ensure_ascii=False, indent=4)"
   ]
  },
  {
   "cell_type": "code",
   "execution_count": null,
   "id": "127acbf3-5c35-4195-a060-7be5db59db97",
   "metadata": {
    "collapsed": true,
    "execution": {
     "iopub.execute_input": "2024-11-28T13:07:52.557624Z",
     "iopub.status.busy": "2024-11-28T13:07:52.556782Z",
     "iopub.status.idle": "2024-11-28T13:07:52.714465Z",
     "shell.execute_reply": "2024-11-28T13:07:52.713518Z",
     "shell.execute_reply.started": "2024-11-28T13:07:52.557563Z"
    },
    "jupyter": {
     "outputs_hidden": true,
     "source_hidden": true
    }
   },
   "outputs": [],
   "source": [
    "print(instance_predicates[1])"
   ]
  },
  {
   "cell_type": "markdown",
   "id": "93b9acfe",
   "metadata": {},
   "source": [
    "# 缓存转换"
   ]
  },
  {
   "cell_type": "code",
   "execution_count": 1,
   "id": "43dca8a0",
   "metadata": {},
   "outputs": [],
   "source": [
    "from typing import List\n",
    "from typing import Optional\n",
    "from typing import Dict\n",
    "\n",
    "import os\n",
    "import json\n",
    "import jsonlines\n",
    "from pathlib import Path\n",
    "\n",
    "import httpx\n",
    "from openai import OpenAI\n",
    "\n",
    "import requests\n",
    "\n",
    "import time\n",
    "import re\n",
    "from tqdm import tqdm"
   ]
  },
  {
   "cell_type": "code",
   "execution_count": 12,
   "id": "d5395811",
   "metadata": {},
   "outputs": [
    {
     "name": "stdout",
     "output_type": "stream",
     "text": [
      "{'id': 'cache-ezijgd5oc6di11gdfsh1', 'object': 'cache_object', 'model': 'moonshot-v1', 'messages': [{'role': 'system', 'content': '任务描述：你将被给予一条 JSON 格式的数据，包含一条规则（rule）的描述，这条规则中包含的谓词（predicates），以及根据规则转换而来的逻辑表达式（logicexpression）。你的任务是:\\n1. 针对谓词取不同的具体的值，代入逻辑表达式中，其中取值要满足多样性与复杂性，不同的取值要尽可能的多；\\n2. 对于谓词不同的取值请进行排列组合，保证尽可能出现所有取值的组合；\\n3. 将实例化的逻辑表达式输出为可解析的 JSON 格式。\\n------\\n下面是一个例子：\\n```json\\n{\\n    \"rule\": \"安全生产协调司的职责：根据安全监管总局领导指示和有关规定，组织协调安全监察专员赶赴事故现场参与事故应急救援和事故调查处理工作。\",\\n    \"predicates\":\\n    [\\n        \"指示：Instruction(Leader, Regulation) ::: 表示领导发出的指示和相关规定。\",\\n        \"参与：Participate(Inspector, Scene, Task) ::: 表示安全监察专员在事故现场参与某项任务。\",\\n        \"赶赴：GoTo(Inspector, Scene) ::: 表示安全监察专员赶赴事故现场。\",\\n        \"事故：Accident(Scene) ::: 表示发生在某个场景的事故。\"\\n    ],\\n    \"logicexpression\":\\n    [\\n        \"∀s ∀i ∀r (Accident(s) ∧ Instruction(Leader, r) → (GoTo(i, s) ∧ Participate(i, s, EmergencyRescue) ∧ Participate(i, s, Investigation)))\"\\n    ]\\n}\\n```\\n###\\n这条例子的谓词实例化的参数值，和将实例化参数代入逻辑表达式的输出如下：\\n[\\n    {\\n        \"instance_predicates\": [\\n            \"s=“化工厂” — 表示事故场景在化工厂\",\\n            \"i=“张三” — 表示安全监察专员为张三\",\\n            \"r=“化工事故应急处理规定” — 表示领导发出的指示和相关规定\"\\n        ],\\n        \"instance_logicexpression\": [\\n            \"∀s∀i∀r\\xa0(Accident(“化工厂”)∧Instruction(Leader,\\xa0“化工事故应急处理规定”)→(GoTo(“张三”,\\xa0“化工厂”)∧Participate(“张三”,\\xa0“化工厂”,\\xa0“应急救援”)∧Participate(“张三”,\\xa0“化工厂”,\\xa0“调查”)))\"\\n        ]\\n    },\\n    {\\n        \"instance_predicates\": [\\n            \"s=“矿井” — 表示事故场景在矿井\",\\n            \"i=“李四” — 表示安全监察专员为李四\",\\n            \"r=“矿山安全生产规章” — 表示领导发出的指示和相关规定\"\\n        ],\\n        \"instance_logicexpression\": [\\n            \"∀s∀i∀r\\xa0(Accident(“矿井”)∧Instruction(Leader,\\xa0“矿山安全生产规章”)→(GoTo(“李四”,\\xa0“矿井”)∧Participate(“李四”,\\xa0“矿井”,\\xa0“应急救援”)∧Participate(“李四”,\\xa0“矿井”,\\xa0“调查”)))\"\\n        ]\\n    },\\n    {\\n        \"instance_predicates\": [\\n            \"s=“港口” — 表示事故场景在港口\",\\n            \"i=“王五” — 表示安全监察专员为王五\",\\n            \"r=“港口作业安全管理条例” — 表示领导发出的指示和相关规定\"\\n        ],\\n        \"instance_logicexpression\": [\\n            \"∀s∀i∀r\\xa0(Accident(“港口”)∧Instruction(Leader,\\xa0“港口作业安全管理条例”)→(GoTo(“王五”,\\xa0“港口”)∧Participate(“王五”,\\xa0“港口”,\\xa0“应急救援”)∧Participate(“王五”,\\xa0“港口”,\\xa0“调查”)))\"\\n        ]\\n    },\\n    {\\n        \"instance_predicates\": [\\n            \"s=“建筑工地” — 表示事故场景在建筑工地\",\\n            \"i=“赵六” — 表示安全监察专员为赵六\",\\n            \"r=“建筑施工安全规章” — 表示领导发出的指示和相关规定\"\\n        ],\\n        \"instance_logicexpression\": [\\n            \"∀s∀i∀r\\xa0(Accident(“建筑工地”)∧Instruction(Leader,\\xa0“建筑施工安全规章”)→(GoTo(“赵六”,\\xa0“建筑工地”)∧Participate(“赵六”,\\xa0“建筑工地”,\\xa0“应急救援”)∧Participate(“赵六”,\\xa0“建筑工地”,\\xa0“调查”)))\"\\n        ]\\n    },\\n]\\n------\\n下面是一个例子：\\n```json\\n{\\n    \"rule\": \"善后处置的获救人员的处置：当地政府民政部门或获救人员所在单位负责获救人员的安置；港澳台或外籍人员，由当地政府港澳台办或外事办负责安置；外籍人员由公安部门或外交部门负责遣返。\",\\n    \"predicates\":\\n    [\\n        \"负责安置：ResponsibleForSettlement(Department, Person) 表示某个部门负责某个获救人员的安置。\",\\n        \"港澳台或外籍人员：PersonType(Person, Type) 表示某个人员是港澳台或外籍人员。\",\\n        \"遣返：Deport(Person, Department) 表示某个部门负责遣返某个外籍人员。\"\\n    ],\\n    \"logicexpression\":\\n    [\\n        \"∀p (获救人员(p) → (¬港澳台或外籍人员(p) → ResponsibleForSettlement(民政部门, p) ∨ ResponsibleForSettlement(所在单位, p)))\",\\n        \"∀p (港澳台或外籍人员(p, 港澳台) → ResponsibleForSettlement(港澳台办, p) ∨ ResponsibleForSettlement(外事办, p))\",\\n        \"∀p (港澳台或外籍人员(p, 外籍) → Deport(p, 公安部门) ∨ Deport(p, 外交部门))\"\\n    ]\\n}\\n```\\n###\\n这条例子的谓词实例化的参数值，和将实例化参数代入逻辑表达式的输出如下：\\n[\\n    {\\n        \"instance_predicates\": [\\n            \"p=“张三” — 张三为本地获救人员\",\\n            \"部门：民政部门\"\\n        ],\\n        \"instance_logicexpression\": [\\n            \"获救人员(张三)→(¬港澳台或外籍人员(张三)→ResponsibleForSettlement(民政部门,\\xa0张三))\"\\n        ]\\n    },\\n    {\\n        \"instance_predicates\": [\\n            \"p=“李四” — 李四为港澳台人员\",\\n            \"部门：港澳台办\"\\n        ],\\n        \"instance_logicexpression\": [\\n            \"港澳台或外籍人员(李四,\\xa0港澳台)→ResponsibleForSettlement(港澳台办,\\xa0李四)\"\\n        ]\\n    },\\n    {\\n        \"instance_predicates\": [\\n            \"p=“John\\xa0Smith” — John Smith为外籍获救人员\",\\n            \"部门：外交部门\"\\n        ],\\n        \"instance_logicexpression\": [\\n            \"港澳台或外籍人员(John\\xa0Smith,\\xa0外籍)→Deport(John\\xa0Smith,\\xa0外交部门)\"\\n        ]\\n    },\\n    {\\n        \"instance_predicates\": [\\n            \"p=“小王” — 小王为本地获救人员，工作单位负责安置\",\\n            \"部门：所在单位\"\\n        ],\\n        \"instance_logicexpression\": [\\n            \"获救人员(小王)→(¬港澳台或外籍人员(小王)→ResponsibleForSettlement(所在单位,\\xa0小王))\"\\n        ]\\n    },\\n    {\\n        \"instance_predicates\": [\\n            \"p=“Maria” — Maria为外籍获救人员\",\\n            \"部门：公安部门\"\\n        ],\\n        \"instance_logicexpression\": [\\n            \"港澳台或外籍人员(Maria,\\xa0外籍)→Deport(Maria,\\xa0公安部门)\"\\n        ]\\n    },\\n]\\n------\\n下面就是你需要进行谓词实例化和代入逻辑表达式的：\\n规则数据：\\n[[RULES]]\\n###'}], 'name': 'example_cache', 'description': '', 'metadata': None, 'expired_at': 1742808380, 'status': 'pending', 'tokens': 1809, 'created_at': 1742804780, 'updated_at': 1742804780}\n"
     ]
    }
   ],
   "source": [
    "# 你的API密钥\n",
    "api_key = \"sk-gNToXJPO4Ih8NDZnDloSXR780dQDEZ2Epu49wcVA1sWb4Ecw\"\n",
    "\n",
    "# 读取文本文件内容\n",
    "with open('prompts/DataFountain/predicates_v2.txt', 'r', encoding='utf-8') as file:\n",
    "    file_content = file.read()\n",
    "\n",
    "# 创建缓存的请求数据\n",
    "data = {\n",
    "    \"model\": \"moonshot-v1\",\n",
    "    \"messages\": [\n",
    "        {\n",
    "            \"role\": \"system\",\n",
    "            \"content\": file_content\n",
    "        }\n",
    "    ],\n",
    "    \"name\": \"example_cache\",\n",
    "    \"ttl\": 3600  # 缓存有效期，单位为秒\n",
    "}\n",
    "\n",
    "# 发送POST请求创建缓存\n",
    "response = requests.post(\n",
    "    url=\"https://api.moonshot.cn/v1/caching\",\n",
    "    headers={\n",
    "        \"Authorization\": f\"Bearer {api_key}\",\n",
    "        \"Content-Type\": \"application/json\"\n",
    "    },\n",
    "    json=data\n",
    ")\n",
    "\n",
    "# 打印响应内容\n",
    "print(json.loads(response.text))"
   ]
  },
  {
   "cell_type": "code",
   "execution_count": 21,
   "id": "d1ea8792",
   "metadata": {},
   "outputs": [
    {
     "name": "stdout",
     "output_type": "stream",
     "text": [
      "200\n",
      "{\"deleted\":true,\"id\":\"cache-ezj3acdoc6di11gdj58i\",\"object\":\"cache_object.deleted\"}\n"
     ]
    }
   ],
   "source": [
    "# 你的API密钥\n",
    "api_key = \"sk-gNToXJPO4Ih8NDZnDloSXR780dQDEZ2Epu49wcVA1sWb4Ecw\"\n",
    "\n",
    "# 缓存ID，假设从创建缓存的响应中获取\n",
    "cache_id = \"cache-ezj3acdoc6di11gdj58i\"\n",
    "\n",
    "# 发送DELETE请求删除缓存\n",
    "response = requests.delete(\n",
    "    url=f\"https://api.moonshot.cn/v1/caching/{cache_id}\",\n",
    "    headers={\n",
    "        \"Authorization\": f\"Bearer {api_key}\"\n",
    "    }\n",
    ")\n",
    "\n",
    "# 打印响应状态码\n",
    "print(response.status_code)\n",
    "\n",
    "# 如果需要，也可以打印响应内容\n",
    "print(response.text)"
   ]
  },
  {
   "cell_type": "code",
   "execution_count": 2,
   "id": "f3aeb011",
   "metadata": {},
   "outputs": [],
   "source": [
    "# 你的API密钥\n",
    "api_key = \"sk-gNToXJPO4Ih8NDZnDloSXR780dQDEZ2Epu49wcVA1sWb4Ecw\"\n",
    "\n",
    "\n",
    "# 读取文本文件内容\n",
    "def load_file_content(file_path):\n",
    "    with open(file_path, 'r', encoding='utf-8') as file:\n",
    "        return file.read()\n",
    "\n",
    "\n",
    "# 创建缓存\n",
    "def create_cache(file_content):\n",
    "    data = {\n",
    "        \"model\": \"moonshot-v1\",\n",
    "        \"messages\": [\n",
    "            {\n",
    "                \"role\": \"system\",\n",
    "                \"content\": file_content\n",
    "            }\n",
    "        ],\n",
    "        \"name\": \"example_cache\",\n",
    "        \"ttl\": 3600  # 缓存有效期，单位为秒\n",
    "    }\n",
    "    response = requests.post(\n",
    "        url=\"https://api.moonshot.cn/v1/caching\",\n",
    "        headers={\n",
    "            \"Authorization\": f\"Bearer {api_key}\",\n",
    "            \"Content-Type\": \"application/json\"\n",
    "        },\n",
    "        json=data\n",
    "    )\n",
    "    cache_response = json.loads(response.text)\n",
    "    return cache_response['id']"
   ]
  },
  {
   "cell_type": "code",
   "execution_count": 3,
   "id": "e12782ba",
   "metadata": {},
   "outputs": [],
   "source": [
    "# 检查缓存是否存在且未过期\n",
    "def check_cache(cache_id):\n",
    "    response = requests.get(\n",
    "        url=f\"https://api.moonshot.cn/v1/caching/{cache_id}\",\n",
    "        headers={\n",
    "            \"Authorization\": f\"Bearer {api_key}\"\n",
    "        }\n",
    "    )\n",
    "    if response.status_code == 200:\n",
    "        return True\n",
    "    return False\n",
    "\n",
    "\n",
    "# 重新加载数据并更新缓存\n",
    "def reload_and_update_cache(file_path, cache_id):\n",
    "    new_file_content = load_file_content(file_path)\n",
    "    data = {\n",
    "        \"model\": \"moonshot-v1\",\n",
    "        \"messages\": [\n",
    "            {\n",
    "                \"role\": \"system\",\n",
    "                \"content\": new_file_content\n",
    "            }\n",
    "        ],\n",
    "        \"name\": \"example_cache\",\n",
    "        \"ttl\": 3600  # 缓存有效期，单位为秒\n",
    "    }\n",
    "    response = requests.put(\n",
    "        url=f\"https://api.moonshot.cn/v1/caching/{cache_id}\",\n",
    "        headers={\n",
    "            \"Authorization\": f\"Bearer {api_key}\",\n",
    "            \"Content-Type\": \"application/json\"\n",
    "        },\n",
    "        json=data\n",
    "    )\n",
    "    return response.status_code == 200\n",
    "\n",
    "\n",
    "# 使用缓存内容并添加问题\n",
    "def use_cache_with_question(cache_id, question):\n",
    "    data = {\n",
    "        \"model\": \"moonshot-v1-32k\",\n",
    "        \"messages\": [\n",
    "            {\n",
    "                \"role\": \"cache\",\n",
    "                \"content\": f\"cache_id={cache_id};reset_ttl=3600\",\n",
    "            },\n",
    "            {\n",
    "                \"role\": \"user\",\n",
    "                \"content\": question\n",
    "            }\n",
    "        ],\n",
    "        \"temperature\": 0.7,\n",
    "        \"max_tokens\": 8192,\n",
    "    }\n",
    "    response = requests.post(\n",
    "        url=\"https://api.moonshot.cn/v1/chat/completions\",\n",
    "        headers={\n",
    "            \"Authorization\": f\"Bearer {api_key}\",\n",
    "            \"Content-Type\": \"application/json\"\n",
    "        },\n",
    "        json=data\n",
    "    )\n",
    "    return response.json()['choices'][0]['message']['content']"
   ]
  },
  {
   "cell_type": "markdown",
   "id": "886f4b3a",
   "metadata": {},
   "source": [
    "## 主流程"
   ]
  },
  {
   "cell_type": "code",
   "execution_count": 15,
   "id": "6a75efc1",
   "metadata": {},
   "outputs": [],
   "source": [
    "def extract_json(text):\n",
    "    # 使用正则表达式匹配并提取 JSON 数据（假设 JSON 数据用 `{` 开头和 `}` 结尾）\n",
    "    json_data = re.search(r'\\{.*\\}', text, re.DOTALL)\n",
    "\n",
    "    # 检查是否找到匹配的 JSON 数据\n",
    "    if json_data:\n",
    "        json_string = json_data.group(0)\n",
    "\n",
    "        # # 将 JSON 数据解析为字典\n",
    "        # data = json.loads(json_string)\n",
    "        return json_string\n",
    "    else:\n",
    "        print(\"未找到 JSON 数据。\")\n",
    "        return None"
   ]
  },
  {
   "cell_type": "code",
   "execution_count": 4,
   "id": "193b2fc0",
   "metadata": {},
   "outputs": [
    {
     "name": "stdout",
     "output_type": "stream",
     "text": [
      "Fileprompts/DataFountain/predicates_v2.txt success read\n",
      "cache id:cache-ezth445oc6di11ggieci\n",
      "cache cuccess\n",
      "缓存已存在\n"
     ]
    },
    {
     "name": "stderr",
     "output_type": "stream",
     "text": [
      "Processing:  12%|█▏        | 100/838 [1:59:34<14:42:29, 71.75s/it]\n"
     ]
    }
   ],
   "source": [
    "# 主流程\n",
    "file_path = 'prompts/DataFountain/predicates_v2.txt'\n",
    "file_content = load_file_content(file_path)\n",
    "print(f\"File{file_path} success read\")\n",
    "cache_id = create_cache(file_content)\n",
    "print(f\"cache id:{cache_id}\")\n",
    "print(\"cache cuccess\")\n",
    "\n",
    "# # 模拟缓存过期\n",
    "# time.sleep(3600)\n",
    "\n",
    "# 检查缓存是否存在且未过期\n",
    "if not check_cache(cache_id):\n",
    "    print(\"检查不到缓存\")\n",
    "    # 重新加载数据并更新缓存\n",
    "    if reload_and_update_cache(file_path, cache_id):\n",
    "        print(\"缓存更新成功\")\n",
    "    else:\n",
    "        print(\"缓存更新失败\")\n",
    "\n",
    "print(\"缓存已存在\")\n",
    "\n",
    "with open('data/RJUA/RJUA_nl2logic_v5.json', 'r', encoding='utf-8') as file:\n",
    "    answer = json.load(file)\n",
    "\n",
    "for idx, value in tqdm(enumerate(answer[:100]), total=len(answer), desc=\"Processing\"):\n",
    "    context = value['input']\n",
    "    # 使用缓存内容并添加问题\n",
    "    question = f\"请回答关于文件内容的问题，其中[[CONTEXT]]代表的数据为{context}\"\n",
    "    response = use_cache_with_question(cache_id, question)\n",
    "    judgement = {\n",
    "        \"ori_id\": value[\"ori_id\"],\n",
    "        \"number\": value['number'],\n",
    "        \"rule\": context[\"rule\"],\n",
    "        \"predicates\": response\n",
    "    }\n",
    "    # 打开文件以进行写入，如果文件不存在，会创建文件\n",
    "    with jsonlines.open('data/RJUA/RJUA_logic2predicates_100.jsonl', mode='a') as writer:\n",
    "        writer.write(judgement)\n"
   ]
  }
 ],
 "metadata": {
  "kernelspec": {
   "display_name": "Python 3",
   "language": "python",
   "name": "python3"
  },
  "language_info": {
   "codemirror_mode": {
    "name": "ipython",
    "version": 3
   },
   "file_extension": ".py",
   "mimetype": "text/x-python",
   "name": "python",
   "nbconvert_exporter": "python",
   "pygments_lexer": "ipython3",
   "version": "3.10.11"
  }
 },
 "nbformat": 4,
 "nbformat_minor": 5
}
