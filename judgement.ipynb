{
 "cells": [
  {
   "cell_type": "code",
   "execution_count": 1,
   "id": "dadaf1b2-f0f3-441a-a076-9e242b9e0e67",
   "metadata": {
    "execution": {
     "iopub.execute_input": "2025-01-15T06:59:07.872394Z",
     "iopub.status.busy": "2025-01-15T06:59:07.871542Z",
     "iopub.status.idle": "2025-01-15T06:59:08.436739Z",
     "shell.execute_reply": "2025-01-15T06:59:08.435847Z",
     "shell.execute_reply.started": "2025-01-15T06:59:07.872331Z"
    }
   },
   "outputs": [],
   "source": [
    "from typing import List\n",
    "from typing import Optional\n",
    "from typing import Dict\n",
    "\n",
    "import os\n",
    "import json\n",
    "from pathlib import Path\n",
    "\n",
    "import httpx\n",
    "from openai import OpenAI\n",
    "\n",
    "import requests\n",
    "\n",
    "import time\n",
    "import re\n",
    "from tqdm import tqdm"
   ]
  },
  {
   "cell_type": "markdown",
   "id": "d41d79e0-067e-492a-8bef-2dc8c78ba69b",
   "metadata": {
    "jp-MarkdownHeadingCollapsed": true
   },
   "source": [
    "## 生成context caching"
   ]
  },
  {
   "cell_type": "code",
   "execution_count": 4,
   "id": "4c27c454-2ccd-4463-995e-e0804eb56eba",
   "metadata": {
    "execution": {
     "iopub.execute_input": "2025-01-15T07:16:17.576673Z",
     "iopub.status.busy": "2025-01-15T07:16:17.575130Z",
     "iopub.status.idle": "2025-01-15T07:16:17.856182Z",
     "shell.execute_reply": "2025-01-15T07:16:17.854706Z",
     "shell.execute_reply.started": "2025-01-15T07:16:17.576608Z"
    },
    "scrolled": true
   },
   "outputs": [
    {
     "name": "stdout",
     "output_type": "stream",
     "text": [
      "{'id': 'cache-ey5p3ifxfuei11gkxpii', 'object': 'cache_object', 'model': 'moonshot-v1', 'messages': [{'role': 'system', 'content': '任务描述:\\n一、输入格式：\\n你将接收到一个包含以下四个字段的 JSON 数据：\\n\\ninstruction：问题的描述，明确了需要回答的内容。\\ninput：与问题相关的参考材料，回答需基于其中的信息。\\noutput：标准答案，用于作为高质量回答的参考。\\nanswer：模型生成的回答，需要你进行评估。\\n\\n二、评估要求：\\n请从以下几个方面对 answer 的质量进行评估，并为每个方面给出一个 0-100 的百分制评分，同时简要说明评分依据：\\n\\n1. 问题理解（Question Understanding）\\nanswer 是否准确理解了 instruction 中的问题，并尝试回答所有要求的部分？\\n是否遗漏或误解了问题的核心内容？\\n\\n2. 内容一致性（Content Consistency）\\nanswer 是否基于 input 提供的信息作出回答？\\n是否存在虚构信息（即未在 input 中提及却出现在 answer 中的内容）？\\n\\n3. 信息覆盖性（Coverage of Information）\\nanswer 是否全面覆盖了 instruction 提出的问题，包括所有需要明确的方面？\\n是否遗漏了 instruction 中提到的关键要素？\\n\\n4. 逻辑性和合理性（Logical Coherence and Reasonableness）\\nanswer 是否逻辑自洽，符合常识和问题的场景？\\n是否包含多余或不合理的推测？\\n\\n5. 语言表达（Clarity and Conciseness）\\nanswer 是否语言清晰、简洁且易于理解？\\n是否存在冗余、重复或表述不当的部分？\\n\\n6. 与标准答案的对比（Comparison to Standard Output）\\nanswer 与标准 output 相比差距如何？\\n是否包含标准 output 的核心要点？\\n\\n三、输出格式：\\n你需要以 JSON 格式返回以下内容：\\n\\n```json\\n{\\n    \"scores\": {\\n        \"question_understanding\": 0-100,\\n        \"content_consistency\": 0-100,\\n        \"coverage_of_information\": 0-100,\\n        \"logical_coherence_and_reasonableness\": 0-100,\\n        \"clarity_and_conciseness\": 0-100,\\n        \"comparison_to_standard_output\": 0-100\\n    },\\n    \"explanations\": {\\n        \"question_understanding\": \"简要说明评分依据。\",\\n        \"content_consistency\": \"简要说明评分依据。\",\\n        \"coverage_of_information\": \"简要说明评分依据。\",\\n        \"logical_coherence_and_reasonableness\": \"简要说明评分依据。\",\\n        \"clarity_and_conciseness\": \"简要说明评分依据。\",\\n        \"comparison_to_standard_output\": \"简要说明评分依据。\"\\n    }\\n}\\n```\\n\\n四、注意事项：\\n1. 所有评分均以百分制表示，0 表示完全不符合，100 表示完全符合。\\n2. 请确保评分客观公正，并结合每个方面的具体标准进行评判。\\n3. 在解释部分，用清晰、简洁的语言说明得分原因，便于理解改进方向。\\n------\\n你将被给予的 JSON 数据如下：\\n[[CONTEXT]]'}], 'name': 'example_cache', 'description': '', 'metadata': None, 'expired_at': 1736928977, 'status': 'pending', 'tokens': 612, 'created_at': 1736925377, 'updated_at': 1736925377}\n"
     ]
    }
   ],
   "source": [
    "# 你的API密钥\n",
    "api_key = \"sk-gNToXJPO4Ih8NDZnDloSXR780dQDEZ2Epu49wcVA1sWb4Ecw\"\n",
    "\n",
    "# 读取文本文件内容\n",
    "with open('prompts/DataFountain/answer.txt', 'r', encoding='utf-8') as file:\n",
    "    file_content = file.read()\n",
    "\n",
    "# 创建缓存的请求数据\n",
    "data = {\n",
    "    \"model\": \"moonshot-v1\",\n",
    "    \"messages\": [\n",
    "        {\n",
    "            \"role\": \"system\",\n",
    "            \"content\": file_content\n",
    "        }\n",
    "    ],\n",
    "    \"name\": \"example_cache\",\n",
    "    \"ttl\": 3600  # 缓存有效期，单位为秒\n",
    "}\n",
    "\n",
    "# 发送POST请求创建缓存\n",
    "response = requests.post(\n",
    "    url=\"https://api.moonshot.cn/v1/caching\",\n",
    "    headers={\n",
    "        \"Authorization\": f\"Bearer {api_key}\",\n",
    "        \"Content-Type\": \"application/json\"\n",
    "    },\n",
    "    json=data\n",
    ")\n",
    "\n",
    "# 打印响应内容\n",
    "print(json.loads(response.text))"
   ]
  },
  {
   "cell_type": "code",
   "execution_count": 9,
   "id": "b41f6a15-207b-4483-aebd-0cefa3b9f3f0",
   "metadata": {
    "execution": {
     "iopub.execute_input": "2025-01-15T07:39:12.365918Z",
     "iopub.status.busy": "2025-01-15T07:39:12.364586Z",
     "iopub.status.idle": "2025-01-15T07:39:12.774540Z",
     "shell.execute_reply": "2025-01-15T07:39:12.772980Z",
     "shell.execute_reply.started": "2025-01-15T07:39:12.365851Z"
    }
   },
   "outputs": [
    {
     "name": "stdout",
     "output_type": "stream",
     "text": [
      "200\n",
      "{\"deleted\":true,\"id\":\"cache-ey5p3ifxfuei11gkxpii\",\"object\":\"cache_object.deleted\"}\n"
     ]
    }
   ],
   "source": [
    "# 你的API密钥\n",
    "api_key = \"sk-gNToXJPO4Ih8NDZnDloSXR780dQDEZ2Epu49wcVA1sWb4Ecw\"\n",
    "\n",
    "# 缓存ID，假设从创建缓存的响应中获取\n",
    "cache_id = \"cache-ey5p3ifxfuei11gkxpii\"\n",
    "\n",
    "# 发送DELETE请求删除缓存\n",
    "response = requests.delete(\n",
    "    url=f\"https://api.moonshot.cn/v1/caching/{cache_id}\",\n",
    "    headers={\n",
    "        \"Authorization\": f\"Bearer {api_key}\"\n",
    "    }\n",
    ")\n",
    "\n",
    "# 打印响应状态码\n",
    "print(response.status_code)\n",
    "\n",
    "# 如果需要，也可以打印响应内容\n",
    "print(response.text)"
   ]
  },
  {
   "cell_type": "code",
   "execution_count": 5,
   "id": "30a0d2cf-fae1-4b9d-800c-b52c70192836",
   "metadata": {
    "execution": {
     "iopub.execute_input": "2025-01-15T07:32:39.314854Z",
     "iopub.status.busy": "2025-01-15T07:32:39.313544Z",
     "iopub.status.idle": "2025-01-15T07:32:39.325397Z",
     "shell.execute_reply": "2025-01-15T07:32:39.324538Z",
     "shell.execute_reply.started": "2025-01-15T07:32:39.314787Z"
    }
   },
   "outputs": [],
   "source": [
    "# 你的API密钥\n",
    "api_key = \"sk-gNToXJPO4Ih8NDZnDloSXR780dQDEZ2Epu49wcVA1sWb4Ecw\"\n",
    "\n",
    "\n",
    "# 读取文本文件内容\n",
    "def load_file_content(file_path):\n",
    "    with open(file_path, 'r', encoding='utf-8') as file:\n",
    "        return file.read()\n",
    "\n",
    "\n",
    "# 创建缓存\n",
    "def create_cache(file_content):\n",
    "    data = {\n",
    "        \"model\": \"moonshot-v1\",\n",
    "        \"messages\": [\n",
    "            {\n",
    "                \"role\": \"system\",\n",
    "                \"content\": file_content\n",
    "            }\n",
    "        ],\n",
    "        \"name\": \"example_cache\",\n",
    "        \"ttl\": 3600  # 缓存有效期，单位为秒\n",
    "    }\n",
    "    response = requests.post(\n",
    "        url=\"https://api.moonshot.cn/v1/caching\",\n",
    "        headers={\n",
    "            \"Authorization\": f\"Bearer {api_key}\",\n",
    "            \"Content-Type\": \"application/json\"\n",
    "        },\n",
    "        json=data\n",
    "    )\n",
    "    cache_response = json.loads(response.text)\n",
    "    return cache_response['id']"
   ]
  },
  {
   "cell_type": "markdown",
   "id": "48cd91fd-ea96-44a0-ad6c-82b8da03cf3d",
   "metadata": {},
   "source": [
    "## 对生成answer的质量进行评判"
   ]
  },
  {
   "cell_type": "code",
   "execution_count": 36,
   "id": "a30d5719-8bba-4ec6-abe2-aec162706ce4",
   "metadata": {
    "execution": {
     "iopub.execute_input": "2025-01-15T08:16:57.444668Z",
     "iopub.status.busy": "2025-01-15T08:16:57.443781Z",
     "iopub.status.idle": "2025-01-15T08:16:57.458738Z",
     "shell.execute_reply": "2025-01-15T08:16:57.457832Z",
     "shell.execute_reply.started": "2025-01-15T08:16:57.444596Z"
    }
   },
   "outputs": [],
   "source": [
    "# 检查缓存是否存在且未过期\n",
    "def check_cache(cache_id):\n",
    "    response = requests.get(\n",
    "        url=f\"https://api.moonshot.cn/v1/caching/{cache_id}\",\n",
    "        headers={\n",
    "            \"Authorization\": f\"Bearer {api_key}\"\n",
    "        }\n",
    "    )\n",
    "    if response.status_code == 200:\n",
    "        return True\n",
    "    return False\n",
    "\n",
    "\n",
    "# 重新加载数据并更新缓存\n",
    "def reload_and_update_cache(file_path, cache_id):\n",
    "    new_file_content = load_file_content(file_path)\n",
    "    data = {\n",
    "        \"model\": \"moonshot-v1\",\n",
    "        \"messages\": [\n",
    "            {\n",
    "                \"role\": \"system\",\n",
    "                \"content\": new_file_content\n",
    "            }\n",
    "        ],\n",
    "        \"name\": \"example_cache\",\n",
    "        \"ttl\": 3600  # 缓存有效期，单位为秒\n",
    "    }\n",
    "    response = requests.put(\n",
    "        url=f\"https://api.moonshot.cn/v1/caching/{cache_id}\",\n",
    "        headers={\n",
    "            \"Authorization\": f\"Bearer {api_key}\",\n",
    "            \"Content-Type\": \"application/json\"\n",
    "        },\n",
    "        json=data\n",
    "    )\n",
    "    return response.status_code == 200\n",
    "\n",
    "\n",
    "# 使用缓存内容并添加问题\n",
    "def use_cache_with_question(cache_id, question):\n",
    "    data = {\n",
    "        \"model\": \"moonshot-v1-32k\",\n",
    "        \"messages\": [\n",
    "            {\n",
    "                \"role\": \"cache\",\n",
    "                \"content\": f\"cache_id={cache_id};reset_ttl=3600\",\n",
    "            },\n",
    "            {\n",
    "                \"role\": \"user\",\n",
    "                \"content\": question\n",
    "            }\n",
    "        ]\n",
    "    }\n",
    "    response = requests.post(\n",
    "        url=\"https://api.moonshot.cn/v1/chat/completions\",\n",
    "        headers={\n",
    "            \"Authorization\": f\"Bearer {api_key}\",\n",
    "            \"Content-Type\": \"application/json\"\n",
    "        },\n",
    "        json=data\n",
    "    )\n",
    "    return response.json()['choices'][0]['message']['content']"
   ]
  },
  {
   "cell_type": "code",
   "execution_count": 37,
   "id": "97bcfc45-c1ef-4c40-b10a-e0517a416141",
   "metadata": {
    "execution": {
     "iopub.execute_input": "2025-01-15T08:16:58.917248Z",
     "iopub.status.busy": "2025-01-15T08:16:58.916479Z",
     "iopub.status.idle": "2025-01-15T09:40:11.770210Z",
     "shell.execute_reply": "2025-01-15T09:40:11.769177Z",
     "shell.execute_reply.started": "2025-01-15T08:16:58.917186Z"
    }
   },
   "outputs": [
    {
     "name": "stdout",
     "output_type": "stream",
     "text": [
      "Fileprompts/DataFountain/answer.txt success read\n",
      "cache id:cache-ey5pxyxxfuei11gkxy4i\n",
      "cache cuccess\n",
      "缓存已存在\n"
     ]
    },
    {
     "name": "stderr",
     "output_type": "stream",
     "text": [
      "Processing: 100%|██████████| 499/499 [1:23:12<00:00, 10.00s/it]\n"
     ]
    }
   ],
   "source": [
    "# 主流程\n",
    "file_path = 'prompts/DataFountain/answer.txt'\n",
    "file_content = load_file_content(file_path)\n",
    "print(f\"File{file_path} success read\")\n",
    "cache_id = create_cache(file_content)\n",
    "print(f\"cache id:{cache_id}\")\n",
    "print(\"cache cuccess\")\n",
    "\n",
    "# # 模拟缓存过期\n",
    "# time.sleep(3600)\n",
    "\n",
    "# 检查缓存是否存在且未过期\n",
    "if not check_cache(cache_id):\n",
    "    print(\"检查不到缓存\")\n",
    "    # 重新加载数据并更新缓存\n",
    "    if reload_and_update_cache(file_path, cache_id):\n",
    "        print(\"缓存更新成功\")\n",
    "    else:\n",
    "        print(\"缓存更新失败\")\n",
    "\n",
    "print(\"缓存已存在\")\n",
    "\n",
    "with open('ft_data/test_output_v2.json', 'r', encoding='utf-8') as file:\n",
    "    answer = json.load(file)\n",
    "\n",
    "judgement = []\n",
    "for idx, value in tqdm(enumerate(answer), total=len(answer), desc=\"Processing\"):\n",
    "    context = answer[idx]\n",
    "\n",
    "    # 使用缓存内容并添加问题\n",
    "    question = f\"请回答关于文件内容的问题，其中[[CONTEXT]]代表的数据为{context}\"\n",
    "    response = use_cache_with_question(cache_id, question)\n",
    "    judgement.append({\n",
    "        \"id\": idx,\n",
    "        \"judgement\": response\n",
    "    })\n",
    "\n",
    "with open('ft_data/judgement_v1.json', 'w', encoding='utf-8') as f:\n",
    "    json.dump(judgement, f, indent=4, ensure_ascii=False)"
   ]
  },
  {
   "cell_type": "code",
   "execution_count": 40,
   "id": "6c246e48-f359-4f21-9f7f-36b21d6833e7",
   "metadata": {
    "execution": {
     "iopub.execute_input": "2025-01-16T06:37:05.806103Z",
     "iopub.status.busy": "2025-01-16T06:37:05.805239Z",
     "iopub.status.idle": "2025-01-16T06:37:05.813790Z",
     "shell.execute_reply": "2025-01-16T06:37:05.812570Z",
     "shell.execute_reply.started": "2025-01-16T06:37:05.806043Z"
    }
   },
   "outputs": [
    {
     "name": "stdout",
     "output_type": "stream",
     "text": [
      "{'id': 0, 'judgement': '{\\n    \"scores\": {\\n        \"question_understanding\": 0,\\n        \"content_consistency\": 0,\\n        \"coverage_of_information\": 0,\\n        \"logical_coherence_and_reasonableness\": 0,\\n        \"clarity_and_conciseness\": 0,\\n        \"comparison_to_standard_output\": 0\\n    },\\n    \"explanations\": {\\n        \"question_understanding\": \"answer 没有准确理解 instruction 中的问题，而是错误地将观测司的职责理解为监控和记录天体的位置、速度、距离和其他物理参数，这与问题要求回答的气象观测资料收集、传输和处理等职责完全不符。\",\\n        \"content_consistency\": \"answer 中提到的内容与 input 提供的信息完全不一致，虚构了观测司监控和记录天体的职责，而 input 中明确指出观测司负责气象观测资料的收集、传输和处理等任务。\",\\n        \"coverage_of_information\": \"answer 没有覆盖 instruction 提出的问题中的任何关键要素，而是提供了与问题无关的信息。\",\\n        \"logical_coherence_and_reasonableness\": \"answer 中的内容逻辑上不自洽，与问题的场景完全不符，包含了不合理的推测。\",\\n        \"clarity_and_conciseness\": \"虽然 answer 的语言表达清晰，但由于内容与问题完全不符，因此无法给出正面评价。\",\\n        \"comparison_to_standard_output\": \"answer 与标准 output 相比差距极大，没有包含标准 output 的任何核心要点，完全偏离了问题的要求。\"\\n    }\\n}'}\n"
     ]
    }
   ],
   "source": [
    "print(judgement[0])"
   ]
  }
 ],
 "metadata": {
  "kernelspec": {
   "display_name": "Python 3 (ipykernel)",
   "language": "python",
   "name": "python3"
  },
  "language_info": {
   "codemirror_mode": {
    "name": "ipython",
    "version": 3
   },
   "file_extension": ".py",
   "mimetype": "text/x-python",
   "name": "python",
   "nbconvert_exporter": "python",
   "pygments_lexer": "ipython3",
   "version": "3.10.12"
  }
 },
 "nbformat": 4,
 "nbformat_minor": 5
}
